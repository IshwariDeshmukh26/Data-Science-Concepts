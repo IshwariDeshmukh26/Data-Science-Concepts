{
 "cells": [
  {
   "cell_type": "markdown",
   "id": "9aa5ce2d-354b-40a3-a300-7eb5e018688f",
   "metadata": {},
   "source": [
    "# Simple Linear Regression"
   ]
  },
  {
   "cell_type": "code",
   "execution_count": 30,
   "id": "fd6aea88-87ae-4076-9bf4-3d9d2c237c52",
   "metadata": {},
   "outputs": [],
   "source": [
    "#import necessory Libraries \n",
    "import pandas as pd\n",
    "import numpy as np\n",
    "import seaborn as sns"
   ]
  },
  {
   "cell_type": "code",
   "execution_count": 31,
   "id": "924b4f95-9840-4493-88a6-baac14bd55db",
   "metadata": {},
   "outputs": [
    {
     "data": {
      "text/html": [
       "<div>\n",
       "<style scoped>\n",
       "    .dataframe tbody tr th:only-of-type {\n",
       "        vertical-align: middle;\n",
       "    }\n",
       "\n",
       "    .dataframe tbody tr th {\n",
       "        vertical-align: top;\n",
       "    }\n",
       "\n",
       "    .dataframe thead th {\n",
       "        text-align: right;\n",
       "    }\n",
       "</style>\n",
       "<table border=\"1\" class=\"dataframe\">\n",
       "  <thead>\n",
       "    <tr style=\"text-align: right;\">\n",
       "      <th></th>\n",
       "      <th>Waist</th>\n",
       "      <th>AT</th>\n",
       "    </tr>\n",
       "  </thead>\n",
       "  <tbody>\n",
       "    <tr>\n",
       "      <th>0</th>\n",
       "      <td>74.75</td>\n",
       "      <td>25.72</td>\n",
       "    </tr>\n",
       "    <tr>\n",
       "      <th>1</th>\n",
       "      <td>72.60</td>\n",
       "      <td>25.89</td>\n",
       "    </tr>\n",
       "    <tr>\n",
       "      <th>2</th>\n",
       "      <td>81.80</td>\n",
       "      <td>42.60</td>\n",
       "    </tr>\n",
       "    <tr>\n",
       "      <th>3</th>\n",
       "      <td>83.95</td>\n",
       "      <td>42.80</td>\n",
       "    </tr>\n",
       "    <tr>\n",
       "      <th>4</th>\n",
       "      <td>74.65</td>\n",
       "      <td>29.84</td>\n",
       "    </tr>\n",
       "    <tr>\n",
       "      <th>...</th>\n",
       "      <td>...</td>\n",
       "      <td>...</td>\n",
       "    </tr>\n",
       "    <tr>\n",
       "      <th>104</th>\n",
       "      <td>100.10</td>\n",
       "      <td>124.00</td>\n",
       "    </tr>\n",
       "    <tr>\n",
       "      <th>105</th>\n",
       "      <td>93.30</td>\n",
       "      <td>62.20</td>\n",
       "    </tr>\n",
       "    <tr>\n",
       "      <th>106</th>\n",
       "      <td>101.80</td>\n",
       "      <td>133.00</td>\n",
       "    </tr>\n",
       "    <tr>\n",
       "      <th>107</th>\n",
       "      <td>107.90</td>\n",
       "      <td>208.00</td>\n",
       "    </tr>\n",
       "    <tr>\n",
       "      <th>108</th>\n",
       "      <td>108.50</td>\n",
       "      <td>208.00</td>\n",
       "    </tr>\n",
       "  </tbody>\n",
       "</table>\n",
       "<p>109 rows × 2 columns</p>\n",
       "</div>"
      ],
      "text/plain": [
       "      Waist      AT\n",
       "0     74.75   25.72\n",
       "1     72.60   25.89\n",
       "2     81.80   42.60\n",
       "3     83.95   42.80\n",
       "4     74.65   29.84\n",
       "..      ...     ...\n",
       "104  100.10  124.00\n",
       "105   93.30   62.20\n",
       "106  101.80  133.00\n",
       "107  107.90  208.00\n",
       "108  108.50  208.00\n",
       "\n",
       "[109 rows x 2 columns]"
      ]
     },
     "execution_count": 31,
     "metadata": {},
     "output_type": "execute_result"
    }
   ],
   "source": [
    "#Load the dataset\n",
    "wcat=pd.read_csv(\"wc-at.csv\")\n",
    "wcat"
   ]
  },
  {
   "cell_type": "markdown",
   "id": "e89aae90-6d74-4b4c-9a7d-29305c3b056e",
   "metadata": {},
   "source": [
    "# EDA"
   ]
  },
  {
   "cell_type": "code",
   "execution_count": 32,
   "id": "d88438e5-36ab-4daf-812a-c6d46a17e8bd",
   "metadata": {},
   "outputs": [
    {
     "data": {
      "text/plain": [
       "<bound method DataFrame.info of       Waist      AT\n",
       "0     74.75   25.72\n",
       "1     72.60   25.89\n",
       "2     81.80   42.60\n",
       "3     83.95   42.80\n",
       "4     74.65   29.84\n",
       "..      ...     ...\n",
       "104  100.10  124.00\n",
       "105   93.30   62.20\n",
       "106  101.80  133.00\n",
       "107  107.90  208.00\n",
       "108  108.50  208.00\n",
       "\n",
       "[109 rows x 2 columns]>"
      ]
     },
     "execution_count": 32,
     "metadata": {},
     "output_type": "execute_result"
    }
   ],
   "source": [
    "#Check the Data Structure\n",
    "wcat.info\n"
   ]
  },
  {
   "cell_type": "code",
   "execution_count": 33,
   "id": "bc2ffa91-7e7a-4288-a136-5eefcde89b25",
   "metadata": {},
   "outputs": [
    {
     "data": {
      "text/html": [
       "<div>\n",
       "<style scoped>\n",
       "    .dataframe tbody tr th:only-of-type {\n",
       "        vertical-align: middle;\n",
       "    }\n",
       "\n",
       "    .dataframe tbody tr th {\n",
       "        vertical-align: top;\n",
       "    }\n",
       "\n",
       "    .dataframe thead th {\n",
       "        text-align: right;\n",
       "    }\n",
       "</style>\n",
       "<table border=\"1\" class=\"dataframe\">\n",
       "  <thead>\n",
       "    <tr style=\"text-align: right;\">\n",
       "      <th></th>\n",
       "      <th>Waist</th>\n",
       "      <th>AT</th>\n",
       "    </tr>\n",
       "  </thead>\n",
       "  <tbody>\n",
       "    <tr>\n",
       "      <th>count</th>\n",
       "      <td>109.000000</td>\n",
       "      <td>109.000000</td>\n",
       "    </tr>\n",
       "    <tr>\n",
       "      <th>mean</th>\n",
       "      <td>91.901835</td>\n",
       "      <td>101.894037</td>\n",
       "    </tr>\n",
       "    <tr>\n",
       "      <th>std</th>\n",
       "      <td>13.559116</td>\n",
       "      <td>57.294763</td>\n",
       "    </tr>\n",
       "    <tr>\n",
       "      <th>min</th>\n",
       "      <td>63.500000</td>\n",
       "      <td>11.440000</td>\n",
       "    </tr>\n",
       "    <tr>\n",
       "      <th>25%</th>\n",
       "      <td>80.000000</td>\n",
       "      <td>50.880000</td>\n",
       "    </tr>\n",
       "    <tr>\n",
       "      <th>50%</th>\n",
       "      <td>90.800000</td>\n",
       "      <td>96.540000</td>\n",
       "    </tr>\n",
       "    <tr>\n",
       "      <th>75%</th>\n",
       "      <td>104.000000</td>\n",
       "      <td>137.000000</td>\n",
       "    </tr>\n",
       "    <tr>\n",
       "      <th>max</th>\n",
       "      <td>121.000000</td>\n",
       "      <td>253.000000</td>\n",
       "    </tr>\n",
       "  </tbody>\n",
       "</table>\n",
       "</div>"
      ],
      "text/plain": [
       "            Waist          AT\n",
       "count  109.000000  109.000000\n",
       "mean    91.901835  101.894037\n",
       "std     13.559116   57.294763\n",
       "min     63.500000   11.440000\n",
       "25%     80.000000   50.880000\n",
       "50%     90.800000   96.540000\n",
       "75%    104.000000  137.000000\n",
       "max    121.000000  253.000000"
      ]
     },
     "execution_count": 33,
     "metadata": {},
     "output_type": "execute_result"
    }
   ],
   "source": [
    "#Summerize the Dataset\n",
    "wcat.describe()"
   ]
  },
  {
   "cell_type": "markdown",
   "id": "aa8f397b-e74e-41d4-b59b-da097aa05a21",
   "metadata": {},
   "source": [
    "Average waist is 91.90 and min is 63.50 and max is 121\n",
    "\n",
    "Average AT is 101.89 and min is 11.44 and max is 253"
   ]
  },
  {
   "cell_type": "code",
   "execution_count": 34,
   "id": "2221c5d7-990e-4f0b-a75d-a64144702d78",
   "metadata": {},
   "outputs": [],
   "source": [
    "import matplotlib.pyplot as plt"
   ]
  },
  {
   "cell_type": "code",
   "execution_count": 35,
   "id": "71536408-5fe9-4caa-a687-0178a26f6b03",
   "metadata": {},
   "outputs": [
    {
     "data": {
      "text/plain": [
       "<seaborn.axisgrid.FacetGrid at 0x2286606e910>"
      ]
     },
     "execution_count": 35,
     "metadata": {},
     "output_type": "execute_result"
    },
    {
     "data": {
      "image/png": "[encoded data removed]",
      "text/plain": [
       "<Figure size 640x480 with 1 Axes>"
      ]
     },
     "metadata": {},
     "output_type": "display_data"
    },
    {
     "data": {
      "image/png": "[encoded data removed]",
      "text/plain": [
       "<Figure size 500x500 with 1 Axes>"
      ]
     },
     "metadata": {},
     "output_type": "display_data"
    }
   ],
   "source": [
    "# Visualize dataset\n",
    "## Bar plot of AT values\n",
    "plt.bar(height=wcat.AT,x=np.arange(1,110,1))# Creates a bar chart where the height represents 'AT' values and the x-axis ranges from 1 to 110\n",
    "# Distribution plot of AT values\n",
    "sns.displot(wcat.AT)# Displays a histogram to show the distribution of 'AT' values"
   ]
  },
  {
   "cell_type": "code",
   "execution_count": 36,
   "id": "52a8817a-dc0a-4cc5-8af4-4e8056240dff",
   "metadata": {},
   "outputs": [
    {
     "data": {
      "text/plain": [
       "{'whiskers': [<matplotlib.lines.Line2D at 0x228662c6d90>,\n",
       "  <matplotlib.lines.Line2D at 0x228662c7790>],\n",
       " 'caps': [<matplotlib.lines.Line2D at 0x228662d8190>,\n",
       "  <matplotlib.lines.Line2D at 0x228662d89d0>],\n",
       " 'boxes': [<matplotlib.lines.Line2D at 0x228662c6410>],\n",
       " 'medians': [<matplotlib.lines.Line2D at 0x228662bb110>],\n",
       " 'fliers': [<matplotlib.lines.Line2D at 0x22865fdb250>],\n",
       " 'means': []}"
      ]
     },
     "execution_count": 36,
     "metadata": {},
     "output_type": "execute_result"
    },
    {
     "data": {
      "image/png": "[encoded data removed]",
      "text/plain": [
       "<Figure size 640x480 with 1 Axes>"
      ]
     },
     "metadata": {},
     "output_type": "display_data"
    }
   ],
   "source": [
    "#Data is normal but right skewed\n",
    "plt.boxplot(wcat.AT)"
   ]
  },
  {
   "cell_type": "code",
   "execution_count": 37,
   "id": "dc42afc0-711f-4938-9800-8441baa04afa",
   "metadata": {},
   "outputs": [
    {
     "data": {
      "text/plain": [
       "<seaborn.axisgrid.FacetGrid at 0x22866379fd0>"
      ]
     },
     "execution_count": 37,
     "metadata": {},
     "output_type": "execute_result"
    },
    {
     "data": {
      "image/png": "[encoded data removed]",
      "text/plain": [
       "<Figure size 640x480 with 1 Axes>"
      ]
     },
     "metadata": {},
     "output_type": "display_data"
    },
    {
     "data": {
      "image/png": "[encoded data removed]",
      "text/plain": [
       "<Figure size 500x500 with 1 Axes>"
      ]
     },
     "metadata": {},
     "output_type": "display_data"
    }
   ],
   "source": [
    "#No outliers but right skewed\n",
    "# Bar plot of Waist values\n",
    "plt.bar(height=wcat.Waist,x=np.arange(1,110,1))# Creates a bar chart where the height represents 'Waist' values and the x-axis ranges from 1 to 110\n",
    "# Distribution plot of Waist values\n",
    "sns.displot(wcat.Waist)# Displays a histogram to show the distribution of 'Waist' values"
   ]
  },
  {
   "cell_type": "code",
   "execution_count": 38,
   "id": "ec95261f-1d76-4382-b404-cddbc03f6229",
   "metadata": {},
   "outputs": [
    {
     "data": {
      "text/plain": [
       "{'whiskers': [<matplotlib.lines.Line2D at 0x228664f4490>,\n",
       "  <matplotlib.lines.Line2D at 0x228664f4f10>],\n",
       " 'caps': [<matplotlib.lines.Line2D at 0x228664f5810>,\n",
       "  <matplotlib.lines.Line2D at 0x228664f6090>],\n",
       " 'boxes': [<matplotlib.lines.Line2D at 0x228664e7b10>],\n",
       " 'medians': [<matplotlib.lines.Line2D at 0x228664f6810>],\n",
       " 'fliers': [<matplotlib.lines.Line2D at 0x228664f4390>],\n",
       " 'means': []}"
      ]
     },
     "execution_count": 38,
     "metadata": {},
     "output_type": "execute_result"
    },
    {
     "data": {
      "image/png": "[encoded data removed]",
      "text/plain": [
       "<Figure size 640x480 with 1 Axes>"
      ]
     },
     "metadata": {},
     "output_type": "display_data"
    }
   ],
   "source": [
    "#Data is normal bimodal\n",
    "plt.boxplot(wcat.Waist)\n",
    "#No outliers but right skewed"
   ]
  },
  {
   "cell_type": "markdown",
   "id": "82dd2753-0f9e-4c91-8c20-fbc4b800c950",
   "metadata": {},
   "source": [
    "# Bivariant analysis"
   ]
  },
  {
   "cell_type": "code",
   "execution_count": 39,
   "id": "4c856d5c-836b-427d-8960-e3f975ef7d06",
   "metadata": {},
   "outputs": [
    {
     "data": {
      "text/plain": [
       "<matplotlib.collections.PathCollection at 0x228664a7690>"
      ]
     },
     "execution_count": 39,
     "metadata": {},
     "output_type": "execute_result"
    },
    {
     "data": {
      "image/png": "[encoded data removed]",
      "text/plain": [
       "<Figure size 640x480 with 1 Axes>"
      ]
     },
     "metadata": {},
     "output_type": "display_data"
    }
   ],
   "source": [
    "# Scatter plot between Waist and AT\n",
    "plt.scatter(x=wcat.Waist,y=wcat.AT)# Visualizes the relationship between 'Waist' and 'AT'"
   ]
  },
  {
   "cell_type": "markdown",
   "id": "ea3dc02a-e949-4263-a5ff-50388deb9ad9",
   "metadata": {},
   "source": [
    "Data is linearly scattered,direction positive,strength:poor\n",
    "\n",
    "Now let us check the correlation coeficient"
   ]
  },
  {
   "cell_type": "code",
   "execution_count": 40,
   "id": "eb694c7d-e381-4f17-a699-5509414a4603",
   "metadata": {},
   "outputs": [
    {
     "data": {
      "text/plain": [
       "array([[1.        , 0.81855781],\n",
       "       [0.81855781, 1.        ]])"
      ]
     },
     "execution_count": 40,
     "metadata": {},
     "output_type": "execute_result"
    }
   ],
   "source": [
    "# Check correlation between Waist and AT\n",
    "np.corrcoef(wcat.Waist,wcat.AT)# Computes and returns the Pearson correlation coefficient matrix\n"
   ]
  },
  {
   "cell_type": "markdown",
   "id": "94ae6791-c90f-491a-93a0-a2a12f5e2585",
   "metadata": {},
   "source": [
    "The corellation coeficient is 0.81855781.85 hence the correlation strong positive correlation"
   ]
  },
  {
   "cell_type": "code",
   "execution_count": 41,
   "id": "29b81c10-a03d-4ad2-b2cb-36472478f016",
   "metadata": {},
   "outputs": [
    {
     "data": {
      "text/plain": [
       "635.9100064135235"
      ]
     },
     "execution_count": 41,
     "metadata": {},
     "output_type": "execute_result"
    }
   ],
   "source": [
    "#Let us check the direction of correlation\n",
    "cov_output=np.cov(wcat.Waist,wcat.AT)[0,1] # Calculates covariance between Waist and AT\n",
    "cov_output# Displays the covariance value"
   ]
  },
  {
   "cell_type": "markdown",
   "id": "4cc62311-95d4-42a7-8a01-dc22be62ab99",
   "metadata": {},
   "source": [
    "635.9100064135235 is positive means correlation will be positive"
   ]
  },
  {
   "cell_type": "code",
   "execution_count": 42,
   "id": "b9383419-e64f-4596-a133-ce261f831097",
   "metadata": {},
   "outputs": [],
   "source": [
    "#let us apply to various models and check the feasibilty\n",
    "import statsmodels.formula.api as smf# Import statsmodels for OLS regression"
   ]
  },
  {
   "cell_type": "markdown",
   "id": "58ff9ab4-7ea4-415b-a8b6-c96d7859e903",
   "metadata": {},
   "source": [
    "# First simple linear model\n"
   ]
  },
  {
   "cell_type": "code",
   "execution_count": 43,
   "id": "7b202039-fa0c-405e-a0d2-4ff367b48caf",
   "metadata": {},
   "outputs": [
    {
     "data": {
      "text/html": [
       "<table class=\"simpletable\">\n",
       "<caption>OLS Regression Results</caption>\n",
       "<tr>\n",
       "  <th>Dep. Variable:</th>           <td>AT</td>        <th>  R-squared:         </th> <td>   0.670</td>\n",
       "</tr>\n",
       "<tr>\n",
       "  <th>Model:</th>                   <td>OLS</td>       <th>  Adj. R-squared:    </th> <td>   0.667</td>\n",
       "</tr>\n",
       "<tr>\n",
       "  <th>Method:</th>             <td>Least Squares</td>  <th>  F-statistic:       </th> <td>   217.3</td>\n",
       "</tr>\n",
       "<tr>\n",
       "  <th>Date:</th>             <td>Wed, 26 Feb 2025</td> <th>  Prob (F-statistic):</th> <td>1.62e-27</td>\n",
       "</tr>\n",
       "<tr>\n",
       "  <th>Time:</th>                 <td>21:24:33</td>     <th>  Log-Likelihood:    </th> <td> -534.99</td>\n",
       "</tr>\n",
       "<tr>\n",
       "  <th>No. Observations:</th>      <td>   109</td>      <th>  AIC:               </th> <td>   1074.</td>\n",
       "</tr>\n",
       "<tr>\n",
       "  <th>Df Residuals:</th>          <td>   107</td>      <th>  BIC:               </th> <td>   1079.</td>\n",
       "</tr>\n",
       "<tr>\n",
       "  <th>Df Model:</th>              <td>     1</td>      <th>                     </th>     <td> </td>   \n",
       "</tr>\n",
       "<tr>\n",
       "  <th>Covariance Type:</th>      <td>nonrobust</td>    <th>                     </th>     <td> </td>   \n",
       "</tr>\n",
       "</table>\n",
       "<table class=\"simpletable\">\n",
       "<tr>\n",
       "      <td></td>         <th>coef</th>     <th>std err</th>      <th>t</th>      <th>P>|t|</th>  <th>[0.025</th>    <th>0.975]</th>  \n",
       "</tr>\n",
       "<tr>\n",
       "  <th>Intercept</th> <td> -215.9815</td> <td>   21.796</td> <td>   -9.909</td> <td> 0.000</td> <td> -259.190</td> <td> -172.773</td>\n",
       "</tr>\n",
       "<tr>\n",
       "  <th>Waist</th>     <td>    3.4589</td> <td>    0.235</td> <td>   14.740</td> <td> 0.000</td> <td>    2.994</td> <td>    3.924</td>\n",
       "</tr>\n",
       "</table>\n",
       "<table class=\"simpletable\">\n",
       "<tr>\n",
       "  <th>Omnibus:</th>       <td> 3.960</td> <th>  Durbin-Watson:     </th> <td>   1.560</td>\n",
       "</tr>\n",
       "<tr>\n",
       "  <th>Prob(Omnibus):</th> <td> 0.138</td> <th>  Jarque-Bera (JB):  </th> <td>   4.596</td>\n",
       "</tr>\n",
       "<tr>\n",
       "  <th>Skew:</th>          <td> 0.104</td> <th>  Prob(JB):          </th> <td>   0.100</td>\n",
       "</tr>\n",
       "<tr>\n",
       "  <th>Kurtosis:</th>      <td> 3.984</td> <th>  Cond. No.          </th> <td>    639.</td>\n",
       "</tr>\n",
       "</table><br/><br/>Notes:<br/>[1] Standard Errors assume that the covariance matrix of the errors is correctly specified."
      ],
      "text/latex": [
       "\\begin{center}\n",
       "\\begin{tabular}{lclc}\n",
       "\\toprule\n",
       "\\textbf{Dep. Variable:}    &        AT        & \\textbf{  R-squared:         } &     0.670   \\\\\n",
       "\\textbf{Model:}            &       OLS        & \\textbf{  Adj. R-squared:    } &     0.667   \\\\\n",
       "\\textbf{Method:}           &  Least Squares   & \\textbf{  F-statistic:       } &     217.3   \\\\\n",
       "\\textbf{Date:}             & Wed, 26 Feb 2025 & \\textbf{  Prob (F-statistic):} &  1.62e-27   \\\\\n",
       "\\textbf{Time:}             &     21:24:33     & \\textbf{  Log-Likelihood:    } &   -534.99   \\\\\n",
       "\\textbf{No. Observations:} &         109      & \\textbf{  AIC:               } &     1074.   \\\\\n",
       "\\textbf{Df Residuals:}     &         107      & \\textbf{  BIC:               } &     1079.   \\\\\n",
       "\\textbf{Df Model:}         &           1      & \\textbf{                     } &             \\\\\n",
       "\\textbf{Covariance Type:}  &    nonrobust     & \\textbf{                     } &             \\\\\n",
       "\\bottomrule\n",
       "\\end{tabular}\n",
       "\\begin{tabular}{lcccccc}\n",
       "                   & \\textbf{coef} & \\textbf{std err} & \\textbf{t} & \\textbf{P$> |$t$|$} & \\textbf{[0.025} & \\textbf{0.975]}  \\\\\n",
       "\\midrule\n",
       "\\textbf{Intercept} &    -215.9815  &       21.796     &    -9.909  &         0.000        &     -259.190    &     -172.773     \\\\\n",
       "\\textbf{Waist}     &       3.4589  &        0.235     &    14.740  &         0.000        &        2.994    &        3.924     \\\\\n",
       "\\bottomrule\n",
       "\\end{tabular}\n",
       "\\begin{tabular}{lclc}\n",
       "\\textbf{Omnibus:}       &  3.960 & \\textbf{  Durbin-Watson:     } &    1.560  \\\\\n",
       "\\textbf{Prob(Omnibus):} &  0.138 & \\textbf{  Jarque-Bera (JB):  } &    4.596  \\\\\n",
       "\\textbf{Skew:}          &  0.104 & \\textbf{  Prob(JB):          } &    0.100  \\\\\n",
       "\\textbf{Kurtosis:}      &  3.984 & \\textbf{  Cond. No.          } &     639.  \\\\\n",
       "\\bottomrule\n",
       "\\end{tabular}\n",
       "%\\caption{OLS Regression Results}\n",
       "\\end{center}\n",
       "\n",
       "Notes: \\newline\n",
       " [1] Standard Errors assume that the covariance matrix of the errors is correctly specified."
      ],
      "text/plain": [
       "<class 'statsmodels.iolib.summary.Summary'>\n",
       "\"\"\"\n",
       "                            OLS Regression Results                            \n",
       "==============================================================================\n",
       "Dep. Variable:                     AT   R-squared:                       0.670\n",
       "Model:                            OLS   Adj. R-squared:                  0.667\n",
       "Method:                 Least Squares   F-statistic:                     217.3\n",
       "Date:                Wed, 26 Feb 2025   Prob (F-statistic):           1.62e-27\n",
       "Time:                        21:24:33   Log-Likelihood:                -534.99\n",
       "No. Observations:                 109   AIC:                             1074.\n",
       "Df Residuals:                     107   BIC:                             1079.\n",
       "Df Model:                           1                                         \n",
       "Covariance Type:            nonrobust                                         \n",
       "==============================================================================\n",
       "                 coef    std err          t      P>|t|      [0.025      0.975]\n",
       "------------------------------------------------------------------------------\n",
       "Intercept   -215.9815     21.796     -9.909      0.000    -259.190    -172.773\n",
       "Waist          3.4589      0.235     14.740      0.000       2.994       3.924\n",
       "==============================================================================\n",
       "Omnibus:                        3.960   Durbin-Watson:                   1.560\n",
       "Prob(Omnibus):                  0.138   Jarque-Bera (JB):                4.596\n",
       "Skew:                           0.104   Prob(JB):                        0.100\n",
       "Kurtosis:                       3.984   Cond. No.                         639.\n",
       "==============================================================================\n",
       "\n",
       "Notes:\n",
       "[1] Standard Errors assume that the covariance matrix of the errors is correctly specified.\n",
       "\"\"\""
      ]
     },
     "execution_count": 43,
     "metadata": {},
     "output_type": "execute_result"
    }
   ],
   "source": [
    "model=smf.ols(\"AT~Waist\",data=wcat).fit()# Fits a simple linear regression model (AT as dependent, Waist as independent)\n",
    "#Y is AT and X is waist\n",
    "model.summary()# Displays the summary of the model (R-squared, coefficients, p-values)"
   ]
  },
  {
   "cell_type": "markdown",
   "id": "a38d9188-ce41-4434-a101-918ade685b58",
   "metadata": {},
   "source": [
    "R-squarred=0.670<0.85,there is scope of improvement\n",
    "\n",
    "P=0.0<0.05 hence accepatable\n",
    "\n",
    "bita~0=-215.9815\n",
    "\n",
    "bita~1=3.4589"
   ]
  },
  {
   "cell_type": "code",
   "execution_count": 44,
   "id": "64b46321-8205-4fe4-8f98-f4470b7476c9",
   "metadata": {},
   "outputs": [
    {
     "data": {
      "text/plain": [
       "0       42.568252\n",
       "1       35.131704\n",
       "2       66.953210\n",
       "3       74.389758\n",
       "4       42.222366\n",
       "          ...    \n",
       "104    130.250337\n",
       "105    106.730093\n",
       "106    136.130398\n",
       "107    157.229440\n",
       "108    159.304756\n",
       "Length: 109, dtype: float64"
      ]
     },
     "execution_count": 44,
     "metadata": {},
     "output_type": "execute_result"
    }
   ],
   "source": [
    "# Predict AT values using the model\n",
    "pred1=model.predict(pd.DataFrame(wcat.Waist))# Generates predicted AT values\n",
    "pred1# Display predicted values"
   ]
  },
  {
   "cell_type": "code",
   "execution_count": 45,
   "id": "72e09619-d1a3-4414-9fea-393043ad6f97",
   "metadata": {},
   "outputs": [
    {
     "data": {
      "image/png": "[encoded data removed]",
      "text/plain": [
       "<Figure size 640x480 with 1 Axes>"
      ]
     },
     "metadata": {},
     "output_type": "display_data"
    }
   ],
   "source": [
    "#Regression line visualization\n",
    "plt.scatter(wcat.Waist,wcat.AT) # Scatter plot of observed data\n",
    "plt.plot(wcat.Waist,pred1,'r') # Plot the regression line in red\n",
    "plt.legend(['Predicted Line','Observed data'])# Add legend\n",
    "plt.show()# Display the plot"
   ]
  },
  {
   "cell_type": "code",
   "execution_count": 46,
   "id": "6d177f18-1fe9-4e8b-9ee9-7befda733c2c",
   "metadata": {},
   "outputs": [
    {
     "data": {
      "text/plain": [
       "32.760177495755144"
      ]
     },
     "execution_count": 46,
     "metadata": {},
     "output_type": "execute_result"
    }
   ],
   "source": [
    "#Error calculation\n",
    "res1=wcat.AT-pred1# Calculate residuals (actual - predicted)\n",
    "np.mean(res1)# Mean of residuals (should be close to zero)\n",
    "res_sqr1=res1*res1 # Square the residuals\n",
    "msel=np.mean(res_sqr1)# Mean of squared errors (MSE)\n",
    "rmsel=np.sqrt(msel)# Root mean squared error (RMSE)\n",
    "rmsel# Display RMSE (32.76)\n",
    "#32.760177495755144"
   ]
  },
  {
   "cell_type": "markdown",
   "id": "ca127763-2e97-49f2-89c9-4574b3f8c2cd",
   "metadata": {},
   "source": [
    "# Let us try another model"
   ]
  },
  {
   "cell_type": "code",
   "execution_count": 47,
   "id": "e09b5077-5b77-422f-ab51-33e5d6cbf2da",
   "metadata": {},
   "outputs": [
    {
     "data": {
      "text/plain": [
       "<matplotlib.collections.PathCollection at 0x22866344d90>"
      ]
     },
     "execution_count": 47,
     "metadata": {},
     "output_type": "execute_result"
    },
    {
     "data": {
      "image/png": "[encoded data removed]",
      "text/plain": [
       "<Figure size 640x480 with 1 Axes>"
      ]
     },
     "metadata": {},
     "output_type": "display_data"
    }
   ],
   "source": [
    "# Log Transformation Model (Y = log(AT))\n",
    "plt.scatter(x=wcat.Waist,y=np.log(wcat.AT)) # Scatter plot of Waist vs log(AT)"
   ]
  },
  {
   "cell_type": "markdown",
   "id": "87d1209b-c6e1-4628-a0d9-1f49dc1cd695",
   "metadata": {},
   "source": [
    "Data is linearly scattered,direction positive,strength:poor\n",
    "\n",
    "Now let us check the correlation coeficient"
   ]
  },
  {
   "cell_type": "code",
   "execution_count": 48,
   "id": "c6d85511-58bd-4035-8406-4d0f052e4364",
   "metadata": {},
   "outputs": [
    {
     "data": {
      "text/plain": [
       "array([[1.        , 0.84090069],\n",
       "       [0.84090069, 1.        ]])"
      ]
     },
     "execution_count": 48,
     "metadata": {},
     "output_type": "execute_result"
    }
   ],
   "source": [
    "np.corrcoef(wcat.Waist,np.log(wcat.AT)) # Correlation between Waist and log(AT)"
   ]
  },
  {
   "cell_type": "markdown",
   "id": "fd386643-284d-4973-a3df-797c283e0cfa",
   "metadata": {},
   "source": [
    "The corellation coeficient is 0.84090069<0.85 hence the correlation\n",
    "\n",
    "r=0.8409"
   ]
  },
  {
   "cell_type": "code",
   "execution_count": 49,
   "id": "cd2542d4-3415-443c-9347-131b743e92ed",
   "metadata": {},
   "outputs": [
    {
     "data": {
      "text/html": [
       "<table class=\"simpletable\">\n",
       "<caption>OLS Regression Results</caption>\n",
       "<tr>\n",
       "  <th>Dep. Variable:</th>       <td>np.log(AT)</td>    <th>  R-squared:         </th> <td>   0.707</td>\n",
       "</tr>\n",
       "<tr>\n",
       "  <th>Model:</th>                   <td>OLS</td>       <th>  Adj. R-squared:    </th> <td>   0.704</td>\n",
       "</tr>\n",
       "<tr>\n",
       "  <th>Method:</th>             <td>Least Squares</td>  <th>  F-statistic:       </th> <td>   258.3</td>\n",
       "</tr>\n",
       "<tr>\n",
       "  <th>Date:</th>             <td>Wed, 26 Feb 2025</td> <th>  Prob (F-statistic):</th> <td>2.68e-30</td>\n",
       "</tr>\n",
       "<tr>\n",
       "  <th>Time:</th>                 <td>21:24:42</td>     <th>  Log-Likelihood:    </th> <td> -40.123</td>\n",
       "</tr>\n",
       "<tr>\n",
       "  <th>No. Observations:</th>      <td>   109</td>      <th>  AIC:               </th> <td>   84.25</td>\n",
       "</tr>\n",
       "<tr>\n",
       "  <th>Df Residuals:</th>          <td>   107</td>      <th>  BIC:               </th> <td>   89.63</td>\n",
       "</tr>\n",
       "<tr>\n",
       "  <th>Df Model:</th>              <td>     1</td>      <th>                     </th>     <td> </td>   \n",
       "</tr>\n",
       "<tr>\n",
       "  <th>Covariance Type:</th>      <td>nonrobust</td>    <th>                     </th>     <td> </td>   \n",
       "</tr>\n",
       "</table>\n",
       "<table class=\"simpletable\">\n",
       "<tr>\n",
       "      <td></td>         <th>coef</th>     <th>std err</th>      <th>t</th>      <th>P>|t|</th>  <th>[0.025</th>    <th>0.975]</th>  \n",
       "</tr>\n",
       "<tr>\n",
       "  <th>Intercept</th> <td>    0.7410</td> <td>    0.233</td> <td>    3.185</td> <td> 0.002</td> <td>    0.280</td> <td>    1.202</td>\n",
       "</tr>\n",
       "<tr>\n",
       "  <th>Waist</th>     <td>    0.0403</td> <td>    0.003</td> <td>   16.073</td> <td> 0.000</td> <td>    0.035</td> <td>    0.045</td>\n",
       "</tr>\n",
       "</table>\n",
       "<table class=\"simpletable\">\n",
       "<tr>\n",
       "  <th>Omnibus:</th>       <td> 2.604</td> <th>  Durbin-Watson:     </th> <td>   1.201</td>\n",
       "</tr>\n",
       "<tr>\n",
       "  <th>Prob(Omnibus):</th> <td> 0.272</td> <th>  Jarque-Bera (JB):  </th> <td>   2.117</td>\n",
       "</tr>\n",
       "<tr>\n",
       "  <th>Skew:</th>          <td>-0.329</td> <th>  Prob(JB):          </th> <td>   0.347</td>\n",
       "</tr>\n",
       "<tr>\n",
       "  <th>Kurtosis:</th>      <td> 3.182</td> <th>  Cond. No.          </th> <td>    639.</td>\n",
       "</tr>\n",
       "</table><br/><br/>Notes:<br/>[1] Standard Errors assume that the covariance matrix of the errors is correctly specified."
      ],
      "text/latex": [
       "\\begin{center}\n",
       "\\begin{tabular}{lclc}\n",
       "\\toprule\n",
       "\\textbf{Dep. Variable:}    &    np.log(AT)    & \\textbf{  R-squared:         } &     0.707   \\\\\n",
       "\\textbf{Model:}            &       OLS        & \\textbf{  Adj. R-squared:    } &     0.704   \\\\\n",
       "\\textbf{Method:}           &  Least Squares   & \\textbf{  F-statistic:       } &     258.3   \\\\\n",
       "\\textbf{Date:}             & Wed, 26 Feb 2025 & \\textbf{  Prob (F-statistic):} &  2.68e-30   \\\\\n",
       "\\textbf{Time:}             &     21:24:42     & \\textbf{  Log-Likelihood:    } &   -40.123   \\\\\n",
       "\\textbf{No. Observations:} &         109      & \\textbf{  AIC:               } &     84.25   \\\\\n",
       "\\textbf{Df Residuals:}     &         107      & \\textbf{  BIC:               } &     89.63   \\\\\n",
       "\\textbf{Df Model:}         &           1      & \\textbf{                     } &             \\\\\n",
       "\\textbf{Covariance Type:}  &    nonrobust     & \\textbf{                     } &             \\\\\n",
       "\\bottomrule\n",
       "\\end{tabular}\n",
       "\\begin{tabular}{lcccccc}\n",
       "                   & \\textbf{coef} & \\textbf{std err} & \\textbf{t} & \\textbf{P$> |$t$|$} & \\textbf{[0.025} & \\textbf{0.975]}  \\\\\n",
       "\\midrule\n",
       "\\textbf{Intercept} &       0.7410  &        0.233     &     3.185  &         0.002        &        0.280    &        1.202     \\\\\n",
       "\\textbf{Waist}     &       0.0403  &        0.003     &    16.073  &         0.000        &        0.035    &        0.045     \\\\\n",
       "\\bottomrule\n",
       "\\end{tabular}\n",
       "\\begin{tabular}{lclc}\n",
       "\\textbf{Omnibus:}       &  2.604 & \\textbf{  Durbin-Watson:     } &    1.201  \\\\\n",
       "\\textbf{Prob(Omnibus):} &  0.272 & \\textbf{  Jarque-Bera (JB):  } &    2.117  \\\\\n",
       "\\textbf{Skew:}          & -0.329 & \\textbf{  Prob(JB):          } &    0.347  \\\\\n",
       "\\textbf{Kurtosis:}      &  3.182 & \\textbf{  Cond. No.          } &     639.  \\\\\n",
       "\\bottomrule\n",
       "\\end{tabular}\n",
       "%\\caption{OLS Regression Results}\n",
       "\\end{center}\n",
       "\n",
       "Notes: \\newline\n",
       " [1] Standard Errors assume that the covariance matrix of the errors is correctly specified."
      ],
      "text/plain": [
       "<class 'statsmodels.iolib.summary.Summary'>\n",
       "\"\"\"\n",
       "                            OLS Regression Results                            \n",
       "==============================================================================\n",
       "Dep. Variable:             np.log(AT)   R-squared:                       0.707\n",
       "Model:                            OLS   Adj. R-squared:                  0.704\n",
       "Method:                 Least Squares   F-statistic:                     258.3\n",
       "Date:                Wed, 26 Feb 2025   Prob (F-statistic):           2.68e-30\n",
       "Time:                        21:24:42   Log-Likelihood:                -40.123\n",
       "No. Observations:                 109   AIC:                             84.25\n",
       "Df Residuals:                     107   BIC:                             89.63\n",
       "Df Model:                           1                                         \n",
       "Covariance Type:            nonrobust                                         \n",
       "==============================================================================\n",
       "                 coef    std err          t      P>|t|      [0.025      0.975]\n",
       "------------------------------------------------------------------------------\n",
       "Intercept      0.7410      0.233      3.185      0.002       0.280       1.202\n",
       "Waist          0.0403      0.003     16.073      0.000       0.035       0.045\n",
       "==============================================================================\n",
       "Omnibus:                        2.604   Durbin-Watson:                   1.201\n",
       "Prob(Omnibus):                  0.272   Jarque-Bera (JB):                2.117\n",
       "Skew:                          -0.329   Prob(JB):                        0.347\n",
       "Kurtosis:                       3.182   Cond. No.                         639.\n",
       "==============================================================================\n",
       "\n",
       "Notes:\n",
       "[1] Standard Errors assume that the covariance matrix of the errors is correctly specified.\n",
       "\"\"\""
      ]
     },
     "execution_count": 49,
     "metadata": {},
     "output_type": "execute_result"
    }
   ],
   "source": [
    "# Fit log-transformed model\n",
    "model3=smf.ols(\"np.log(AT)~Waist\",data=wcat).fit()# Fits a model with log(AT) as dependent variable\n",
    "#Y is np.log(AT) and X is waist\n",
    "model3.summary()# Displays model summary"
   ]
  },
  {
   "cell_type": "markdown",
   "id": "02a2d950-b57d-419f-92cf-99495a39dc08",
   "metadata": {},
   "source": [
    "R-squarred=0.707<0.85,there is scope of improvement\n",
    "\n",
    "P=0.0<0.05 hence accepatable\n",
    "\n",
    "bita~0=0.7410\n",
    "\n",
    "bita~1=0.0403"
   ]
  },
  {
   "cell_type": "code",
   "execution_count": 50,
   "id": "510b4e87-f620-47f2-9cf9-4f589cce341b",
   "metadata": {},
   "outputs": [
    {
     "data": {
      "text/plain": [
       "0       42.516361\n",
       "1       38.991601\n",
       "2       56.467684\n",
       "3       61.572246\n",
       "4       42.345566\n",
       "          ...    \n",
       "104    117.953181\n",
       "105     89.709020\n",
       "106    126.307181\n",
       "107    161.459872\n",
       "108    165.406833\n",
       "Length: 109, dtype: float64"
      ]
     },
     "execution_count": 50,
     "metadata": {},
     "output_type": "execute_result"
    }
   ],
   "source": [
    "pred3=model3.predict(pd.DataFrame(wcat.Waist))# Predicted log(AT)\n",
    "pred3_at=np.exp(pred3)# Convert predictions back to original scale\n",
    "pred3_at# Display predicted AT values"
   ]
  },
  {
   "cell_type": "code",
   "execution_count": 51,
   "id": "544bee49-cbdc-4d9d-b269-cbd08aeeb8e3",
   "metadata": {},
   "outputs": [
    {
     "data": {
      "image/png": "[encoded data removed]",
      "text/plain": [
       "<Figure size 640x480 with 1 Axes>"
      ]
     },
     "metadata": {},
     "output_type": "display_data"
    }
   ],
   "source": [
    "#Regression line\n",
    "plt.scatter(wcat.Waist,np.log(wcat.AT))# Scatter plot of Waist vs log(AT)\n",
    "plt.plot(wcat.Waist,pred3,'r')# Regression line\n",
    "plt.legend(['Predicted Line','Observed data_model3'])# Add legend\n",
    "plt.show()# Display the plot"
   ]
  },
  {
   "cell_type": "code",
   "execution_count": 52,
   "id": "b710e27b-6c85-4203-9312-ee42c85abfa6",
   "metadata": {},
   "outputs": [
    {
     "data": {
      "text/plain": [
       "38.52900175807143"
      ]
     },
     "execution_count": 52,
     "metadata": {},
     "output_type": "execute_result"
    }
   ],
   "source": [
    "#Error calculation for log model\n",
    "res3=wcat.AT-pred3_at # Calculate residuals\n",
    "res_sqr3=res3*res3# Square the residuals\n",
    "msel=np.mean(res_sqr3)# Mean squared error (MSE)\n",
    "rmsel3=np.sqrt(msel)# Root mean squared error (RMSE)\n",
    "rmsel3# Display RMSE (38.53)\n",
    "#38.52900175807143\n",
    "#There are no significant change r=0.8409,r^2=0.707 and rsme=38.52900175807143"
   ]
  },
  {
   "cell_type": "markdown",
   "id": "18c27b51-3a0d-47b8-9102-b5260ae543fd",
   "metadata": {},
   "source": [
    "# Hence Let us try another model"
   ]
  },
  {
   "cell_type": "markdown",
   "id": "1f487b23-3772-4fca-b56c-6dc2d0dcc71f",
   "metadata": {},
   "source": [
    "## Polynomial model"
   ]
  },
  {
   "cell_type": "code",
   "execution_count": 53,
   "id": "76958bc0-9957-4a9b-935f-a45614c55799",
   "metadata": {},
   "outputs": [
    {
     "data": {
      "text/html": [
       "<table class=\"simpletable\">\n",
       "<caption>OLS Regression Results</caption>\n",
       "<tr>\n",
       "  <th>Dep. Variable:</th>       <td>np.log(AT)</td>    <th>  R-squared:         </th> <td>   0.779</td>\n",
       "</tr>\n",
       "<tr>\n",
       "  <th>Model:</th>                   <td>OLS</td>       <th>  Adj. R-squared:    </th> <td>   0.775</td>\n",
       "</tr>\n",
       "<tr>\n",
       "  <th>Method:</th>             <td>Least Squares</td>  <th>  F-statistic:       </th> <td>   186.8</td>\n",
       "</tr>\n",
       "<tr>\n",
       "  <th>Date:</th>             <td>Wed, 26 Feb 2025</td> <th>  Prob (F-statistic):</th> <td>1.80e-35</td>\n",
       "</tr>\n",
       "<tr>\n",
       "  <th>Time:</th>                 <td>21:24:48</td>     <th>  Log-Likelihood:    </th> <td> -24.779</td>\n",
       "</tr>\n",
       "<tr>\n",
       "  <th>No. Observations:</th>      <td>   109</td>      <th>  AIC:               </th> <td>   55.56</td>\n",
       "</tr>\n",
       "<tr>\n",
       "  <th>Df Residuals:</th>          <td>   106</td>      <th>  BIC:               </th> <td>   63.63</td>\n",
       "</tr>\n",
       "<tr>\n",
       "  <th>Df Model:</th>              <td>     2</td>      <th>                     </th>     <td> </td>   \n",
       "</tr>\n",
       "<tr>\n",
       "  <th>Covariance Type:</th>      <td>nonrobust</td>    <th>                     </th>     <td> </td>   \n",
       "</tr>\n",
       "</table>\n",
       "<table class=\"simpletable\">\n",
       "<tr>\n",
       "          <td></td>            <th>coef</th>     <th>std err</th>      <th>t</th>      <th>P>|t|</th>  <th>[0.025</th>    <th>0.975]</th>  \n",
       "</tr>\n",
       "<tr>\n",
       "  <th>Intercept</th>        <td>   -7.8241</td> <td>    1.473</td> <td>   -5.312</td> <td> 0.000</td> <td>  -10.744</td> <td>   -4.904</td>\n",
       "</tr>\n",
       "<tr>\n",
       "  <th>Waist</th>            <td>    0.2289</td> <td>    0.032</td> <td>    7.107</td> <td> 0.000</td> <td>    0.165</td> <td>    0.293</td>\n",
       "</tr>\n",
       "<tr>\n",
       "  <th>I(Waist * Waist)</th> <td>   -0.0010</td> <td>    0.000</td> <td>   -5.871</td> <td> 0.000</td> <td>   -0.001</td> <td>   -0.001</td>\n",
       "</tr>\n",
       "</table>\n",
       "<table class=\"simpletable\">\n",
       "<tr>\n",
       "  <th>Omnibus:</th>       <td> 0.325</td> <th>  Durbin-Watson:     </th> <td>   1.464</td>\n",
       "</tr>\n",
       "<tr>\n",
       "  <th>Prob(Omnibus):</th> <td> 0.850</td> <th>  Jarque-Bera (JB):  </th> <td>   0.271</td>\n",
       "</tr>\n",
       "<tr>\n",
       "  <th>Skew:</th>          <td> 0.119</td> <th>  Prob(JB):          </th> <td>   0.873</td>\n",
       "</tr>\n",
       "<tr>\n",
       "  <th>Kurtosis:</th>      <td> 2.949</td> <th>  Cond. No.          </th> <td>4.49e+05</td>\n",
       "</tr>\n",
       "</table><br/><br/>Notes:<br/>[1] Standard Errors assume that the covariance matrix of the errors is correctly specified.<br/>[2] The condition number is large, 4.49e+05. This might indicate that there are<br/>strong multicollinearity or other numerical problems."
      ],
      "text/latex": [
       "\\begin{center}\n",
       "\\begin{tabular}{lclc}\n",
       "\\toprule\n",
       "\\textbf{Dep. Variable:}    &    np.log(AT)    & \\textbf{  R-squared:         } &     0.779   \\\\\n",
       "\\textbf{Model:}            &       OLS        & \\textbf{  Adj. R-squared:    } &     0.775   \\\\\n",
       "\\textbf{Method:}           &  Least Squares   & \\textbf{  F-statistic:       } &     186.8   \\\\\n",
       "\\textbf{Date:}             & Wed, 26 Feb 2025 & \\textbf{  Prob (F-statistic):} &  1.80e-35   \\\\\n",
       "\\textbf{Time:}             &     21:24:48     & \\textbf{  Log-Likelihood:    } &   -24.779   \\\\\n",
       "\\textbf{No. Observations:} &         109      & \\textbf{  AIC:               } &     55.56   \\\\\n",
       "\\textbf{Df Residuals:}     &         106      & \\textbf{  BIC:               } &     63.63   \\\\\n",
       "\\textbf{Df Model:}         &           2      & \\textbf{                     } &             \\\\\n",
       "\\textbf{Covariance Type:}  &    nonrobust     & \\textbf{                     } &             \\\\\n",
       "\\bottomrule\n",
       "\\end{tabular}\n",
       "\\begin{tabular}{lcccccc}\n",
       "                          & \\textbf{coef} & \\textbf{std err} & \\textbf{t} & \\textbf{P$> |$t$|$} & \\textbf{[0.025} & \\textbf{0.975]}  \\\\\n",
       "\\midrule\n",
       "\\textbf{Intercept}        &      -7.8241  &        1.473     &    -5.312  &         0.000        &      -10.744    &       -4.904     \\\\\n",
       "\\textbf{Waist}            &       0.2289  &        0.032     &     7.107  &         0.000        &        0.165    &        0.293     \\\\\n",
       "\\textbf{I(Waist * Waist)} &      -0.0010  &        0.000     &    -5.871  &         0.000        &       -0.001    &       -0.001     \\\\\n",
       "\\bottomrule\n",
       "\\end{tabular}\n",
       "\\begin{tabular}{lclc}\n",
       "\\textbf{Omnibus:}       &  0.325 & \\textbf{  Durbin-Watson:     } &    1.464  \\\\\n",
       "\\textbf{Prob(Omnibus):} &  0.850 & \\textbf{  Jarque-Bera (JB):  } &    0.271  \\\\\n",
       "\\textbf{Skew:}          &  0.119 & \\textbf{  Prob(JB):          } &    0.873  \\\\\n",
       "\\textbf{Kurtosis:}      &  2.949 & \\textbf{  Cond. No.          } & 4.49e+05  \\\\\n",
       "\\bottomrule\n",
       "\\end{tabular}\n",
       "%\\caption{OLS Regression Results}\n",
       "\\end{center}\n",
       "\n",
       "Notes: \\newline\n",
       " [1] Standard Errors assume that the covariance matrix of the errors is correctly specified. \\newline\n",
       " [2] The condition number is large, 4.49e+05. This might indicate that there are \\newline\n",
       " strong multicollinearity or other numerical problems."
      ],
      "text/plain": [
       "<class 'statsmodels.iolib.summary.Summary'>\n",
       "\"\"\"\n",
       "                            OLS Regression Results                            \n",
       "==============================================================================\n",
       "Dep. Variable:             np.log(AT)   R-squared:                       0.779\n",
       "Model:                            OLS   Adj. R-squared:                  0.775\n",
       "Method:                 Least Squares   F-statistic:                     186.8\n",
       "Date:                Wed, 26 Feb 2025   Prob (F-statistic):           1.80e-35\n",
       "Time:                        21:24:48   Log-Likelihood:                -24.779\n",
       "No. Observations:                 109   AIC:                             55.56\n",
       "Df Residuals:                     106   BIC:                             63.63\n",
       "Df Model:                           2                                         \n",
       "Covariance Type:            nonrobust                                         \n",
       "====================================================================================\n",
       "                       coef    std err          t      P>|t|      [0.025      0.975]\n",
       "------------------------------------------------------------------------------------\n",
       "Intercept           -7.8241      1.473     -5.312      0.000     -10.744      -4.904\n",
       "Waist                0.2289      0.032      7.107      0.000       0.165       0.293\n",
       "I(Waist * Waist)    -0.0010      0.000     -5.871      0.000      -0.001      -0.001\n",
       "==============================================================================\n",
       "Omnibus:                        0.325   Durbin-Watson:                   1.464\n",
       "Prob(Omnibus):                  0.850   Jarque-Bera (JB):                0.271\n",
       "Skew:                           0.119   Prob(JB):                        0.873\n",
       "Kurtosis:                       2.949   Cond. No.                     4.49e+05\n",
       "==============================================================================\n",
       "\n",
       "Notes:\n",
       "[1] Standard Errors assume that the covariance matrix of the errors is correctly specified.\n",
       "[2] The condition number is large, 4.49e+05. This might indicate that there are\n",
       "strong multicollinearity or other numerical problems.\n",
       "\"\"\""
      ]
     },
     "execution_count": 53,
     "metadata": {},
     "output_type": "execute_result"
    }
   ],
   "source": [
    "#Here r can not be calculated\n",
    "model4=smf.ols(\"np.log(AT)~Waist+I(Waist*Waist)\",data=wcat).fit() #Polynomial regression (log(AT) ~ Waist + Waist^2)\n",
    "#Y is np.log(AT) and X is waist\n",
    "model4.summary()# Displays polynomial model summary"
   ]
  },
  {
   "cell_type": "markdown",
   "id": "1293f848-c92e-4b98-abba-e85ee54ed04d",
   "metadata": {},
   "source": [
    "R-squarred=0.779<0.85,there is scope of improvement\n",
    "\n",
    "P=0.0<0.05 hence accepatable\n",
    "\n",
    "bita~0=-7.8241\n",
    "\n",
    "bita~1=0.2289 "
   ]
  },
  {
   "cell_type": "code",
   "execution_count": 54,
   "id": "bd63e466-2d74-43fc-98bd-4dbd51197d92",
   "metadata": {},
   "outputs": [
    {
     "data": {
      "text/plain": [
       "0       36.779400\n",
       "1       31.026570\n",
       "2       60.145769\n",
       "3       68.488132\n",
       "4       36.497176\n",
       "          ...    \n",
       "104    134.555999\n",
       "105    108.012957\n",
       "106    140.081911\n",
       "107    154.205675\n",
       "108    155.034904\n",
       "Length: 109, dtype: float64"
      ]
     },
     "execution_count": 54,
     "metadata": {},
     "output_type": "execute_result"
    }
   ],
   "source": [
    "# Predict and reverse log transformation for polynomial model\n",
    "pred4=model4.predict(pd.DataFrame(wcat.Waist)) # Predicted log(AT) using polynomial model\n",
    "pred4\n",
    "pred4_at=np.exp(pred4) # Convert predictions back to original scale\n",
    "pred4_at # Display predicted AT values"
   ]
  },
  {
   "cell_type": "code",
   "execution_count": 55,
   "id": "9f341299-e061-47b9-aac3-65beb16ebf85",
   "metadata": {},
   "outputs": [
    {
     "data": {
      "image/png": "[encoded data removed]",
      "text/plain": [
       "<Figure size 640x480 with 1 Axes>"
      ]
     },
     "metadata": {},
     "output_type": "display_data"
    }
   ],
   "source": [
    "#Regression line visualization for polynomial model\n",
    "plt.scatter(wcat.Waist,np.log(wcat.AT))# Scatter plot of Waist vs log(AT)\n",
    "plt.plot(wcat.Waist,pred4,'r')# Polynomial regression line\n",
    "plt.legend(['Predicted Line','Observed data_model4'])# Add legend\n",
    "plt.show()# Display the plot"
   ]
  },
  {
   "cell_type": "code",
   "execution_count": 56,
   "id": "958a3580-1ede-4bba-882e-cf9823fa282e",
   "metadata": {},
   "outputs": [
    {
     "data": {
      "text/plain": [
       "32.244447827762464"
      ]
     },
     "execution_count": 56,
     "metadata": {},
     "output_type": "execute_result"
    }
   ],
   "source": [
    "#Error calculation for polynomial model\n",
    "res4=wcat.AT-pred4_at # Calculate residuals\n",
    "res_sqr4=res4*res4 # Square the residuals\n",
    "msel=np.mean(res_sqr4) # Mean squared error (MSE)\n",
    "rmsel=np.sqrt(msel)# Root mean squared error (RMSE)\n",
    "rmsel # Display RMSE (32.24)\n",
    "#32.244447827762464"
   ]
  },
  {
   "cell_type": "markdown",
   "id": "a577fe04-715c-4855-880c-9a7cb1e4f674",
   "metadata": {},
   "source": [
    "### We have to generalize the best model"
   ]
  },
  {
   "cell_type": "code",
   "execution_count": 57,
   "id": "10dc08a4-8af7-4ec2-a9ae-52821a40db41",
   "metadata": {},
   "outputs": [
    {
     "data": {
      "image/png": "[encoded data removed]",
      "text/plain": [
       "<Figure size 640x480 with 1 Axes>"
      ]
     },
     "metadata": {},
     "output_type": "display_data"
    }
   ],
   "source": [
    "# Train-test split\n",
    "from sklearn.model_selection import train_test_split  #Import train_test_split function\n",
    "\n",
    "# Split dataset into training and testing sets\n",
    "train,test=train_test_split(wcat,test_size=0.2) # 80% train, 20% test\n",
    "plt.scatter(train.Waist, np.log(train.AT)) # Scatter plot for training data\n",
    "plt.scatter(test.Waist, np.log(test.AT)) # Scatter plot for testing data\n",
    "\n",
    "# Final Model using polynomial regression\n",
    "final_model=smf.ols('np.log(AT)~Waist+I(Waist*Waist)',data=wcat).fit() # Fit final model\n"
   ]
  },
  {
   "cell_type": "code",
   "execution_count": 58,
   "id": "41f274e5-db3e-4a97-a0e4-79b2a92d4043",
   "metadata": {},
   "outputs": [
    {
     "data": {
      "text/html": [
       "<table class=\"simpletable\">\n",
       "<caption>OLS Regression Results</caption>\n",
       "<tr>\n",
       "  <th>Dep. Variable:</th>       <td>np.log(AT)</td>    <th>  R-squared:         </th> <td>   0.779</td>\n",
       "</tr>\n",
       "<tr>\n",
       "  <th>Model:</th>                   <td>OLS</td>       <th>  Adj. R-squared:    </th> <td>   0.775</td>\n",
       "</tr>\n",
       "<tr>\n",
       "  <th>Method:</th>             <td>Least Squares</td>  <th>  F-statistic:       </th> <td>   186.8</td>\n",
       "</tr>\n",
       "<tr>\n",
       "  <th>Date:</th>             <td>Wed, 26 Feb 2025</td> <th>  Prob (F-statistic):</th> <td>1.80e-35</td>\n",
       "</tr>\n",
       "<tr>\n",
       "  <th>Time:</th>                 <td>21:24:55</td>     <th>  Log-Likelihood:    </th> <td> -24.779</td>\n",
       "</tr>\n",
       "<tr>\n",
       "  <th>No. Observations:</th>      <td>   109</td>      <th>  AIC:               </th> <td>   55.56</td>\n",
       "</tr>\n",
       "<tr>\n",
       "  <th>Df Residuals:</th>          <td>   106</td>      <th>  BIC:               </th> <td>   63.63</td>\n",
       "</tr>\n",
       "<tr>\n",
       "  <th>Df Model:</th>              <td>     2</td>      <th>                     </th>     <td> </td>   \n",
       "</tr>\n",
       "<tr>\n",
       "  <th>Covariance Type:</th>      <td>nonrobust</td>    <th>                     </th>     <td> </td>   \n",
       "</tr>\n",
       "</table>\n",
       "<table class=\"simpletable\">\n",
       "<tr>\n",
       "          <td></td>            <th>coef</th>     <th>std err</th>      <th>t</th>      <th>P>|t|</th>  <th>[0.025</th>    <th>0.975]</th>  \n",
       "</tr>\n",
       "<tr>\n",
       "  <th>Intercept</th>        <td>   -7.8241</td> <td>    1.473</td> <td>   -5.312</td> <td> 0.000</td> <td>  -10.744</td> <td>   -4.904</td>\n",
       "</tr>\n",
       "<tr>\n",
       "  <th>Waist</th>            <td>    0.2289</td> <td>    0.032</td> <td>    7.107</td> <td> 0.000</td> <td>    0.165</td> <td>    0.293</td>\n",
       "</tr>\n",
       "<tr>\n",
       "  <th>I(Waist * Waist)</th> <td>   -0.0010</td> <td>    0.000</td> <td>   -5.871</td> <td> 0.000</td> <td>   -0.001</td> <td>   -0.001</td>\n",
       "</tr>\n",
       "</table>\n",
       "<table class=\"simpletable\">\n",
       "<tr>\n",
       "  <th>Omnibus:</th>       <td> 0.325</td> <th>  Durbin-Watson:     </th> <td>   1.464</td>\n",
       "</tr>\n",
       "<tr>\n",
       "  <th>Prob(Omnibus):</th> <td> 0.850</td> <th>  Jarque-Bera (JB):  </th> <td>   0.271</td>\n",
       "</tr>\n",
       "<tr>\n",
       "  <th>Skew:</th>          <td> 0.119</td> <th>  Prob(JB):          </th> <td>   0.873</td>\n",
       "</tr>\n",
       "<tr>\n",
       "  <th>Kurtosis:</th>      <td> 2.949</td> <th>  Cond. No.          </th> <td>4.49e+05</td>\n",
       "</tr>\n",
       "</table><br/><br/>Notes:<br/>[1] Standard Errors assume that the covariance matrix of the errors is correctly specified.<br/>[2] The condition number is large, 4.49e+05. This might indicate that there are<br/>strong multicollinearity or other numerical problems."
      ],
      "text/latex": [
       "\\begin{center}\n",
       "\\begin{tabular}{lclc}\n",
       "\\toprule\n",
       "\\textbf{Dep. Variable:}    &    np.log(AT)    & \\textbf{  R-squared:         } &     0.779   \\\\\n",
       "\\textbf{Model:}            &       OLS        & \\textbf{  Adj. R-squared:    } &     0.775   \\\\\n",
       "\\textbf{Method:}           &  Least Squares   & \\textbf{  F-statistic:       } &     186.8   \\\\\n",
       "\\textbf{Date:}             & Wed, 26 Feb 2025 & \\textbf{  Prob (F-statistic):} &  1.80e-35   \\\\\n",
       "\\textbf{Time:}             &     21:24:55     & \\textbf{  Log-Likelihood:    } &   -24.779   \\\\\n",
       "\\textbf{No. Observations:} &         109      & \\textbf{  AIC:               } &     55.56   \\\\\n",
       "\\textbf{Df Residuals:}     &         106      & \\textbf{  BIC:               } &     63.63   \\\\\n",
       "\\textbf{Df Model:}         &           2      & \\textbf{                     } &             \\\\\n",
       "\\textbf{Covariance Type:}  &    nonrobust     & \\textbf{                     } &             \\\\\n",
       "\\bottomrule\n",
       "\\end{tabular}\n",
       "\\begin{tabular}{lcccccc}\n",
       "                          & \\textbf{coef} & \\textbf{std err} & \\textbf{t} & \\textbf{P$> |$t$|$} & \\textbf{[0.025} & \\textbf{0.975]}  \\\\\n",
       "\\midrule\n",
       "\\textbf{Intercept}        &      -7.8241  &        1.473     &    -5.312  &         0.000        &      -10.744    &       -4.904     \\\\\n",
       "\\textbf{Waist}            &       0.2289  &        0.032     &     7.107  &         0.000        &        0.165    &        0.293     \\\\\n",
       "\\textbf{I(Waist * Waist)} &      -0.0010  &        0.000     &    -5.871  &         0.000        &       -0.001    &       -0.001     \\\\\n",
       "\\bottomrule\n",
       "\\end{tabular}\n",
       "\\begin{tabular}{lclc}\n",
       "\\textbf{Omnibus:}       &  0.325 & \\textbf{  Durbin-Watson:     } &    1.464  \\\\\n",
       "\\textbf{Prob(Omnibus):} &  0.850 & \\textbf{  Jarque-Bera (JB):  } &    0.271  \\\\\n",
       "\\textbf{Skew:}          &  0.119 & \\textbf{  Prob(JB):          } &    0.873  \\\\\n",
       "\\textbf{Kurtosis:}      &  2.949 & \\textbf{  Cond. No.          } & 4.49e+05  \\\\\n",
       "\\bottomrule\n",
       "\\end{tabular}\n",
       "%\\caption{OLS Regression Results}\n",
       "\\end{center}\n",
       "\n",
       "Notes: \\newline\n",
       " [1] Standard Errors assume that the covariance matrix of the errors is correctly specified. \\newline\n",
       " [2] The condition number is large, 4.49e+05. This might indicate that there are \\newline\n",
       " strong multicollinearity or other numerical problems."
      ],
      "text/plain": [
       "<class 'statsmodels.iolib.summary.Summary'>\n",
       "\"\"\"\n",
       "                            OLS Regression Results                            \n",
       "==============================================================================\n",
       "Dep. Variable:             np.log(AT)   R-squared:                       0.779\n",
       "Model:                            OLS   Adj. R-squared:                  0.775\n",
       "Method:                 Least Squares   F-statistic:                     186.8\n",
       "Date:                Wed, 26 Feb 2025   Prob (F-statistic):           1.80e-35\n",
       "Time:                        21:24:55   Log-Likelihood:                -24.779\n",
       "No. Observations:                 109   AIC:                             55.56\n",
       "Df Residuals:                     106   BIC:                             63.63\n",
       "Df Model:                           2                                         \n",
       "Covariance Type:            nonrobust                                         \n",
       "====================================================================================\n",
       "                       coef    std err          t      P>|t|      [0.025      0.975]\n",
       "------------------------------------------------------------------------------------\n",
       "Intercept           -7.8241      1.473     -5.312      0.000     -10.744      -4.904\n",
       "Waist                0.2289      0.032      7.107      0.000       0.165       0.293\n",
       "I(Waist * Waist)    -0.0010      0.000     -5.871      0.000      -0.001      -0.001\n",
       "==============================================================================\n",
       "Omnibus:                        0.325   Durbin-Watson:                   1.464\n",
       "Prob(Omnibus):                  0.850   Jarque-Bera (JB):                0.271\n",
       "Skew:                           0.119   Prob(JB):                        0.873\n",
       "Kurtosis:                       2.949   Cond. No.                     4.49e+05\n",
       "==============================================================================\n",
       "\n",
       "Notes:\n",
       "[1] Standard Errors assume that the covariance matrix of the errors is correctly specified.\n",
       "[2] The condition number is large, 4.49e+05. This might indicate that there are\n",
       "strong multicollinearity or other numerical problems.\n",
       "\"\"\""
      ]
     },
     "execution_count": 58,
     "metadata": {},
     "output_type": "execute_result"
    }
   ],
   "source": [
    "# Final model summary\n",
    "#Y is np.log(AT) and X is waist\n",
    "final_model.summary()# Display model summary"
   ]
  },
  {
   "cell_type": "markdown",
   "id": "62375de3-4baa-44a2-99c8-d688e5dbcd75",
   "metadata": {},
   "source": [
    "R-squarred=0.779<0.85,there is scope of improvement\n",
    "\n",
    "P=0.0<0.05 hence accepatable\n",
    "\n",
    "bita~0=-7.8241\n",
    "\n",
    "bita~1=0.2289 "
   ]
  },
  {
   "cell_type": "code",
   "execution_count": 59,
   "id": "6a0ee719-6b9b-4e76-aca2-b18aa616704b",
   "metadata": {},
   "outputs": [
    {
     "data": {
      "text/plain": [
       "32     97.303945\n",
       "5      29.174597\n",
       "49     51.107053\n",
       "76    143.609840\n",
       "94    123.157825\n",
       "39     50.075256\n",
       "14     43.505263\n",
       "73    134.213265\n",
       "34    140.692416\n",
       "31     85.696002\n",
       "6      56.804132\n",
       "52     73.542120\n",
       "85    146.290109\n",
       "30     66.703124\n",
       "8      13.610862\n",
       "35    113.052967\n",
       "84    155.034904\n",
       "50     92.992407\n",
       "4      36.497176\n",
       "96    150.878818\n",
       "2      60.145769\n",
       "43     78.927920\n",
       "dtype: float64"
      ]
     },
     "execution_count": 59,
     "metadata": {},
     "output_type": "execute_result"
    }
   ],
   "source": [
    "test_pred=final_model.predict(pd.DataFrame(test)) # Predict on test data\n",
    "test_pred_at=np.exp(test_pred)# Convert back to original scale\n",
    "test_pred_at# Display test predictions"
   ]
  },
  {
   "cell_type": "code",
   "execution_count": 60,
   "id": "9c8b26b6-3473-4deb-80f9-11461e6f69b2",
   "metadata": {},
   "outputs": [
    {
     "data": {
      "text/plain": [
       "90     125.093851\n",
       "67     149.832482\n",
       "97     130.687397\n",
       "74     154.351415\n",
       "102    156.780640\n",
       "          ...    \n",
       "57      78.091817\n",
       "42      55.349922\n",
       "61      72.317089\n",
       "3       68.488132\n",
       "75     134.213265\n",
       "Length: 87, dtype: float64"
      ]
     },
     "execution_count": 60,
     "metadata": {},
     "output_type": "execute_result"
    }
   ],
   "source": [
    "# Predictions on train data\n",
    "train_pred = final_model.predict(pd.DataFrame(train))# Predict on train data\n",
    "train_pred_at = np.exp(train_pred) # Convert back to original scale\n",
    "train_pred_at# Display train predictions"
   ]
  },
  {
   "cell_type": "code",
   "execution_count": 61,
   "id": "d873c63d-6701-4475-a56c-af8519582ac8",
   "metadata": {},
   "outputs": [
    {
     "data": {
      "text/plain": [
       "31.869712190061865"
      ]
     },
     "execution_count": 61,
     "metadata": {},
     "output_type": "execute_result"
    }
   ],
   "source": [
    "#Evalution on test data\n",
    "test_res=test.AT-test_pred_at # Calculate residuals on test data\n",
    "test_sqr=test_res*test_res # Square the residuals\n",
    "test_mse=np.mean(test_sqr) # Mean squared error (MSE)\n",
    "test_rmse=np.sqrt(test_mse) # Root mean squared error (RMSE)\n",
    "test_rmse #Display RMSE (31.16)\n",
    "#31.166396245162282"
   ]
  },
  {
   "cell_type": "code",
   "execution_count": 62,
   "id": "7e522e39-d6ff-4a4f-97bd-86216d238763",
   "metadata": {},
   "outputs": [
    {
     "data": {
      "text/plain": [
       "32.338520694470546"
      ]
     },
     "execution_count": 62,
     "metadata": {},
     "output_type": "execute_result"
    }
   ],
   "source": [
    "#Evalution on train data\n",
    "train_res=train.AT-train_pred_at # Calculate residuals on test data\n",
    "train_sqr=train_res*train_res # Square the residuals\n",
    "train_mse=np.mean(train_sqr) # Mean squared error (MSE)\n",
    "train_rmse=np.sqrt(train_mse)  # Root mean squared error (RMSE)\n",
    "train_rmse #Display RMSE (31.16)\n",
    "#32.51139635824184\n"
   ]
  },
  {
   "cell_type": "code",
   "execution_count": 63,
   "id": "4ed2d81b-9279-4293-9378-fb483c5dbc01",
   "metadata": {},
   "outputs": [],
   "source": [
    "# Comparison:test_rmse>train_rmse  # Model slightly underfits training data"
   ]
  },
  {
   "cell_type": "code",
   "execution_count": null,
   "id": "8cb188ca-9e85-482e-8fc7-820c6abb5553",
   "metadata": {},
   "outputs": [],
   "source": []
  }
 ],
 "metadata": {
  "kernelspec": {
   "display_name": "Python 3 (ipykernel)",
   "language": "python",
   "name": "python3"
  },
  "language_info": {
   "codemirror_mode": {
    "name": "ipython",
    "version": 3
   },
   "file_extension": ".py",
   "mimetype": "text/x-python",
   "name": "python",
   "nbconvert_exporter": "python",
   "pygments_lexer": "ipython3",
   "version": "3.11.4"
  }
 },
 "nbformat": 4,
 "nbformat_minor": 5
}
