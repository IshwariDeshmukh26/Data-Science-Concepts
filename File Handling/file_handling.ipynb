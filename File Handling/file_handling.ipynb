{
 "cells": [
  {
   "cell_type": "code",
   "execution_count": 1,
   "id": "07b30d25-515c-4a0e-a86c-12cba3a96d15",
   "metadata": {},
   "outputs": [
    {
     "name": "stdout",
     "output_type": "stream",
     "text": [
      "His name is Fred.\n",
      "His name is Fred.\n"
     ]
    }
   ],
   "source": [
    "name='Fred'\n",
    "\n",
    "#Using the old.format() method:\n",
    "print('His name is {var}.'.format(var=name))\n",
    "\n",
    "#Using f-strings:\n",
    "print(f'His name is {name}.')"
   ]
  },
  {
   "cell_type": "code",
   "execution_count": 3,
   "id": "a781ae24-5d9a-4454-a40f-0dbcde35d24b",
   "metadata": {},
   "outputs": [
    {
     "name": "stdout",
     "output_type": "stream",
     "text": [
      "His name is 'Fred'\n"
     ]
    }
   ],
   "source": [
    "print(f'His name is {name!r}')"
   ]
  },
  {
   "cell_type": "markdown",
   "id": "a2872dfa-b8a4-474f-b5f5-ea89fe21c9d1",
   "metadata": {},
   "source": [
    "##### Be careful not to let quotation marks in the replacement fields conflict with the quoting used in the outer string:"
   ]
  },
  {
   "cell_type": "code",
   "execution_count": 2,
   "id": "bb3c9373-81e1-4cc1-89fb-ac1c0844c81e",
   "metadata": {},
   "outputs": [
    {
     "ename": "SyntaxError",
     "evalue": "f-string: unmatched '[' (132169257.py, line 2)",
     "output_type": "error",
     "traceback": [
      "\u001b[1;36m  Cell \u001b[1;32mIn[2], line 2\u001b[1;36m\u001b[0m\n\u001b[1;33m    print(f'Address: {d['a']} Main Street')\u001b[0m\n\u001b[1;37m                         ^\u001b[0m\n\u001b[1;31mSyntaxError\u001b[0m\u001b[1;31m:\u001b[0m f-string: unmatched '['\n"
     ]
    }
   ],
   "source": [
    "d={'a':123,'b':456}\n",
    "print(f'Address: {d['a']} Main Street')"
   ]
  },
  {
   "cell_type": "markdown",
   "id": "590628d6-c4b8-4972-b2b0-4c90aa82a707",
   "metadata": {},
   "source": [
    "###### insted use different styles of quotation marks:"
   ]
  },
  {
   "cell_type": "code",
   "execution_count": 6,
   "id": "4c6e9225-169d-44af-8f58-972d688208a9",
   "metadata": {},
   "outputs": [
    {
     "name": "stdout",
     "output_type": "stream",
     "text": [
      "Address:123 Main Street\n"
     ]
    }
   ],
   "source": [
    "d={'a':123,'b':456}\n",
    "print(f\"Address:{d['a']} Main Street\")"
   ]
  },
  {
   "cell_type": "markdown",
   "id": "fb61f435-2101-4858-92e4-fca32d408e1f",
   "metadata": {},
   "source": [
    "#### Minium Widths, Alignment and Padding\n",
    "##### you can pass arguments inside a nested set "
   ]
  },
  {
   "cell_type": "code",
   "execution_count": 17,
   "id": "72d45535-99e9-45fe-850c-c037acfe8eae",
   "metadata": {},
   "outputs": [
    {
     "name": "stdout",
     "output_type": "stream",
     "text": [
      "Author     Topic    Pages    \n",
      "Twain      Rafting        601\n",
      "Feynman    Physics         95\n",
      "Hamilton   Mythology       144\n"
     ]
    }
   ],
   "source": [
    "library=[('Author','Topic','Pages'),\n",
    "         ('Twain','Rafting',601),\n",
    "         ('Feynman','Physics',95),\n",
    "         ('Hamilton','Mythology',144)]\n",
    "for book in library:\n",
    "    print(f'{book[0]:{10}} {book[1]:{8}} {book[2]:{9}}')"
   ]
  },
  {
   "cell_type": "code",
   "execution_count": 8,
   "id": "07d26a5a-85c3-4e9d-a202-58402cabf2c8",
   "metadata": {},
   "outputs": [
    {
     "name": "stdout",
     "output_type": "stream",
     "text": [
      "Author     Topic    ..Pages\n",
      "Twain      Rafting  ....601\n",
      "Feynman    Physics  .....95\n",
      "Hamilton   Mythology ....144\n"
     ]
    }
   ],
   "source": [
    "library=[('Author','Topic','Pages'),\n",
    "         ('Twain','Rafting',601),\n",
    "         ('Feynman','Physics',95),\n",
    "         ('Hamilton','Mythology',144)]\n",
    "for book in library:\n",
    "    print(f'{book[0]:{10}} {book[1]:{8}} {book[2]:.>{7}}')\n",
    "\n",
    "# here dot dot (.....) is called as padding padding"
   ]
  },
  {
   "cell_type": "markdown",
   "id": "1e82ce7f-0891-40da-b283-db5f6aace14b",
   "metadata": {},
   "source": [
    "#### Data Formating"
   ]
  },
  {
   "cell_type": "code",
   "execution_count": 3,
   "id": "9ac5f322-85f6-41c8-92f3-f87cdc9f96b2",
   "metadata": {},
   "outputs": [
    {
     "name": "stdout",
     "output_type": "stream",
     "text": [
      "August 22,2024\n"
     ]
    }
   ],
   "source": [
    "from datetime import datetime\n",
    "today=datetime(year=2024,month=8,day=22)\n",
    "print(f'{today:%B %d,%Y}')"
   ]
  },
  {
   "cell_type": "markdown",
   "id": "fb711fcf-4eb6-4742-97ea-4e4b24110d9d",
   "metadata": {},
   "source": [
    "##### Files python uses objects to interact with extwrnal files on your computer."
   ]
  },
  {
   "cell_type": "markdown",
   "id": "3618b29d-c83c-4722-9dce-82f6665e4171",
   "metadata": {},
   "source": [
    "##### Creating a files with iPython .This function is specifiec to jupiter notebooks! Alternatively,quickely create a simple .txt file with Sublime text editor"
   ]
  },
  {
   "cell_type": "code",
   "execution_count": 1,
   "id": "60267705-6efa-4f0d-a795-db1b22105ac2",
   "metadata": {},
   "outputs": [
    {
     "data": {
      "text/plain": [
       "'c:\\\\8-text_mining\\\\text_mining'"
      ]
     },
     "execution_count": 1,
     "metadata": {},
     "output_type": "execute_result"
    }
   ],
   "source": [
    "pwd"
   ]
  },
  {
   "cell_type": "code",
   "execution_count": 5,
   "id": "cfec0169-02e1-4863-94b9-a7701ed97c79",
   "metadata": {},
   "outputs": [
    {
     "name": "stdout",
     "output_type": "stream",
     "text": [
      "Writing test.txt\n"
     ]
    }
   ],
   "source": [
    "%%writefile test.txt\n",
    "Hello, this is a quick test file.\n",
    "This is the second line of the file."
   ]
  },
  {
   "cell_type": "code",
   "execution_count": 6,
   "id": "d8db48b8-b854-4b2e-95f4-dc079179a2e0",
   "metadata": {},
   "outputs": [],
   "source": [
    "#Open the text.txt file we created earlier\n",
    "my_file=open('test.txt')"
   ]
  },
  {
   "cell_type": "markdown",
   "id": "cd7b2298-ad83-4dbf-9624-f084bb86c530",
   "metadata": {},
   "source": [
    "###### my_file is now open file object held in memory.We'll perform some reading and writing exercises and then we have to close the file to free up memory.\n",
    "###### .read() and .seek()"
   ]
  },
  {
   "cell_type": "code",
   "execution_count": 7,
   "id": "d0cbf744-059c-41ec-8f1e-48c07250609a",
   "metadata": {},
   "outputs": [
    {
     "data": {
      "text/plain": [
       "'Hello, this is a quick test file.\\nThis is the second line of the file.\\n'"
      ]
     },
     "execution_count": 7,
     "metadata": {},
     "output_type": "execute_result"
    }
   ],
   "source": [
    "#We can now read the file\n",
    "my_file.read()"
   ]
  },
  {
   "cell_type": "code",
   "execution_count": 8,
   "id": "61794249-cb87-4d4f-8247-e66a67a355e7",
   "metadata": {},
   "outputs": [
    {
     "data": {
      "text/plain": [
       "''"
      ]
     },
     "execution_count": 8,
     "metadata": {},
     "output_type": "execute_result"
    }
   ],
   "source": [
    "#But what happens if we try to read it again?\n",
    "my_file.read()"
   ]
  },
  {
   "cell_type": "markdown",
   "id": "0336da4d-72f1-4ace-b034-ce591d3f779e",
   "metadata": {},
   "source": [
    "###### This happens because you can imagine the reading\"cursor\" is at the end of the file after having reas it. So there is nothing left to read.We can reset the \"cursor\""
   ]
  },
  {
   "cell_type": "code",
   "execution_count": 10,
   "id": "0f13808b-f864-4efb-b45a-67056baac6f1",
   "metadata": {},
   "outputs": [
    {
     "data": {
      "text/plain": [
       "0"
      ]
     },
     "execution_count": 10,
     "metadata": {},
     "output_type": "execute_result"
    }
   ],
   "source": [
    "#Seek to the start of the file(index 0)\n",
    "my_file.seek(0)"
   ]
  },
  {
   "cell_type": "code",
   "execution_count": 11,
   "id": "d5a0c0c5-2795-45ca-a9f8-3a85dad20698",
   "metadata": {},
   "outputs": [
    {
     "data": {
      "text/plain": [
       "'Hello, this is a quick test file.\\nThis is the second line of the file.\\n'"
      ]
     },
     "execution_count": 11,
     "metadata": {},
     "output_type": "execute_result"
    }
   ],
   "source": [
    "#Read file again\n",
    "my_file.read()"
   ]
  },
  {
   "cell_type": "code",
   "execution_count": 13,
   "id": "67c09f41-d6de-43be-bf7a-7f842a68fec5",
   "metadata": {},
   "outputs": [],
   "source": [
    "#When you finish using a file,it is good practice to close\n",
    "my_file.close()"
   ]
  },
  {
   "cell_type": "markdown",
   "id": "a3956e88-68dd-4c40-abe6-b81183460973",
   "metadata": {},
   "source": [
    "### Writing to a File"
   ]
  },
  {
   "cell_type": "markdown",
   "id": "b5eef9d2-7d43-466f-9e2c-167c7a0d9759",
   "metadata": {},
   "source": [
    "###### By default the open() function will only allow us to read the file.We need to pass the argument 'w' to write over the file.For example"
   ]
  },
  {
   "cell_type": "code",
   "execution_count": 24,
   "id": "5feadc1e-109b-4de7-80cc-8c0670b7f50e",
   "metadata": {},
   "outputs": [],
   "source": [
    "#Add a second argument to the function,'w' which stands for write.\n",
    "#passing 'w+' Lets us read and write to the file\n",
    "my_file=open('test.txt','w+')"
   ]
  },
  {
   "cell_type": "code",
   "execution_count": 25,
   "id": "f2789020-c831-477d-b093-ec6e608e309f",
   "metadata": {},
   "outputs": [
    {
     "data": {
      "text/plain": [
       "24"
      ]
     },
     "execution_count": 25,
     "metadata": {},
     "output_type": "execute_result"
    }
   ],
   "source": [
    "#Write to the file\n",
    "my_file.write('This is a new first file')"
   ]
  },
  {
   "cell_type": "code",
   "execution_count": 26,
   "id": "a2aa9036-6d0b-4333-9b8c-76c88009ec10",
   "metadata": {},
   "outputs": [
    {
     "data": {
      "text/plain": [
       "'This is a new first file'"
      ]
     },
     "execution_count": 26,
     "metadata": {},
     "output_type": "execute_result"
    }
   ],
   "source": [
    "#Read the file\n",
    "my_file.seek(0)\n",
    "my_file.read()"
   ]
  },
  {
   "cell_type": "code",
   "execution_count": 21,
   "id": "32e9f1e7-c4ea-434e-a203-1fb80394e470",
   "metadata": {},
   "outputs": [],
   "source": [
    "my_file.close()#always do this when you're done with a file"
   ]
  },
  {
   "cell_type": "markdown",
   "id": "0698976d-df42-4a15-83d3-d1b1dd90b6ee",
   "metadata": {},
   "source": [
    "### Appending to a File"
   ]
  },
  {
   "cell_type": "markdown",
   "id": "0d0d7fbc-fd9d-4602-827a-0282cd8a6240",
   "metadata": {},
   "source": [
    "#### Passing the argument 'a' opens the file and puts the pointer at the end,so anything written is appended.Like 'w+','a' lets us read and write to a file.If the file does exist,one will be created"
   ]
  },
  {
   "cell_type": "code",
   "execution_count": 27,
   "id": "544988d9-24de-4a03-81a5-fadf6d85a377",
   "metadata": {},
   "outputs": [
    {
     "data": {
      "text/plain": [
       "23"
      ]
     },
     "execution_count": 27,
     "metadata": {},
     "output_type": "execute_result"
    }
   ],
   "source": [
    "my_file=open('test.txt','a+')\n",
    "my_file.write('\\nThis line is being appended to test.txt')\n",
    "my_file.write('\\nAnd another line here.')"
   ]
  },
  {
   "cell_type": "code",
   "execution_count": 28,
   "id": "d35f5bee-a1cb-4664-9358-a79fcc0bd2d8",
   "metadata": {},
   "outputs": [
    {
     "name": "stdout",
     "output_type": "stream",
     "text": [
      "This is a new first file\n",
      "This line is being appended to test.txt\n",
      "And another line here.\n"
     ]
    }
   ],
   "source": [
    "my_file.seek(0)\n",
    "print(my_file.read())"
   ]
  },
  {
   "cell_type": "code",
   "execution_count": 29,
   "id": "a284272a-698e-41e0-8c23-a0d946592e56",
   "metadata": {},
   "outputs": [],
   "source": [
    "my_file.close()"
   ]
  },
  {
   "cell_type": "markdown",
   "id": "a9e17a40-c57c-4e2a-8421-f9d7e7531fb6",
   "metadata": {},
   "source": [
    "### Reading PDFs"
   ]
  },
  {
   "cell_type": "code",
   "execution_count": 8,
   "id": "0f1f84fd-92fa-45ec-8cae-4585d0fcd07c",
   "metadata": {},
   "outputs": [],
   "source": [
    "import PyPDF2"
   ]
  },
  {
   "cell_type": "markdown",
   "id": "7a23bc16-6511-4730-a1f0-03dc206a76dd",
   "metadata": {},
   "source": [
    "##### First we open a pdf, then create a reader object for it.Notice how we use the binary method of reading .'rb',insted of just 'r'"
   ]
  },
  {
   "cell_type": "code",
   "execution_count": 14,
   "id": "4d29fbd3-1f81-4a01-82c4-ef2e399c60b8",
   "metadata": {},
   "outputs": [],
   "source": [
    "#Notice we read it as a binary with 'rb'\n",
    "f=open('US_Declaration.pdf','rb')"
   ]
  },
  {
   "cell_type": "code",
   "execution_count": 16,
   "id": "7b496e8f-506c-4b71-a454-dc81e41f6908",
   "metadata": {},
   "outputs": [],
   "source": [
    "pdf_reader=PyPDF2.PdfReader(f)"
   ]
  },
  {
   "cell_type": "code",
   "execution_count": 17,
   "id": "fd56c54c-fd21-47f3-8bbd-6509eaedeb54",
   "metadata": {},
   "outputs": [],
   "source": [
    "page_one=pdf_reader.pages[0]"
   ]
  },
  {
   "cell_type": "markdown",
   "id": "07aca19a-7067-4991-9b0a-cdd3929965de",
   "metadata": {},
   "source": [
    "##### We can then extract the text:"
   ]
  },
  {
   "cell_type": "code",
   "execution_count": 18,
   "id": "891ae104-e6ed-40d5-8b6e-99c0af4ab2d2",
   "metadata": {},
   "outputs": [],
   "source": [
    "page_one_text=page_one.extract_text()"
   ]
  },
  {
   "cell_type": "code",
   "execution_count": 19,
   "id": "a72ec6db-cc37-446d-be7a-53eed3d8e282",
   "metadata": {},
   "outputs": [
    {
     "data": {
      "text/plain": [
       "\"Declaration of Independence\\nIN CONGRESS, July 4, 1776.  \\nThe unanimous Declaration of the thirteen united States of America,  \\nWhen in the Course of human events, it becomes necessary for one people to dissolve thepolitical bands which have connected them with another, and to assume among the powers of theearth, the separate and equal station to which the Laws of Nature and of Nature's God entitlethem, a decent respect to the opinions of mankind requires that they should declare the causeswhich impel them to the separation. We hold these truths to be self-evident, that all men are created equal, that they are endowed bytheir Creator with certain unalienable Rights, that among these are Life, Liberty and the pursuit\\nof Happiness.— \\x14That to secure these rights, Governments are instituted among Men, derivingtheir just powers from the consent of the governed,—  \\x14That whenever any Form of Government\\nbecomes destructive of these ends, it is the Right of the People to alter or to abolish it, and to\\ninstitute new Government, laying its foundation on such principles and organizing its powers in\\nsuch form, as to them shall seem most likely to effect their Safety and Happiness. Prudence,indeed, will dictate that Governments long established should not be changed for light andtransient causes; and accordingly all experience hath shewn, that mankind are more disposed to\\nsuffer, while evils are sufferable, than to right themselves by abolishing the forms to which theyare accustomed. But when a long train of abuses and usurpations, pursuing invariably the same\\nObject evinces a design to reduce them under absolute Despotism, it is their right, it is their duty,\\nto throw off such Government, and to provide new Guards for their future securit y.— \\x14Such has\\nbeen the patient sufferance of these Colonies; and such is now the necessity which constrainsthem to alter their former Systems of Government. The history of the present King of GreatBritain is a history of repeated injuries and usurpations, all having in direct object the\\nestablishment of an absolute Tyranny over these States. To prove this, let Facts be submitted to a\\ncandid world. \\nHe has refused his Assent to Laws, the most wholesome and necessary for the\\npublic good.He has forbidden his Governors to pass Laws of immediate and pressingimportance, unless suspended in their operation till his Assent should be obtained;and when so suspended, he has utterly neglected to attend to them.He has refused to pass other Laws for the accommodation of large districts of\\npeople, unless those people would relinquish the right of Representation in theLegislature, a right inestimable to them and formidable to tyrants only. He has called together legislative bodies at places unusual, uncomfortable, and distantfrom the depository of their public Records, for the sole purpose of fatiguing them into\\ncompliance with his measures.\""
      ]
     },
     "execution_count": 19,
     "metadata": {},
     "output_type": "execute_result"
    }
   ],
   "source": [
    "page_one_text"
   ]
  },
  {
   "cell_type": "code",
   "execution_count": 20,
   "id": "27b88813-a000-4d90-b41a-94d5b87bc11c",
   "metadata": {},
   "outputs": [],
   "source": [
    "f=open('kopargaon-part-1.pdf','rb')"
   ]
  },
  {
   "cell_type": "code",
   "execution_count": 21,
   "id": "7a8d5dbb-f2b3-4a6a-a780-79e0637b97e8",
   "metadata": {},
   "outputs": [],
   "source": [
    "pdf_reader=PyPDF2.PdfReader(f)"
   ]
  },
  {
   "cell_type": "code",
   "execution_count": 22,
   "id": "6e2b47ff-c4f1-496c-84e9-83dbcc1eca12",
   "metadata": {},
   "outputs": [],
   "source": [
    "page_one=pdf_reader.pages[0]"
   ]
  },
  {
   "cell_type": "code",
   "execution_count": 23,
   "id": "4032d7be-74de-4322-b12e-1ed7f300623d",
   "metadata": {},
   "outputs": [],
   "source": [
    "page_one_text=page_one.extract_text()"
   ]
  },
  {
   "cell_type": "code",
   "execution_count": 24,
   "id": "a7583969-f60c-4208-9a77-c325cd2b2017",
   "metadata": {},
   "outputs": [
    {
     "data": {
      "text/plain": [
       "'\\\\\\x10Đ\\x10\\n\\x98\\x8f\\x91ȡ\\x9aȡ\\x85ȯ\\x03\\x93ȡ\\x9d\\n\\x93ȡ\\x8fȯ\\x9dȡ_\\x80ȡ\\x85ȯ\\n\\x94×\\x8fȡ\\n\\x9eȡ\\x9cȡ\\x03\\x11\\x03\\x80Ȩ\\x9bȯ\\x87\\n\\x9d\\x99\\nͧ\\x9bȲ\\x82\\nj\\x9c\\x81\\x94ğ\\x03ĐȲ\\x10\\n\\x98\\x8f\\x91ȡ\\x9aȡ\\x85\\nʜȯ\\x03\\n\\x86ȡ\\x99ȡͬ\\x85ğ\\nC\\nD\\nE\\nF\\nG\\nH\\nI\\nJ\\nK\\n1\\n\\x9dȲ\\x91\\x93ȡ\\x03\\x87\\x82\\x88ȡ\\x94\\n\\x80Ǚç\\x8e\\x9aȡ\\x9d\\x03\\n\\x87\\x82\\x88ȡ\\x94\\n\\x83\\x10Đ\\x10\\x03\\n0\\n\\x03\\x92ȡ\\x98Ȫ\\x9aȣ\\x03\\n\\x98¡ȡ\\x9aȡçĚ\\n\\x98Ǖ\\x10\\x94Ȫ\\x10\\x03\\x92ȡ\\x98Ȫ\\x9aȣ\\n\\x8fȡ\\x10\\x03\\x80Ȫ\\x94\\x9a\\x82ȡ\\x9d\\nǔ\\x87\\x10\\x03\\\\¡\\x98\\x91\\x93\\x82\\x9a\\n\\x92ȡ\\x98Ȫ\\x9aȣ\\x03\\n423601\\nSHRI SHARDA \\nENGLISH \\nMEDIUM \\nSCHOOL \\nKOPARGAON \\n52\\nèğȢ\\n (Deleted)\\nY\\n2\\nĤ\\x97ȡ\\x80\\x9a\\x03]\\x97ȡ\\x9cȯ\\nĤ\\x97ȡ\\x80\\x9a\\x03]\\x97ȡ\\x9cȯ\\n\\x83\\x10Đ\\x10\\x03\\n00\\n\\x03\\x98\\x92Ȣ\\x03\\x98\\x92Ȣ\\n\\x98Ǖ\\x10\\x94Ȫ\\x10\\x03\\x80Ȫ\\x94\\x9a\\x82ȡ\\x9d\\n\\x8fȡ\\x10\\x03\\x80Ȫ\\x94\\x9a\\x82ȡ\\x9d\\nǔ\\x87\\x10\\x03\\\\¡\\x98\\x91\\x93\\x82\\x9a\\n\\x80Ȫ\\x94\\x9a\\x82ȡ\\x9d\\x03\\nĒȡ\\x98Ȣ\\x8e\\x0b\\x03\\n423601\\nRADAHBAI KALE \\nVIDYA \\nKOLPEWADI\\n54\\n\\x94Ǖ\\nY\\n3\\nĤ\\x80ȡ\\x9e\\x03]\\x97ȡ\\x9cȯ\\n\\x87\\x82Û\\x93ȡ\\x90\\x03\\n]\\x97ȡ\\x9bȯ\\n\\x83\\x10Đ\\x10\\x03\\n0\\n\\x03\\x98\\x8dȣ\\x03\\x96Ǖ\\x03\\x98\\x8dȣ\\x03\\x96Ǖ\\n\\x98Ǖ\\x10\\x94Ȫ\\x10\\x03\\x80Ȫ\\x94\\x9a\\x82ȡ\\x9d\\n\\x8fȡ\\x10\\x03\\x80Ȫ\\x94\\x9a\\x82ȡ\\x9d\\nǔ\\x87\\x10\\x03\\\\¡\\x98\\x91\\x93\\x82\\x9a\\n\\x80Ȫ\\x94\\x9a\\x82ȡȲ\\x9d\\x03\\nf\\x98\\x03È\\x9b\\x0b\\x03\\n423601\\nNEW ENGLISH \\nSCHOOL, \\nKANKURI \\n53\\n\\x94Ǖ\\nY\\n4\\n\\x96ȡ\\x96ȡ\\xa0ȡ¡ȯ\\x96\\x03\\n]\\x97ȡ\\x9cȯ\\n\\\\Ö\\x8eȡ\\xa0ȡ¡ȯ\\x96\\x03\\n]\\x97ȡ\\x9cȯ\\n\\x83\\x10Đ\\x10\\x03\\n00\\n\\x03\\x98\\x92Ȣ\\x03\\x98\\x92Ȣ\\n\\x98Ǖ\\x10\\x94Ȫ\\x10\\x03\\x80Ȫ\\x94\\x9a\\x82ȡ\\x9d\\n\\x8fȡ\\x10\\x03\\x80Ȫ\\x94\\x9a\\x82ȡ\\x9d\\nǔ\\x87\\x10\\x03\\\\¡\\x98\\x91\\x93\\x82\\x9a\\n\\x80Ȫ\\x94\\x9a\\x82ȡ\\x9d\\x03\\nĒȡ\\x98Ȣ\\x8e\\x0b\\x03\\n423601\\nJAGDAMBA \\nSCHOOL \\nBABULGAON\\n39\\n\\x94Ǖ\\n00\\nY\\n5\\n\\xa0ͪ\\x9d\\x8fȡ\\x03]\\x97ȡ\\x9cȯ\\n\\x9aȡ\\x87\\x03ͪ\\x9d\\x9e\\x03\\n]\\x97ȡ\\x9cȯ\\n\\x83\\x10Đ\\x10\\x03\\n00\\n\\x03\\x98\\x92Ȣ\\x03\\n\\x80Ȫ\\x94\\x9a\\x82ȡ\\x9d\\n\\x98Ǖ\\x10\\x94Ȫ\\x10\\x03\\x80Ȫ\\x94\\x9a\\x82ȡ\\x9d\\n\\x8fȡ\\x10\\x03\\x80Ȫ\\x94\\x9a\\x82ȡ\\x9d\\nǔ\\x87\\x10\\x03\\\\¡\\x98\\x91\\x93\\x82\\x9a\\n\\x80Ȫ\\x94\\x9a\\x82ȡ\\x9d\\x03\\nĒȡ\\x98Ȣ\\x8e\\x0b\\x03\\n423601\\nSANJIVANI \\nENGLISH \\nSCHOOL\\n37\\nèğȢ\\nY\\nPage No.: \\n1 of 405\\n\\x98¡ȡ\\x9aȡçĚ\\x03\\x9aȡÏ\\x99\\x03ͪ\\x9d\\x92ȡ\\x93\\x03\\x94ǐ\\x9a\\x9f\\x91\\x03\\x98\\x8f\\x91ȡ\\x9a\\x03\\x99ȡ\\x91ȣ\\x03\\x0f\\x03\\nDBDF\\n\\x93ȡͧ\\x9e\\x80\\x03ͪ\\x9d\\x97ȡ\\x82\\x03ͧ\\x9e¢\\x80\\x03\\x98\\x8f\\x91ȡ\\x9a\\x03\\xa0Ȳ\\x83\\nBI\\x0fBH\\x0fDBDF\\x03\\n\\x94\\x99ɍ\\x8f\\x03\\x8f\\x99ȡ\\x9a\\x03\\x80\\x9aÖ\\x99ȡ\\x8f\\x03]\\x9bȯ\\x9bȣ\\x03\\x98\\x8f\\x91ȡ\\x9a\\x03\\x99ȡ\\x91ȣ\\n\\\\ȲǓ\\x8f\\x98\\x03\\x98\\x8f\\x91ȡ\\x9a\\x03\\x99ȡ\\x91ȣ\\nĤȡǾ\\x94\\x03\\x98\\x8f\\x91ȡ\\x9a\\x03\\x99ȡ\\x91ȣ\\x03\\r\\x03\\x94Ǖ\\x9a\\x9d\\x8eȢ\\x03\\nC\\x0b\\x03\\r\\x03\\n\\x94Ǖ\\x9a\\x9d\\x8eȢ\\x03\\nD\\nǔ\\x87ãé\\x99ȡ\\x85ȯ\\x03\\x93ȡ\\x9d\\x1c\\x03\\x03\\\\¡\\x98\\x91\\x93\\x82\\x9a\\n\\x97ȡ\\x82\\x03Đ\\x98ȡȲ\\x80\\x1c\\x03\\x03\\x16\\x1b\\n\\\\¡[\\x8fȡ\\x03Ǒ\\x91\\x93ȡȲ\\x80\\x03\\x1c\\x03\\nBC\\x0fCC\\x0fDBDE\\n\\\\ȲǓ\\x8f\\x98\\x03\\x98\\x8f\\x91ȡ\\x9a\\x03\\x99ȡ\\x91ȣ\\x03Ĥͧ\\xa0ƨȢ\\x85ȡ\\nǑ\\x91\\x93ȡȲ\\x80\\x03\\x1c\\x03\\nEB\\x0fCD\\x0fDBDE\\n'"
      ]
     },
     "execution_count": 24,
     "metadata": {},
     "output_type": "execute_result"
    }
   ],
   "source": [
    "page_one_text"
   ]
  },
  {
   "cell_type": "code",
   "execution_count": null,
   "id": "21cd701f-490d-4f16-9159-72f13a1c2143",
   "metadata": {},
   "outputs": [],
   "source": []
  }
 ],
 "metadata": {
  "kernelspec": {
   "display_name": "Python 3 (ipykernel)",
   "language": "python",
   "name": "python3"
  },
  "language_info": {
   "codemirror_mode": {
    "name": "ipython",
    "version": 3
   },
   "file_extension": ".py",
   "mimetype": "text/x-python",
   "name": "python",
   "nbconvert_exporter": "python",
   "pygments_lexer": "ipython3",
   "version": "3.11.4"
  }
 },
 "nbformat": 4,
 "nbformat_minor": 5
}
