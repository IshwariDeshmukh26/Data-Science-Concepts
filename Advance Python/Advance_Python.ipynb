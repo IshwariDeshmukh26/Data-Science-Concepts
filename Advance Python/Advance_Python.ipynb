{
 "cells": [
  {
   "cell_type": "markdown",
   "id": "6803f933-f85d-4b51-b3e5-7e7245f6b1ad",
   "metadata": {},
   "source": [
    "## Decorators"
   ]
  },
  {
   "cell_type": "markdown",
   "id": "323f6056-9f19-4a64-bdba-b241a9131192",
   "metadata": {},
   "source": [
    "A decorator is a function that modifies the behavior of another function without changing its source code.\n",
    "\n"
   ]
  },
  {
   "cell_type": "markdown",
   "id": "b2686a64-e481-49ff-8dc0-43e147057d21",
   "metadata": {},
   "source": [
    "#### pre- requisite to decorators"
   ]
  },
  {
   "cell_type": "code",
   "execution_count": 2,
   "id": "78d78fe7-5b33-4c25-af84-dd8dbd04f76f",
   "metadata": {},
   "outputs": [
    {
     "data": {
      "text/plain": [
       "6"
      ]
     },
     "execution_count": 2,
     "metadata": {},
     "output_type": "execute_result"
    }
   ],
   "source": [
    "def plus_one(number):\n",
    "    number1 = number + 1\n",
    "    return number1\n",
    "plus_one(5)"
   ]
  },
  {
   "cell_type": "markdown",
   "id": "3c4e0fa5-4af8-47f8-b61a-c2549706ce41",
   "metadata": {},
   "source": [
    "#### Defining Functions Inside other function"
   ]
  },
  {
   "cell_type": "code",
   "execution_count": 3,
   "id": "ac4c4dff-b8b1-44f1-a4cc-dcf5e969d437",
   "metadata": {},
   "outputs": [
    {
     "data": {
      "text/plain": [
       "6"
      ]
     },
     "execution_count": 3,
     "metadata": {},
     "output_type": "execute_result"
    }
   ],
   "source": [
    "def plus_one(number):\n",
    "    \n",
    "    def add_one(number):\n",
    "        number1 = number + 1\n",
    "        return number1\n",
    "\n",
    "    result = add_one(number)\n",
    "    return result\n",
    "\n",
    "plus_one(5)"
   ]
  },
  {
   "cell_type": "markdown",
   "id": "4d5be4f0-df7d-4979-8eaf-58d9c6ddaeab",
   "metadata": {},
   "source": [
    "#### Passing function as Argument to other function"
   ]
  },
  {
   "cell_type": "code",
   "execution_count": 5,
   "id": "f83f7c02-6a35-4e43-849d-adb785ad25d3",
   "metadata": {},
   "outputs": [
    {
     "data": {
      "text/plain": [
       "6"
      ]
     },
     "execution_count": 5,
     "metadata": {},
     "output_type": "execute_result"
    }
   ],
   "source": [
    "def plus_one(number):\n",
    "    result1 = number + 1\n",
    "    return result1\n",
    "\n",
    "def function_call(function):\n",
    "    result = function(5)\n",
    "    return result\n",
    "\n",
    "function_call(plus_one)"
   ]
  },
  {
   "cell_type": "markdown",
   "id": "5998669d-1d37-4bc8-87a7-5374b4ca159e",
   "metadata": {},
   "source": [
    "#### Function Returning other function"
   ]
  },
  {
   "cell_type": "code",
   "execution_count": 1,
   "id": "a59d6f92-adb5-4fb6-a162-c4600b0669f8",
   "metadata": {},
   "outputs": [
    {
     "data": {
      "text/plain": [
       "'Hi'"
      ]
     },
     "execution_count": 1,
     "metadata": {},
     "output_type": "execute_result"
    }
   ],
   "source": [
    "def hello_function():\n",
    "    def say_hi():\n",
    "        return \"Hi\"\n",
    "    return say_hi \n",
    "#hello_function()\n",
    "hello = hello_function()\n",
    "hello()\n",
    "#Always remember when you call hello_function()\n",
    "#directly then it will display object not hi\n",
    "#therefore you need to assign it to hello first\n",
    "#then call hello() function"
   ]
  },
  {
   "cell_type": "code",
   "execution_count": 2,
   "id": "d01a48e9-eb3f-4432-b1cf-93426fd0fc8d",
   "metadata": {},
   "outputs": [
    {
     "data": {
      "text/plain": [
       "'HELLO THERE'"
      ]
     },
     "execution_count": 2,
     "metadata": {},
     "output_type": "execute_result"
    }
   ],
   "source": [
    "#that takes in a function and return it by adding some functionality\n",
    "def say_hi():\n",
    "    return 'Hello There'\n",
    "\n",
    "def uppercase_decorator(function):\n",
    "    def wrapper():\n",
    "        func = function()\n",
    "        make_uppercase = func.upper()\n",
    "        return make_uppercase\n",
    "    return wrapper \n",
    "\n",
    "decorate = uppercase_decorator(say_hi)\n",
    "decorate()\n",
    "\n",
    " "
   ]
  },
  {
   "cell_type": "markdown",
   "id": "f6ef00f3-86d4-4eb6-822a-043a022118c7",
   "metadata": {},
   "source": [
    "However Python provides a much easier way for us to apply decorators. We simply use the @ symbol before the function we'd like to decorate"
   ]
  },
  {
   "cell_type": "code",
   "execution_count": 3,
   "id": "97e4f96d-9a68-47a6-a649-81f6c44ef8c5",
   "metadata": {},
   "outputs": [
    {
     "data": {
      "text/plain": [
       "'HELLO THERE'"
      ]
     },
     "execution_count": 3,
     "metadata": {},
     "output_type": "execute_result"
    }
   ],
   "source": [
    "def uppercase_decorator(function):\n",
    "    def wrapper():\n",
    "        func = function()\n",
    "        make_uppercase = func.upper()\n",
    "        return make_uppercase\n",
    "    return wrapper \n",
    "\n",
    "@uppercase_decorator\n",
    "def say_hi():\n",
    "    return 'Hello There'\n",
    "say_hi()"
   ]
  },
  {
   "cell_type": "markdown",
   "id": "3b08e1d8-d129-4b2a-968c-3d5f9df26829",
   "metadata": {},
   "source": [
    "#### Apply multiple Decorators that we've called them"
   ]
  },
  {
   "cell_type": "code",
   "execution_count": 4,
   "id": "50d33090-e159-416c-8e5b-a951286bf05e",
   "metadata": {},
   "outputs": [
    {
     "data": {
      "text/plain": [
       "['HELLO', 'THERE']"
      ]
     },
     "execution_count": 4,
     "metadata": {},
     "output_type": "execute_result"
    }
   ],
   "source": [
    "# Applying Multiple Decorators\n",
    "# that we've called them\n",
    "\n",
    "def split_string(function):\n",
    "    def wrapper():\n",
    "        func = function()\n",
    "        spliting_string = func.split()\n",
    "        return spliting_string \n",
    "    return wrapper\n",
    "\n",
    "def uppercase(function):\n",
    "    def wrapper():\n",
    "        func = function()\n",
    "        uppercase_str= func.upper()\n",
    "        return uppercase_str\n",
    "    return wrapper\n",
    "\n",
    "@split_string \n",
    "@uppercase\n",
    "@uppercase\n",
    "def say_hi():\n",
    "    return 'Hello There'\n",
    "say_hi()\n"
   ]
  },
  {
   "cell_type": "code",
   "execution_count": 5,
   "id": "a6c798e4-5d33-45e6-bcff-e045499794b0",
   "metadata": {},
   "outputs": [
    {
     "name": "stdout",
     "output_type": "stream",
     "text": [
      "calc_squaretook71.80953025817871mil sec\n",
      "calc_cubetook100.72755813598633mil sec\n"
     ]
    }
   ],
   "source": [
    "import time\n",
    "def time_it(func):\n",
    "    #this is a decorator function that takes another function as argument\n",
    "    \n",
    "    def wrapper(*args, **kwargs):\n",
    "        #*args and **kwargs allow wrapper\n",
    "        #to accept any number of positional and keyword\n",
    "        start = time.time()\n",
    "        result = func(*args, **kwargs)\n",
    "        \n",
    "        #Calls the orignal function (func)\n",
    "        #with the provided arguments\n",
    "        \n",
    "        end = time.time()\n",
    "        print(func.__name__+\"took\"+str((end-start)*1000) + \"mil sec\")\n",
    "        return result\n",
    "    return wrapper\n",
    "\n",
    "@time_it \n",
    "def calc_square(numbers):\n",
    "    result = []\n",
    "    for number in numbers:\n",
    "        result.append(number*number)\n",
    "    return result\n",
    "\n",
    "@time_it \n",
    "def calc_cube(numbers):\n",
    "    result = []\n",
    "    for number in numbers:\n",
    "        result.append(number*number*number)\n",
    "    return result\n",
    "\n",
    "array = range(1,100000)\n",
    "\n",
    "out_square = calc_square(array)\n",
    "out_cube = calc_cube(array)"
   ]
  },
  {
   "cell_type": "markdown",
   "id": "8e4a4236-cab8-4196-8c4b-bb6bc16ce526",
   "metadata": {},
   "source": [
    "#### Automarically logs function calls and their arguements"
   ]
  },
  {
   "cell_type": "code",
   "execution_count": 7,
   "id": "76ea93ed-fba5-44f9-b404-c17c931cec86",
   "metadata": {},
   "outputs": [
    {
     "name": "stdout",
     "output_type": "stream",
     "text": [
      "Calling add with (3, 4) {}\n",
      "7\n"
     ]
    }
   ],
   "source": [
    "def log_decorator(func):\n",
    "    def wrapper(*args, **kwargs):\n",
    "        print(f\"Calling {func.__name__} with {args} {kwargs}\")\n",
    "        return func(*args, **kwargs)\n",
    "    return wrapper\n",
    "\n",
    "@log_decorator\n",
    "def add(a, b):\n",
    "    return a + b\n",
    "\n",
    "print(add(3, 4))\n"
   ]
  },
  {
   "cell_type": "markdown",
   "id": "73a17776-6b39-41a0-8637-9c62d8b5c14a",
   "metadata": {},
   "source": [
    "#### Access Control / Authentication"
   ]
  },
  {
   "cell_type": "markdown",
   "id": "5da837d1-8cb7-4832-956e-0063c4af4eca",
   "metadata": {},
   "source": [
    "Check if a user is authentication before executing a function"
   ]
  },
  {
   "cell_type": "code",
   "execution_count": 1,
   "id": "513eb28b-19b0-4014-bae5-ac391842a147",
   "metadata": {},
   "outputs": [
    {
     "name": "stdout",
     "output_type": "stream",
     "text": [
      "Welcome Alice!\n",
      "Access Denied\n"
     ]
    }
   ],
   "source": [
    "def auth_required(func):\n",
    "    def wrapper(user):\n",
    "        if not user.get(\"authenticated\", False):\n",
    "            #the .get(\"authenticated\",False) method\n",
    "            #is used to safety retrieve the value of\n",
    "            #the \"authenticated\" key from the\n",
    "            #dictionary.\n",
    "            print(\"Access Denied\")\n",
    "            return\n",
    "        return func(user) \n",
    "    return wrapper \n",
    "\n",
    "@auth_required\n",
    "def dashboard(user):\n",
    "    print(f\"Welcome {user['name']}!\")\n",
    "user1 = {\"name\": \"Alice\", \"authenticated\": True}\n",
    "user2 = {\"name\": \"Bob\", \"authenticated\": False}\n",
    "dashboard(user1)  # Expected: \"Welcome Alice!\"\n",
    "dashboard(user2)  # Expected: \"Access Denied\""
   ]
  },
  {
   "cell_type": "markdown",
   "id": "15a3636d-0780-46fa-b3ff-bdbf7347f20b",
   "metadata": {},
   "source": [
    "#### Input  validation"
   ]
  },
  {
   "cell_type": "code",
   "execution_count": 2,
   "id": "5b2e1520-b3a3-4dd2-a023-86ecf60cbf9b",
   "metadata": {},
   "outputs": [
    {
     "name": "stdout",
     "output_type": "stream",
     "text": [
      "2.0\n"
     ]
    },
    {
     "ename": "ValueError",
     "evalue": "Negative value not allowed",
     "output_type": "error",
     "traceback": [
      "\u001b[1;31m---------------------------------------------------------------------------\u001b[0m",
      "\u001b[1;31mValueError\u001b[0m                                Traceback (most recent call last)",
      "Cell \u001b[1;32mIn[2], line 14\u001b[0m\n\u001b[0;32m     11\u001b[0m     \u001b[38;5;28;01mreturn\u001b[39;00m x\u001b[38;5;241m*\u001b[39m\u001b[38;5;241m*\u001b[39m\u001b[38;5;241m0.5\u001b[39m\n\u001b[0;32m     13\u001b[0m \u001b[38;5;28mprint\u001b[39m(square_root(\u001b[38;5;241m4\u001b[39m)) \u001b[38;5;66;03m# Works fine\u001b[39;00m\n\u001b[1;32m---> 14\u001b[0m \u001b[38;5;28mprint\u001b[39m(square_root(\u001b[38;5;241m-\u001b[39m\u001b[38;5;241m4\u001b[39m))\n",
      "Cell \u001b[1;32mIn[2], line 5\u001b[0m, in \u001b[0;36mvalidate_positive.<locals>.wrapper\u001b[1;34m(x)\u001b[0m\n\u001b[0;32m      3\u001b[0m \u001b[38;5;28;01mdef\u001b[39;00m \u001b[38;5;21mwrapper\u001b[39m(x):\n\u001b[0;32m      4\u001b[0m     \u001b[38;5;28;01mif\u001b[39;00m x \u001b[38;5;241m<\u001b[39m \u001b[38;5;241m0\u001b[39m:\n\u001b[1;32m----> 5\u001b[0m         \u001b[38;5;28;01mraise\u001b[39;00m \u001b[38;5;167;01mValueError\u001b[39;00m(\u001b[38;5;124m\"\u001b[39m\u001b[38;5;124mNegative value not allowed\u001b[39m\u001b[38;5;124m\"\u001b[39m)\n\u001b[0;32m      6\u001b[0m     \u001b[38;5;28;01mreturn\u001b[39;00m func(x)\n",
      "\u001b[1;31mValueError\u001b[0m: Negative value not allowed"
     ]
    }
   ],
   "source": [
    "#Ensures input meet certain criteria before executing\n",
    "def validate_positive(func):\n",
    "    def wrapper(x):\n",
    "        if x < 0:\n",
    "            raise ValueError(\"Negative value not allowed\")\n",
    "        return func(x)\n",
    "    return wrapper \n",
    "\n",
    "@validate_positive \n",
    "def square_root(x):\n",
    "    return x**0.5\n",
    "    \n",
    "print(square_root(4)) # Works fine\n",
    "print(square_root(-4)) #Error ValueError: Negative value not allowed"
   ]
  },
  {
   "cell_type": "code",
   "execution_count": 3,
   "id": "d2b3cac7-2534-4a75-bba5-267cb6c20a27",
   "metadata": {},
   "outputs": [],
   "source": [
    "import time\n",
    "\n",
    "def rate_limiter(max_calls,time_frame):\n",
    "    calls = []\n",
    "    \n",
    "    def decorator(func):\n",
    "        def wrapper(*args , **kwargs):\n",
    "            now = time.time()\n",
    "            while calls and now - calls[0] >time_frame:\n",
    "                calls.pop(0)\n",
    "                \n",
    "            if len(calls) >= max_calls:\n",
    "                print(\"Rate limit exceeded. Try again later!!\")\n",
    "                return\n",
    "            \n",
    "            calls.append(now)\n",
    "            return func(*args,**kwargs)\n",
    "        return wrapper \n",
    "    return decorator"
   ]
  },
  {
   "cell_type": "markdown",
   "id": "f4947312-19a0-4aa6-8b1a-368409e9586a",
   "metadata": {},
   "source": [
    "Condition: while calls and now - calls[0] > time_frame\n",
    "\n",
    "calls is a list that stores timestamps of previous function calls\n",
    "\n",
    "calls[0] represents the oldest function call in the list.\n",
    "\n",
    "now is the current time when the function is being called\n",
    "\n",
    "now - calls[0] computes how long ago the oldest call occured.\n",
    "\n",
    "If that time exceed it"
   ]
  },
  {
   "cell_type": "code",
   "execution_count": 4,
   "id": "30401e69-162f-426a-a340-e5e429198942",
   "metadata": {},
   "outputs": [
    {
     "name": "stdout",
     "output_type": "stream",
     "text": [
      "Hello\n",
      "Hello\n",
      "Hello\n",
      "Rate limit exceeded. Try again later!!\n"
     ]
    }
   ],
   "source": [
    "@rate_limiter(3,10) #Max 3 in 10 second\n",
    "\n",
    "def say_hii():\n",
    "    print(\"Hello\")\n",
    "    \n",
    "say_hii()\n",
    "say_hii()\n",
    "say_hii()\n",
    "say_hii()   #this call will be rate-limited \n"
   ]
  },
  {
   "cell_type": "code",
   "execution_count": null,
   "id": "3c2133cb-330e-4391-a30c-e6817b21dc3a",
   "metadata": {},
   "outputs": [],
   "source": []
  }
 ],
 "metadata": {
  "kernelspec": {
   "display_name": "Python 3 (ipykernel)",
   "language": "python",
   "name": "python3"
  },
  "language_info": {
   "codemirror_mode": {
    "name": "ipython",
    "version": 3
   },
   "file_extension": ".py",
   "mimetype": "text/x-python",
   "name": "python",
   "nbconvert_exporter": "python",
   "pygments_lexer": "ipython3",
   "version": "3.12.7"
  }
 },
 "nbformat": 4,
 "nbformat_minor": 5
}
