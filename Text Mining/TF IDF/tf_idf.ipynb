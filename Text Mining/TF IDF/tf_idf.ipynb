{
 "cells": [
  {
   "cell_type": "code",
   "execution_count": 1,
   "id": "7551a429-1adf-4bd2-9cce-bb4d68c6730d",
   "metadata": {},
   "outputs": [],
   "source": [
    "from sklearn.feature_extraction.text import TfidfVectorizer\n",
    "# Define the corpus.\n",
    "corpus = {\n",
    "    \"Thor eating pizza,Lokki is eating pizzza,Ironmam ate pizza already\",\n",
    "    \"Apple is announcing new iphone tomorrow\",\n",
    "    \"Tesla is announcing model-3 tomorrow\",\n",
    "    \"Google is announcing new pixel-6 tomorrow\",\n",
    "    \"Amazon is announcing new eco-dot tomorrow\",\n",
    "    \"I am eating birayani and you are eating graphes\"\n",
    "}"
   ]
  },
  {
   "cell_type": "code",
   "execution_count": 2,
   "id": "a763a22c-2745-4b09-827f-85b875c335e2",
   "metadata": {},
   "outputs": [],
   "source": [
    "#Lets create the vectorizer and fit the corpus and transform them accordingly\n",
    "# Initialize the TfidfVectorizer\n",
    "v = TfidfVectorizer()\n",
    "# Fit and transform the corpus\n",
    "##transform_output =v.fit_transform(corpus)-->we can use fit_transform() instead of calling fit() and transform() separately.\n",
    "v.fit(corpus)\n",
    "transform_output = v.transform(corpus)"
   ]
  },
  {
   "cell_type": "code",
   "execution_count": 3,
   "id": "c8dbe683-76b4-496a-8927-ca4810b4f0b4",
   "metadata": {},
   "outputs": [
    {
     "name": "stdout",
     "output_type": "stream",
     "text": [
      "{'thor': 24, 'eating': 10, 'pizza': 21, 'lokki': 17, 'is': 16, 'pizzza': 22, 'ironmam': 15, 'ate': 7, 'already': 0, 'am': 1, 'birayani': 8, 'and': 3, 'you': 26, 'are': 6, 'graphes': 13, 'tesla': 23, 'announcing': 4, 'model': 18, 'tomorrow': 25, 'amazon': 2, 'new': 19, 'eco': 11, 'dot': 9, 'google': 12, 'pixel': 20, 'apple': 5, 'iphone': 14}\n"
     ]
    }
   ],
   "source": [
    "#Lets print the vocabulary(word: index)\n",
    "print(v.vocabulary_)\n"
   ]
  },
  {
   "cell_type": "code",
   "execution_count": 4,
   "id": "37893a61-87d9-476e-a8e3-aea716739196",
   "metadata": {},
   "outputs": [
    {
     "name": "stdout",
     "output_type": "stream",
     "text": [
      "already:2.252762968495368\n",
      "am:2.252762968495368\n",
      "amazon:2.252762968495368\n",
      "and:2.252762968495368\n",
      "announcing:1.336472236621213\n",
      "apple:2.252762968495368\n",
      "are:2.252762968495368\n",
      "ate:2.252762968495368\n",
      "birayani:2.252762968495368\n",
      "dot:2.252762968495368\n",
      "eating:1.8472978603872037\n",
      "eco:2.252762968495368\n",
      "google:2.252762968495368\n",
      "graphes:2.252762968495368\n",
      "iphone:2.252762968495368\n",
      "ironmam:2.252762968495368\n",
      "is:1.1541506798272583\n",
      "lokki:2.252762968495368\n",
      "model:2.252762968495368\n",
      "new:1.5596157879354227\n",
      "pixel:2.252762968495368\n",
      "pizza:2.252762968495368\n",
      "pizzza:2.252762968495368\n",
      "tesla:2.252762968495368\n",
      "thor:2.252762968495368\n",
      "tomorrow:1.336472236621213\n",
      "you:2.252762968495368\n"
     ]
    }
   ],
   "source": [
    "#Lets print the idf of each word\n",
    "\n",
    "#get all features names\n",
    "all_feature_names = v.get_feature_names_out()\n",
    "\n",
    "# Print IDF scores for each feature\n",
    "for word in all_feature_names:\n",
    "    #Lets get the index in vocabulary\n",
    "    indx = v.vocabulary_.get(word)\n",
    "    #get the IDF score\n",
    "    idf_score = v.idf_[indx]\n",
    "    print(f\"{word}:{idf_score}\")"
   ]
  },
  {
   "cell_type": "code",
   "execution_count": 5,
   "id": "8ca0f8cb-a24d-4771-b2a6-086f2147167e",
   "metadata": {},
   "outputs": [
    {
     "name": "stdout",
     "output_type": "stream",
     "text": [
      "(24000, 2)\n"
     ]
    },
    {
     "data": {
      "text/html": [
       "<div>\n",
       "<style scoped>\n",
       "    .dataframe tbody tr th:only-of-type {\n",
       "        vertical-align: middle;\n",
       "    }\n",
       "\n",
       "    .dataframe tbody tr th {\n",
       "        vertical-align: top;\n",
       "    }\n",
       "\n",
       "    .dataframe thead th {\n",
       "        text-align: right;\n",
       "    }\n",
       "</style>\n",
       "<table border=\"1\" class=\"dataframe\">\n",
       "  <thead>\n",
       "    <tr style=\"text-align: right;\">\n",
       "      <th></th>\n",
       "      <th>Text</th>\n",
       "      <th>label</th>\n",
       "    </tr>\n",
       "  </thead>\n",
       "  <tbody>\n",
       "    <tr>\n",
       "      <th>0</th>\n",
       "      <td>Urban Ladder Eisner Low Back Study-Office Comp...</td>\n",
       "      <td>Household</td>\n",
       "    </tr>\n",
       "    <tr>\n",
       "      <th>1</th>\n",
       "      <td>Contrast living Wooden Decorative Box,Painted ...</td>\n",
       "      <td>Household</td>\n",
       "    </tr>\n",
       "    <tr>\n",
       "      <th>2</th>\n",
       "      <td>IO Crest SY-PCI40010 PCI RAID Host Controller ...</td>\n",
       "      <td>Electronics</td>\n",
       "    </tr>\n",
       "    <tr>\n",
       "      <th>3</th>\n",
       "      <td>ISAKAA Baby Socks from Just Born to 8 Years- P...</td>\n",
       "      <td>Clothing &amp; Accessories</td>\n",
       "    </tr>\n",
       "    <tr>\n",
       "      <th>4</th>\n",
       "      <td>Indira Designer Women's Art Mysore Silk Saree ...</td>\n",
       "      <td>Clothing &amp; Accessories</td>\n",
       "    </tr>\n",
       "  </tbody>\n",
       "</table>\n",
       "</div>"
      ],
      "text/plain": [
       "                                                Text                   label\n",
       "0  Urban Ladder Eisner Low Back Study-Office Comp...               Household\n",
       "1  Contrast living Wooden Decorative Box,Painted ...               Household\n",
       "2  IO Crest SY-PCI40010 PCI RAID Host Controller ...             Electronics\n",
       "3  ISAKAA Baby Socks from Just Born to 8 Years- P...  Clothing & Accessories\n",
       "4  Indira Designer Women's Art Mysore Silk Saree ...  Clothing & Accessories"
      ]
     },
     "execution_count": 5,
     "metadata": {},
     "output_type": "execute_result"
    }
   ],
   "source": [
    "import pandas as pd\n",
    "\n",
    "#read the data into a pandas dataframe\n",
    "df = pd.read_csv(\"C:/8-text_mining/text_mining/Ecommerce_data.csv\")\n",
    "print(df.shape)##---->This prints the shape of the DataFrame, which shows the number of rows and columns.\n",
    "\n",
    "df.head(5)##----->This prints the first 5 rows of the DataFrame for a quick overview of the data(text,label).\n"
   ]
  },
  {
   "cell_type": "code",
   "execution_count": 6,
   "id": "b7048670-14bc-4f21-9812-2e6f8e18e172",
   "metadata": {},
   "outputs": [
    {
     "data": {
      "text/plain": [
       "label\n",
       "Household                 6000\n",
       "Electronics               6000\n",
       "Clothing & Accessories    6000\n",
       "Books                     6000\n",
       "Name: count, dtype: int64"
      ]
     },
     "execution_count": 6,
     "metadata": {},
     "output_type": "execute_result"
    }
   ],
   "source": [
    "#Check the distribution of labesls\n",
    "df[\"label\"].value_counts()"
   ]
  },
  {
   "cell_type": "code",
   "execution_count": 7,
   "id": "87a66df1-519c-40b4-8368-bafb06195d3e",
   "metadata": {},
   "outputs": [],
   "source": [
    " #balanced data and imbalance data\n",
    "#we can see that there are equal no.of times and perfectly almost all labels occurred\n",
    "#There is no problem of class imbalnace and hence no need to apply balancing technique\n",
    "#Add the new column which gives a unique number to each of these labels\n"
   ]
  },
  {
   "cell_type": "code",
   "execution_count": 8,
   "id": "00426ba2-117c-46f4-9e7f-715257f56d69",
   "metadata": {},
   "outputs": [
    {
     "data": {
      "text/html": [
       "<div>\n",
       "<style scoped>\n",
       "    .dataframe tbody tr th:only-of-type {\n",
       "        vertical-align: middle;\n",
       "    }\n",
       "\n",
       "    .dataframe tbody tr th {\n",
       "        vertical-align: top;\n",
       "    }\n",
       "\n",
       "    .dataframe thead th {\n",
       "        text-align: right;\n",
       "    }\n",
       "</style>\n",
       "<table border=\"1\" class=\"dataframe\">\n",
       "  <thead>\n",
       "    <tr style=\"text-align: right;\">\n",
       "      <th></th>\n",
       "      <th>Text</th>\n",
       "      <th>label</th>\n",
       "      <th>label_num</th>\n",
       "    </tr>\n",
       "  </thead>\n",
       "  <tbody>\n",
       "    <tr>\n",
       "      <th>0</th>\n",
       "      <td>Urban Ladder Eisner Low Back Study-Office Comp...</td>\n",
       "      <td>Household</td>\n",
       "      <td>0</td>\n",
       "    </tr>\n",
       "    <tr>\n",
       "      <th>1</th>\n",
       "      <td>Contrast living Wooden Decorative Box,Painted ...</td>\n",
       "      <td>Household</td>\n",
       "      <td>0</td>\n",
       "    </tr>\n",
       "    <tr>\n",
       "      <th>2</th>\n",
       "      <td>IO Crest SY-PCI40010 PCI RAID Host Controller ...</td>\n",
       "      <td>Electronics</td>\n",
       "      <td>2</td>\n",
       "    </tr>\n",
       "    <tr>\n",
       "      <th>3</th>\n",
       "      <td>ISAKAA Baby Socks from Just Born to 8 Years- P...</td>\n",
       "      <td>Clothing &amp; Accessories</td>\n",
       "      <td>3</td>\n",
       "    </tr>\n",
       "    <tr>\n",
       "      <th>4</th>\n",
       "      <td>Indira Designer Women's Art Mysore Silk Saree ...</td>\n",
       "      <td>Clothing &amp; Accessories</td>\n",
       "      <td>3</td>\n",
       "    </tr>\n",
       "  </tbody>\n",
       "</table>\n",
       "</div>"
      ],
      "text/plain": [
       "                                                Text                   label  \\\n",
       "0  Urban Ladder Eisner Low Back Study-Office Comp...               Household   \n",
       "1  Contrast living Wooden Decorative Box,Painted ...               Household   \n",
       "2  IO Crest SY-PCI40010 PCI RAID Host Controller ...             Electronics   \n",
       "3  ISAKAA Baby Socks from Just Born to 8 Years- P...  Clothing & Accessories   \n",
       "4  Indira Designer Women's Art Mysore Silk Saree ...  Clothing & Accessories   \n",
       "\n",
       "   label_num  \n",
       "0          0  \n",
       "1          0  \n",
       "2          2  \n",
       "3          3  \n",
       "4          3  "
      ]
     },
     "execution_count": 8,
     "metadata": {},
     "output_type": "execute_result"
    }
   ],
   "source": [
    "#Add the new column antch gives a unique number to such of these Labels\n",
    "\n",
    "# Define the label mapping\n",
    "label_mapping = {\n",
    "    'Household': 0,\n",
    "    'Books': 1,\n",
    "    'Electronics': 2,\n",
    "    'Clothing & Accessories': 3  # Adjusted to match the exact label names\n",
    "}\n",
    "\n",
    "# Map the labels to numeric values\n",
    "df['label_num'] = df['label'].map(label_mapping)\n",
    "\n",
    "# Display the first 5 rows of the DataFrame to confirm mapping\n",
    "df.head(5)"
   ]
  },
  {
   "cell_type": "markdown",
   "id": "9d716862-c08b-4180-a6ef-be7290194924",
   "metadata": {},
   "source": [
    "## Train test split"
   ]
  },
  {
   "cell_type": "code",
   "execution_count": 9,
   "id": "59f08dcc-87aa-40f4-8714-fb6e2edf9599",
   "metadata": {},
   "outputs": [],
   "source": [
    "from sklearn.model_selection import train_test_split\n",
    "\n",
    "# Split the data into training and testing sets\n",
    "X_train,X_test,y_train,y_test = train_test_split(\n",
    "  df.Text,               # Features (text data)\n",
    "  df.label_num,          # Target labels (numeric)\n",
    "  test_size = 0.2,       # 20% of the data will be used for testing\n",
    "  random_state=2022,     # Seed for reproducibility\n",
    "  stratify=df.label_num  # Maintain the proportion of each label in train and test sets\n",
    "\n",
    ")"
   ]
  },
  {
   "cell_type": "code",
   "execution_count": 10,
   "id": "3f4b9f80-b3b3-4177-993a-18d0d9de2939",
   "metadata": {},
   "outputs": [
    {
     "name": "stdout",
     "output_type": "stream",
     "text": [
      "Shape of X_train: (19200,)\n",
      "Shape of X_test: (4800,)\n"
     ]
    }
   ],
   "source": [
    "print(\"Shape of X_train:\",X_train.shape)\n",
    "print(\"Shape of X_test:\",X_test.shape)"
   ]
  },
  {
   "cell_type": "code",
   "execution_count": 11,
   "id": "9635c22c-6a7a-4d98-a947-24239e70e3c3",
   "metadata": {},
   "outputs": [
    {
     "data": {
      "text/plain": [
       "15820    IRIS Furniture Children Deluxe Spiderman Toddl...\n",
       "23224    Godox CB-09 Hard Carrying Storage Suitcase Car...\n",
       "4638     Ugreen All in 1 USB 3.0 Card Reader USB Memory...\n",
       "15245    Spread Spain Metallic Gold Bar Trolley/Kitchen...\n",
       "5378     Chromozome Men's Calf Socks (Pack of 3) (SX-3 ...\n",
       "Name: Text, dtype: object"
      ]
     },
     "execution_count": 11,
     "metadata": {},
     "output_type": "execute_result"
    }
   ],
   "source": [
    "X_train.head()"
   ]
  },
  {
   "cell_type": "code",
   "execution_count": 12,
   "id": "b4cca3a8-9a49-4932-91bb-eb67007071b4",
   "metadata": {},
   "outputs": [
    {
     "name": "stdout",
     "output_type": "stream",
     "text": [
      "              precision    recall  f1-score   support\n",
      "\n",
      "           0       0.95      0.96      0.95      1200\n",
      "           1       0.97      0.95      0.96      1200\n",
      "           2       0.97      0.97      0.97      1200\n",
      "           3       0.97      0.98      0.97      1200\n",
      "\n",
      "    accuracy                           0.96      4800\n",
      "   macro avg       0.96      0.96      0.96      4800\n",
      "weighted avg       0.96      0.96      0.96      4800\n",
      "\n"
     ]
    }
   ],
   "source": [
    "from sklearn.neighbors import KNeighborsClassifier\n",
    "from sklearn.pipeline import Pipeline\n",
    "from sklearn.metrics import classification_report\n",
    "\n",
    "#1. create a pipeline object\n",
    "clf = Pipeline([\n",
    "    ('vectorizer_tfidf',TfidfVectorizer()),\n",
    "    ('KNN',KNeighborsClassifier())\n",
    "])\n",
    "\n",
    "#2. fit with X_train and y_train\n",
    "clf.fit(X_train,y_train)\n",
    "\n",
    "#3. get the predictions for X_test and store it in y_pred\n",
    "y_pred = clf.predict(X_test)\n",
    "\n",
    "#4. print the claassification report\n",
    "print(classification_report(y_test,y_pred))"
   ]
  },
  {
   "cell_type": "code",
   "execution_count": 13,
   "id": "da970fb8-eb85-4974-ae19-b5dba7469484",
   "metadata": {},
   "outputs": [
    {
     "data": {
      "text/plain": [
       "20706    Lal Haveli Designer Handmade Patchwork Decorat...\n",
       "19166    GOTOTOP Classical Retro Cotton & PU Leather Ne...\n",
       "15209    FabSeasons Camouflage Polyester Multi Function...\n",
       "2462     Indian Superfoods: Change the Way You Eat Revi...\n",
       "6621     Milton Marvel Insulated Steel Casseroles, Juni...\n",
       "Name: Text, dtype: object"
      ]
     },
     "execution_count": 13,
     "metadata": {},
     "output_type": "execute_result"
    }
   ],
   "source": [
    "X_test[:5]"
   ]
  },
  {
   "cell_type": "code",
   "execution_count": 14,
   "id": "e4a746c3-4ccd-498b-b06b-cf5905fdce81",
   "metadata": {},
   "outputs": [
    {
     "data": {
      "text/plain": [
       "20706    0\n",
       "19166    2\n",
       "15209    3\n",
       "2462     1\n",
       "6621     3\n",
       "Name: label_num, dtype: int64"
      ]
     },
     "execution_count": 14,
     "metadata": {},
     "output_type": "execute_result"
    }
   ],
   "source": [
    "y_test[:5]"
   ]
  },
  {
   "cell_type": "code",
   "execution_count": 15,
   "id": "79abcd7a-3af5-40f2-9ff0-6ff8e6cfbe3d",
   "metadata": {},
   "outputs": [
    {
     "data": {
      "text/plain": [
       "array([0, 2, 3, 1, 0], dtype=int64)"
      ]
     },
     "execution_count": 15,
     "metadata": {},
     "output_type": "execute_result"
    }
   ],
   "source": [
    "y_pred[:5]"
   ]
  },
  {
   "cell_type": "markdown",
   "id": "6c496b32-7fe2-4e6c-8420-3fcabd1d2dda",
   "metadata": {},
   "source": [
    "##### Data acquisition-->TextExtraction & Cleanup-->Pre-Processing-->Feature Engineering-->Model Building-->Evaulation-->Deployment-->Moniter & Update"
   ]
  },
  {
   "cell_type": "code",
   "execution_count": null,
   "id": "82351ec3-a892-4e7c-8b52-7421d555f418",
   "metadata": {},
   "outputs": [],
   "source": []
  },
  {
   "cell_type": "code",
   "execution_count": null,
   "id": "51d55e85-3673-4e5c-9afb-a5bfdfc480ae",
   "metadata": {},
   "outputs": [],
   "source": []
  },
  {
   "cell_type": "code",
   "execution_count": null,
   "id": "8dc9f0ef-6635-4b8c-8921-a6f8ce64282c",
   "metadata": {},
   "outputs": [],
   "source": []
  }
 ],
 "metadata": {
  "kernelspec": {
   "display_name": "Python 3 (ipykernel)",
   "language": "python",
   "name": "python3"
  },
  "language_info": {
   "codemirror_mode": {
    "name": "ipython",
    "version": 3
   },
   "file_extension": ".py",
   "mimetype": "text/x-python",
   "name": "python",
   "nbconvert_exporter": "python",
   "pygments_lexer": "ipython3",
   "version": "3.11.4"
  }
 },
 "nbformat": 4,
 "nbformat_minor": 5
}
