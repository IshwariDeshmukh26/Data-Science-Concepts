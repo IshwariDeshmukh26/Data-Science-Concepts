{
 "cells": [
  {
   "cell_type": "code",
   "execution_count": 2,
   "id": "f6ab4c35-7f4b-418a-98d6-998e4dda5214",
   "metadata": {},
   "outputs": [
    {
     "ename": "ModuleNotFoundError",
     "evalue": "No module named 'validation'",
     "output_type": "error",
     "traceback": [
      "\u001b[1;31m---------------------------------------------------------------------------\u001b[0m",
      "\u001b[1;31mModuleNotFoundError\u001b[0m                       Traceback (most recent call last)",
      "Cell \u001b[1;32mIn[2], line 2\u001b[0m\n\u001b[0;32m      1\u001b[0m \u001b[38;5;66;03m#from ssalary import calculate_salary\u001b[39;00m\n\u001b[1;32m----> 2\u001b[0m \u001b[38;5;28;01mfrom\u001b[39;00m \u001b[38;5;21;01mvalidation\u001b[39;00m \u001b[38;5;28;01mimport\u001b[39;00m validate_experience, validate_role\n\u001b[0;32m      3\u001b[0m \u001b[38;5;28;01mfrom\u001b[39;00m \u001b[38;5;21;01mdisplay\u001b[39;00m \u001b[38;5;28;01mimport\u001b[39;00m display_salary\n\u001b[0;32m      5\u001b[0m \u001b[38;5;28;01mdef\u001b[39;00m \u001b[38;5;21mmain\u001b[39m():\n",
      "\u001b[1;31mModuleNotFoundError\u001b[0m: No module named 'validation'"
     ]
    }
   ],
   "source": [
    "#from ssalary import calculate_salary\n",
    "from validation import validate_experience, validate_role\n",
    "from display import display_salary\n",
    "\n",
    "def main():\n",
    "    try:\n",
    "        name=input(\"Enter employee name: \")\n",
    "        experience=int(input(\"Enter years of experience: \"))\n",
    "        role=input(\"Enter job role(Intern,Junior,Mid-Level,Senior,Manager)\")\n",
    "        \n",
    "        #Validate inputs\n",
    "        experience=validate_experience(experience)\n",
    "        role=validate_role(role)\n",
    "        \n",
    "        #Calculate salary\n",
    "        salary=calculate_salary(experience,role)\n",
    "        \n",
    "        #display\n",
    "        display_salary(name,experience,role,salary)\n",
    "        \n",
    "    except ValueError as e:\n",
    "        print(f\"Error(e)\")\n",
    "        "
   ]
  },
  {
   "cell_type": "code",
   "execution_count": null,
   "id": "6ca6dc2a-c1bd-4c2e-800a-59e46a5bbf4d",
   "metadata": {},
   "outputs": [],
   "source": []
  },
  {
   "cell_type": "code",
   "execution_count": null,
   "id": "52c95a75-e679-4579-9056-812db0b222f0",
   "metadata": {},
   "outputs": [],
   "source": []
  }
 ],
 "metadata": {
  "kernelspec": {
   "display_name": "Python 3 (ipykernel)",
   "language": "python",
   "name": "python3"
  },
  "language_info": {
   "codemirror_mode": {
    "name": "ipython",
    "version": 3
   },
   "file_extension": ".py",
   "mimetype": "text/x-python",
   "name": "python",
   "nbconvert_exporter": "python",
   "pygments_lexer": "ipython3",
   "version": "3.11.4"
  }
 },
 "nbformat": 4,
 "nbformat_minor": 5
}
