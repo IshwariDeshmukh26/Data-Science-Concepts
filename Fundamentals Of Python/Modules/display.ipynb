{
 "cells": [
  {
   "cell_type": "code",
   "execution_count": 1,
   "id": "644eb172-d20e-43e3-9cdb-f0518282ea3b",
   "metadata": {},
   "outputs": [],
   "source": [
    "def display_salary(name,experience,role,salary):\n",
    "    print(\"\\n== Salary Details ==\")\n",
    "    print(f\"Employee name: {name}\")\n",
    "    print(f\"Role: {role}\")\n",
    "    print(f\"Experience: {experience} years\")\n",
    "    print(f\"Calculated Salary: ${salary:,.2f}\")\n",
    "    print(\"============\")"
   ]
  },
  {
   "cell_type": "code",
   "execution_count": null,
   "id": "a8bab474-1a12-4909-acc0-138d8d8de575",
   "metadata": {},
   "outputs": [],
   "source": []
  }
 ],
 "metadata": {
  "kernelspec": {
   "display_name": "Python 3 (ipykernel)",
   "language": "python",
   "name": "python3"
  },
  "language_info": {
   "codemirror_mode": {
    "name": "ipython",
    "version": 3
   },
   "file_extension": ".py",
   "mimetype": "text/x-python",
   "name": "python",
   "nbconvert_exporter": "python",
   "pygments_lexer": "ipython3",
   "version": "3.11.4"
  }
 },
 "nbformat": 4,
 "nbformat_minor": 5
}
