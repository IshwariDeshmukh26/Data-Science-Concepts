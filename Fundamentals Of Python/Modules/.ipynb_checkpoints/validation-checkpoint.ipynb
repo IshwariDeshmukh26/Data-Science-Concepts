{
 "cells": [
  {
   "cell_type": "code",
   "execution_count": 1,
   "id": "8545030b-182a-4c45-9707-2973f3b834ae",
   "metadata": {},
   "outputs": [],
   "source": [
    "def validate_experience(exp):\n",
    "    '''Validate that experience is a non-negative integer'''\n",
    "    if not isinstance(exp,int) or exp <0:\n",
    "        raise ValueError(\"Experience must be a non-negative integer\")\n",
    "    return exp\n",
    "\n",
    "def validate_role(role):\n",
    "    '''Validate job role'''\n",
    "    valid_roles={\"Intern\",\"Junior\",\"Mid-Level\",\"Senior\",\"Manager\"}\n",
    "    if role not in valid_roles:\n",
    "        raise ValueError(f\"Invalide {role} Choose From {valid_roles}\")\n",
    "    return role "
   ]
  },
  {
   "cell_type": "code",
   "execution_count": null,
   "id": "6b56423c-6f28-4f42-aefe-621f078e6961",
   "metadata": {},
   "outputs": [],
   "source": []
  }
 ],
 "metadata": {
  "kernelspec": {
   "display_name": "Python 3 (ipykernel)",
   "language": "python",
   "name": "python3"
  },
  "language_info": {
   "codemirror_mode": {
    "name": "ipython",
    "version": 3
   },
   "file_extension": ".py",
   "mimetype": "text/x-python",
   "name": "python",
   "nbconvert_exporter": "python",
   "pygments_lexer": "ipython3",
   "version": "3.11.4"
  }
 },
 "nbformat": 4,
 "nbformat_minor": 5
}
