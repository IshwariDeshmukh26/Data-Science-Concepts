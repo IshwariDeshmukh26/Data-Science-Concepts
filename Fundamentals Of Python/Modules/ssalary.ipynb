{
 "cells": [
  {
   "cell_type": "code",
   "execution_count": 1,
   "id": "2fac4a40-dbbf-454b-89e5-b88c5ab19170",
   "metadata": {},
   "outputs": [],
   "source": [
    "def calculate_salary(experience, role):\n",
    "    '''Calculate salary based on experience and role'''\n",
    "    base_salary={\n",
    "        \"Intern\":30000,\n",
    "        \"Juinor\":50000,\n",
    "        \"Mid-Level\":80000,\n",
    "        \"Senior\":120000,\n",
    "        \"Manager\":150000\n",
    "        }\n",
    "\n",
    "    if role not in base_salary:\n",
    "        raise ValueError(\"Invalide job role\")\n",
    "        \n",
    "    return base_salary[role]+(experience*2000)  #Increment    \n",
    "    "
   ]
  },
  {
   "cell_type": "code",
   "execution_count": null,
   "id": "a80a374d-dc17-480f-b8f2-75a0c1ce8ec5",
   "metadata": {},
   "outputs": [],
   "source": []
  }
 ],
 "metadata": {
  "kernelspec": {
   "display_name": "Python 3 (ipykernel)",
   "language": "python",
   "name": "python3"
  },
  "language_info": {
   "codemirror_mode": {
    "name": "ipython",
    "version": 3
   },
   "file_extension": ".py",
   "mimetype": "text/x-python",
   "name": "python",
   "nbconvert_exporter": "python",
   "pygments_lexer": "ipython3",
   "version": "3.11.4"
  }
 },
 "nbformat": 4,
 "nbformat_minor": 5
}
