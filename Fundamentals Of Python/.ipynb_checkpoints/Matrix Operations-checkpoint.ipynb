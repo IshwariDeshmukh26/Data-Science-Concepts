{
 "cells": [
  {
   "cell_type": "markdown",
   "id": "c777fe3d-0ef8-45f9-91d2-1b69b6279ece",
   "metadata": {},
   "source": [
    "### Create matrix and print matrix"
   ]
  },
  {
   "cell_type": "code",
   "execution_count": 4,
   "id": "7f60ed90-0b06-4fc2-8f86-ef474871fa73",
   "metadata": {},
   "outputs": [
    {
     "name": "stdout",
     "output_type": "stream",
     "text": [
      "Rows: 3\n",
      "Columns: 3\n"
     ]
    }
   ],
   "source": [
    "### Create matrix and print matrix\n",
    "mat1 = [[1,2,3],\n",
    "        [4,5,6],\n",
    "        [7,8,9]\n",
    "       ]\n",
    "rows = len(mat1)\n",
    "columns = len(mat1[0])\n",
    "\n",
    "print(\"Rows:\",rows)\n",
    "print(\"Columns:\",columns)"
   ]
  },
  {
   "cell_type": "markdown",
   "id": "25f6cd73-76e5-434f-96c7-54f9ef8e3294",
   "metadata": {},
   "source": [
    "### matrix addition"
   ]
  },
  {
   "cell_type": "code",
   "execution_count": 5,
   "id": "ad056f40-846f-4603-b188-1fb4ef9bae25",
   "metadata": {},
   "outputs": [
    {
     "data": {
      "text/plain": [
       "[[2, 4, 6], [6, 8, 10], [13, 15, 17]]"
      ]
     },
     "execution_count": 5,
     "metadata": {},
     "output_type": "execute_result"
    }
   ],
   "source": [
    "mat1 = [[1,2,3],\n",
    "        [4,5,6],\n",
    "        [7,8,9]\n",
    "       ]\n",
    "mat2 = [[1,2,3],\n",
    "        [2,3,4],\n",
    "        [6,7,8]\n",
    "       ]\n",
    "result = [[0,0,0],\n",
    "          [0,0,0],\n",
    "          [0,0,0]\n",
    "         ]\n",
    "\n",
    "rows = len(mat1)\n",
    "cols = len(mat1[0])\n",
    "\n",
    "for i in range(rows):\n",
    "    for j in range(cols):\n",
    "        result[i][j] = mat1[i][j] + mat2 [i][j]\n",
    "result\n",
    "        "
   ]
  },
  {
   "cell_type": "markdown",
   "id": "6ff90fc5-66fd-4ac5-94da-f1942b368e0a",
   "metadata": {},
   "source": [
    "###  Print the Diagonal matrix"
   ]
  },
  {
   "cell_type": "code",
   "execution_count": 6,
   "id": "d41d3011-3d67-4875-957f-3eb902e9112b",
   "metadata": {},
   "outputs": [
    {
     "name": "stdout",
     "output_type": "stream",
     "text": [
      "1\n",
      "5\n",
      "9\n"
     ]
    }
   ],
   "source": [
    "mat1 = [[1,2,3,],[4,5,6],[7,8,9]]\n",
    "rows = len(mat1)\n",
    "cols = len(mat1[0])\n",
    "for i in range(rows):\n",
    "    for j in range(cols):\n",
    "        if i == j:\n",
    "            print(mat1[i][j])"
   ]
  },
  {
   "cell_type": "markdown",
   "id": "27c5d73f-6e65-4e91-8cb1-146eba294b62",
   "metadata": {},
   "source": [
    "### Check the matrix is sparse "
   ]
  },
  {
   "cell_type": "markdown",
   "id": "82324670-62ee-4629-a196-a35dac12aeb2",
   "metadata": {},
   "source": [
    "A sparse matrix is a matrix in which most of hte element are zero.If the number of zero element is greater than half of the total elements"
   ]
  },
  {
   "cell_type": "code",
   "execution_count": 7,
   "id": "fdf50172-9c83-4cf6-9d16-d7fa7950cebd",
   "metadata": {},
   "outputs": [
    {
     "name": "stdout",
     "output_type": "stream",
     "text": [
      "Not Sparse\n"
     ]
    }
   ],
   "source": [
    "#mat1 = [[1,2,3],[0,4,0],[0,0,6]]\n",
    "mat1 = [[1,2,3],[5,4,0],[7,0,6]]\n",
    "rows = len(mat1)\n",
    "cols = len(mat1[0])\n",
    "count = 0\n",
    "for i in range(rows):\n",
    "    for j in range(cols):\n",
    "        if mat1[i][j] == 0:\n",
    "            count+=1\n",
    "if count>(rows * cols)/2:\n",
    "    print(\"Sparse\")\n",
    "else:\n",
    "    print(\"Not Sparse\")"
   ]
  },
  {
   "cell_type": "code",
   "execution_count": null,
   "id": "ed6c22f1-5a46-4034-bbe3-e6bdba27e840",
   "metadata": {},
   "outputs": [],
   "source": []
  }
 ],
 "metadata": {
  "kernelspec": {
   "display_name": "Python 3 (ipykernel)",
   "language": "python",
   "name": "python3"
  },
  "language_info": {
   "codemirror_mode": {
    "name": "ipython",
    "version": 3
   },
   "file_extension": ".py",
   "mimetype": "text/x-python",
   "name": "python",
   "nbconvert_exporter": "python",
   "pygments_lexer": "ipython3",
   "version": "3.11.4"
  }
 },
 "nbformat": 4,
 "nbformat_minor": 5
}
