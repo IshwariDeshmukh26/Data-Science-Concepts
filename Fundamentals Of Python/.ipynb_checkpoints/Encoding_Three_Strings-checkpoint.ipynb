{
 "cells": [
  {
   "cell_type": "markdown",
   "id": "001472c3-ffc3-4931-b7b3-077e7407adeb",
   "metadata": {},
   "source": [
    "Anand was assigned the task of coming up with an encoding mechanism for any given three strings. He has come up with the following plan.\n",
    "\n",
    "Step 1:\n",
    "\n",
    "Splitting each string into Three Parts\n",
    "\n",
    "Given three input strings, break each string\n",
    "\n",
    "into threee parts: Front,Middle,End.\n",
    "\n",
    "\n",
    "\n",
    "Rules for splitting:\n",
    "\n",
    "If the string length is a multiple of 3, divide it into equal three parts.\n",
    "\n",
    "If the string length is not a multiple of 3:\n",
    "\n",
    "If one extra character is present, assign it to the middle part.\n",
    "\n",
    "If two extra character\n",
    "\n",
    "\n",
    "\n",
    "Step 2:\n",
    "\n",
    "Concatenation of parts\n",
    "\n",
    "After splitting , concatenation the corresponding\n",
    "\n"
   ]
  },
  {
   "cell_type": "code",
   "execution_count": 24,
   "id": "8c2eab2a-b5d0-4a31-b393-4cdfd112cb9e",
   "metadata": {},
   "outputs": [
    {
     "name": "stdout",
     "output_type": "stream",
     "text": [
      "First: J,Middle: oh,End: n\n",
      "First: Jo,Middle: h,End: ny\n",
      "First: Jan,Middle: ard,End: han\n"
     ]
    }
   ],
   "source": [
    "#Method 2\n",
    "s1=\"John\"\n",
    "s2=\"Johny\"\n",
    "s3=\"Janardhan\"\n",
    "lst=[s1,s2,s3]\n",
    "char_list=[list(word) for word in lst]\n",
    "for char in char_list:\n",
    "    n=len(char)\n",
    "    \n",
    "    if n%3 == 1:   #1 extra character goes to the middle\n",
    "          first=char[:1]\n",
    "          middle=char[1:n-1]   #take all except first\n",
    "          end=char[n-1:]\n",
    "          \n",
    "    elif n%3 == 2:      #1 extra character to first and\n",
    "        first=char[:2]\n",
    "        middle=char[2:n-2]    #Middle should take only\n",
    "        end=char[n-2:]\n",
    "        \n",
    "    else: #If n is exactly divisible by 3\n",
    "        first=char[0:3]\n",
    "        middle=char[3:6]\n",
    "        end=char[6:9]        \n",
    "    print(f\"First: {''.join(first)},Middle: {''.join(middle)},End: {''.join(end)}\")"
   ]
  },
  {
   "cell_type": "code",
   "execution_count": 25,
   "id": "68be5e84-b338-4492-bdb6-4ed8c9d5ea6f",
   "metadata": {},
   "outputs": [
    {
     "name": "stdout",
     "output_type": "stream",
     "text": [
      "JJoJan\n",
      "ohhard\n",
      "NNYHAN\n"
     ]
    }
   ],
   "source": [
    "#Method 2\n",
    "s1 = \"John\"\n",
    "s2 = \"Johny\"\n",
    "s3 = \"Janardhan\"\n",
    "lst = [s1, s2, s3]\n",
    "\n",
    "# To store the parts of each string\n",
    "first_parts = []\n",
    "middle_parts = []\n",
    "end_parts = []\n",
    "\n",
    "for word in lst:\n",
    "    n = len(word)\n",
    "\n",
    "    if n % 3 == 1:  # 1 extra character goes to the middle\n",
    "        first = word[:1]\n",
    "        middle = word[1:n-1]  # Take all except first and last\n",
    "        end = word[n-1:]\n",
    "\n",
    "    elif n % 3 == 2:  # 1 extra character to first\n",
    "        first = word[:2]\n",
    "        middle = word[2:n-2]  # Take middle part\n",
    "        end = word[n-2:]\n",
    "\n",
    "    else:  # If n is exactly divisible by 3\n",
    "        first = word[:3]\n",
    "        middle = word[3:6]\n",
    "        end = word[6:]\n",
    "\n",
    "    # Append to lists\n",
    "    first_parts.append(first)\n",
    "    middle_parts.append(middle)\n",
    "    end_parts.append(end)\n",
    "\n",
    "# Concatenating the extracted parts\n",
    "output1 = ''.join(first_parts)\n",
    "output2 = ''.join(middle_parts)\n",
    "output3 = ''.join(end_parts).swapcase()  # Convert case\n",
    "\n",
    "# Print final outputs\n",
    "print(output1)\n",
    "print(output2)\n",
    "print(output3)\n"
   ]
  },
  {
   "cell_type": "markdown",
   "id": "9da5a4cb-2d61-401f-b5e7-67dd19065eab",
   "metadata": {},
   "source": [
    "#### Addition using Strings: Write a function that takes two numbers is string format and forms a string  format and forms a string containing the sum (addition of those two numbers)."
   ]
  },
  {
   "cell_type": "markdown",
   "id": "22f64309-382a-4fa7-ab4d-65cc8857f290",
   "metadata": {},
   "source": [
    "Assumption:\n",
    "\n",
    "The input string will contain only numeric digits.\n",
    "\n",
    "The input string can be of any large lengths.\n",
    "\n",
    "The lengths of the two input strings need not be the same.\n",
    "\n",
    "The input string will represent only positive numbers."
   ]
  },
  {
   "cell_type": "code",
   "execution_count": 5,
   "id": "eecf6a78-03b6-46ff-9db9-8090060aa730",
   "metadata": {},
   "outputs": [
    {
     "data": {
      "text/plain": [
       "'1290'"
      ]
     },
     "execution_count": 5,
     "metadata": {},
     "output_type": "execute_result"
    }
   ],
   "source": [
    "def add_of_string(num1,num2):\n",
    "    sum = str(int(num1) + int(num2))\n",
    "    return sum\n",
    "add_of_string('1234','56')"
   ]
  },
  {
   "cell_type": "markdown",
   "id": "03484b01-f963-4df4-a685-1404d2464a83",
   "metadata": {},
   "source": [
    "#### Find the most frequent Occuring Element"
   ]
  },
  {
   "cell_type": "markdown",
   "id": "3097b95a-b97e-499d-9866-99166332e08b",
   "metadata": {},
   "source": [
    "Kamal is a data analyst in a lottery management organization.One of the tasks assigned to komal is to find the most Frequently Occuring  Digit in a series of input Below are a couple of examples to illustrate how to find the most frequent Occuring Digit in a aseries of input numbers"
   ]
  },
  {
   "cell_type": "code",
   "execution_count": 14,
   "id": "f1f9ac1b-7372-467f-8b62-b2f2c02d9d0b",
   "metadata": {},
   "outputs": [
    {
     "name": "stdout",
     "output_type": "stream",
     "text": [
      "Most Frequent Occuring Digit(s):[6]\n"
     ]
    }
   ],
   "source": [
    "from collections import Counter\n",
    "\n",
    "def most_frequent_digit(numbers):\n",
    "    digit_count = Counter()\n",
    "\n",
    "    #Count occurances of each digit\n",
    "    for num in numbers:\n",
    "        digit_count.update(str(num))\n",
    "\n",
    "    #Find the most frequent digit(s)\n",
    "    max_frequency = max(digit_count.values())\n",
    "    most_frequent = [int(digit) for digit,count in digit_count.items() if count == max_frequency]\n",
    "    return most_frequent ,max_frequency\n",
    "\n",
    "#Example usage\n",
    "numbers = [1237,262,666,140]\n",
    "most_frequent,frequency = most_frequent_digit(numbers)\n",
    "print(f\"Most Frequent Occuring Digit(s):{most_frequent}\")"
   ]
  },
  {
   "cell_type": "markdown",
   "id": "57625a9f-0f42-49ee-bde8-834a1bf275f8",
   "metadata": {},
   "source": [
    "#### Find the one digit to be removed form a palindrom assume that the given number input1 can become a palindrome i.e ,only one digit in the number is out of the place"
   ]
  },
  {
   "cell_type": "code",
   "execution_count": 18,
   "id": "052c787a-71cd-4ce2-8d49-bb839f329074",
   "metadata": {},
   "outputs": [
    {
     "name": "stdout",
     "output_type": "stream",
     "text": [
      "1\n"
     ]
    }
   ],
   "source": [
    "def find_digit_to_remove(input1):\n",
    "    str_num = str(input1) #Convert number to string\n",
    "\n",
    "    #Check if the number is already a palindrome\n",
    "    if str_num == str_num[::-1]:\n",
    "        return -1 #no digit needs to be removed\n",
    "\n",
    "    #Try removing each digit one by one\n",
    "    for i in range(len(str_num)):\n",
    "        new_num = str_num[:i] +str_num[i+1:]\n",
    "        #Remove digit at index 1\n",
    "        if new_num == new_num[::-1]:\n",
    "            #Chech if the new number is a plaindrome\n",
    "               return int(str_num[i])#Return the removed digit\n",
    "    return -1 #If no single digit removal makes it a palindrome\n",
    "\n",
    "#Test Ceses\n",
    "print(find_digit_to_remove(12332))#Expected Output:1            "
   ]
  },
  {
   "cell_type": "markdown",
   "id": "028b646a-9dbe-410b-8606-807df41aaff8",
   "metadata": {},
   "source": [
    "#### Given an array with 'N' elements,you are expected to find the sum of the values that are present in non prime indices of the array.\n"
   ]
  },
  {
   "cell_type": "markdown",
   "id": "ac881272-cee4-476d-8d47-211decc3e571",
   "metadata": {},
   "source": [
    "Note: The array indices start with 0"
   ]
  },
  {
   "cell_type": "code",
   "execution_count": 23,
   "id": "1f5607ca-3a3c-4bbe-8c4e-fc3cd9caf926",
   "metadata": {},
   "outputs": [
    {
     "data": {
      "text/plain": [
       "340"
      ]
     },
     "execution_count": 23,
     "metadata": {},
     "output_type": "execute_result"
    }
   ],
   "source": [
    "def sum_non_prime(input1,input2):\n",
    "    def is_prime(num):\n",
    "        if num<2:\n",
    "            return False\n",
    "        for i in range(2,int(num **0.5)+1):\n",
    "            if num % i == 0:\n",
    "                return False\n",
    "        return True\n",
    "    total = 0\n",
    "    for i in range(input2):\n",
    "        if not is_prime(i):\n",
    "            total += input1[i]\n",
    "    return total\n",
    "input1 = [10,20,30,40,50,60,70,80,90,100]\n",
    "input2 = 10\n",
    "sum_non_prime(input1,input2)"
   ]
  },
  {
   "cell_type": "code",
   "execution_count": null,
   "id": "8e653654-7c05-4946-a7b5-4df6c22d907e",
   "metadata": {},
   "outputs": [],
   "source": []
  },
  {
   "cell_type": "code",
   "execution_count": null,
   "id": "b99dd4f4-961e-4373-b2e2-b0a2695c68e0",
   "metadata": {},
   "outputs": [],
   "source": []
  }
 ],
 "metadata": {
  "kernelspec": {
   "display_name": "Python 3 (ipykernel)",
   "language": "python",
   "name": "python3"
  },
  "language_info": {
   "codemirror_mode": {
    "name": "ipython",
    "version": 3
   },
   "file_extension": ".py",
   "mimetype": "text/x-python",
   "name": "python",
   "nbconvert_exporter": "python",
   "pygments_lexer": "ipython3",
   "version": "3.11.4"
  }
 },
 "nbformat": 4,
 "nbformat_minor": 5
}
