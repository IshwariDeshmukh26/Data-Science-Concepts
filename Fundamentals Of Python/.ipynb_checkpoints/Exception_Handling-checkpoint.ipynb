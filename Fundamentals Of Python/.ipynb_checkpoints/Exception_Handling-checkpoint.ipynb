{
 "cells": [
  {
   "cell_type": "code",
   "execution_count": 8,
   "id": "ea5ee03d-afd7-4c31-aacf-9a6e19770c65",
   "metadata": {},
   "outputs": [
    {
     "ename": "ZeroDivisionError",
     "evalue": "division by zero",
     "output_type": "error",
     "traceback": [
      "\u001b[1;31m---------------------------------------------------------------------------\u001b[0m",
      "\u001b[1;31mZeroDivisionError\u001b[0m                         Traceback (most recent call last)",
      "Cell \u001b[1;32mIn[8], line 3\u001b[0m\n\u001b[0;32m      1\u001b[0m a\u001b[38;5;241m=\u001b[39m\u001b[38;5;241m10\u001b[39m\n\u001b[0;32m      2\u001b[0m b\u001b[38;5;241m=\u001b[39m\u001b[38;5;241m0\u001b[39m\n\u001b[1;32m----> 3\u001b[0m result\u001b[38;5;241m=\u001b[39ma\u001b[38;5;241m/\u001b[39mb\n",
      "\u001b[1;31mZeroDivisionError\u001b[0m: division by zero"
     ]
    }
   ],
   "source": [
    "a=10\n",
    "b=0\n",
    "result=a/b"
   ]
  },
  {
   "cell_type": "markdown",
   "id": "1e434942-86f2-4ae4-a7a6-19afb153c358",
   "metadata": {},
   "source": [
    "It will Throw Exception"
   ]
  },
  {
   "cell_type": "markdown",
   "id": "bbc5a20f-a56c-4f35-8a6d-423dfa88120b",
   "metadata": {},
   "source": [
    "## Zero Divivsion Error"
   ]
  },
  {
   "cell_type": "code",
   "execution_count": 9,
   "id": "cb77cd42-1d34-46fd-bc82-6ef168b76f9f",
   "metadata": {},
   "outputs": [
    {
     "name": "stdout",
     "output_type": "stream",
     "text": [
      "cannot divide by zero\n"
     ]
    }
   ],
   "source": [
    "try:\n",
    "    result=a/b\n",
    "except ZeroDivisionError:\n",
    "    print(\"cannot divide by zero\")"
   ]
  },
  {
   "cell_type": "markdown",
   "id": "16e6f288-cc88-42e2-b893-f3dfbe558024",
   "metadata": {},
   "source": [
    "## Index Error"
   ]
  },
  {
   "cell_type": "code",
   "execution_count": 10,
   "id": "880bb963-b665-4300-9c2d-be214826bdeb",
   "metadata": {},
   "outputs": [
    {
     "ename": "IndexError",
     "evalue": "list index out of range",
     "output_type": "error",
     "traceback": [
      "\u001b[1;31m---------------------------------------------------------------------------\u001b[0m",
      "\u001b[1;31mIndexError\u001b[0m                                Traceback (most recent call last)",
      "Cell \u001b[1;32mIn[10], line 2\u001b[0m\n\u001b[0;32m      1\u001b[0m numbers\u001b[38;5;241m=\u001b[39m[\u001b[38;5;241m1\u001b[39m,\u001b[38;5;241m2\u001b[39m,\u001b[38;5;241m3\u001b[39m,\u001b[38;5;241m4\u001b[39m]\n\u001b[1;32m----> 2\u001b[0m \u001b[38;5;28mprint\u001b[39m(numbers[\u001b[38;5;241m5\u001b[39m])\u001b[38;5;66;03m#Raises index error : list\u001b[39;00m\n\u001b[0;32m      3\u001b[0m \u001b[38;5;28;01mtry\u001b[39;00m:\n\u001b[0;32m      4\u001b[0m     \u001b[38;5;28mprint\u001b[39m(numbers[\u001b[38;5;241m5\u001b[39m])\n",
      "\u001b[1;31mIndexError\u001b[0m: list index out of range"
     ]
    }
   ],
   "source": [
    "numbers=[1,2,3,4]\n",
    "print(numbers[5])#Raises index error : list\n",
    "try:\n",
    "    print(numbers[5])\n",
    "except IndexError:\n",
    "    print(\"index error out of range\")"
   ]
  },
  {
   "cell_type": "markdown",
   "id": "bb9828ab-683d-4d1b-be9d-ccab32700bfe",
   "metadata": {},
   "source": [
    "## Handling exceptions without naming them\n"
   ]
  },
  {
   "cell_type": "code",
   "execution_count": 1,
   "id": "e9584af8-1d0e-4431-8c76-8e0b7bda725b",
   "metadata": {},
   "outputs": [
    {
     "name": "stdin",
     "output_type": "stream",
     "text": [
      "Enter the denominator  10\n"
     ]
    },
    {
     "name": "stdout",
     "output_type": "stream",
     "text": [
      "Divivsion performed successfully\n"
     ]
    }
   ],
   "source": [
    "#Handling exceptions without naming them\n",
    "\n",
    "try:\n",
    "    numerator =50\n",
    "    denom = int(input(\"Enter the denominator \")) #enter 10.3\n",
    "    quotient = (numerator/denom)\n",
    "    print(\"Divivsion performed successfully\")\n",
    "except ValueError:\n",
    "    print(\"Only INTEGERS should be entered\")\n",
    "except:\n",
    "    print(\"OOPS.....SOME EXCEPTION RAISED\")"
   ]
  },
  {
   "cell_type": "markdown",
   "id": "3707dae4-c884-4c3c-894c-75d543d41acd",
   "metadata": {},
   "source": [
    "## Handling exception by try except else"
   ]
  },
  {
   "cell_type": "code",
   "execution_count": 2,
   "id": "9f1accfb-4f3e-455a-a7da-9d6a846754cd",
   "metadata": {},
   "outputs": [
    {
     "name": "stdin",
     "output_type": "stream",
     "text": [
      "Enter the denom 6\n"
     ]
    },
    {
     "name": "stdout",
     "output_type": "stream",
     "text": [
      "division performed successfully\n",
      "the result is 8.333333333333334\n"
     ]
    }
   ],
   "source": [
    "\n",
    "try:\n",
    "    numerator=50\n",
    "    denom=int(input(\"Enter the denom\"))\n",
    "    quotient=(numerator/denom)\n",
    "    print(\"division performed successfully\")\n",
    "except ZeroDivisionError:\n",
    "    print(\"denom zero not allowed\")\n",
    "except ValueError:\n",
    "    print(\"enter only integers\")\n",
    "else:\n",
    "    print(\"the result is\",quotient)"
   ]
  },
  {
   "cell_type": "markdown",
   "id": "8f0ebe15-2053-4b08-bf7d-19eed7e5c3a7",
   "metadata": {},
   "source": [
    "## Handling exception using try....except...else...finally\""
   ]
  },
  {
   "cell_type": "code",
   "execution_count": 3,
   "id": "3f0112d3-0a4c-41ba-9dd7-ac3cf5cda075",
   "metadata": {},
   "outputs": [
    {
     "name": "stdin",
     "output_type": "stream",
     "text": [
      "Enter the denom 5\n"
     ]
    },
    {
     "name": "stdout",
     "output_type": "stream",
     "text": [
      "division performed successfully\n",
      "the result is 10.0\n",
      "over and out\n"
     ]
    }
   ],
   "source": [
    "\n",
    "try:\n",
    "    numerator=50\n",
    "    denom=int(input(\"Enter the denom\"))\n",
    "    quotient=(numerator/denom)\n",
    "    print(\"division performed successfully\")\n",
    "except ZeroDivisionError:\n",
    "    print(\"denom zero not allowed\")\n",
    "except ValueError:\n",
    "    print(\"enter only integers\")\n",
    "else:\n",
    "    print(\"the result is\",quotient)\n",
    "finally:\n",
    "    print(\"over and out\")"
   ]
  },
  {
   "cell_type": "markdown",
   "id": "e79fe6b0-aeaa-49ec-a662-d5bedc2cf611",
   "metadata": {},
   "source": [
    "## FileNotFoundError"
   ]
  },
  {
   "cell_type": "code",
   "execution_count": 7,
   "id": "e28fc607-108a-435e-8d83-c73a54393ce4",
   "metadata": {},
   "outputs": [
    {
     "name": "stdout",
     "output_type": "stream",
     "text": [
      "3.141567789\n",
      "123456678\n",
      "344567899\n"
     ]
    }
   ],
   "source": [
    "with open(\"C:/Data Science Concepts/Fundamentals Of Python/5_digit.txt\") as file:\n",
    "    contents = file.read()\n",
    "print(contents.rstrip())\n"
   ]
  },
  {
   "cell_type": "code",
   "execution_count": 12,
   "id": "8bfbfa8b-6002-44f1-b689-2b7fefe14e07",
   "metadata": {},
   "outputs": [
    {
     "name": "stdout",
     "output_type": "stream",
     "text": [
      "File not found\n"
     ]
    }
   ],
   "source": [
    "try:\n",
    "    with open(\"C:/Data Science Concepts/Fundamentals Of Python/5_digit4.txt\") as file:\n",
    "        content = file.read()\n",
    "except FileNotFoundError:\n",
    "    print(\"File not found\")"
   ]
  },
  {
   "cell_type": "markdown",
   "id": "e66b06ac-e900-4e5d-a9b2-152969ecf262",
   "metadata": {},
   "source": [
    "## PermissionError"
   ]
  },
  {
   "cell_type": "code",
   "execution_count": 14,
   "id": "8197578a-ca54-40ab-9637-7f8bbd8cc086",
   "metadata": {},
   "outputs": [
    {
     "name": "stdout",
     "output_type": "stream",
     "text": [
      "3.141567789\n",
      "123456678\n",
      "344567899\n"
     ]
    }
   ],
   "source": [
    "with open(\"C:/Data Science Concepts/Fundamentals Of Python/5_digit.txt\") as file:\n",
    "        content = file.read()\n",
    "print(contents.rstrip())\n"
   ]
  },
  {
   "cell_type": "code",
   "execution_count": 15,
   "id": "7bece783-366a-4a78-b20b-7c58abbddb73",
   "metadata": {},
   "outputs": [
    {
     "name": "stdout",
     "output_type": "stream",
     "text": [
      "3.141567789\n",
      "123456678\n",
      "344567899\n"
     ]
    }
   ],
   "source": [
    "try:\n",
    "    with open(\"C:/Data Science Concepts/Fundamentals Of Python/5_digit.txt\") as file:\n",
    "        content = file.read()\n",
    "    print(contents.rstrip())\n",
    "except PermissionError:\n",
    "    print(\"You don't have permission to access this file\")"
   ]
  },
  {
   "cell_type": "markdown",
   "id": "3b1d144c-4f54-49b2-a354-13cf1bb73daf",
   "metadata": {},
   "source": [
    "## AttributeError"
   ]
  },
  {
   "cell_type": "code",
   "execution_count": 17,
   "id": "83d1684b-5172-4588-a207-6f11698174d3",
   "metadata": {},
   "outputs": [
    {
     "ename": "AttributeError",
     "evalue": "'NoneType' object has no attribute 'some_attribute'",
     "output_type": "error",
     "traceback": [
      "\u001b[1;31m---------------------------------------------------------------------------\u001b[0m",
      "\u001b[1;31mAttributeError\u001b[0m                            Traceback (most recent call last)",
      "Cell \u001b[1;32mIn[17], line 2\u001b[0m\n\u001b[0;32m      1\u001b[0m obj \u001b[38;5;241m=\u001b[39m \u001b[38;5;28;01mNone\u001b[39;00m\n\u001b[1;32m----> 2\u001b[0m \u001b[38;5;28mprint\u001b[39m(obj\u001b[38;5;241m.\u001b[39msome_attribute)\n",
      "\u001b[1;31mAttributeError\u001b[0m: 'NoneType' object has no attribute 'some_attribute'"
     ]
    }
   ],
   "source": [
    "obj = None\n",
    "print(obj.some_attribute) #Raises AttributeError\n"
   ]
  },
  {
   "cell_type": "code",
   "execution_count": null,
   "id": "f4a0d6f9-c180-423f-86a3-7d0b865b4d09",
   "metadata": {},
   "outputs": [],
   "source": []
  }
 ],
 "metadata": {
  "kernelspec": {
   "display_name": "Python 3 (ipykernel)",
   "language": "python",
   "name": "python3"
  },
  "language_info": {
   "codemirror_mode": {
    "name": "ipython",
    "version": 3
   },
   "file_extension": ".py",
   "mimetype": "text/x-python",
   "name": "python",
   "nbconvert_exporter": "python",
   "pygments_lexer": "ipython3",
   "version": "3.11.4"
  }
 },
 "nbformat": 4,
 "nbformat_minor": 5
}
