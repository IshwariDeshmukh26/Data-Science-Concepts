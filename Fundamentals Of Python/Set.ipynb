{
 "cells": [
  {
   "cell_type": "code",
   "execution_count": 1,
   "id": "2c57349c-3e31-48ec-ae41-7081defb63fb",
   "metadata": {},
   "outputs": [
    {
     "name": "stdout",
     "output_type": "stream",
     "text": [
      "{1, 6}\n"
     ]
    }
   ],
   "source": [
    "#Write program to remove item from the set\n",
    "st={1,4,6}\n",
    "st.remove(4)\n",
    "print(st)\n"
   ]
  },
  {
   "cell_type": "code",
   "execution_count": 2,
   "id": "e2f43037-1377-4594-934e-2d936d6959c4",
   "metadata": {},
   "outputs": [
    {
     "name": "stdout",
     "output_type": "stream",
     "text": [
      "{4, 6}\n"
     ]
    }
   ],
   "source": [
    "#Write program to find intersection of sets\n",
    "st1={1,4,6}\n",
    "st2={2,4,6}\n",
    "#Intersection\n",
    "st=st1&st2\n",
    "print(st)\n",
    "#o/p==> {4, 6}\n"
   ]
  },
  {
   "cell_type": "code",
   "execution_count": 3,
   "id": "3c4e983a-e57e-421d-a462-d47877ca5bed",
   "metadata": {},
   "outputs": [
    {
     "name": "stdout",
     "output_type": "stream",
     "text": [
      "{1, 2, 4, 6}\n"
     ]
    }
   ],
   "source": [
    "#Write program to create union of sets\n",
    "st=st1|st2\n",
    "print(st)\n",
    "#o/p==> {1, 2, 4, 6}"
   ]
  },
  {
   "cell_type": "code",
   "execution_count": 4,
   "id": "508af924-adbe-4280-b867-d3511f6e92f8",
   "metadata": {},
   "outputs": [
    {
     "name": "stdout",
     "output_type": "stream",
     "text": [
      "6\n",
      "1\n"
     ]
    }
   ],
   "source": [
    "#Write a program to find maximum and minimum of set\n",
    "max_set=max(st)\n",
    "print(max_set)\n",
    "min_set=min(st)\n",
    "print(min_set)"
   ]
  },
  {
   "cell_type": "code",
   "execution_count": 5,
   "id": "b4e94203-d2b7-43a2-9f39-35f0e0fc3b64",
   "metadata": {},
   "outputs": [
    {
     "name": "stdout",
     "output_type": "stream",
     "text": [
      "wiwiwiwiwi\n"
     ]
    }
   ],
   "source": [
    "#Given a string, return string made of two characters\n",
    "#where n is length of string if the input is wipro\n",
    "#wiwiwiwiwi\n",
    "text='wipro'\n",
    "text1=text[:2]\n",
    "final=text1*len(text)\n",
    "print(final)"
   ]
  },
  {
   "cell_type": "code",
   "execution_count": 6,
   "id": "6b675e11-4417-430d-ae63-596e3b48d68a",
   "metadata": {},
   "outputs": [
    {
     "name": "stdout",
     "output_type": "stream",
     "text": [
      "ada\n"
     ]
    }
   ],
   "source": [
    "#GIven a string, if first and last character is x, then\n",
    "#the string without x, else display as it is.\n",
    "text='madam'\n",
    "if(text[0]==text[-1]):\n",
    "    final=text[1:-1]\n",
    "    print(final)\n",
    "else:\n",
    "    print(text)"
   ]
  },
  {
   "cell_type": "code",
   "execution_count": 7,
   "id": "b7e68d94-0fcb-411d-a8aa-2be9d491bf76",
   "metadata": {},
   "outputs": [
    {
     "name": "stdout",
     "output_type": "stream",
     "text": [
      "propropro\n"
     ]
    }
   ],
   "source": [
    "#Given a string and an integer n,\n",
    "#return a string made of n repetitions\n",
    "#of the last n character of the string.\n",
    "#you may assume that n is between 0 and the length\n",
    "#of the string(inclusive).\n",
    "\n",
    "#For example, if the inputs are \"Wipro\" and 3,\n",
    "#then the output should be \"Propropro\".\n",
    "\n",
    "text=\"wipro\"\n",
    "n=3\n",
    "text1=text[2:5]\n",
    "final=text1*n\n",
    "print(final)    \n"
   ]
  },
  {
   "cell_type": "code",
   "execution_count": 9,
   "id": "7820f9a5-83d7-4fc3-af9a-1b34bf1851a9",
   "metadata": {},
   "outputs": [
    {
     "ename": "RecursionError",
     "evalue": "maximum recursion depth exceeded",
     "output_type": "error",
     "traceback": [
      "\u001b[1;31m---------------------------------------------------------------------------\u001b[0m",
      "\u001b[1;31mRecursionError\u001b[0m                            Traceback (most recent call last)",
      "Cell \u001b[1;32mIn[9], line 4\u001b[0m\n\u001b[0;32m      1\u001b[0m \u001b[38;5;28;01mdef\u001b[39;00m \u001b[38;5;21mrecursive_function\u001b[39m():\n\u001b[0;32m      2\u001b[0m     \u001b[38;5;28;01mreturn\u001b[39;00m recursive_function()  \u001b[38;5;66;03m#Infinite recursion \u001b[39;00m\n\u001b[1;32m----> 4\u001b[0m recursive_function()\n",
      "Cell \u001b[1;32mIn[9], line 2\u001b[0m, in \u001b[0;36mrecursive_function\u001b[1;34m()\u001b[0m\n\u001b[0;32m      1\u001b[0m \u001b[38;5;28;01mdef\u001b[39;00m \u001b[38;5;21mrecursive_function\u001b[39m():\n\u001b[1;32m----> 2\u001b[0m     \u001b[38;5;28;01mreturn\u001b[39;00m recursive_function()\n",
      "Cell \u001b[1;32mIn[9], line 2\u001b[0m, in \u001b[0;36mrecursive_function\u001b[1;34m()\u001b[0m\n\u001b[0;32m      1\u001b[0m \u001b[38;5;28;01mdef\u001b[39;00m \u001b[38;5;21mrecursive_function\u001b[39m():\n\u001b[1;32m----> 2\u001b[0m     \u001b[38;5;28;01mreturn\u001b[39;00m recursive_function()\n",
      "    \u001b[1;31m[... skipping similar frames: recursive_function at line 2 (2971 times)]\u001b[0m\n",
      "Cell \u001b[1;32mIn[9], line 2\u001b[0m, in \u001b[0;36mrecursive_function\u001b[1;34m()\u001b[0m\n\u001b[0;32m      1\u001b[0m \u001b[38;5;28;01mdef\u001b[39;00m \u001b[38;5;21mrecursive_function\u001b[39m():\n\u001b[1;32m----> 2\u001b[0m     \u001b[38;5;28;01mreturn\u001b[39;00m recursive_function()\n",
      "\u001b[1;31mRecursionError\u001b[0m: maximum recursion depth exceeded"
     ]
    }
   ],
   "source": [
    "def recursive_function():\n",
    "    return recursive_function()  #Infinite recursion \n",
    "\n",
    "recursive_function()  #Raises RecursionError"
   ]
  },
  {
   "cell_type": "code",
   "execution_count": 10,
   "id": "6550a985-6484-46ee-a73c-e3a5c0529241",
   "metadata": {},
   "outputs": [
    {
     "name": "stdout",
     "output_type": "stream",
     "text": [
      "Done\n"
     ]
    }
   ],
   "source": [
    "import sys\n",
    "sys.setrecursionlimit(1000)  #set recursion limit to a\n",
    "\n",
    "def safe_recursive_function(depth=0, max_depth=10):\n",
    "    if depth >= max_depth:\n",
    "        return \"Done\"\n",
    "    return safe_recursive_function(depth + 1, max_depth)\n",
    "\n",
    "print(safe_recursive_function())"
   ]
  },
  {
   "cell_type": "code",
   "execution_count": 14,
   "id": "5e756594-4f27-482b-b310-7e2363602509",
   "metadata": {},
   "outputs": [
    {
     "name": "stdout",
     "output_type": "stream",
     "text": [
      "Sanjivani College Of Engineering\n"
     ]
    }
   ],
   "source": [
    "# Write a program to count frequency of a user entered\n",
    "#Write a program to read the entire content from  a txt file\n",
    "with open(\"C:/Data Science Concepts/Fundamentals Of Python/5_digit.txt\",'r') as File:\n",
    "    contents=File.read()\n",
    "    print(contents.rstrip())"
   ]
  },
  {
   "cell_type": "code",
   "execution_count": 16,
   "id": "42e77b5c-2a13-45ae-bc06-c5e4f99dfe81",
   "metadata": {},
   "outputs": [
    {
     "name": "stdout",
     "output_type": "stream",
     "text": [
      "First line: Sanjivani College Of Engineering\n",
      "Last line: Sanjivani College Of Engineering\n"
     ]
    }
   ],
   "source": [
    "#Write a program to read first n lines from a txt file\n",
    "with open(\"C:/Data Science Concepts/Fundamentals Of Python/5_digit.txt\",'r') as File_Object:\n",
    "    lines = File_Object.readlines()\n",
    "    if lines:\n",
    "        print(\"First line:\", lines[0].strip())\n",
    "        print(\"Last line:\", lines[-1].strip())"
   ]
  },
  {
   "cell_type": "code",
   "execution_count": 19,
   "id": "cfff9924-fba0-4d64-8109-252a600510d6",
   "metadata": {},
   "outputs": [
    {
     "name": "stdin",
     "output_type": "stream",
     "text": [
      "Enter the line I am student\n"
     ]
    }
   ],
   "source": [
    "#Write a program to accept input from user and append it\n",
    "filename='C:/Data Science Concepts/Fundamentals Of Python/5_digit.txt'\n",
    "with open(filename, 'w') as file:\n",
    "    file.write(\"I love programming.\\n\")\n",
    "    file.write(\"I love creating new games.\\n\")\n",
    "    file.write(\"I love Sanjivani\")\n",
    "    in_line=input(\"Enter the line\")\n",
    "    file.write(in_line)\n"
   ]
  },
  {
   "cell_type": "code",
   "execution_count": 20,
   "id": "ec4d5efe-7ef6-435c-9a00-01c27949f23a",
   "metadata": {},
   "outputs": [
    {
     "name": "stdout",
     "output_type": "stream",
     "text": [
      "['I love programming.']\n",
      "['I love programming.', 'I love creating new games.']\n",
      "['I love programming.', 'I love creating new games.', 'I love SanjivaniI am student']\n",
      "3\n"
     ]
    }
   ],
   "source": [
    "#Write a program to read contents from a txt file line by line\n",
    "#and store each line into a list.\n",
    "filename='C:/Data Science Concepts/Fundamentals Of Python/5_digit.txt'\n",
    "with open(filename, 'r') as file:\n",
    "    lines = file.readlines()\n",
    "    pi_string = []\n",
    "    for line in lines:\n",
    "        pi_string.append(line.rstrip())\n",
    "       #pi_string += line.rstrip()\n",
    "        print(pi_string)\n",
    "    print(len(pi_string))"
   ]
  },
  {
   "cell_type": "code",
   "execution_count": 21,
   "id": "09353551-0503-45d9-96d8-df7d2419f51d",
   "metadata": {},
   "outputs": [
    {
     "name": "stdout",
     "output_type": "stream",
     "text": [
      "The longest word: programming.\n"
     ]
    }
   ],
   "source": [
    "# Write a program to find the longest word from the txt file\n",
    "#contents, assuming that the file will have only one longest word\n",
    "filename='C:/Data Science Concepts/Fundamentals Of Python/5_digit.txt'\n",
    "with open(filename, 'r') as file:\n",
    "    lines = file.readlines()\n",
    "    longest_word=''\n",
    "    for line in lines:\n",
    "        words=line.split()\n",
    "        for word in words:\n",
    "            if(len(word)>len(longest_word)):\n",
    "                longest_word=word\n",
    "print(\"The longest word:\",longest_word)"
   ]
  },
  {
   "cell_type": "code",
   "execution_count": 22,
   "id": "d9a55423-dd76-449a-aa37-c20b45c70669",
   "metadata": {},
   "outputs": [
    {
     "name": "stdout",
     "output_type": "stream",
     "text": [
      "The Smallest word: I\n"
     ]
    }
   ],
   "source": [
    "# Write a program to find the smallest word from the txt file\n",
    "#contents, assuming that the file will have only one smallest word\n",
    "filename = 'C:/Data Science Concepts/Fundamentals Of Python/5_digit.txt'\n",
    "\n",
    "with open(filename, 'r') as file:\n",
    "    lines = file.readlines()\n",
    "\n",
    "    smallest_word = None  # Initialize with None\n",
    "\n",
    "    for line in lines:\n",
    "        words = line.split()\n",
    "        for word in words:\n",
    "            if smallest_word is None or len(word) < len(smallest_word):\n",
    "                smallest_word = word  # Update the smallest word\n",
    "\n",
    "print(\"The Smallest word:\", smallest_word)"
   ]
  },
  {
   "cell_type": "code",
   "execution_count": 23,
   "id": "15f7c108-3aed-4b1c-a198-71d0f8a5a69b",
   "metadata": {},
   "outputs": [
    {
     "name": "stdin",
     "output_type": "stream",
     "text": [
      "Enter the text: Hello\n"
     ]
    },
    {
     "name": "stdout",
     "output_type": "stream",
     "text": [
      "The total words entered: 1\n"
     ]
    }
   ],
   "source": [
    "#Write a program to count frequency of\n",
    "#user-entered word in a txt file.\n",
    "\n",
    "filename = 'C:/Data Science Concepts/Fundamentals Of Python/5_digit.txt'\n",
    "input_line=input(\"Enter the text:\")\n",
    "words=input_line.split()  #Splitting input text into words\n",
    "word_count=len(words)\n",
    "\n",
    "#Write user input to the file\n",
    "with open(filename,'w') as file:\n",
    "    file.write(input_line)\n",
    "    \n",
    "#Display the word count\n",
    "print(\"The total words entered:\",word_count)"
   ]
  },
  {
   "cell_type": "code",
   "execution_count": null,
   "id": "71499475-a3a7-4bff-b177-89a5776aab54",
   "metadata": {},
   "outputs": [],
   "source": []
  }
 ],
 "metadata": {
  "kernelspec": {
   "display_name": "Python 3 (ipykernel)",
   "language": "python",
   "name": "python3"
  },
  "language_info": {
   "codemirror_mode": {
    "name": "ipython",
    "version": 3
   },
   "file_extension": ".py",
   "mimetype": "text/x-python",
   "name": "python",
   "nbconvert_exporter": "python",
   "pygments_lexer": "ipython3",
   "version": "3.11.4"
  }
 },
 "nbformat": 4,
 "nbformat_minor": 5
}
