{
 "cells": [
  {
   "cell_type": "code",
   "execution_count": 1,
   "id": "a8c83afa-e5d8-42d0-8a5d-fc2b3d084bca",
   "metadata": {},
   "outputs": [
    {
     "name": "stdin",
     "output_type": "stream",
     "text": [
      "Enter no of bananas to be purchased:  5\n",
      "What is a size of lot1 that vendor1 provides:  2\n",
      "What is a price of lot1:  3\n",
      "What is a size of lot2 that vendor2 provides:  4\n",
      "What is a price of lot2:  8\n"
     ]
    },
    {
     "name": "stdout",
     "output_type": "stream",
     "text": [
      "lot_a:2.5\n",
      "lot_b:1.25\n",
      "cost_a:7.5\n",
      "cost_b:10.0\n"
     ]
    },
    {
     "data": {
      "text/plain": [
       "7.5"
      ]
     },
     "execution_count": 1,
     "metadata": {},
     "output_type": "execute_result"
    }
   ],
   "source": [
    "no_bananas=int (input(\"Enter no of bananas to be purchased: \"))\n",
    "lot1=int(input(\"What is a size of lot1 that vendor1 provides: \"))\n",
    "price1=int(input(\"What is a price of lot1: \"))\n",
    "lot2=int(input(\"What is a size of lot2 that vendor2 provides: \"))\n",
    "price2=int(input(\"What is a price of lot2: \"))\n",
    "\n",
    "def min_cost(no_bananas, lot1,price1,lot2,price2):\n",
    "    lot_a=no_bananas/lot1\n",
    "    print(f'lot_a:{lot_a}')\n",
    "    \n",
    "    lot_b=no_bananas/lot2\n",
    "    print(f'lot_b:{lot_b}')\n",
    "    cost_a=lot_a*price1\n",
    "    print(f'cost_a:{cost_a}')\n",
    "    cost_b=lot_b*price2\n",
    "    print(f'cost_b:{cost_b}')\n",
    "    return min(cost_a,cost_b)\n",
    "min_cost(no_bananas,lot1,price1,lot2,price2)"
   ]
  },
  {
   "cell_type": "markdown",
   "id": "8b353224-5201-4bd1-ac3f-7976f57edc90",
   "metadata": {},
   "source": [
    "## Bubble Sort"
   ]
  },
  {
   "cell_type": "code",
   "execution_count": null,
   "id": "3fe3d16f-76d1-403e-bbbf-6dd970bb3d7d",
   "metadata": {},
   "outputs": [],
   "source": [
    "'''\n",
    "Steps of bubble sort\n",
    "start from the first element and compare it with the next ele\n",
    "if the first element is greater than the next ,swap them\n",
    "move to the next pair and repeat\n",
    "'''"
   ]
  },
  {
   "cell_type": "markdown",
   "id": "2a5eb879-6bab-4524-beee-a292b3784dbb",
   "metadata": {},
   "source": [
    "After i passes, the last i elements are already sorted.\n",
    "\n",
    "We don't need to check them again\n",
    "\n",
    "So,we run the inner loop only up to n-i-1.\n",
    "\n",
    "This reduces unnecessory comparisions and efficiency"
   ]
  },
  {
   "cell_type": "code",
   "execution_count": 2,
   "id": "3851b9a1-27ae-4150-8495-a5c8a5f318e6",
   "metadata": {},
   "outputs": [
    {
     "data": {
      "text/plain": [
       "[2, 3, 4, 5, 8]"
      ]
     },
     "execution_count": 2,
     "metadata": {},
     "output_type": "execute_result"
    }
   ],
   "source": [
    "def bubble_sort(lst):\n",
    "    n = len(lst)\n",
    "    for i in range(n-1):\n",
    "        \n",
    "        for j in range(n-i-1):\n",
    "            if lst[j]>lst[j+1]:\n",
    "                lst[j],lst[j+1]=lst[j+1],lst[j]\n",
    "    return lst\n",
    "lst = [5,3,8,4,2]\n",
    "bubble_sort(lst)\n"
   ]
  },
  {
   "cell_type": "markdown",
   "id": "f2caa021-8019-43d5-9052-c291520016d0",
   "metadata": {},
   "source": [
    "## Calculate GCD"
   ]
  },
  {
   "cell_type": "code",
   "execution_count": 5,
   "id": "cf9dd197-2345-4f8b-83a3-fe4fc67110c9",
   "metadata": {},
   "outputs": [
    {
     "name": "stdin",
     "output_type": "stream",
     "text": [
      "Enter first number: 2\n",
      "Enter second number: 5\n"
     ]
    },
    {
     "name": "stdout",
     "output_type": "stream",
     "text": [
      "GCD of 2 and 5 is: 1\n"
     ]
    }
   ],
   "source": [
    "def gcd(a,b):\n",
    "    while b:\n",
    "        a,b = b,a%b # replace a with b and b with remainder\n",
    "    return a\n",
    "#input\n",
    "num1 = int(input(\"Enter first number:\"))\n",
    "num2 = int (input(\"Enter second number:\"))\n",
    "#output\n",
    "ans = gcd(num1,num2)\n",
    "print(f\"GCD of {num1} and {num2} is: {ans}\")"
   ]
  },
  {
   "cell_type": "markdown",
   "id": "c5cee1e7-25d6-4557-bc3a-16bc8905ff32",
   "metadata": {},
   "source": [
    "## Find Second Largest Element in an array"
   ]
  },
  {
   "cell_type": "code",
   "execution_count": 10,
   "id": "39f161cc-dae2-4c80-93af-ceb2d96fee3b",
   "metadata": {},
   "outputs": [
    {
     "name": "stdout",
     "output_type": "stream",
     "text": [
      "second largest element from the array is:  7\n"
     ]
    }
   ],
   "source": [
    "#Find Second Largest Element in an array\n",
    "def second_largest(lst):\n",
    "    unique_nums=list(set(lst))\n",
    "    #The list is first converted to a set (set(lst)) to \n",
    "    unique_nums.sort(reverse=True)\n",
    "    #It is then converted back into a list (unique_nums)\n",
    "    #the sort(reverse=true) method in python sort\n",
    "    # a list in descending order(from highest to lowest)\n",
    "    if len(unique_nums)>1:\n",
    "        return unique_nums[1]\n",
    "        #however if the list contains only one unique number\n",
    "        #(e.g [99,99,99] becomes [99] after removing duplicates),\n",
    "        #there is no second largest element\n",
    "        \n",
    "        #If unique nums has only one element,\n",
    "        #trying to access unique nums[1]\n",
    "        #To prevent this, len(unique_nums)> 1 is checked,\n",
    "        #if unique_nums has only one element , the function \n",
    "    else:\n",
    "        return None\n",
    "lst=[7,8,3,5,1,2,2]\n",
    "print(\"second largest element from the array is: \",second_largest(lst))"
   ]
  },
  {
   "cell_type": "code",
   "execution_count": 3,
   "id": "8d3fc2b7-3534-4433-9972-36a056515a98",
   "metadata": {},
   "outputs": [
    {
     "name": "stdout",
     "output_type": "stream",
     "text": [
      "5\n",
      "3\n"
     ]
    }
   ],
   "source": [
    "def bubble_sort(lst):\n",
    "    n = len(lst)\n",
    "    for i in range(n-1):\n",
    "        \n",
    "        for j in range(n-i-1):\n",
    "            if lst[j]>lst[j+1]:\n",
    "                lst[j],lst[j+1]=lst[j+1],lst[j] \n",
    "    return lst\n",
    "lst = [5,3,8,4,2]\n",
    "bubble_sort(lst)\n",
    "print(lst[-2])#second largest element\n",
    "print(lst[1])#second smallest element"
   ]
  },
  {
   "cell_type": "markdown",
   "id": "2adc6a6a-5a6b-44b8-a882-53235b6d6a3a",
   "metadata": {},
   "source": [
    "## find second smallest number"
   ]
  },
  {
   "cell_type": "code",
   "execution_count": 4,
   "id": "1787db14-5f8d-4444-9a2c-7c2d3b01c69f",
   "metadata": {},
   "outputs": [
    {
     "name": "stdout",
     "output_type": "stream",
     "text": [
      "second smallest number: 3\n"
     ]
    }
   ],
   "source": [
    "#find second smallest number\n",
    "def second_smallest(lst):\n",
    "    unique_nums=list(set(lst))\n",
    "    unique_nums.sort(reverse=False)\n",
    "    \n",
    "    if len(unique_nums)>1:\n",
    "        return unique_nums[1]\n",
    "    else:\n",
    "        return None\n",
    "lst=[5,3,8,4,2]\n",
    "print(\"second smallest number:\",second_smallest(lst))        "
   ]
  },
  {
   "cell_type": "code",
   "execution_count": 5,
   "id": "bf661a6c-519c-4922-ae80-134bd5d9f1bd",
   "metadata": {},
   "outputs": [
    {
     "name": "stdout",
     "output_type": "stream",
     "text": [
      "Missing number:  3\n"
     ]
    }
   ],
   "source": [
    "#\n",
    "'''\n",
    "To identify missing numbers \n",
    "the sum of the first n natural numbers is given by:\n",
    "    s=1+2+3+4+......+n\n",
    "    expected_sum=n*(n+1)//2\n",
    "    Example Calculations:\n",
    "        Lets calculate the sum of the first 5 natural:\n",
    "        1+2+3+4+5=15\n",
    "        using expected_sum=n*(n+1)//2=5*6//2=15\n",
    "        \n",
    "'''\n",
    "def missing_num(lst,n):\n",
    "    expected_num=n*(n+1)//2\n",
    "    actual_num=sum(lst)\n",
    "    missing_num=expected_num-actual_num\n",
    "    return missing_num\n",
    "lst=[1,2,4,5,6]\n",
    "n=6\n",
    "print(\"Missing number: \",missing_num(lst,n))"
   ]
  },
  {
   "cell_type": "markdown",
   "id": "fc60c9ab-9d73-43e1-9120-7b63a17cd2d1",
   "metadata": {},
   "source": [
    "## Reverse a string without built-in function"
   ]
  },
  {
   "cell_type": "code",
   "execution_count": 6,
   "id": "17ca75cb-3f17-4b5d-af4f-8d9e7b489c2d",
   "metadata": {},
   "outputs": [
    {
     "name": "stdout",
     "output_type": "stream",
     "text": [
      "ynohtna si eman yM\n"
     ]
    },
    {
     "name": "stdin",
     "output_type": "stream",
     "text": [
      "Enter a string:  hello\n"
     ]
    },
    {
     "name": "stdout",
     "output_type": "stream",
     "text": [
      "olleh\n"
     ]
    }
   ],
   "source": [
    "#Reverse a string without built-in function\n",
    "\n",
    "def rev_string(s):\n",
    "    rev_s=s[::-1]\n",
    "    return rev_s\n",
    "s=\"My name is anthony\"\n",
    "rev_s=rev_string(s)\n",
    "print(rev_s)\n",
    "########\n",
    "rev_string=input(\"Enter a string: \")[::-1]\n",
    "print(rev_string)"
   ]
  },
  {
   "cell_type": "markdown",
   "id": "35b31b36-4975-459d-ab49-caa2cdcdeff6",
   "metadata": {},
   "source": [
    "## find LCM of Two Numbers"
   ]
  },
  {
   "cell_type": "code",
   "execution_count": null,
   "id": "6f6acaba-13d6-4ada-bd96-22d187949b9b",
   "metadata": {},
   "outputs": [],
   "source": [
    "#find LCM of Two Numbers\n",
    "num1=int(input('Enter first  number: '))\n",
    "num2=int(input('Enter second number'))\n",
    "\n",
    "def gcd(num1,num2):\n",
    "    while num2!=0:\n",
    "        num1,num2=num2,num1%num2\n",
    "    return num1\n",
    "\n",
    "gcd(num1,num2)\n",
    "def lcm(num1,num2):\n",
    "    lcm=abs(num1*num2)/gcd(num1,num2)\n",
    "    return lcm\n",
    "lcm(num1,num2)    "
   ]
  },
  {
   "cell_type": "markdown",
   "id": "45549099-1377-48ae-9bcf-10e6523d2745",
   "metadata": {},
   "source": [
    "# Problem Statment\n"
   ]
  },
  {
   "cell_type": "markdown",
   "id": "f075e0f7-b5d4-47f0-a221-ef0f5c1505a3",
   "metadata": {},
   "source": [
    "a left rotation operation on an array shifts each of the array's elements units to the left for example, if 2 left rotations are performed on the array[1,4,5,1,2].\n"
   ]
  },
  {
   "cell_type": "code",
   "execution_count": 3,
   "id": "b371d35f-1552-45eb-942f-24d2e65431d0",
   "metadata": {},
   "outputs": [
    {
     "name": "stdout",
     "output_type": "stream",
     "text": [
      "[1, 2]\n"
     ]
    }
   ],
   "source": [
    "def left_rotate(lst,d):\n",
    "    #Find the Length\n",
    "    n = len(lst)\n",
    "    d = d % n #To handle case lines\n",
    "    left_rot = lst[d:] = lst[:d]\n",
    "    return left_rot\n",
    "lst = [1,2,3,4,5]\n",
    "d = 2\n",
    "result = left_rotate(lst,d)\n",
    "print(result)"
   ]
  },
  {
   "cell_type": "code",
   "execution_count": 4,
   "id": "12c0fd7f-5f7d-4da0-a856-557845e92cc2",
   "metadata": {},
   "outputs": [
    {
     "name": "stdout",
     "output_type": "stream",
     "text": [
      "1 2 3 4 5\n"
     ]
    }
   ],
   "source": [
    "def right_rotate(lst,d):\n",
    "    #find the length\n",
    "    n=len(lst)\n",
    "    d=d%n\n",
    "    right_rot=lst[:d]+lst[d:]\n",
    "    return right_rot\n",
    "lst=[1,2,3,4,5]\n",
    "d=2\n",
    "result=right_rotate(lst,d)\n",
    "print(*result)    "
   ]
  },
  {
   "cell_type": "markdown",
   "id": "d50cead1-ab88-4b56-9dc2-958dac4f1c2b",
   "metadata": {},
   "source": [
    "Gary is an avid hiker. He tracks his hikes meticulously,\n",
    " paying close attention to small details like topography.\n",
    " During his last hike, he took exactly n steps. \n",
    " For every step he took, he noted if it was an uphill (U) \n",
    " or a downhill (D) step. Gary’s hikes start and end \n",
    " at sea level."
   ]
  },
  {
   "cell_type": "markdown",
   "id": "831d03da-f581-4498-9b11-a75fb905a106",
   "metadata": {},
   "source": [
    "We define the following terms:\n",
    "\n",
    "A mountain is a non-empty sequence of consecutive\n",
    " steps above sea level, starting with a step up \n",
    " from sea level and ending with a step down to sea level.\n",
    " A valley is a non-empty sequence of consecutive\n",
    " steps below sea level, starting with a step down \n",
    " from sea level and ending with a step up to sea level.\n",
    "Given Gary’s sequence of up and down steps \n",
    "during his last hike, find and print the number of valleys\n",
    " he walked through.\n",
    "\n",
    " Gary is hiking, and he records each step as either U (uphill) or D (downhill). He always starts and ends at sea level (0 altitude).\n",
    "\n",
    " We need to count the number of valleys he walks through.\n",
    "\n",
    "What is a valley?\n",
    "A valley is when:"
   ]
  },
  {
   "cell_type": "markdown",
   "id": "023f065c-bbb5-48d0-81d7-ed2c573079c4",
   "metadata": {},
   "source": [
    "Gary goes below sea level (altitude becomes negative).\n",
    "He then comes back to sea level.\n",
    "Example Walkthrough\n",
    "Let’s say Gary takes the following 8 steps:\n",
    "\"DDUUUUDD\"\n",
    " "
   ]
  },
  {
   "cell_type": "code",
   "execution_count": 1,
   "id": "65004fd3-0508-4c32-b1d0-10000627f954",
   "metadata": {},
   "outputs": [
    {
     "name": "stdout",
     "output_type": "stream",
     "text": [
      "Total Valleys 1\n"
     ]
    }
   ],
   "source": [
    "#count the valleys:\n",
    "def count_valleys(n,paths):\n",
    "    elevation=0 # Starting at sea level\n",
    "    valley_count=0 #Counter for valleys\n",
    "    \n",
    "    for step in paths:\n",
    "        if step =='U':# going up\n",
    "           elevation+=1 \n",
    "           if elevation==0: #IF we just came back \n",
    "                            # to sea level , a valley ended\n",
    "              valley_count+=1 #Why check if elevation == 0?\n",
    "              #inside if step == 'U' ?\n",
    "              #A valley is only completed when coming up(U)\n",
    "              #back to sea level (0).\n",
    "        else:\n",
    "            step=='D' #Going down\n",
    "            elevation-=1 \n",
    "               \n",
    "    return valley_count \n",
    "\n",
    "# Example Usage\n",
    "n=8\n",
    "path=\"UDDDUDUU\"\n",
    "print(\"Total Valleys\", count_valleys(n,path))  "
   ]
  },
  {
   "cell_type": "code",
   "execution_count": null,
   "id": "0575354b-b1c3-442f-a1f2-c050c3fa7afb",
   "metadata": {},
   "outputs": [],
   "source": []
  }
 ],
 "metadata": {
  "kernelspec": {
   "display_name": "Python 3 (ipykernel)",
   "language": "python",
   "name": "python3"
  },
  "language_info": {
   "codemirror_mode": {
    "name": "ipython",
    "version": 3
   },
   "file_extension": ".py",
   "mimetype": "text/x-python",
   "name": "python",
   "nbconvert_exporter": "python",
   "pygments_lexer": "ipython3",
   "version": "3.11.4"
  }
 },
 "nbformat": 4,
 "nbformat_minor": 5
}
