{
 "cells": [
  {
   "cell_type": "code",
   "execution_count": 1,
   "id": "917eef6e-a1f9-4e01-b726-d37a51ba0a30",
   "metadata": {},
   "outputs": [
    {
     "data": {
      "text/plain": [
       "[['W', 'O', 'R', 'L', 'D'], ['W', 'I', 'D', 'E'], ['W', 'E', 'B']]"
      ]
     },
     "execution_count": 1,
     "metadata": {},
     "output_type": "execute_result"
    }
   ],
   "source": [
    "sentence = 'world wide web'\n",
    "sentence = sentence.upper() # convert to uppercase\n",
    "words = sentence.split()\n",
    "words\n",
    "# convert  each word into a \n",
    "char_list = [list(word) for word in words]\n",
    "char_list"
   ]
  },
  {
   "cell_type": "code",
   "execution_count": 2,
   "id": "c20ceabf-f7b5-4b78-a929-9bc5e541aad2",
   "metadata": {},
   "outputs": [
    {
     "name": "stdout",
     "output_type": "stream",
     "text": [
      "First character: W, ASCII: 87\n",
      "Last character: D, ASCII: 68\n"
     ]
    }
   ],
   "source": [
    "sentence='World wide web'\n",
    "sentence=sentence.upper() #convert to uppercase\n",
    "words=sentence.split()    #Split into words\n",
    "\n",
    "#Convert each word into a list of characters\n",
    "char_lists=[list(word) for word in words]\n",
    "char_lists\n",
    "\n",
    "#Extract first and last charater from the first word\n",
    "first_char=char_lists[0][0] \n",
    "last_char=char_lists[0][-1]\n",
    "\n",
    "#Get ASCIT values\n",
    "ascii_first=ord(first_char)\n",
    "ascii_last=ord(last_char)\n",
    "\n",
    "print(f\"First character: {first_char}, ASCII: {ascii_first}\")\n",
    "print(f\"Last character: {last_char}, ASCII: {ascii_last}\")"
   ]
  },
  {
   "cell_type": "code",
   "execution_count": 3,
   "id": "b1cf1f41-a116-430d-ac6b-8fdf8e5016da",
   "metadata": {},
   "outputs": [
    {
     "name": "stdout",
     "output_type": "stream",
     "text": [
      "Word:WORLD,ASCII Differences:19\n",
      "Word:WIDE,ASCII Differences:18\n",
      "Word:WEB,ASCII Differences:21\n"
     ]
    }
   ],
   "source": [
    "sentence='World Wide Web'\n",
    "sentence=sentence.upper()\n",
    "words=sentence.split()  #split into words\n",
    "words\n",
    "\n",
    "#convert each word into a list of characters\n",
    "char_lists=[list(word) for word in words]\n",
    "\n",
    "#process each word and compute ASCII differences\n",
    "ascii_differences=[]\n",
    "for word in char_lists:\n",
    "    first_char=word[0]\n",
    "    last_char=word[-1]\n",
    "    ascii_first=ord(first_char)\n",
    "    ascii_last=ord(last_char)\n",
    "    \n",
    "    differences=abs(ascii_first-ascii_last)\n",
    "    ascii_differences.append(differences)\n",
    "#print results    \n",
    "for word,diff in zip(words,ascii_differences):\n",
    "    print(f\"Word:{word},ASCII Differences:{diff}\")"
   ]
  },
  {
   "cell_type": "markdown",
   "id": "7bc227ae-e204-4505-a5b5-42458237bb66",
   "metadata": {},
   "source": [
    "#### Write a program to accept two numbers from the user and perform division. If any exception occurs,print an error message or else print the result"
   ]
  },
  {
   "cell_type": "code",
   "execution_count": 4,
   "id": "7cc8e2f8-89a2-4711-ad9b-6452c845ab98",
   "metadata": {},
   "outputs": [
    {
     "name": "stdin",
     "output_type": "stream",
     "text": [
      "Enter number1  4\n",
      "Enter number2  5\n"
     ]
    },
    {
     "name": "stdout",
     "output_type": "stream",
     "text": [
      "The result is  0.8\n"
     ]
    }
   ],
   "source": [
    "try:\n",
    "    num1=float(input('Enter number1 '))\n",
    "    num2=float(input('Enter number2 '))\n",
    "    num=num1/num2\n",
    "    print('The result is ',num)\n",
    "except ZeroDivisionError:\n",
    "    print('Error: Division by zero is not allowed.')\n",
    "except ValueError:\n",
    "    print('Error: Please enter numeric values only.')\n",
    "    num1=float(input(\"\"))"
   ]
  },
  {
   "cell_type": "markdown",
   "id": "9d45d287-fad7-4fe3-a763-cdebabfb0358",
   "metadata": {},
   "source": [
    "#### Write a program to accept a number from the user and check whether it's prime or not. If user enters anything other than number,handle the exception and print an error message."
   ]
  },
  {
   "cell_type": "code",
   "execution_count": 5,
   "id": "f2482bfb-64fc-4374-ba13-ab36ac391fe8",
   "metadata": {},
   "outputs": [
    {
     "name": "stdin",
     "output_type": "stream",
     "text": [
      "Please Enter the number:  5\n"
     ]
    },
    {
     "name": "stdout",
     "output_type": "stream",
     "text": [
      "The entered number is prime\n"
     ]
    }
   ],
   "source": [
    "def is_prime(num):\n",
    "    if num < 2:\n",
    "        return False\n",
    "    for i in range(2, int(num ** 0.5) + 1):\n",
    "        if num % i == 0:\n",
    "            return False\n",
    "    return True\n",
    "\n",
    "try:\n",
    "    num=int(input(\"Please Enter the number: \"))\n",
    "    if is_prime(num):\n",
    "        print(\"The entered number is prime\")\n",
    "    else:\n",
    "        print(\"The entered number is not prime\")\n",
    "except ValueError:    #Handling invalid input\n",
    "         print(\"Error:Please enter a valid integer\")"
   ]
  },
  {
   "cell_type": "markdown",
   "id": "c9c84179-9921-45ca-9406-f146e769e326",
   "metadata": {},
   "source": [
    "#### Write a program to accept the file name to be opened from the user, if file exist print the contents of the file in title case or else handle the exception and print an error message"
   ]
  },
  {
   "cell_type": "code",
   "execution_count": 6,
   "id": "2eac815a-bb93-4a4f-898f-3b58b32c0ab0",
   "metadata": {},
   "outputs": [
    {
     "name": "stdin",
     "output_type": "stream",
     "text": [
      "Please enter the file name with absolute address:  sanjivani\n"
     ]
    },
    {
     "name": "stdout",
     "output_type": "stream",
     "text": [
      "Error: File not found. Please enter the correct file name with absolute address\n"
     ]
    }
   ],
   "source": [
    "try:\n",
    "    file_name = input(\"Please enter the file name with absolute address: \")\n",
    "    with open(file_name, 'r') as file:\n",
    "        content=file.read()\n",
    "        print(content.title())\n",
    "except FileNotFoundError:\n",
    "    print(\"Error: File not found. Please enter the correct file name with absolute address\")\n",
    "except PermissionError:\n",
    "    print(\"Error:You don't have permission to access the\")"
   ]
  },
  {
   "cell_type": "markdown",
   "id": "d8d5adcd-fa5f-47a4-8644-12a458932e3a",
   "metadata": {},
   "source": [
    "#### Declare a list with 10 integer and ask the user to enter an index. Check whether the number in that index is positive or negative number. If any invalid index is entered, handle the exception and print an error message."
   ]
  },
  {
   "cell_type": "code",
   "execution_count": 7,
   "id": "b6716b98-5489-4b74-ae49-794880737939",
   "metadata": {},
   "outputs": [
    {
     "name": "stdin",
     "output_type": "stream",
     "text": [
      "Enter an index (0-9):  7\n"
     ]
    },
    {
     "name": "stdout",
     "output_type": "stream",
     "text": [
      "The number at index 7 is negative.\n"
     ]
    }
   ],
   "source": [
    "numbers=[5,-3,7,-1,12,-8,9,-6,15,2]\n",
    "\n",
    "try:\n",
    "    index= int(input(\"Enter an index (0-9): \"))\n",
    "    value = numbers[index]\n",
    "    if value > 0:\n",
    "        print(f\"The number at index {index} is positive.\")\n",
    "    else:\n",
    "        print(f\"The number at index {index} is negative.\")\n",
    "except IndexError:\n",
    "    print(\"Error: index out of range. olease enter a value \")\n",
    "except ValueError:\n",
    "    print(\"Error:Please enter a valid integer.\")"
   ]
  },
  {
   "cell_type": "code",
   "execution_count": 8,
   "id": "4e50ba2b-3488-42c5-b98a-6122e16bb985",
   "metadata": {},
   "outputs": [
    {
     "name": "stdout",
     "output_type": "stream",
     "text": [
      "Word:world,ASCII Differences:19\n",
      "Word:wide,ASCII Differences:18\n",
      "Word:web,ASCII Differences:21\n",
      "Final output: 191821\n"
     ]
    }
   ],
   "source": [
    "sentence = 'world wide web'\n",
    "words=sentence.upper()  #convert to uppercase\n",
    "words=sentence.split()  #split into words\n",
    "\n",
    "#convert each word into a list of characters\n",
    "char_lists=[list(word) for word in words]\n",
    "\n",
    "#Process each word and compute ASCII differences\n",
    "ascii_differences= []\n",
    "for word in char_lists:\n",
    "    first_char=word[0]\n",
    "    last_char=word[-1]\n",
    "    ascii_first=ord(first_char)\n",
    "    ascii_last=ord(last_char)\n",
    "    \n",
    "    difference=abs(ascii_first - ascii_last)\n",
    "    ascii_differences.append(difference)\n",
    "    \n",
    "#print results\n",
    "for word,diff in zip(words,ascii_differences):\n",
    "    print(f\"Word:{word},ASCII Differences:{diff}\")\n",
    "    \n",
    "#Final concatenated result as a number\n",
    "result=int(\"\".join(map(str, ascii_differences)))\n",
    "print(f\"Final output: {result}\")\n"
   ]
  },
  {
   "cell_type": "raw",
   "id": "95c28095-d4c9-4063-ac08-10c7cc645975",
   "metadata": {},
   "source": [
    "Letter    ASCII   (ord(C))   Calculation (ord(C) - ord('A') + 1)\n",
    "A         65           (65-65)+1=1\n",
    "B         66           (66-65)+1=2\n",
    "C         67           (67-65)+1=3 "
   ]
  },
  {
   "cell_type": "code",
   "execution_count": 9,
   "id": "52e20884-5603-4584-88ba-33980c67de23",
   "metadata": {},
   "outputs": [
    {
     "name": "stdout",
     "output_type": "stream",
     "text": [
      "Letter: A, Mapped Value: 1\n",
      "Letter: R, Mapped Value: 18\n",
      "Letter: W, Mapped Value: 23\n",
      "Letter: B, Mapped Value: 2\n",
      "Letter: Z, Mapped Value: 26\n"
     ]
    }
   ],
   "source": [
    "# convert letters to their mapped values (A=1,B=2,.....,Z=26)\n",
    "def get_mapped_value(letter):\n",
    "    return ord(letter) - ord('A') + 1\n",
    "\n",
    "#Example\n",
    "letters={'A','B','R','W','Z'}\n",
    "for letter in letters:\n",
    "    print(f\"Letter: {letter}, Mapped Value: {get_mapped_value(letter)}\")\n"
   ]
  },
  {
   "cell_type": "code",
   "execution_count": 10,
   "id": "5b7b0b5b-bdbf-4733-ad21-fd8c9463a65f",
   "metadata": {},
   "outputs": [
    {
     "name": "stdout",
     "output_type": "stream",
     "text": [
      "\n",
      "Processing word: WORLD\n",
      "Pair: (W, D) -> (23 - 4) = 19\n",
      "Pair: (O, L) -> (15 - 12) = 3\n",
      "Middle character: R, Mapped Value: 18\n",
      "Total for 'WORLD': 40\n",
      "\n",
      "Processing word: WIDE\n",
      "Pair: (W, E) -> (23 - 5) = 18\n",
      "Pair: (I, D) -> (9 - 4) = 5\n",
      "Total for 'WIDE': 23\n",
      "\n",
      "Processing word: WEB\n",
      "Pair: (W, B) -> (23 - 2) = 21\n",
      "Middle character: E, Mapped Value: 5\n",
      "Total for 'WEB': 26\n",
      "Final Output: 402326\n"
     ]
    }
   ],
   "source": [
    "def findStringCode(sentence):\n",
    "    sentence = sentence.upper()  # Convert to uppercase\n",
    "    words = sentence.split()  # Split into words\n",
    "    word_sums = []  \n",
    "\n",
    "    for word in words:\n",
    "        length = len(word)\n",
    "        total = 0\n",
    "        print(f\"\\nProcessing word: {word}\")\n",
    "\n",
    "        # Compute absolute difference using mapped values\n",
    "        for i in range(length // 2):\n",
    "            first_char = word[i]\n",
    "            last_char = word[length - 1 - i]\n",
    "\n",
    "            # Convert letters to 1-26 scale\n",
    "            first_val = ord(first_char) - ord('A') + 1\n",
    "            last_val = ord(last_char) - ord('A') + 1\n",
    "\n",
    "            diff = abs(first_val - last_val)\n",
    "            print(f\"Pair: ({first_char}, {last_char}) -> ({first_val} - {last_val}) = {diff}\")\n",
    "\n",
    "            total += diff\n",
    "\n",
    "        # Handle middle character for odd-length words\n",
    "        if length % 2 == 1:\n",
    "            mid_char = word[length // 2]\n",
    "            mid_value = ord(mid_char) - ord('A') + 1\n",
    "            print(f\"Middle character: {mid_char}, Mapped Value: {mid_value}\")\n",
    "            total += mid_value\n",
    "\n",
    "        print(f\"Total for '{word}': {total}\")\n",
    "        word_sums.append(str(total))\n",
    "\n",
    "    final_result = int(\"\".join(word_sums))\n",
    "    print(f\"Final Output: {final_result}\")\n",
    "    return final_result\n",
    "\n",
    "sentence=\"world wide web\"\n",
    "output=findStringCode(sentence)\n"
   ]
  },
  {
   "cell_type": "markdown",
   "id": "ac21c22d-cd7d-4c69-80f3-d66236ba4a85",
   "metadata": {},
   "source": [
    "#### Get code through string"
   ]
  },
  {
   "cell_type": "code",
   "execution_count": 11,
   "id": "0a9034e2-8f1d-4e96-842c-3717dcffcb56",
   "metadata": {},
   "outputs": [
    {
     "name": "stdout",
     "output_type": "stream",
     "text": [
      "Character Lists: [['W', 'i', 'p', 'r', 'o'], ['T', 'e', 'c', 'h', 'n', 'o', 'l', 'o', 'g', 'i', 'e', 's']]\n",
      "Letter Counts: [5, 12]\n"
     ]
    }
   ],
   "source": [
    "input1=\"Wipro Technologies\"\n",
    "\n",
    "#Step 1: Split into words\n",
    "words= input1.split()\n",
    "\n",
    "#Step 2: Convert words into lists of characters\n",
    "char_lists = [list(word) for word in words]\n",
    "\n",
    "#Step 3: Count letters in each list\n",
    "letter_counts = [len(chars) for chars in char_lists]\n",
    "\n",
    "print(\"Character Lists:\",char_lists)\n",
    "print(\"Letter Counts:\",letter_counts)\n"
   ]
  },
  {
   "cell_type": "code",
   "execution_count": 12,
   "id": "4aa402a1-8d1e-40b4-a33e-02f6bb973bb7",
   "metadata": {},
   "outputs": [
    {
     "name": "stdout",
     "output_type": "stream",
     "text": [
      "15\n"
     ]
    },
    {
     "data": {
      "text/plain": [
       "8"
      ]
     },
     "execution_count": 12,
     "metadata": {},
     "output_type": "execute_result"
    }
   ],
   "source": [
    "def sum_digits(num):\n",
    "    total = 0\n",
    "    while num != 0:\n",
    "        last_digit=num%10\n",
    "        total=total+last_digit  #get the last digit\n",
    "        num=num//10     #Remove the last digit\n",
    "    return total\n",
    "\n",
    "print(sum_digits(456)) \n",
    "total=[sum_digits(i) for i in letter_counts]\n",
    "total\n",
    "total_sum=0\n",
    "for i in total:\n",
    "    total_sum=total_sum+i\n",
    "total_sum\n"
   ]
  },
  {
   "cell_type": "code",
   "execution_count": 13,
   "id": "e89d9d13-f4fe-4b65-828e-2a7f5b99bae8",
   "metadata": {},
   "outputs": [
    {
     "name": "stdout",
     "output_type": "stream",
     "text": [
      "[['W', 'i', 'p', 'r', 'o'], ['T', 'e', 'c', 'h', 'n', 'o', 'l', 'o', 'g', 'i', 'e', 's']]\n",
      "[5, 12]\n"
     ]
    }
   ],
   "source": [
    "#Input string\n",
    "inpu1=\"The Good The Bad and The ugly\"\n",
    "\n",
    "#Step 1: Split into words\n",
    "words=input1.split()\n",
    "\n",
    "#Step 2: Convert words into lists of characters\n",
    "char_lists=[list(word) for word in words]\n",
    "\n",
    "#Step 3: Count letters in each list\n",
    "letter_count=[len(char) for char in char_lists]\n",
    "\n",
    "#Display char list and letter count\n",
    "print(char_lists)\n",
    "print(letter_count)\n"
   ]
  },
  {
   "cell_type": "code",
   "execution_count": 14,
   "id": "7e310126-6219-4dd7-9849-d888d19d8c59",
   "metadata": {},
   "outputs": [
    {
     "data": {
      "text/plain": [
       "8"
      ]
     },
     "execution_count": 14,
     "metadata": {},
     "output_type": "execute_result"
    }
   ],
   "source": [
    "def total_sum(num):\n",
    "    total=0\n",
    "    while(num!=0):\n",
    "        last_digit=num%10\n",
    "        total=total+last_digit\n",
    "        num=num//10\n",
    "    return total\n",
    "\n",
    "total=[total_sum(num) for num in letter_count]\n",
    "total\n",
    "total_sum=0\n",
    "for i in total:\n",
    "    total_sum=total_sum+i\n",
    "total_sum\n"
   ]
  },
  {
   "cell_type": "code",
   "execution_count": 15,
   "id": "09c1c1e6-d46f-42b3-a60b-32100dd32747",
   "metadata": {},
   "outputs": [
    {
     "data": {
      "text/plain": [
       "8"
      ]
     },
     "execution_count": 15,
     "metadata": {},
     "output_type": "execute_result"
    }
   ],
   "source": [
    "def get_pin(input1):\n",
    "    words=input1.split()\n",
    "    total_length=sum(len(word) for word in words)\n",
    "    while total_length >= 10:\n",
    "        total_length=sum(int(digit) for digit in str(total_length))\n",
    "    return total_length\n",
    "\n",
    "get_pin('The Good The Bad and The Ugly')\n",
    "get_pin('Wipro Technologies')\n"
   ]
  },
  {
   "cell_type": "code",
   "execution_count": null,
   "id": "ae0910c5-9768-46ce-b7e2-240fedcfcee9",
   "metadata": {},
   "outputs": [],
   "source": []
  }
 ],
 "metadata": {
  "kernelspec": {
   "display_name": "Python 3 (ipykernel)",
   "language": "python",
   "name": "python3"
  },
  "language_info": {
   "codemirror_mode": {
    "name": "ipython",
    "version": 3
   },
   "file_extension": ".py",
   "mimetype": "text/x-python",
   "name": "python",
   "nbconvert_exporter": "python",
   "pygments_lexer": "ipython3",
   "version": "3.11.4"
  }
 },
 "nbformat": 4,
 "nbformat_minor": 5
}
