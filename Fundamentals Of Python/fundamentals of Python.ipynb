{
 "cells": [
  {
   "cell_type": "markdown",
   "id": "d92f83c6-6c2a-42c6-b330-0602ec97a135",
   "metadata": {},
   "source": [
    "## Fundamentals Of Python"
   ]
  },
  {
   "cell_type": "code",
   "execution_count": 1,
   "id": "026d7926-080d-4ad9-ae09-7a76a50f8ab8",
   "metadata": {},
   "outputs": [
    {
     "name": "stdout",
     "output_type": "stream",
     "text": [
      "Hello\n"
     ]
    }
   ],
   "source": [
    "print(\"Hello\")"
   ]
  },
  {
   "cell_type": "markdown",
   "id": "6b1272ff-7f87-4c9e-9b01-9e2257f3b487",
   "metadata": {},
   "source": [
    "#### Data Types"
   ]
  },
  {
   "cell_type": "code",
   "execution_count": 3,
   "id": "97a20a24-c78b-4334-8503-ab8ed7b11ce9",
   "metadata": {},
   "outputs": [
    {
     "name": "stdout",
     "output_type": "stream",
     "text": [
      "<class 'int'>\n",
      "<class 'float'>\n",
      "<class 'bool'>\n",
      "<class 'str'>\n"
     ]
    }
   ],
   "source": [
    "num1=10######->int\n",
    "num2=5.2#####->float\n",
    "num3=False####->boolean\n",
    "num4='xyz'#####->string\n",
    "print(type(num1))\n",
    "print(type(num2))\n",
    "print(type(num3))\n",
    "print(type(num4))"
   ]
  },
  {
   "cell_type": "code",
   "execution_count": 4,
   "id": "6759b5cb-bdc6-41c7-84ac-0098070d5673",
   "metadata": {},
   "outputs": [
    {
     "name": "stdout",
     "output_type": "stream",
     "text": [
      "1\n",
      "<class 'int'>\n"
     ]
    }
   ],
   "source": [
    "x=1\n",
    "print(x)\n",
    "print(type(x))"
   ]
  },
  {
   "cell_type": "code",
   "execution_count": 6,
   "id": "c460b2bf-4bf8-4a82-99df-bd40fb3687de",
   "metadata": {},
   "outputs": [
    {
     "name": "stdout",
     "output_type": "stream",
     "text": [
      "10000000000000000000000000000000\n",
      "<class 'int'>\n"
     ]
    }
   ],
   "source": [
    "x=10000000000000000000000000000000\n",
    "print(x)\n",
    "print(type(x))"
   ]
  },
  {
   "cell_type": "code",
   "execution_count": 7,
   "id": "ac6b596f-8868-4a66-9e94-7f2af0dd6041",
   "metadata": {},
   "outputs": [
    {
     "name": "stdin",
     "output_type": "stream",
     "text": [
      "Please enter your age 10\n"
     ]
    },
    {
     "name": "stdout",
     "output_type": "stream",
     "text": [
      "10\n",
      "<class 'str'>\n"
     ]
    }
   ],
   "source": [
    "age=input('Please enter your age')\n",
    "print(age)\n",
    "print(type(age))\n"
   ]
  },
  {
   "cell_type": "code",
   "execution_count": 13,
   "id": "6448f816-e594-4236-af9d-93f148b0b7bb",
   "metadata": {},
   "outputs": [
    {
     "name": "stdin",
     "output_type": "stream",
     "text": [
      "Please enter your age 20\n"
     ]
    },
    {
     "name": "stdout",
     "output_type": "stream",
     "text": [
      "20\n",
      "<class 'str'>\n"
     ]
    }
   ],
   "source": [
    "age1=input(\"Please enter your age\")\n",
    "print(age1)\n",
    "print(type(age1))"
   ]
  },
  {
   "cell_type": "code",
   "execution_count": 11,
   "id": "0a81bb82-20ae-4e7e-8324-a68280c2d060",
   "metadata": {},
   "outputs": [
    {
     "name": "stdin",
     "output_type": "stream",
     "text": [
      "Please enter your age 30\n"
     ]
    },
    {
     "name": "stdout",
     "output_type": "stream",
     "text": [
      "30\n",
      "<class 'str'>\n"
     ]
    }
   ],
   "source": [
    "age2=input(\"Please enter your age\")\n",
    "print(age2)\n",
    "print(type(age))"
   ]
  },
  {
   "cell_type": "code",
   "execution_count": 14,
   "id": "db81cb90-b5c8-4348-8e5e-ab788ceccd19",
   "metadata": {},
   "outputs": [
    {
     "name": "stdout",
     "output_type": "stream",
     "text": [
      "2030\n"
     ]
    }
   ],
   "source": [
    "age = age1+age2\n",
    "print(age)\n",
    "##Here it will not perform addition it will concatniate string 1 and string 2"
   ]
  },
  {
   "cell_type": "markdown",
   "id": "91900596-6332-4d94-ba86-65921cc035ee",
   "metadata": {},
   "source": [
    "#### Emplicit Type Casting"
   ]
  },
  {
   "cell_type": "markdown",
   "id": "d0617130-3eda-4297-aac3-3098366faad4",
   "metadata": {},
   "source": [
    "###### Implicit type casting is when Python automatically converts a smaller data type into a larger data type to prevent data loss.\n",
    "###### Done automatically by Python\n",
    "###### No loss of data"
   ]
  },
  {
   "cell_type": "code",
   "execution_count": 17,
   "id": "a41c768d-62aa-4c51-9e4e-a7d9a2e9846a",
   "metadata": {},
   "outputs": [
    {
     "name": "stdout",
     "output_type": "stream",
     "text": [
      "15.5\n",
      "<class 'float'>\n"
     ]
    }
   ],
   "source": [
    "num1 = 10    # Integer\n",
    "num2 = 5.5 # Float\n",
    "\n",
    "result = num1 + num2  # Python converts int to float\n",
    "print(result)  # Output: 15.5\n",
    "print(type(result))  # Output: <class 'float'>\n",
    "## Here, Python automatically converts num1 (int) to float before performing addition, ensuring no data loss."
   ]
  },
  {
   "cell_type": "markdown",
   "id": "698b0a0d-e53f-41d9-ac0f-ba877bea8868",
   "metadata": {},
   "source": [
    "#### Explicit Type Casting"
   ]
  },
  {
   "cell_type": "markdown",
   "id": "6bff800c-5c5c-429c-9faa-73a0679996da",
   "metadata": {},
   "source": [
    "###### Explicit type casting (also called type conversion) is when a programmer manually converts one data type into another using built-in functions like int(), float(), str(), etc.\n",
    "###### Done manually using functions\n",
    "###### May cause data loss (e.g., float to int)\n",
    "###### Can convert any type (e.g., str → int, float → int)"
   ]
  },
  {
   "cell_type": "code",
   "execution_count": 18,
   "id": "32c129cd-7075-4f1a-84a8-755742fd399c",
   "metadata": {},
   "outputs": [
    {
     "name": "stdout",
     "output_type": "stream",
     "text": [
      "5\n"
     ]
    }
   ],
   "source": [
    "# Explicitly converting float to int\n",
    "num = 5.8\n",
    "int_num = int(num)  # Converts float to int\n",
    "print(int_num)  # Output: 5"
   ]
  },
  {
   "cell_type": "code",
   "execution_count": 19,
   "id": "0af9a6ef-0107-4fde-8593-a697fbe51294",
   "metadata": {},
   "outputs": [
    {
     "name": "stdout",
     "output_type": "stream",
     "text": [
      "100.0\n"
     ]
    }
   ],
   "source": [
    "int_num = 100\n",
    "string_num = '1.5'\n",
    "float_num = float(int_num) #Convert int into float\n",
    "print(float_num) #Output:100.0"
   ]
  },
  {
   "cell_type": "code",
   "execution_count": 20,
   "id": "e3158570-e526-4901-b8d0-7d590ebf99fc",
   "metadata": {},
   "outputs": [
    {
     "name": "stdout",
     "output_type": "stream",
     "text": [
      "1.5\n"
     ]
    }
   ],
   "source": [
    "float_num = float(string_num)\n",
    "float_num=float(string_num) #Convert string to float\n",
    "print(float_num)#Output:1.5"
   ]
  },
  {
   "cell_type": "markdown",
   "id": "100ac8f3-674f-4389-bdb4-fb9d93f6834b",
   "metadata": {},
   "source": [
    "#### Complex Number"
   ]
  },
  {
   "cell_type": "code",
   "execution_count": 21,
   "id": "1d889644-65a8-4dc3-a11b-aa0a599e45d9",
   "metadata": {},
   "outputs": [
    {
     "name": "stdout",
     "output_type": "stream",
     "text": [
      "num1: 1 num2: 3j\n",
      "<class 'int'>\n",
      "<class 'complex'>\n",
      "1\n",
      "3.0\n"
     ]
    }
   ],
   "source": [
    "num1 = 1 #int\n",
    "num2 = 3j #complex\n",
    "print('num1:',num1,'num2:',num2)\n",
    "print(type(num1)) #datatype of num1\n",
    "print(type(num2)) #data type of num2\n",
    "print(num1.real) #Output: 1\n",
    "print(num2.imag) #Output:3.0\n"
   ]
  },
  {
   "cell_type": "markdown",
   "id": "bba89690-530b-4ac1-8ff0-04a60e2f9aa7",
   "metadata": {},
   "source": [
    "#### Boolean Values"
   ]
  },
  {
   "cell_type": "markdown",
   "id": "38d4bfb5-9896-43e2-8975-16632f70f53b",
   "metadata": {},
   "source": [
    "A Boolean in Python represents one of two values:\n",
    "✅ True\n",
    "❌ False\n",
    "\n",
    "Booleans are a subtype of integers (True is 1, False is 0)."
   ]
  },
  {
   "cell_type": "code",
   "execution_count": 22,
   "id": "aa52db4b-799b-4ef7-b750-3caca5c0b96f",
   "metadata": {},
   "outputs": [
    {
     "name": "stdout",
     "output_type": "stream",
     "text": [
      "True\n",
      "False\n",
      "<class 'bool'>\n"
     ]
    }
   ],
   "source": [
    "all_ok = True\n",
    "print(all_ok)\n",
    "all_ok = False\n",
    "print(all_ok)\n",
    "print(type(all_ok))"
   ]
  },
  {
   "cell_type": "code",
   "execution_count": 25,
   "id": "97980821-41db-4935-b48a-a5318c15aebc",
   "metadata": {},
   "outputs": [
    {
     "name": "stdin",
     "output_type": "stream",
     "text": [
      "ok it is confirmed?: \n"
     ]
    },
    {
     "name": "stdout",
     "output_type": "stream",
     "text": [
      "False\n",
      "<class 'bool'>\n"
     ]
    }
   ],
   "source": [
    "#If you enter somthing then it will be true and if you enter anything it will be false as a output.\n",
    "status = bool(input('ok it is confirmed?:'))\n",
    "print(status)\n",
    "print(type(status))"
   ]
  },
  {
   "cell_type": "markdown",
   "id": "03c125f7-a725-4622-b2c3-814045397754",
   "metadata": {},
   "source": [
    "### Arthimatic operators are used to perform some from of mathematical operation"
   ]
  },
  {
   "cell_type": "code",
   "execution_count": 3,
   "id": "18de6caf-06e1-4ba2-a649-a4ef35a812c6",
   "metadata": {},
   "outputs": [
    {
     "name": "stdout",
     "output_type": "stream",
     "text": [
      "25\n",
      "<class 'int'>\n",
      "40\n",
      "<class 'int'>\n"
     ]
    }
   ],
   "source": [
    "num1 = 10\n",
    "num2 = 15\n",
    "print(num1 + num2)\n",
    "print(type(10*4))\n",
    "print(10*4)\n",
    "print(type(10*4))\n"
   ]
  },
  {
   "cell_type": "code",
   "execution_count": 5,
   "id": "0436ffd5-9def-46f7-b823-838f50bee993",
   "metadata": {},
   "outputs": [
    {
     "name": "stdout",
     "output_type": "stream",
     "text": [
      "3\n",
      "<class 'int'>\n"
     ]
    }
   ],
   "source": [
    "goals_for = 10\n",
    "goals_against = 7\n",
    "print(goals_for-goals_against)\n",
    "print(type(goals_for-goals_against))"
   ]
  },
  {
   "cell_type": "markdown",
   "id": "ea10e61f-76f4-4f62-96ee-8b8f9692f3d6",
   "metadata": {},
   "source": [
    "### Floating values"
   ]
  },
  {
   "cell_type": "code",
   "execution_count": 4,
   "id": "2a8f860c-65fd-4770-a600-9ea219ee2bd0",
   "metadata": {},
   "outputs": [
    {
     "name": "stdout",
     "output_type": "stream",
     "text": [
      "5.0\n",
      "<class 'float'>\n"
     ]
    }
   ],
   "source": [
    "#Division Operation\n",
    "print(100/20)\n",
    "print(type(100/20))"
   ]
  },
  {
   "cell_type": "code",
   "execution_count": 2,
   "id": "a3aab5a4-ac3b-403e-8047-89452b320ede",
   "metadata": {},
   "outputs": [
    {
     "name": "stdout",
     "output_type": "stream",
     "text": [
      "5\n",
      "<class 'int'>\n"
     ]
    }
   ],
   "source": [
    "#This operator is reffered to as the floor division.\n",
    "print(100//20)\n",
    "print(type(100//20))"
   ]
  },
  {
   "cell_type": "code",
   "execution_count": 5,
   "id": "4f57c336-0a26-45a0-a7a0-0b2ba8c46445",
   "metadata": {},
   "outputs": [
    {
     "name": "stdout",
     "output_type": "stream",
     "text": [
      "15625\n"
     ]
    }
   ],
   "source": [
    "##exponentiation operator\n",
    "num1 = 5\n",
    "num2 = 6\n",
    "print(num1**num2)\n",
    "#num1 ** num2 means 5 raised to the power of 6 → 5^6\n",
    "#Calculation:5^6=15625\n"
   ]
  },
  {
   "cell_type": "code",
   "execution_count": 8,
   "id": "b84a8b21-58a5-4461-b6c5-ad62e9c2c17d",
   "metadata": {},
   "outputs": [
    {
     "name": "stdout",
     "output_type": "stream",
     "text": [
      "True\n"
     ]
    }
   ],
   "source": [
    "#None value\n",
    "#Python has a special type\n",
    "#the Nonetype,with a single value,none\n",
    "winner=None\n",
    "print(winner is None)\n",
    "#Which we print as true"
   ]
  },
  {
   "cell_type": "code",
   "execution_count": 10,
   "id": "7a5240b8-0559-4833-a866-30254f78709d",
   "metadata": {},
   "outputs": [
    {
     "name": "stdout",
     "output_type": "stream",
     "text": [
      "winner: None\n",
      "winner is None : True\n",
      "<class 'NoneType'>\n"
     ]
    }
   ],
   "source": [
    "winner=None\n",
    "print('winner:',winner)\n",
    "print('winner is None :',winner is not None)\n",
    "print(type(winner))\n",
    "#As the winner is not None so it will give False."
   ]
  },
  {
   "cell_type": "code",
   "execution_count": 13,
   "id": "a23b860d-80ef-4c35-b627-fa2b2c9a9d8e",
   "metadata": {},
   "outputs": [
    {
     "name": "stdin",
     "output_type": "stream",
     "text": [
      "Enter value of Num: 5\n"
     ]
    },
    {
     "name": "stdout",
     "output_type": "stream",
     "text": [
      "It is num\n"
     ]
    }
   ],
   "source": [
    "##Indentation\n",
    "num = int(input(\"Enter value of Num:\"))\n",
    "if num>0:\n",
    "    print(\"It is num\")\n"
   ]
  },
  {
   "cell_type": "code",
   "execution_count": 7,
   "id": "0913d056-9d40-486b-8ffd-d3067123624f",
   "metadata": {},
   "outputs": [
    {
     "name": "stdin",
     "output_type": "stream",
     "text": [
      "Enter the number 5\n"
     ]
    },
    {
     "name": "stdout",
     "output_type": "stream",
     "text": [
      "5\n"
     ]
    }
   ],
   "source": [
    "num = int(input(\"Enter the number\"))\n",
    "if num>0:\n",
    "    print(num)"
   ]
  },
  {
   "cell_type": "markdown",
   "id": "cb232ee0-85df-4943-9ef1-e01ee740fce1",
   "metadata": {},
   "source": [
    "Else in an If statment"
   ]
  },
  {
   "cell_type": "code",
   "execution_count": 19,
   "id": "48831d3e-714f-4c36-ac48-b3cfe28b3c91",
   "metadata": {},
   "outputs": [
    {
     "name": "stdin",
     "output_type": "stream",
     "text": [
      "Enter the value of Num: 6\n"
     ]
    },
    {
     "name": "stdout",
     "output_type": "stream",
     "text": [
      "It is positive\n"
     ]
    }
   ],
   "source": [
    "num = int(input(\"Enter the value of Num:\"))\n",
    "if num<0:\n",
    "    print(\"It is negative\")\n",
    "else:\n",
    "    print(\"It is positive\")"
   ]
  },
  {
   "cell_type": "markdown",
   "id": "4d4ccca4-ad09-4e8b-9cb5-01e6df28a5cd",
   "metadata": {},
   "source": [
    "The Use of elif"
   ]
  },
  {
   "cell_type": "code",
   "execution_count": 12,
   "id": "88395b15-a5ba-4fa6-8f7a-be53709277c8",
   "metadata": {},
   "outputs": [
    {
     "name": "stdin",
     "output_type": "stream",
     "text": [
      "Enter how nuch you have in the savings 450\n"
     ]
    },
    {
     "name": "stdout",
     "output_type": "stream",
     "text": [
      "Well Done\n"
     ]
    }
   ],
   "source": [
    "saving = float(input(\"Enter how nuch you have in the savings\"))\n",
    "if saving == 0:\n",
    "    print(\"No Savings\")\n",
    "elif saving<500:\n",
    "    print(\"Well Done\")\n",
    "elif saving<1000:\n",
    "    print(\"that a tidy sum\")\n",
    "elif saving<10000:\n",
    "    print(\"Welcome Sir\")\n",
    "else:\n",
    "    print(\"Thank You\")\n"
   ]
  },
  {
   "cell_type": "markdown",
   "id": "afd285cb-8135-4312-9ec8-cc9d2932e28c",
   "metadata": {},
   "source": [
    "#### Iterative Looping"
   ]
  },
  {
   "cell_type": "markdown",
   "id": "85213094-240d-4225-ada0-f2f31c84c1b4",
   "metadata": {},
   "source": [
    "while Loop"
   ]
  },
  {
   "cell_type": "markdown",
   "id": "335d610d-1033-462c-ad1d-9be9a42a424f",
   "metadata": {},
   "source": [
    "The while loop exists in almost all programming language and is use to iterate(or repeat)one or more statments\n",
    "as long as the test condition (expression) is true."
   ]
  },
  {
   "cell_type": "code",
   "execution_count": 14,
   "id": "95a5eabb-bc4a-47c9-b6b0-45000c316c70",
   "metadata": {},
   "outputs": [
    {
     "name": "stdout",
     "output_type": "stream",
     "text": [
      "1\n",
      "2\n",
      "3\n",
      "4\n",
      "5\n",
      "6\n",
      "7\n",
      "8\n",
      "9\n",
      "10\n"
     ]
    }
   ],
   "source": [
    "count = 1\n",
    "while count<=10:\n",
    "    print(count)\n",
    "    count+=1"
   ]
  },
  {
   "cell_type": "markdown",
   "id": "170c44f0-d5b1-4a86-877e-f4ea0027abdf",
   "metadata": {},
   "source": [
    "For Loop"
   ]
  },
  {
   "cell_type": "markdown",
   "id": "352549c1-993d-441e-90b7-037496bc6a28",
   "metadata": {},
   "source": [
    "loop over a set of values in a range"
   ]
  },
  {
   "cell_type": "code",
   "execution_count": 15,
   "id": "dbbd5f70-1a39-4c0e-a48d-1e34e8847982",
   "metadata": {},
   "outputs": [
    {
     "name": "stdout",
     "output_type": "stream",
     "text": [
      "Print out values in range\n",
      "2\n",
      "3\n",
      "4\n",
      "5\n",
      "6\n",
      "7\n",
      "8\n",
      "9\n",
      "Done\n"
     ]
    }
   ],
   "source": [
    "print(\"Print out values in range\")\n",
    "for i in range(2,10):\n",
    "    print(i)\n",
    "print(\"Done\")\n",
    "#Here it will give output from 2 to 9 as we have given range."
   ]
  },
  {
   "cell_type": "markdown",
   "id": "625432cb-e3fe-40ec-80e8-4094c1a462d5",
   "metadata": {},
   "source": [
    "Now use an 'anonymous' loop variable\n",
    "\n"
   ]
  },
  {
   "cell_type": "code",
   "execution_count": 24,
   "id": "8e431db8-79e2-4106-a43f-671cf345ed52",
   "metadata": {},
   "outputs": [
    {
     "name": "stdout",
     "output_type": "stream",
     "text": [
      ". . . . . . . . . . \n"
     ]
    }
   ],
   "source": [
    "#it is use to avoid space complexity.\n",
    "for _ in range(0,10):\n",
    "    print('.',end = \" \")\n",
    "print()"
   ]
  },
  {
   "cell_type": "code",
   "execution_count": 23,
   "id": "e6c7b693-505d-458c-84f4-0160711ed16d",
   "metadata": {},
   "outputs": [
    {
     "name": "stdout",
     "output_type": "stream",
     "text": [
      ". . . . . . . . . . "
     ]
    }
   ],
   "source": [
    "for _ in range(0,10):\n",
    "    print('.',end = \" \")"
   ]
  },
  {
   "cell_type": "markdown",
   "id": "2e4fc6fd-9a09-44b3-8076-d3adc8e9b6ce",
   "metadata": {},
   "source": [
    "#### Break Loop Statment"
   ]
  },
  {
   "cell_type": "code",
   "execution_count": 2,
   "id": "dee8a71b-10b4-47ce-af6f-fcfbe89e74cf",
   "metadata": {},
   "outputs": [
    {
     "name": "stdout",
     "output_type": "stream",
     "text": [
      "Only print code if all iterations completed\n"
     ]
    },
    {
     "name": "stdin",
     "output_type": "stream",
     "text": [
      "Enter the number to check for: 4\n"
     ]
    },
    {
     "name": "stdout",
     "output_type": "stream",
     "text": [
      "0   1   2   3   "
     ]
    }
   ],
   "source": [
    "print(\"Only print code if all iterations completed\")\n",
    "num=int(input(\"Enter the number to check for:\"))\n",
    "for i in range(0,6):\n",
    "    if i==num:\n",
    "        break\n",
    "    print(i,' ',end=\" \")"
   ]
  },
  {
   "cell_type": "code",
   "execution_count": 3,
   "id": "86f8b1a1-43f9-4ae3-a351-2eea9489fefd",
   "metadata": {},
   "outputs": [],
   "source": [
    "#Location of print is changed\n",
    "for i in range(0,6):\n",
    "    if i == num:\n",
    "        break\n",
    "        print(i,\" \",end=\" \")\n",
    "        print(\"Done\")"
   ]
  },
  {
   "cell_type": "markdown",
   "id": "2d173881-71e0-4b92-9422-b75ac7c5d242",
   "metadata": {},
   "source": [
    "print all odd numbers from the given range list using for loop \n",
    "                                                    "
   ]
  },
  {
   "cell_type": "code",
   "execution_count": 33,
   "id": "1073c030-6f6c-4162-a3f5-0993626389eb",
   "metadata": {},
   "outputs": [],
   "source": [
    "#Define the start and end limits of the range.\n",
    "#Iterate from start till the range in the list using for loop check if num %2!=0.\n",
    "#If the condition satisfies, then only print the number.\n"
   ]
  },
  {
   "cell_type": "code",
   "execution_count": 35,
   "id": "c9e37d29-4aa3-49ed-af02-e59fc49fee27",
   "metadata": {},
   "outputs": [
    {
     "name": "stdout",
     "output_type": "stream",
     "text": [
      "5 7 9 11 13 15 17 19 "
     ]
    }
   ],
   "source": [
    "#python progran to print odd Numbers in a given range.\n",
    "start,end = 4,19\n",
    "\n",
    "#Iterating each number in list\n",
    "for num in range(start,end +1):\n",
    "\n",
    "    #Checking condition\n",
    "    if num % 2!= 0:\n",
    "        print(num,end= \" \")"
   ]
  },
  {
   "cell_type": "markdown",
   "id": "12af0396-d0a1-438e-87f8-d335490af971",
   "metadata": {},
   "source": [
    "print all even numbers from the given range list using for loop"
   ]
  },
  {
   "cell_type": "code",
   "execution_count": 38,
   "id": "1ad06332-8fc6-40cc-aeb0-8d37930d567e",
   "metadata": {},
   "outputs": [
    {
     "name": "stdout",
     "output_type": "stream",
     "text": [
      "4 6 8 10 12 14 16 18 "
     ]
    }
   ],
   "source": [
    "#python progran to print even Numbers in a given range.\n",
    "start,end = 4,19\n",
    "\n",
    "#Iterating each number in list\n",
    "for num in range(start,end +1):\n",
    "\n",
    "    #Checking condition\n",
    "    if num % 2 == 0:\n",
    "        print(num,end= \" \")"
   ]
  },
  {
   "cell_type": "markdown",
   "id": "465894fc-49b3-4d49-93bb-c6f426650303",
   "metadata": {},
   "source": [
    "python program to print all even numbers in range for even_numbers in range(4,19,4)"
   ]
  },
  {
   "cell_type": "code",
   "execution_count": 42,
   "id": "e8c38c86-7938-49b6-a22d-97a848ecc770",
   "metadata": {},
   "outputs": [
    {
     "name": "stdout",
     "output_type": "stream",
     "text": [
      "4 8 12 16 "
     ]
    }
   ],
   "source": [
    "start,end = 4,19\n",
    "step=4\n",
    "\n",
    "#Iterating each number in list\n",
    "for num in range(start,end +1,step):\n",
    "\n",
    "    #Checking condition\n",
    "    if num % 2 == 0:\n",
    "        print(num,end= \" \")"
   ]
  },
  {
   "cell_type": "code",
   "execution_count": 43,
   "id": "1ed19979-5b3f-4542-a4e9-5d07b1906aee",
   "metadata": {},
   "outputs": [
    {
     "name": "stdout",
     "output_type": "stream",
     "text": [
      "2\n",
      "3\n",
      "4\n"
     ]
    }
   ],
   "source": [
    "#when your going to assign single value to multiple variable it will give you error\n",
    "x,y,z=2,3,4\n",
    "print(x)\n",
    "print(y)\n",
    "print(z)"
   ]
  },
  {
   "cell_type": "code",
   "execution_count": 44,
   "id": "75181fc8-2057-4884-86fb-9217c2722ab7",
   "metadata": {},
   "outputs": [
    {
     "ename": "TypeError",
     "evalue": "cannot unpack non-iterable int object",
     "output_type": "error",
     "traceback": [
      "\u001b[1;31m---------------------------------------------------------------------------\u001b[0m",
      "\u001b[1;31mTypeError\u001b[0m                                 Traceback (most recent call last)",
      "Cell \u001b[1;32mIn[44], line 1\u001b[0m\n\u001b[1;32m----> 1\u001b[0m x,y,z\u001b[38;5;241m=\u001b[39m\u001b[38;5;241m2\u001b[39m\n\u001b[0;32m      2\u001b[0m \u001b[38;5;28mprint\u001b[39m(x)\n\u001b[0;32m      3\u001b[0m \u001b[38;5;28mprint\u001b[39m(y)\n",
      "\u001b[1;31mTypeError\u001b[0m: cannot unpack non-iterable int object"
     ]
    }
   ],
   "source": [
    "x,y,z=2\n",
    "print(x)\n",
    "print(y)\n",
    "print(z)\n",
    "#As we cannot assign single values to multiple variables so it will give you error."
   ]
  },
  {
   "cell_type": "markdown",
   "id": "85d31280-ae31-4a35-835b-a913aa8c40d0",
   "metadata": {},
   "source": [
    "### Global Variables"
   ]
  },
  {
   "cell_type": "markdown",
   "id": "d81474f3-1435-4e90-b75c-e80583788e83",
   "metadata": {},
   "source": [
    "A variable which are declared outside a function."
   ]
  },
  {
   "cell_type": "code",
   "execution_count": 7,
   "id": "be5c0484-5972-4eb3-83f4-6f3f883daef8",
   "metadata": {},
   "outputs": [
    {
     "name": "stdout",
     "output_type": "stream",
     "text": [
      "python is awesome\n"
     ]
    }
   ],
   "source": [
    "x=\"awesome\"\n",
    "def my_function():\n",
    "    print(\"python is \"+x)\n",
    "my_function()"
   ]
  },
  {
   "cell_type": "markdown",
   "id": "032ede8d-4b46-405f-863c-11159b8dda82",
   "metadata": {},
   "source": [
    "### Local Varible"
   ]
  },
  {
   "cell_type": "markdown",
   "id": "d9bb70e6-8217-4796-a3d7-aab46eb8b70c",
   "metadata": {},
   "source": [
    "A variable which are declared inside a function."
   ]
  },
  {
   "cell_type": "code",
   "execution_count": 11,
   "id": "8738f894-997d-4fa7-9318-44130857ade9",
   "metadata": {},
   "outputs": [
    {
     "name": "stdout",
     "output_type": "stream",
     "text": [
      "Python is fantastic\n"
     ]
    }
   ],
   "source": [
    "def my_function():\n",
    "    x = \"fantastic\"  # Local variable\n",
    "    print(\"Python is \" + x)\n",
    "my_function()\n",
    "\n"
   ]
  },
  {
   "cell_type": "markdown",
   "id": "89a72351-befb-456e-afa6-5a492fe51ffd",
   "metadata": {},
   "source": [
    "### Local and Global Variable"
   ]
  },
  {
   "cell_type": "code",
   "execution_count": 12,
   "id": "49b08166-264f-4436-971c-0442edec0d92",
   "metadata": {},
   "outputs": [
    {
     "name": "stdout",
     "output_type": "stream",
     "text": [
      "python is fantistic\n"
     ]
    }
   ],
   "source": [
    "x=\"awsome\"            #Global\n",
    "def my_function():\n",
    "    x=\"fantistic\"     #Local\n",
    "    print(\"python is\",x)\n",
    "my_function()\n",
    "#when there is globel and local variables,\n",
    "#Then priority is given to local variable first"
   ]
  },
  {
   "cell_type": "markdown",
   "id": "acee8e70-06a1-4dba-84ae-c5b39f46eb43",
   "metadata": {},
   "source": [
    "## Getting Datatypes"
   ]
  },
  {
   "cell_type": "code",
   "execution_count": null,
   "id": "0e2e368f-fefc-4a84-b66e-c19ae306858c",
   "metadata": {},
   "outputs": [],
   "source": [
    "#Integer\n",
    "x=5\n",
    "print(type(x))"
   ]
  },
  {
   "cell_type": "markdown",
   "id": "4a8693ce-ad94-4cbd-a7d9-c84426077114",
   "metadata": {},
   "source": [
    "### Range"
   ]
  },
  {
   "cell_type": "code",
   "execution_count": 13,
   "id": "7a5c26ca-8c5c-432c-9077-dfe9877ef967",
   "metadata": {},
   "outputs": [
    {
     "name": "stdout",
     "output_type": "stream",
     "text": [
      "range(0, 6)\n",
      "<class 'range'>\n"
     ]
    }
   ],
   "source": [
    "#Range\n",
    "x=range(6)\n",
    "print(x)\n",
    "print(type(x))"
   ]
  },
  {
   "cell_type": "markdown",
   "id": "22e5a1bc-541e-4dea-b2a9-04baadffd942",
   "metadata": {},
   "source": [
    "## Dictionary"
   ]
  },
  {
   "cell_type": "code",
   "execution_count": 9,
   "id": "c0d0227e-d25e-4cc3-821a-d9365e0e72aa",
   "metadata": {},
   "outputs": [
    {
     "name": "stdout",
     "output_type": "stream",
     "text": [
      "{'name': 'ram', 'age': 22}\n",
      "<class 'dict'>\n"
     ]
    }
   ],
   "source": [
    "#Dictionary\n",
    "x={\"name\":\"ram\",\"age\":22}\n",
    "print(x)\n",
    "print(type(x))"
   ]
  },
  {
   "cell_type": "markdown",
   "id": "8380f57c-de80-4e60-8d9b-4138babe177a",
   "metadata": {},
   "source": [
    "### Assigning Values"
   ]
  },
  {
   "cell_type": "code",
   "execution_count": 10,
   "id": "f25e4ef6-fb75-4a7e-ae8d-d19ea160989d",
   "metadata": {},
   "outputs": [
    {
     "name": "stdout",
     "output_type": "stream",
     "text": [
      "1.0\n"
     ]
    }
   ],
   "source": [
    "#Assigning values\n",
    "x=1\n",
    "z=float(x)\n",
    "print(z)"
   ]
  },
  {
   "cell_type": "markdown",
   "id": "e52a5080-f0c6-4acd-835a-8d5e53594297",
   "metadata": {},
   "source": [
    "### String Concateness"
   ]
  },
  {
   "cell_type": "code",
   "execution_count": 13,
   "id": "c5a3daa0-4dee-4ca0-a986-dceb5006fc0b",
   "metadata": {},
   "outputs": [
    {
     "name": "stdout",
     "output_type": "stream",
     "text": [
      "HelloWorld\n"
     ]
    }
   ],
   "source": [
    "x=\"Hello\"  #String\n",
    "y=\"World\"  #String\n",
    "print(x+y) \n",
    "#It will concatnet strings"
   ]
  },
  {
   "cell_type": "code",
   "execution_count": 12,
   "id": "71537b65-494b-4bdb-9f9d-09deeb2d8c45",
   "metadata": {},
   "outputs": [
    {
     "ename": "TypeError",
     "evalue": "unsupported operand type(s) for +: 'int' and 'str'",
     "output_type": "error",
     "traceback": [
      "\u001b[1;31m---------------------------------------------------------------------------\u001b[0m",
      "\u001b[1;31mTypeError\u001b[0m                                 Traceback (most recent call last)",
      "Cell \u001b[1;32mIn[12], line 3\u001b[0m\n\u001b[0;32m      1\u001b[0m x \u001b[38;5;241m=\u001b[39m \u001b[38;5;241m7\u001b[39m\n\u001b[0;32m      2\u001b[0m y \u001b[38;5;241m=\u001b[39m \u001b[38;5;124m\"\u001b[39m\u001b[38;5;124mHello\u001b[39m\u001b[38;5;124m\"\u001b[39m\n\u001b[1;32m----> 3\u001b[0m \u001b[38;5;28mprint\u001b[39m(x\u001b[38;5;241m+\u001b[39my)\n",
      "\u001b[1;31mTypeError\u001b[0m: unsupported operand type(s) for +: 'int' and 'str'"
     ]
    }
   ],
   "source": [
    "x = 7        #Integer\n",
    "y = \"Hello\"  #String\n",
    "print(x+y)  \n",
    "#Here we cannot concat string and interger.\n",
    "#Here we will get error:can only concatenate str(not\"int\")to integer"
   ]
  },
  {
   "cell_type": "code",
   "execution_count": 17,
   "id": "0cd8f247-f371-4976-a671-e9a034089001",
   "metadata": {},
   "outputs": [
    {
     "name": "stdout",
     "output_type": "stream",
     "text": [
      "Hello5\n"
     ]
    }
   ],
   "source": [
    "#String Format.\n",
    "string1=\"Hello\"\n",
    "string2=5\n",
    "#print(string1 + string2)\n",
    "#it will generat error\n",
    "\n",
    "print(f\"Hello{string2}\")\n",
    "#f-strings (f\"\") automatically convert non-string values (like integers) into strings before inserting them into the final string.\n",
    "#No need for str() conversion manually.\n",
    "\n",
    "##usually here in order to concatnet int and string we can do this"
   ]
  },
  {
   "cell_type": "code",
   "execution_count": 20,
   "id": "57e1e5e2-3663-4c7f-8a5d-91eabba42581",
   "metadata": {},
   "outputs": [
    {
     "name": "stdout",
     "output_type": "stream",
     "text": [
      "I want 3 price and item number 54,its price is 67\n"
     ]
    }
   ],
   "source": [
    "quantity = 3\n",
    "item_no = 54\n",
    "price = 67\n",
    "print(f\"I want {quantity} price and item number {item_no},its price is {price}\")"
   ]
  },
  {
   "cell_type": "code",
   "execution_count": 24,
   "id": "512843b2-a999-4720-8605-d4fc91061bf6",
   "metadata": {},
   "outputs": [
    {
     "name": "stdout",
     "output_type": "stream",
     "text": [
      "I want 3 pieces and item number is 54,its price is 67\n"
     ]
    }
   ],
   "source": [
    "my_order=\"I want {} pieces and item number is {},its price is {}\"\n",
    "print(my_order.format(quantity,item_no,price))#my_order is a string with placeholders {0}, {1}, and {2}.\n",
    "#The format method replaces these placeholders with the provided values:\n",
    "#0-->3\n",
    "#1-->54\n",
    "#2-->67"
   ]
  },
  {
   "cell_type": "code",
   "execution_count": 23,
   "id": "9e57105f-c35a-4f5e-b1c6-13dc5186fc1a",
   "metadata": {},
   "outputs": [
    {
     "name": "stdout",
     "output_type": "stream",
     "text": [
      "I want 3 items and its number is 54,its price is 67\n"
     ]
    }
   ],
   "source": [
    "my_order = 3\n",
    "item_no = 54\n",
    "price = 67\n",
    "my_order = \"I want {0} items and its number is {1},its price is {2}\"\n",
    "print(my_order.format(quantity,item_no,price))\n",
    "#This code is useful when you want to display dynamic information in a formatted string."
   ]
  },
  {
   "cell_type": "code",
   "execution_count": 26,
   "id": "adf593b5-b95b-4a69-897a-5d35435abd87",
   "metadata": {},
   "outputs": [
    {
     "ename": "SyntaxError",
     "evalue": "invalid syntax (1181638727.py, line 3)",
     "output_type": "error",
     "traceback": [
      "\u001b[1;36m  Cell \u001b[1;32mIn[26], line 3\u001b[1;36m\u001b[0m\n\u001b[1;33m    text=\"This is the fun fair and it has got big \"round rigo\"\"\u001b[0m\n\u001b[1;37m                                                   ^\u001b[0m\n\u001b[1;31mSyntaxError\u001b[0m\u001b[1;31m:\u001b[0m invalid syntax\n"
     ]
    }
   ],
   "source": [
    "#embided quoted statements\n",
    "#The escape character allows you to use double quotes when you want to use quotes within quotes\n",
    "text=\"This is the fun fair and it has got big \"round rigo\"\"\n",
    "print(text)\n",
    "#It will show you an error."
   ]
  },
  {
   "cell_type": "code",
   "execution_count": 25,
   "id": "73c9202e-c768-4da8-8332-4446fa36a7cb",
   "metadata": {},
   "outputs": [
    {
     "name": "stdout",
     "output_type": "stream",
     "text": [
      "This is the fun fair and it has got big \"round rigo\"\n"
     ]
    }
   ],
   "source": [
    "#embided quoted statements\n",
    "#The escape character allows you to use double quotes when you want to use quotes within quotes\n",
    "text=\"This is the fun fair and it has got big \\\"round rigo\\\"\"\n",
    "#The \\\" is an escape sequence that allows you to include double quotes (\") inside a string without causing syntax errors.\n",
    "#The string inside text contains a quoted phrase: \"round rigo\".\n",
    "print(text)\n"
   ]
  },
  {
   "cell_type": "markdown",
   "id": "928be23f-aa10-4884-b146-0e976a087cc0",
   "metadata": {},
   "source": [
    "## String"
   ]
  },
  {
   "cell_type": "code",
   "execution_count": 17,
   "id": "ed684f9c-989c-4605-81a3-45a9a5967d8e",
   "metadata": {},
   "outputs": [
    {
     "name": "stdout",
     "output_type": "stream",
     "text": [
      "This is python.It is powerful\n"
     ]
    }
   ],
   "source": [
    "#if you want multiple strings\n",
    "x=\"\"\"This is python.It is powerful\"\"\"\n",
    "print(x)"
   ]
  },
  {
   "cell_type": "markdown",
   "id": "99c4e30d-8594-48b7-acb9-40bd462628de",
   "metadata": {},
   "source": [
    "### String Slicing"
   ]
  },
  {
   "cell_type": "markdown",
   "id": "007575ec-23ef-4c9b-be18-e6b4d2577fb6",
   "metadata": {},
   "source": [
    "#### Poistive Indexing"
   ]
  },
  {
   "cell_type": "code",
   "execution_count": 2,
   "id": "ab83ddb7-5df4-4db6-8d0a-b55fa5e07cfc",
   "metadata": {},
   "outputs": [
    {
     "name": "stdout",
     "output_type": "stream",
     "text": [
      "p\n"
     ]
    }
   ],
   "source": [
    "x=\"\"\"This is python.It is powerful\"\"\"\n",
    "print(x[8])#it will give letter at position 8"
   ]
  },
  {
   "cell_type": "code",
   "execution_count": 18,
   "id": "6892e360-3fb3-440d-913a-0b58ca7e22d9",
   "metadata": {},
   "outputs": [
    {
     "name": "stdout",
     "output_type": "stream",
     "text": [
      "is is \n"
     ]
    }
   ],
   "source": [
    "x=\"\"\"This is python.It is powerful\"\"\"\n",
    "print(x[2:8])#it will start from index 2 to 7"
   ]
  },
  {
   "cell_type": "code",
   "execution_count": 19,
   "id": "b9d25a42-9ad2-4ca4-8c7c-b16ecd8ba768",
   "metadata": {},
   "outputs": [
    {
     "name": "stdout",
     "output_type": "stream",
     "text": [
      "Thi\n"
     ]
    }
   ],
   "source": [
    "#sliceing from the start\n",
    "x=\"\"\"This is python.It is powerful\"\"\"\n",
    "print(x[:3])#it will give first 3 letters."
   ]
  },
  {
   "cell_type": "code",
   "execution_count": 26,
   "id": "41b3e3ae-d693-4d9b-9b0e-cca22eb5a222",
   "metadata": {},
   "outputs": [
    {
     "name": "stdout",
     "output_type": "stream",
     "text": [
      "ul\n"
     ]
    }
   ],
   "source": [
    "#slicing from the end\n",
    "x=\"\"\"This is python.It is powerful\"\"\"\n",
    "print(x[-2:])#it will give last 2 letters"
   ]
  },
  {
   "cell_type": "markdown",
   "id": "7e2dd130-4b0f-469a-972f-cbaed38ea02a",
   "metadata": {},
   "source": [
    "#### Negative Indexing"
   ]
  },
  {
   "cell_type": "code",
   "execution_count": 1,
   "id": "9d71a86e-1fee-4a3f-ad3f-41c39bd5052e",
   "metadata": {},
   "outputs": [
    {
     "name": "stdout",
     "output_type": "stream",
     "text": [
      "u\n"
     ]
    }
   ],
   "source": [
    "#negative indexing\n",
    "x=\"\"\"This is python.It is powerful\"\"\"\n",
    "print(x[-2])#it will give letters at index -2\n",
    "prient[(-5)]#it will give letter at index -5"
   ]
  },
  {
   "cell_type": "code",
   "execution_count": 4,
   "id": "dcd27d30-45a2-419e-bf86-7bf8f9d6a3db",
   "metadata": {},
   "outputs": [
    {
     "name": "stdout",
     "output_type": "stream",
     "text": [
      "nohtyp\n"
     ]
    }
   ],
   "source": [
    "s=\"python\"\n",
    "print(s[::-1])#It will reverse the string\n"
   ]
  },
  {
   "cell_type": "code",
   "execution_count": 7,
   "id": "b51cc6e6-5855-4e36-997c-a84bbee33f66",
   "metadata": {},
   "outputs": [
    {
     "name": "stdout",
     "output_type": "stream",
     "text": [
      "ohty\n"
     ]
    }
   ],
   "source": [
    "s=\"python\"\n",
    "print(s[-2:-6:-1])#Moves backword"
   ]
  },
  {
   "cell_type": "markdown",
   "id": "3d53fe05-e722-4698-83b2-c170ff7d767c",
   "metadata": {},
   "source": [
    "### Modify String"
   ]
  },
  {
   "cell_type": "code",
   "execution_count": 30,
   "id": "9c5e35b1-aa25-48bf-89b7-c01bea4e2ec6",
   "metadata": {},
   "outputs": [
    {
     "name": "stdout",
     "output_type": "stream",
     "text": [
      "THIS IS PYTHON.IT IS POWERFUL\n"
     ]
    }
   ],
   "source": [
    "x=\"\"\"This is python.It is powerful\"\"\"\n",
    "print(x.upper())#It will convert all small letter to upper case\n",
    "#It there is capital letters it will be capital only"
   ]
  },
  {
   "cell_type": "code",
   "execution_count": 31,
   "id": "222857ac-feff-4174-beef-c7e126ea7d8c",
   "metadata": {},
   "outputs": [
    {
     "name": "stdout",
     "output_type": "stream",
     "text": [
      "this is python.it is powerful\n"
     ]
    }
   ],
   "source": [
    "x=\"\"\"This is python.It is powerful\"\"\"\n",
    "print(x.lower())"
   ]
  },
  {
   "cell_type": "markdown",
   "id": "11294a52-a664-418d-94e7-d953f15fd29a",
   "metadata": {},
   "source": [
    "### Remove Space"
   ]
  },
  {
   "cell_type": "markdown",
   "id": "29f5c8cb-4ace-4d53-8c10-dc906a87d1e7",
   "metadata": {},
   "source": [
    "strip()"
   ]
  },
  {
   "cell_type": "code",
   "execution_count": 32,
   "id": "ec0a120c-3ccf-49ec-b7aa-c1d88b867ed5",
   "metadata": {},
   "outputs": [
    {
     "name": "stdout",
     "output_type": "stream",
     "text": [
      "This is python\n"
     ]
    }
   ],
   "source": [
    "x=\" This is python \"\n",
    "print(x.strip())#only remove white space of left hand side"
   ]
  },
  {
   "cell_type": "markdown",
   "id": "e740efe7-b191-47df-975b-89640b25fe2b",
   "metadata": {},
   "source": [
    "rstrip()"
   ]
  },
  {
   "cell_type": "code",
   "execution_count": 34,
   "id": "f52c9b95-48e1-4c40-b01e-7ce763fa25e3",
   "metadata": {},
   "outputs": [
    {
     "name": "stdout",
     "output_type": "stream",
     "text": [
      "This is Python\n"
     ]
    }
   ],
   "source": [
    "x=\"This is Python \"\n",
    "print(x.rstrip())#it is going to remove right handside white space"
   ]
  },
  {
   "cell_type": "markdown",
   "id": "c142cd4b-01e7-409e-9e92-c48d28ac3945",
   "metadata": {},
   "source": [
    "lstrip()"
   ]
  },
  {
   "cell_type": "code",
   "execution_count": 35,
   "id": "09c19538-11e3-44d7-a201-a384e1ea1f0d",
   "metadata": {},
   "outputs": [
    {
     "name": "stdout",
     "output_type": "stream",
     "text": [
      "This is Python\n"
     ]
    }
   ],
   "source": [
    "x=\" This is Python\"\n",
    "print(x.lstrip())#it is going to remove left handside white space"
   ]
  },
  {
   "cell_type": "markdown",
   "id": "ddbd25ed-1d1d-4444-9664-1a2bd6fd53d3",
   "metadata": {},
   "source": [
    "replace()"
   ]
  },
  {
   "cell_type": "code",
   "execution_count": 36,
   "id": "c05ef3c8-f493-4124-86e0-26458428346d",
   "metadata": {},
   "outputs": [
    {
     "name": "stdout",
     "output_type": "stream",
     "text": [
      "Gello World\n"
     ]
    }
   ],
   "source": [
    "#Replace particular word with another word\n",
    "x=\"Hello World\"\n",
    "print(x.replace(\"Hello\",\"Gello\"))"
   ]
  },
  {
   "cell_type": "code",
   "execution_count": 37,
   "id": "db4e13ca-9cf1-4dd4-b676-451abfeb0f14",
   "metadata": {},
   "outputs": [
    {
     "name": "stdout",
     "output_type": "stream",
     "text": [
      "Hello World\n",
      "['Hello', 'World']\n",
      "['red', 'green', 'blue']\n",
      "['This is python', 'It is simple to understand', 'Difficult to implement']\n"
     ]
    }
   ],
   "source": [
    "#use of split which replace white space/or,\n",
    "x=\"Hello World\"\n",
    "print(x)\n",
    "print(x.split(\" \")) #separator is space\n",
    "x=\"red-green-blue\"\n",
    "print(x.split(\"-\")) #separator is Hypen\n",
    "x=\"\"\"This is python.It is simple to understand.Difficult to implement\"\"\"\n",
    "print(x.split(\".\"))\n"
   ]
  },
  {
   "cell_type": "markdown",
   "id": "46c9a305-42dd-43de-a2d5-dc12e81c57b5",
   "metadata": {},
   "source": [
    "### Operator Precedence"
   ]
  },
  {
   "cell_type": "code",
   "execution_count": 29,
   "id": "c10c1ca4-a181-4856-b98e-48fb19c5b590",
   "metadata": {},
   "outputs": [
    {
     "name": "stdout",
     "output_type": "stream",
     "text": [
      "7.0\n"
     ]
    },
    {
     "data": {
      "text/plain": [
       "'Rules for methemethical operations\\n    PEMDAS\\n    p:paranthesis\\n    E:Exponential\\n    M:Multiplication\\n    D:Division\\n    A:Addition\\n    S:Substraction\\n'"
      ]
     },
     "execution_count": 29,
     "metadata": {},
     "output_type": "execute_result"
    }
   ],
   "source": [
    "print(3*3+3/3-3)\n",
    "#Multiplication-->3*3=9\n",
    "#Division-->3/3=1\n",
    "#Addition-->9+1=10\n",
    "#Substraction-->10-3=7\n",
    "\n",
    "'''Rules for methemethical operations\n",
    "    PEMDAS\n",
    "    p:paranthesis\n",
    "    E:Exponential\n",
    "    M:Multiplication\n",
    "    D:Division\n",
    "    A:Addition\n",
    "    S:Substraction\n",
    "'''"
   ]
  },
  {
   "cell_type": "code",
   "execution_count": 30,
   "id": "0507a090-0f3f-461a-86ae-8579a2d63d0e",
   "metadata": {},
   "outputs": [
    {
     "name": "stdout",
     "output_type": "stream",
     "text": [
      "False\n",
      "True\n"
     ]
    }
   ],
   "source": [
    "#Identiy operators\n",
    "a=2\n",
    "b=5\n",
    "print(a is b)\n",
    "print(a is not b)"
   ]
  },
  {
   "cell_type": "markdown",
   "id": "06b8cc0b-50ed-4da3-86e7-5100440f591a",
   "metadata": {},
   "source": [
    "# List"
   ]
  },
  {
   "cell_type": "code",
   "execution_count": 1,
   "id": "f07391b1-7027-4353-8566-35208749a5f4",
   "metadata": {},
   "outputs": [
    {
     "name": "stdout",
     "output_type": "stream",
     "text": [
      "['cherry', 'banana', 'apple']\n"
     ]
    }
   ],
   "source": [
    "#Python list\n",
    "lst=[\"cherry\",\"banana\",\"apple\"]\n",
    "print(lst)"
   ]
  },
  {
   "cell_type": "code",
   "execution_count": 2,
   "id": "735451a1-752e-47e1-a515-89dfa86bc689",
   "metadata": {},
   "outputs": [
    {
     "name": "stdout",
     "output_type": "stream",
     "text": [
      "cherry\n",
      "apple\n"
     ]
    }
   ],
   "source": [
    "#list item are indexed,the first item has index[0], the second item has index[2]\n",
    "print(lst[0])\n",
    "print(lst[2])"
   ]
  },
  {
   "cell_type": "code",
   "execution_count": 4,
   "id": "0425b253-8c27-42b6-ae07-8c87b1c0ff6d",
   "metadata": {},
   "outputs": [
    {
     "name": "stdout",
     "output_type": "stream",
     "text": [
      "['cherry', 'banana', 'apple', 'mango']\n"
     ]
    }
   ],
   "source": [
    "##append() Adds an element at the end of the list\n",
    "lst=[\"cherry\",\"banana\",\"apple\"]\n",
    "lst.append(\"mango\")\n",
    "print(lst)"
   ]
  },
  {
   "cell_type": "code",
   "execution_count": 6,
   "id": "7fade640-e5eb-4c69-8f06-a13a901ce292",
   "metadata": {},
   "outputs": [
    {
     "name": "stdout",
     "output_type": "stream",
     "text": [
      "[]\n"
     ]
    }
   ],
   "source": [
    "#clear() removes all the elem ent from the list\n",
    "lst = [\"cherry\",\"banana\",\"apple\"]\n",
    "lst.clear()\n",
    "print(lst)"
   ]
  },
  {
   "cell_type": "code",
   "execution_count": 7,
   "id": "13a8a7f2-3082-4589-a4a0-ab31ba0a9be9",
   "metadata": {},
   "outputs": [
    {
     "name": "stdout",
     "output_type": "stream",
     "text": [
      "['cherry', 'Banana', 'apple']\n"
     ]
    }
   ],
   "source": [
    "#copy () method coppies the element from one list to other\n",
    "lst = [\"cherry\",\"Banana\",\"apple\"]\n",
    "lst2 = lst.copy()\n",
    "print(lst2)"
   ]
  },
  {
   "cell_type": "code",
   "execution_count": 8,
   "id": "805d92d0-1b08-4607-8708-e207e98f415d",
   "metadata": {},
   "outputs": [
    {
     "data": {
      "text/plain": [
       "1"
      ]
     },
     "execution_count": 8,
     "metadata": {},
     "output_type": "execute_result"
    }
   ],
   "source": [
    "#count() Returns the number of element how many times it has been repeated.\n",
    "lst = [\"cherry\",\"Banana\",\"apple\"]\n",
    "lst.count(\"cherry\")"
   ]
  },
  {
   "cell_type": "code",
   "execution_count": 9,
   "id": "dbc45a30-3e04-40e4-8ec1-1e1f0a926ef3",
   "metadata": {},
   "outputs": [
    {
     "name": "stdout",
     "output_type": "stream",
     "text": [
      "[1, 2, 3, 4, 5, 6]\n"
     ]
    }
   ],
   "source": [
    "#extend() Add the elements from one list to other list at the end\n",
    "lst = [1,2,3]\n",
    "lst1 = [4,5,6]\n",
    "lst.extend(lst1)\n",
    "print(lst)"
   ]
  },
  {
   "cell_type": "code",
   "execution_count": 10,
   "id": "916d535d-b8bc-4d5c-838a-6bd85cc37c50",
   "metadata": {},
   "outputs": [
    {
     "name": "stdout",
     "output_type": "stream",
     "text": [
      "['cherry', 'Mango', 'Banana', 'apple']\n"
     ]
    }
   ],
   "source": [
    "#insert() inserts the value at the specific position\n",
    "lst = [\"cherry\",\"Banana\",\"apple\"]\n",
    "lst.insert(1,\"Mango\")\n",
    "print(lst)"
   ]
  },
  {
   "cell_type": "code",
   "execution_count": 11,
   "id": "561f4b72-8d70-4d63-b211-30af63224c80",
   "metadata": {},
   "outputs": [
    {
     "name": "stdout",
     "output_type": "stream",
     "text": [
      "['cherry', 'Banana']\n"
     ]
    }
   ],
   "source": [
    "#Pop() removes the element from specified position\n",
    "lst = [\"cherry\",\"Banana\",\"Apple\"]\n",
    "lst.pop(2)\n",
    "print(lst)"
   ]
  },
  {
   "cell_type": "code",
   "execution_count": 12,
   "id": "f35eb8c4-769a-4b12-8ad7-ca006f794e3f",
   "metadata": {},
   "outputs": [
    {
     "name": "stdout",
     "output_type": "stream",
     "text": [
      "['Cherry', 'Banana']\n"
     ]
    }
   ],
   "source": [
    "#remove() removes ithe item with the specified value\n",
    "lst = [\"Cherry\",\"Banana\",\"Apple\"]\n",
    "lst.remove(\"Apple\")\n",
    "print(lst)"
   ]
  },
  {
   "cell_type": "code",
   "execution_count": 13,
   "id": "2f198e81-c501-4e03-b0c0-30b50c58af93",
   "metadata": {},
   "outputs": [
    {
     "name": "stdout",
     "output_type": "stream",
     "text": [
      "['apple', 'Banana', 'cherry']\n"
     ]
    }
   ],
   "source": [
    "#reverse() reverse the items present in the list\n",
    "lst = [\"Cherry\",\"Banana\",\"Apple\"]\n",
    "lst.reverse()\n",
    "print(lst)"
   ]
  },
  {
   "cell_type": "code",
   "execution_count": 16,
   "id": "3861d07e-d461-4ed1-ba74-192b428fe397",
   "metadata": {},
   "outputs": [
    {
     "name": "stdout",
     "output_type": "stream",
     "text": [
      "['Apple', 'Banana', 'Cherry']\n"
     ]
    }
   ],
   "source": [
    "#sort() Sort the list aplhabetically\n",
    "lst = [\"Cherry\",\"Banana\",\"Apple\"]\n",
    "lst.sort()\n",
    "print(lst)"
   ]
  },
  {
   "cell_type": "code",
   "execution_count": 20,
   "id": "39f38441-7288-4c3d-8873-26e461354a42",
   "metadata": {},
   "outputs": [
    {
     "name": "stdout",
     "output_type": "stream",
     "text": [
      "[40, 100, 120, 200]\n"
     ]
    }
   ],
   "source": [
    "lst = [40,200,120,100]\n",
    "lst=sorted(lst,key = int)\n",
    "lst.sort()\n",
    "print(lst)"
   ]
  },
  {
   "cell_type": "code",
   "execution_count": 2,
   "id": "9371030e-ec59-41b5-bb51-c7f4606faf19",
   "metadata": {},
   "outputs": [
    {
     "name": "stdout",
     "output_type": "stream",
     "text": [
      "[[1, 2, 3], ['a', 'b', 'c'], [True, False]]\n",
      "3\n"
     ]
    }
   ],
   "source": [
    "#Creating the Nested List\n",
    "nested_list = [[1,2,3],[\"a\",\"b\",\"c\"],[True,False]]\n",
    "print(nested_list)\n",
    "\n",
    "#Accessing Elemnet in inner List\n",
    "print(nested_list[0][2])#Index 0 in that index 2"
   ]
  },
  {
   "cell_type": "code",
   "execution_count": 3,
   "id": "d5c9390e-c412-48eb-8e18-4ecc509cc345",
   "metadata": {},
   "outputs": [
    {
     "name": "stdout",
     "output_type": "stream",
     "text": [
      "[1, 2, 3]\n"
     ]
    }
   ],
   "source": [
    "#Accessing the first inner list\n",
    "print(nested_list[0])"
   ]
  },
  {
   "cell_type": "code",
   "execution_count": 4,
   "id": "7e851c42-8353-43af-954e-28d4bebea4a0",
   "metadata": {},
   "outputs": [
    {
     "name": "stdout",
     "output_type": "stream",
     "text": [
      "[1, 2, 3]\n"
     ]
    }
   ],
   "source": [
    "#Accessing specific element in from the sublist\n",
    "print(nested_list[0])"
   ]
  },
  {
   "cell_type": "code",
   "execution_count": 5,
   "id": "6cac26fc-6acc-4c7f-b7a1-bc7c77d558a1",
   "metadata": {},
   "outputs": [
    {
     "name": "stdout",
     "output_type": "stream",
     "text": [
      "c\n"
     ]
    }
   ],
   "source": [
    "#Accessing the last element in the sublist\n",
    "print(nested_list[1][2])"
   ]
  },
  {
   "cell_type": "code",
   "execution_count": 7,
   "id": "03bb2967-b2da-4323-a8c6-9e201dabdaf4",
   "metadata": {},
   "outputs": [
    {
     "name": "stdout",
     "output_type": "stream",
     "text": [
      "False\n"
     ]
    }
   ],
   "source": [
    "#Accessing the Last element from the last sublist\n",
    "print(nested_list[2][1])"
   ]
  },
  {
   "cell_type": "code",
   "execution_count": 8,
   "id": "55f22d66-7c87-48d1-8402-f747cb786a6f",
   "metadata": {},
   "outputs": [
    {
     "name": "stdout",
     "output_type": "stream",
     "text": [
      "[1, 2, 3]\n",
      "['a', 'b', 'c']\n",
      "[True, False]\n"
     ]
    }
   ],
   "source": [
    "for sublist in nested_list:\n",
    "    print(sublist)"
   ]
  },
  {
   "cell_type": "markdown",
   "id": "927b80c4-28e8-4057-b455-6ea2072a4408",
   "metadata": {},
   "source": [
    "## List Comphrension "
   ]
  },
  {
   "cell_type": "code",
   "execution_count": 11,
   "id": "7e457c3c-ff4d-49f7-a5f1-8fc07d3496e4",
   "metadata": {},
   "outputs": [
    {
     "name": "stdout",
     "output_type": "stream",
     "text": [
      "1 2 3 a b c True False "
     ]
    }
   ],
   "source": [
    "#Using two for loops(Iterate over element)\n",
    "for sublist in nested_list:\n",
    "    for item in sublist:\n",
    "        print(item,end = \" \")"
   ]
  },
  {
   "cell_type": "code",
   "execution_count": 19,
   "id": "47254e18-9cb2-40f4-99fa-689db46cc5d4",
   "metadata": {},
   "outputs": [
    {
     "name": "stdout",
     "output_type": "stream",
     "text": [
      "[1, 2, 3, 4, 'a', 'c', True, False, 'new', 'List']\n"
     ]
    }
   ],
   "source": [
    "#List Compherension with Nested Lists\n",
    "#Flattening of List\n",
    "flat_list = [item for sublist in nested_list for item in sublist]\n",
    "print(flat_list)"
   ]
  },
  {
   "cell_type": "code",
   "execution_count": 13,
   "id": "6235b13e-ce60-4a9b-ba5e-9abfb113abb3",
   "metadata": {},
   "outputs": [
    {
     "name": "stdout",
     "output_type": "stream",
     "text": [
      "[[1, 2, 3], ['a', 'b', 'c'], [True, False], ['new', 'List']]\n"
     ]
    }
   ],
   "source": [
    "#Adding an Entire Sublist\n",
    "nested_list = [[1,2,3],[\"a\",\"b\",\"c\"],[True,False]]\n",
    "nested_list.append([\"new\",\"List\"])\n",
    "print(nested_list)"
   ]
  },
  {
   "cell_type": "code",
   "execution_count": 15,
   "id": "facb495c-3e06-4f77-9b20-35631652568d",
   "metadata": {},
   "outputs": [
    {
     "name": "stdout",
     "output_type": "stream",
     "text": [
      "[[1, 2, 3, 4], ['a', 'b', 'c'], [True, False], ['new', 'List']]\n"
     ]
    }
   ],
   "source": [
    "#Adding an element in sublist\n",
    "nested_list[0].append(4)\n",
    "print(nested_list)"
   ]
  },
  {
   "cell_type": "code",
   "execution_count": 17,
   "id": "836e26c5-870d-4001-97ab-9277517844c0",
   "metadata": {},
   "outputs": [
    {
     "name": "stdout",
     "output_type": "stream",
     "text": [
      "[[1, 2, 3, 4], ['a', 'c'], [True, False], ['new', 'List']]\n"
     ]
    }
   ],
   "source": [
    "#Removing an Element from a sublist\n",
    "nested_list[1].remove('b')\n",
    "print(nested_list)"
   ]
  },
  {
   "cell_type": "markdown",
   "id": "ced4b10a-e68d-4e12-9ad8-8b7fcb938d49",
   "metadata": {},
   "source": [
    "# Tuple"
   ]
  },
  {
   "cell_type": "code",
   "execution_count": 14,
   "id": "17edb015-23ed-4b47-87df-7459e69ea3ae",
   "metadata": {},
   "outputs": [
    {
     "name": "stdout",
     "output_type": "stream",
     "text": [
      "('Cherry', 'Banana', 'Apple')\n"
     ]
    }
   ],
   "source": [
    "tup = (\"Cherry\",\"Banana\",\"Apple\")\n",
    "print(tup)"
   ]
  },
  {
   "cell_type": "code",
   "execution_count": 15,
   "id": "a8ce26eb-9e0c-478b-a312-87aae8499908",
   "metadata": {},
   "outputs": [
    {
     "name": "stdout",
     "output_type": "stream",
     "text": [
      "Apple\n"
     ]
    }
   ],
   "source": [
    "print(tup[2])"
   ]
  },
  {
   "cell_type": "markdown",
   "id": "f54c52a5-df2a-46e2-bfeb-c69b6d62360a",
   "metadata": {},
   "source": [
    "once a tuple is created you cannot change its value"
   ]
  },
  {
   "cell_type": "markdown",
   "id": "fb86f4db-631b-4743-b4e5-0056dfdbae48",
   "metadata": {},
   "source": [
    "As tuple is immutable--->to be mutable change tuple into list"
   ]
  },
  {
   "cell_type": "code",
   "execution_count": 17,
   "id": "839ea9af-bdc0-4d24-a433-b1f2f8ee0d52",
   "metadata": {},
   "outputs": [
    {
     "name": "stdout",
     "output_type": "stream",
     "text": [
      "['Cherry', 'Banana', 'Apple']\n"
     ]
    }
   ],
   "source": [
    "x = (\"Cherry\",\"Banana\",\"Apple\")\n",
    "y = list(x)\n",
    "print(y)"
   ]
  },
  {
   "cell_type": "code",
   "execution_count": 26,
   "id": "f13c0efb-54f7-461b-834b-0ff011d02a8d",
   "metadata": {},
   "outputs": [
    {
     "name": "stdout",
     "output_type": "stream",
     "text": [
      "('Cherry', 'Banana', 'Apple')\n",
      "1975291382144\n",
      "('Cherry', 'Kiwi', 'Apple')\n",
      "1975291514560\n"
     ]
    }
   ],
   "source": [
    "#replace element in the Tuple.\n",
    "#AS we cannot use replace method direct so firt convert tuple to list\n",
    "x = (\"Cherry\",\"Banana\",\"Apple\")\n",
    "print(x)\n",
    "print(id(x))\n",
    "#convert tuple to list\n",
    "y = list(x)\n",
    "y[1] = \"Kiwi\"\n",
    "#convert list to tuple\n",
    "x = tuple(y)\n",
    "print(x)\n",
    "print(id(x))"
   ]
  },
  {
   "cell_type": "code",
   "execution_count": 2,
   "id": "4d417778-532d-4ca4-a1a5-af900a9b5a13",
   "metadata": {},
   "outputs": [
    {
     "name": "stdout",
     "output_type": "stream",
     "text": [
      "('cherry', 2, 'apple')\n"
     ]
    }
   ],
   "source": [
    "#Tuple can have different Data Types\n",
    "x = (\"cherry\",2,\"apple\")\n",
    "print(x)"
   ]
  },
  {
   "cell_type": "code",
   "execution_count": 27,
   "id": "d7896fc2-ea60-4d83-bcb3-fc861334788b",
   "metadata": {},
   "outputs": [
    {
     "name": "stdout",
     "output_type": "stream",
     "text": [
      "banana\n"
     ]
    }
   ],
   "source": [
    "#You can access tuple items by refering to the index number,inside subtuple\n",
    "x = (\"apple\",\"banana\",\"cherry\")\n",
    "print(x[1])"
   ]
  },
  {
   "cell_type": "code",
   "execution_count": 4,
   "id": "3afed771-1a60-4cac-bc39-18dfdfeb5dfa",
   "metadata": {},
   "outputs": [
    {
     "name": "stdout",
     "output_type": "stream",
     "text": [
      "('a', 'b', 'c', 1, 2, 3)\n"
     ]
    }
   ],
   "source": [
    "#To join two or more tuple you can use + operator\n",
    "tup1 = (\"a\",\"b\",\"c\")\n",
    "tup2 = (1,2,3)\n",
    "tup3 = tup1 + tup2\n",
    "print(tup3)"
   ]
  },
  {
   "cell_type": "markdown",
   "id": "04b46e6f-91e4-4dd1-ba4f-a6ff67f0a47d",
   "metadata": {},
   "source": [
    "# Dictionary"
   ]
  },
  {
   "cell_type": "markdown",
   "id": "9f9349ef-842a-43e7-983d-a825ae0bac36",
   "metadata": {},
   "source": [
    "Disctionary is mutable -->you can modify it\n",
    "\n"
   ]
  },
  {
   "cell_type": "code",
   "execution_count": 5,
   "id": "18be7884-19ed-46e9-adf3-2bcd8d5d9a4b",
   "metadata": {},
   "outputs": [
    {
     "name": "stdout",
     "output_type": "stream",
     "text": [
      "{'Brand': 'Maruti', 'Model': '2345', 'Year': '2001'}\n",
      "3\n",
      "<class 'dict'>\n"
     ]
    }
   ],
   "source": [
    "dict1={\"Brand\":\"Maruti\",\"Model\":\"2345\",\"Year\":\"2001\"}\n",
    "print(dict1)\n",
    "print(len(dict1))\n",
    "print(type(dict1))"
   ]
  },
  {
   "cell_type": "code",
   "execution_count": 29,
   "id": "86f5e4d5-bfd6-452f-99cf-109a97810344",
   "metadata": {},
   "outputs": [
    {
     "name": "stdout",
     "output_type": "stream",
     "text": [
      "{'Brand': ['Maruti', 'Mehindra', 'Toyato'], 'Model': ['a', 'b', 'c'], 'year': [2001, 2002, 2003]}\n"
     ]
    }
   ],
   "source": [
    "dict1={\"Brand\":[\"Maruti\",\"Mehindra\",\"Toyato\"],\n",
    "       \"Model\":[\"a\",\"b\",\"c\"],\n",
    "       \"year\":[2001,2002,2003]}\n",
    "print(dict1)"
   ]
  },
  {
   "cell_type": "code",
   "execution_count": 31,
   "id": "c1c9d213-0b25-45db-a81a-45743b34f906",
   "metadata": {},
   "outputs": [
    {
     "data": {
      "text/plain": [
       "dict_keys(['Brand', 'Model', 'Year'])"
      ]
     },
     "execution_count": 31,
     "metadata": {},
     "output_type": "execute_result"
    }
   ],
   "source": [
    "#get() displays keys and value\n",
    "dict1={\"Brand\":\"Maruti\",\"Model\":\"2345\",\"Year\":\"2001\"} \n",
    "dict1.get(\"Model\")\n",
    "dict1.keys() "
   ]
  },
  {
   "cell_type": "code",
   "execution_count": 8,
   "id": "118e4d60-f97b-4d2d-94ba-7f6f04244483",
   "metadata": {},
   "outputs": [
    {
     "data": {
      "text/plain": [
       "dict_values(['Maruti', '2345', '2001'])"
      ]
     },
     "execution_count": 8,
     "metadata": {},
     "output_type": "execute_result"
    }
   ],
   "source": [
    "dict1={\"Brand\":\"Maruti\",\"Model\":\"2345\",\"Year\":\"2001\"} \n",
    "dict1.get(\"model\")\n",
    "dict1.values() "
   ]
  },
  {
   "cell_type": "code",
   "execution_count": 2,
   "id": "968c9e5e-daaa-4cca-a9b8-afcdad580f31",
   "metadata": {},
   "outputs": [
    {
     "name": "stdout",
     "output_type": "stream",
     "text": [
      "dict_keys(['brand', 'model', 'year'])\n",
      "2080885865408\n",
      "dict_keys(['brand', 'model', 'year', 'color'])\n",
      "2080884890576\n"
     ]
    },
    {
     "data": {
      "text/plain": [
       "{'brand': 'ford', 'model': 'Mustang', 'year': 1964, 'color': 'white'}"
      ]
     },
     "execution_count": 2,
     "metadata": {},
     "output_type": "execute_result"
    }
   ],
   "source": [
    "#adding data items in dictionary\n",
    "car={\n",
    "     \"brand\":\"ford\",\n",
    "     \"model\":\"Mustang\",\n",
    "     \"year\":1964}\n",
    "x=car.keys()\n",
    "print(x)\n",
    "print(id(car))\n",
    "#Adding data\n",
    "car[\"color\"]=\"white\"\n",
    "x=car.keys()\n",
    "print(x)\n",
    "print(id(x))\n",
    "car"
   ]
  },
  {
   "cell_type": "code",
   "execution_count": 5,
   "id": "d4170629-0ccf-4cf1-bb57-1ec6d9b51c70",
   "metadata": {},
   "outputs": [
    {
     "name": "stdout",
     "output_type": "stream",
     "text": [
      "ford\n",
      "Mustang\n",
      "1964\n"
     ]
    }
   ],
   "source": [
    "#Accessing values in the dictionary\n",
    "car={\n",
    "     \"brand\":\"ford\",\n",
    "     \"model\":\"Mustang\",\n",
    "     \"year\":1964}\n",
    "for x in car:\n",
    "    print(car[x])"
   ]
  },
  {
   "cell_type": "code",
   "execution_count": 5,
   "id": "3ca7107a-eed5-4e86-b50c-d6e3a0a1cdaa",
   "metadata": {},
   "outputs": [
    {
     "name": "stdout",
     "output_type": "stream",
     "text": [
      "ford\n",
      "Mustang\n",
      "1964\n",
      "brand=ford\n",
      "model=Mustang\n",
      "year=1964\n",
      "brand:ford\n",
      "model:Mustang\n",
      "year:1964\n"
     ]
    }
   ],
   "source": [
    "#Accessing values in the dictionary\n",
    "car={\n",
    "     \"brand\":\"ford\",\n",
    "     \"model\":\"Mustang\",\n",
    "     \"year\":1964}\n",
    "for x in car:\n",
    "    print(car[x])\n",
    "\n",
    "#It you want to access both keys and values\n",
    "#very important\n",
    "for key,value in car.items():\n",
    "    print(\"%s=%s\"%(key,value))\n",
    "for key,value in car.items():\n",
    "    print(f\"{key}:{value}\")\n",
    "    \n",
    "    \n",
    "    \n",
    "    "
   ]
  },
  {
   "cell_type": "code",
   "execution_count": 8,
   "id": "f79e0009-124e-4425-940f-8310765d1892",
   "metadata": {},
   "outputs": [
    {
     "name": "stdout",
     "output_type": "stream",
     "text": [
      "2080885877184\n",
      "2080885866816\n"
     ]
    }
   ],
   "source": [
    "#copying dictionary\n",
    "car = {\n",
    "     \"brand\":\"ford\",\n",
    "     \"model\":\"Mustang\",\n",
    "     \"year\":1964}\n",
    "print(id(car))\n",
    "car2 = car.copy()\n",
    "car2\n",
    "print(id(car2))"
   ]
  },
  {
   "cell_type": "code",
   "execution_count": 14,
   "id": "998b089f-b397-4122-ae53-d123c0251a85",
   "metadata": {},
   "outputs": [
    {
     "name": "stdout",
     "output_type": "stream",
     "text": [
      "2080885882688\n",
      "{'brand': 'Ford', 'model': 'Mustang', 'year': 1964}\n",
      "2080885892224\n"
     ]
    }
   ],
   "source": [
    "#Another way to make copy is to use the built in function\n",
    "thisdict = {\n",
    "\"brand\": \"Ford\",\n",
    "\"model\": \"Mustang\",\n",
    "\"year\": 1964\n",
    "}\n",
    "print(id(thisdict))\n",
    "dict1 = dict(thisdict)\n",
    "print(dict1)\n",
    "print(id(dict1))"
   ]
  },
  {
   "cell_type": "code",
   "execution_count": 15,
   "id": "61b091d8-d9fa-46c1-a056-ca731142966b",
   "metadata": {},
   "outputs": [
    {
     "data": {
      "text/plain": [
       "{'child1': {'Name': 'Ram', 'Dob': '21-01-2008'}}"
      ]
     },
     "execution_count": 15,
     "metadata": {},
     "output_type": "execute_result"
    }
   ],
   "source": [
    "#A Dictionary can contain dicyionaries,\n",
    "#This is called nested dictionaries.\n",
    "our_family = {\n",
    "    \"child1\": {\n",
    "        \"Name\": \"Ram\",\n",
    "        \"Dob\": \"21-01-2008\"\n",
    "    }\n",
    "}\n",
    "our_family\n",
    "    "
   ]
  },
  {
   "cell_type": "code",
   "execution_count": 16,
   "id": "936cc6d3-e50f-4496-82e3-e896b028573c",
   "metadata": {},
   "outputs": [
    {
     "data": {
      "text/plain": [
       "{}"
      ]
     },
     "execution_count": 16,
     "metadata": {},
     "output_type": "execute_result"
    }
   ],
   "source": [
    "#Dictionary methods\n",
    "#clear():Remove all element from the car list\n",
    "car = {\n",
    "     \"brand\":\"ford\",\n",
    "     \"model\":\"Mustang\",\n",
    "     \"year\":1964}\n",
    "car.clear()\n",
    "car"
   ]
  },
  {
   "cell_type": "code",
   "execution_count": 17,
   "id": "796b3671-aaf2-466e-9d3d-c18ac8306f2b",
   "metadata": {},
   "outputs": [
    {
     "data": {
      "text/plain": [
       "{'key3': 0, 'key2': 0, 'key1': 0}"
      ]
     },
     "execution_count": 17,
     "metadata": {},
     "output_type": "execute_result"
    }
   ],
   "source": [
    "#fromkey()\n",
    "#create a dictionary with 3 keys,\n",
    "#all with the value 0\n",
    "x = {'key1','key2','key3'}\n",
    "y = 0\n",
    "thisdict = dict.fromkeys(x,y)\n",
    "thisdict"
   ]
  },
  {
   "cell_type": "code",
   "execution_count": 18,
   "id": "b5e0be67-aa38-4951-8a07-80fa270fc14e",
   "metadata": {},
   "outputs": [
    {
     "data": {
      "text/plain": [
       "'Mustang'"
      ]
     },
     "execution_count": 18,
     "metadata": {},
     "output_type": "execute_result"
    }
   ],
   "source": [
    "#get() :To get the value of Dictionary\n",
    "car = {\n",
    "     \"brand\":\"ford\",\n",
    "     \"model\":\"Mustang\",\n",
    "     \"year\":1964}\n",
    "car.get(\"model\")"
   ]
  },
  {
   "cell_type": "code",
   "execution_count": 19,
   "id": "0eea5699-fe9e-483a-93f2-dae87827e338",
   "metadata": {},
   "outputs": [
    {
     "data": {
      "text/plain": [
       "dict_items([('brand', 'ford'), ('model', 'Mustang'), ('year', 1964)])"
      ]
     },
     "execution_count": 19,
     "metadata": {},
     "output_type": "execute_result"
    }
   ],
   "source": [
    "#Items() Return the dictionary's key-value pairs\n",
    "car = {\n",
    "     \"brand\":\"ford\",\n",
    "     \"model\":\"Mustang\",\n",
    "     \"year\":1964}\n",
    "car.items()\n",
    "    "
   ]
  },
  {
   "cell_type": "code",
   "execution_count": 20,
   "id": "9a4f4ea9-aaf5-41de-8b60-11bec14f8b4a",
   "metadata": {},
   "outputs": [
    {
     "data": {
      "text/plain": [
       "{'brand': 'ford', 'year': 1964}"
      ]
     },
     "execution_count": 20,
     "metadata": {},
     "output_type": "execute_result"
    }
   ],
   "source": [
    "#Pop the key value pair.\n",
    "car = {\n",
    "     \"brand\":\"ford\",\n",
    "     \"model\":\"Mustang\",\n",
    "     \"year\":1964}\n",
    "car.pop(\"model\")\n",
    "car"
   ]
  },
  {
   "cell_type": "code",
   "execution_count": 21,
   "id": "aee24e15-40fa-4578-be31-8f8bf07ad859",
   "metadata": {},
   "outputs": [
    {
     "data": {
      "text/plain": [
       "dict_values(['ford', 'Mustang', 1964])"
      ]
     },
     "execution_count": 21,
     "metadata": {},
     "output_type": "execute_result"
    }
   ],
   "source": [
    "#values():display all the values of the dictionary\n",
    "car = {\n",
    "     \"brand\":\"ford\",\n",
    "     \"model\":\"Mustang\",\n",
    "     \"year\":1964}\n",
    "car.values()\n",
    "    "
   ]
  },
  {
   "cell_type": "code",
   "execution_count": 1,
   "id": "359f8ace-7bba-4707-86c0-bedca2c1d7a1",
   "metadata": {},
   "outputs": [
    {
     "data": {
      "text/plain": [
       "{'one': 1, 'two': 2, 'three': 3, 'four': 4}"
      ]
     },
     "execution_count": 1,
     "metadata": {},
     "output_type": "execute_result"
    }
   ],
   "source": [
    "#merging two dictionaries\n",
    "dict1={\"one\":1,\"two\":2}\n",
    "dict2={\"three\":3,\"four\":4}\n",
    "dict3=dict1|dict2 #We use | operator to concatnet.\n",
    "dict3"
   ]
  },
  {
   "cell_type": "code",
   "execution_count": 7,
   "id": "69e1f250-e2ed-4748-904f-8edf6f8667b5",
   "metadata": {},
   "outputs": [
    {
     "name": "stdout",
     "output_type": "stream",
     "text": [
      "{'c': 1, 'b': 2, 'a': 5}\n"
     ]
    }
   ],
   "source": [
    "#sort by Keys\n",
    "d = {\"b\":2,\"a\":5,\"c\":1}\n",
    "d.items()\n",
    "sort_value = dict(sorted(d.items(),key = lambda item : item[1]))\n",
    "print(sort_value)"
   ]
  },
  {
   "cell_type": "code",
   "execution_count": 9,
   "id": "bf8b51f5-7a8a-4827-9c1f-05d4a15699ef",
   "metadata": {},
   "outputs": [
    {
     "name": "stdout",
     "output_type": "stream",
     "text": [
      "{'c': 1, 'b': 2, 'a': 5}\n"
     ]
    }
   ],
   "source": [
    "#Sort by values\n",
    "d = {\"b\":2,\"a\":5,\"c\":1}\n",
    "d.items()\n",
    "sort_value = dict(sorted(d.items(),key = lambda item :item[1]))\n",
    "print(sort_value)"
   ]
  },
  {
   "cell_type": "code",
   "execution_count": 10,
   "id": "b41a67d6-592e-47cb-8aa3-0a999d02dd97",
   "metadata": {},
   "outputs": [
    {
     "name": "stdout",
     "output_type": "stream",
     "text": [
      "You will get the lowest priced item'banana' (40)\n",
      "banana\n"
     ]
    }
   ],
   "source": [
    "sorted_dict = {'banana':40,'apple':100,'grapes':120,'manago':200}\n",
    "free_item_key= min(sorted_dict, key=sorted_dict.get)\n",
    "free_item_value= sorted_dict[free_item_key]\n",
    "print(f\"You will get the lowest priced item'{free_item_key}' ({free_item_value})\")\n",
    "\n",
    "free_item_min=min(sorted_dict,key=sorted_dict.get)\n",
    "print(free_item_min)"
   ]
  },
  {
   "cell_type": "code",
   "execution_count": 11,
   "id": "cb10210a-c8d8-456d-9b84-34a99528410d",
   "metadata": {},
   "outputs": [
    {
     "name": "stdout",
     "output_type": "stream",
     "text": [
      "You will get the highest priced item'manago' (200)\n"
     ]
    }
   ],
   "source": [
    "sorted_dict={'banana':40,'apple':100,'grapes':120,'manago':200}\n",
    "free_item_key= max(sorted_dict, key=sorted_dict.get)\n",
    "free_item_value= sorted_dict[free_item_key]\n",
    "print(f\"You will get the highest priced item'{free_item_key}' ({free_item_value})\")"
   ]
  },
  {
   "cell_type": "code",
   "execution_count": null,
   "id": "83fd08f6-9fc6-45e6-b14a-fc116b2bc214",
   "metadata": {},
   "outputs": [],
   "source": [
    "#min(my_dict):Returns the minimum key.\n",
    "#min(my_dict):Returns the minimum value.\n",
    "#min(my_dict, key=my_dict.get):Returns the key corresponding to the minimum values"
   ]
  },
  {
   "cell_type": "code",
   "execution_count": 12,
   "id": "aab20796-35e0-4b4c-8ec5-acc5dd132ae1",
   "metadata": {},
   "outputs": [
    {
     "name": "stdout",
     "output_type": "stream",
     "text": [
      "460\n"
     ]
    }
   ],
   "source": [
    "#adding values of dictionary \n",
    "dict1={'apple':'100', 'grapes':'120','mango':'200','banana':'40'}\n",
    "sum=0\n",
    "for value in dict1.values():\n",
    "    sum=sum+int(value);\n",
    "print(sum)   "
   ]
  },
  {
   "cell_type": "code",
   "execution_count": 1,
   "id": "b456c2d8-f517-4efa-9140-faace4da32e7",
   "metadata": {},
   "outputs": [
    {
     "name": "stdout",
     "output_type": "stream",
     "text": [
      "460\n"
     ]
    }
   ],
   "source": [
    "#Convert values to  integers and sum them up\n",
    "dict1={'apple':'100', 'grapes':'120','mango':'200','banana':'40'}\n",
    " \n",
    "total_sum = sum(int(value) for value in dict1.values())\n",
    "print(total_sum)    \n"
   ]
  },
  {
   "cell_type": "code",
   "execution_count": 16,
   "id": "f9daf12b-1dea-47af-a0ca-f87198cc70b9",
   "metadata": {},
   "outputs": [
    {
     "name": "stdout",
     "output_type": "stream",
     "text": [
      "{1: 10, 2: 20, 3: 30, 4: 40}\n",
      "{1: 10, 2: 20, 3: 30, 4: 40, 5: 50, 6: 60}\n"
     ]
    }
   ],
   "source": [
    "#concatenation of dictionary\n",
    "dict1={1:10,2:20}\n",
    "dict2={3:30,4:40}\n",
    "dict3={5:50,6:60}\n",
    "dict1.update(dict2)\n",
    "print(dict1)\n",
    "dict1=dict1|dict2|dict3\n",
    "print(dict1)\n"
   ]
  },
  {
   "cell_type": "code",
   "execution_count": 17,
   "id": "c197c2cb-5f60-4b39-b52a-5878b806df5c",
   "metadata": {},
   "outputs": [
    {
     "name": "stdout",
     "output_type": "stream",
     "text": [
      "True\n"
     ]
    }
   ],
   "source": [
    "#write a program to check if a given key is already exists\n",
    "dict1={'a':20,'b':30}\n",
    "print('a' in dict1)\n"
   ]
  },
  {
   "cell_type": "code",
   "execution_count": 18,
   "id": "60510c29-81cf-42be-ba73-1941dba39f52",
   "metadata": {},
   "outputs": [
    {
     "name": "stdout",
     "output_type": "stream",
     "text": [
      "1\n",
      "2\n",
      "3\n"
     ]
    }
   ],
   "source": [
    "#write the break statement we can stop the loop if the while \n",
    "i=1\n",
    "while i<6:\n",
    "    print(i)\n",
    "    if(i==3):\n",
    "        break\n",
    "    i=i+1\n",
    "    \n",
    "#suppose you are selling milk 100 liters and there is queue of customers \n",
    "#the moment sell reaches to 100 liters, you need to inform to the customer\n",
    "#that the milk is finished"
   ]
  },
  {
   "cell_type": "code",
   "execution_count": 19,
   "id": "7af1cca5-c8d8-4351-9190-40af8004978b",
   "metadata": {},
   "outputs": [
    {
     "name": "stdout",
     "output_type": "stream",
     "text": [
      "2\n",
      "4\n",
      "5\n",
      "6\n"
     ]
    }
   ],
   "source": [
    "#Continue to the next iteration if i is 3\n",
    "i=1\n",
    "while i<6:\n",
    "    i=i+1\n",
    "    if(i==3):\n",
    "        continue\n",
    "    print(i)\n",
    "\n",
    "#Suppose you are standing in queue to auditorium , where students and\n",
    "#professors are in queue , if the peofessors are there you are allowing\n",
    "#without checking , but if there is student then he/she is being checked"
   ]
  },
  {
   "cell_type": "code",
   "execution_count": 20,
   "id": "4143004f-362c-44ed-a264-b5fe83237727",
   "metadata": {},
   "outputs": [
    {
     "name": "stdout",
     "output_type": "stream",
     "text": [
      "apple\n",
      "banana\n"
     ]
    }
   ],
   "source": [
    "#use of break statement\n",
    "fruits=[\"apple\",\"banana\",\"orange\"]\n",
    "for i in fruits:\n",
    "    print(i)\n",
    "    if (i==\"banana\"):\n",
    "        break\n",
    "    "
   ]
  },
  {
   "cell_type": "code",
   "execution_count": 21,
   "id": "a1d46a19-bf1a-42aa-9829-c7515b25305a",
   "metadata": {},
   "outputs": [
    {
     "name": "stdout",
     "output_type": "stream",
     "text": [
      "Apple\n"
     ]
    }
   ],
   "source": [
    "fruits=[\"Apple\",\"Banana\",\"Orange\"]\n",
    "for i in fruits:\n",
    "    if i==\"Banana\":\n",
    "        break\n",
    "    print(i)"
   ]
  },
  {
   "cell_type": "code",
   "execution_count": null,
   "id": "9132cd32-fd28-48f9-a2fc-d10bfd9955b8",
   "metadata": {},
   "outputs": [],
   "source": [
    "#Continue statment\n",
    "fruits=[\"apple\",\"banana\",\"cherry\"]\n",
    "for x in fruits:\n",
    "    if x==\"banana\":\n",
    "        continue\n",
    "    print(x)\n",
    "    \n",
    "    #initially it will take x=0\n",
    "    #which is apple , check s condition\n",
    "    #print apple\n",
    "    #second time x=1, checks the\n",
    "    #condition and continue to the next element"
   ]
  },
  {
   "cell_type": "code",
   "execution_count": 22,
   "id": "2c430886-8e8e-4d36-996f-6e642d17b98e",
   "metadata": {},
   "outputs": [
    {
     "name": "stdout",
     "output_type": "stream",
     "text": [
      "0\n",
      "1\n",
      "2\n",
      "3\n",
      "4\n",
      "5\n"
     ]
    }
   ],
   "source": [
    "#The range() function\n",
    "for x in range(6):\n",
    "    print(x)    \n",
    "    "
   ]
  },
  {
   "cell_type": "code",
   "execution_count": 23,
   "id": "1a1f604e-84c3-4ab8-a851-b086fa8defb9",
   "metadata": {},
   "outputs": [
    {
     "name": "stdout",
     "output_type": "stream",
     "text": [
      "2\n",
      "3\n",
      "4\n",
      "5\n"
     ]
    }
   ],
   "source": [
    "for x in range(2,6):\n",
    "    print(x)\n",
    "    "
   ]
  },
  {
   "cell_type": "code",
   "execution_count": 24,
   "id": "29c46d87-70de-474e-9126-655c83b0dab6",
   "metadata": {},
   "outputs": [
    {
     "name": "stdout",
     "output_type": "stream",
     "text": [
      "2\n",
      "5\n",
      "8\n",
      "11\n",
      "14\n",
      "17\n",
      "20\n",
      "23\n",
      "26\n",
      "29\n"
     ]
    }
   ],
   "source": [
    "for x in range(2,30,3):\n",
    "    print(x)"
   ]
  },
  {
   "cell_type": "code",
   "execution_count": 28,
   "id": "482334c3-3888-4d19-b0db-1497490a049f",
   "metadata": {},
   "outputs": [
    {
     "name": "stdout",
     "output_type": "stream",
     "text": [
      "2\n",
      "5\n",
      "8\n",
      "11\n",
      "14\n",
      "17\n",
      "20\n",
      "23\n",
      "26\n",
      "29\n"
     ]
    }
   ],
   "source": [
    "for x in range(2,30,3):\n",
    "    print(x)"
   ]
  },
  {
   "cell_type": "code",
   "execution_count": 29,
   "id": "d0bbc904-20ff-44f7-a580-6e81ae1d5888",
   "metadata": {},
   "outputs": [
    {
     "name": "stdout",
     "output_type": "stream",
     "text": [
      "green guava\n",
      "green banana\n",
      "green apple\n",
      "yellow guava\n",
      "yellow banana\n",
      "yellow apple\n",
      "red guava\n",
      "red banana\n",
      "red apple\n"
     ]
    }
   ],
   "source": [
    "#A nested loop is a loop inside a loop\n",
    "#the 'inner loop' wiil be executed one time for each iteration \n",
    "colors=[\"green\",\"yellow\",\"red\"]\n",
    "fruits=[\"guava\",\"banana\",\"apple\"]\n",
    "for x in colors:\n",
    "    for y in fruits:\n",
    "        print(x,y)"
   ]
  },
  {
   "cell_type": "code",
   "execution_count": null,
   "id": "cf9f636e-55ca-4604-a61c-11d5a3723105",
   "metadata": {},
   "outputs": [],
   "source": []
  },
  {
   "cell_type": "markdown",
   "id": "4a0449b7-4785-4e44-8816-20c1a9bee692",
   "metadata": {},
   "source": [
    "# Function"
   ]
  },
  {
   "cell_type": "code",
   "execution_count": 13,
   "id": "7bf8ab64-e90d-4363-878d-b53ef7182951",
   "metadata": {},
   "outputs": [
    {
     "name": "stdout",
     "output_type": "stream",
     "text": [
      "Hello from a function\n"
     ]
    }
   ],
   "source": [
    "def my_function():\n",
    "    print(\"Hello from a function\")\n",
    "my_function()"
   ]
  },
  {
   "cell_type": "code",
   "execution_count": 15,
   "id": "1b736b2b-96c2-4198-9334-e407e40cc017",
   "metadata": {},
   "outputs": [
    {
     "name": "stdout",
     "output_type": "stream",
     "text": [
      "HelloRam\n"
     ]
    }
   ],
   "source": [
    "def my_function(name):\n",
    "    print(\"Hello\"+name)\n",
    "my_function(\"Ram\")"
   ]
  },
  {
   "cell_type": "code",
   "execution_count": 16,
   "id": "0a7bcd8b-b608-4d07-a528-7913b9e64499",
   "metadata": {},
   "outputs": [
    {
     "name": "stdout",
     "output_type": "stream",
     "text": [
      "World Hello\n"
     ]
    }
   ],
   "source": [
    "def my_function(name1,name2):\n",
    "    print(name1+\" \"+name2)\n",
    "my_function(\"World\",\"Hello\")"
   ]
  },
  {
   "cell_type": "code",
   "execution_count": 19,
   "id": "3f04fb46-a23c-4d32-9120-f08ea96e1259",
   "metadata": {},
   "outputs": [
    {
     "name": "stdout",
     "output_type": "stream",
     "text": [
      "Hello India\n"
     ]
    }
   ],
   "source": [
    "#Arbitrary Argument,(*args)\n",
    "#We will use the Arbitary argument when no of arguments are not known.\n",
    "#if you do not know how many argument that will be passed in the function\n",
    "#add a *before the parameter name\n",
    "#The function defination\n",
    "def my_function(*args):\n",
    "    print(args[0]+\" \"+args[2])\n",
    "my_function(\"Hello\",\"World\",\"India\")"
   ]
  },
  {
   "cell_type": "code",
   "execution_count": 21,
   "id": "ccd7cac7-b247-458d-8899-03036d3d83e5",
   "metadata": {},
   "outputs": [
    {
     "name": "stdout",
     "output_type": "stream",
     "text": [
      "first = Ishwari\n",
      "mid = Chintaman\n",
      "last = Deshmukh\n"
     ]
    }
   ],
   "source": [
    "#kwargs(**kwargs)\n",
    "#Kwargs-->it is a keywords\n",
    "#It is used for Dictionary(key,value)\n",
    "def my_function(**kwargs):\n",
    "    for key,value in kwargs.items():\n",
    "        print(\"%s = %s\" %(key,value))\n",
    "my_function(first = \"Ishwari\",mid = \"Chintaman\",last = \"Deshmukh\")"
   ]
  },
  {
   "cell_type": "code",
   "execution_count": 22,
   "id": "b24f6ea5-3e33-4c77-ace4-135314efbdfb",
   "metadata": {},
   "outputs": [
    {
     "name": "stdout",
     "output_type": "stream",
     "text": [
      "I an from Swedon\n",
      "I an from India\n",
      "I an from Norway\n",
      "I an from Brazil\n"
     ]
    }
   ],
   "source": [
    "#Default Argument Function\n",
    "#If we call the function without argument\n",
    "#The following example shows how to use a default argument\n",
    "def my_function(country = \"Norway\"):\n",
    "    print(\"I an from \" + country)\n",
    "my_function(\"Swedon\")\n",
    "my_function(\"India\")\n",
    "my_function()\n",
    "my_function(\"Brazil\")"
   ]
  },
  {
   "cell_type": "code",
   "execution_count": 24,
   "id": "ad47f8a2-fe0d-47e2-b37b-9012e4c06e7e",
   "metadata": {},
   "outputs": [
    {
     "name": "stdout",
     "output_type": "stream",
     "text": [
      "Orange\n",
      "Banana\n",
      "Guava\n"
     ]
    }
   ],
   "source": [
    "#Passing List as a argument\n",
    "#E.g if you send a List as an argument it will still be list.\n",
    "#you can send any data types of argument to the function (\"String\",\"List\"....)\n",
    "fruits = [\"Orange\",\"Banana\",\"Guava\"]\n",
    "def my_function(fruits):\n",
    "    for x in fruits:\n",
    "        print(x)\n",
    "my_function(fruits)"
   ]
  },
  {
   "cell_type": "code",
   "execution_count": 26,
   "id": "9c750a6c-7ccb-4b9d-b70d-ebdbc6147815",
   "metadata": {},
   "outputs": [
    {
     "data": {
      "text/plain": [
       "25"
      ]
     },
     "execution_count": 26,
     "metadata": {},
     "output_type": "execute_result"
    }
   ],
   "source": [
    "#Return values\n",
    "#To let a function return a value,use the return statment\n",
    "def my_function(x):\n",
    "    y=x*5\n",
    "    return y\n",
    "my_function(5)\n",
    "    "
   ]
  },
  {
   "cell_type": "code",
   "execution_count": 27,
   "id": "e40aa870-121a-4cd5-9e08-fcac364dd613",
   "metadata": {},
   "outputs": [
    {
     "data": {
      "text/plain": [
       "(25, 35)"
      ]
     },
     "execution_count": 27,
     "metadata": {},
     "output_type": "execute_result"
    }
   ],
   "source": [
    "#You can return multiple value once in a tuple\n",
    "def my_function(x):\n",
    "    y = x*5\n",
    "    z = x*7\n",
    "    return y,z\n",
    "my_function(5)"
   ]
  },
  {
   "cell_type": "code",
   "execution_count": 30,
   "id": "16fbd865-3a21-4185-9087-0c89f50ee39f",
   "metadata": {},
   "outputs": [],
   "source": [
    "#Pass Function\n",
    "def my_function1():\n",
    "    pass\n",
    "my_function()\n",
    "#Having an empyt function defination(No business Logic)\n",
    "#Like this it would not raise an error\n",
    "#advantage -it will execute pass without any errir"
   ]
  },
  {
   "cell_type": "code",
   "execution_count": 32,
   "id": "3a4068d2-6a37-4a64-8fa9-013e7f0a0855",
   "metadata": {},
   "outputs": [
    {
     "data": {
      "text/plain": [
       "720"
      ]
     },
     "execution_count": 32,
     "metadata": {},
     "output_type": "execute_result"
    }
   ],
   "source": [
    "#Recursive Function\n",
    "#Factorial of the number is the product of all the integer\n",
    "#From 1 to that number. For example the factorial of 1 to that perticular number.\n",
    "def factorial(x):\n",
    "    if x == 1:\n",
    "        return 1\n",
    "    else:\n",
    "        return(x*factorial(x-1))\n",
    "factorial(3)\n",
    "factorial(6)"
   ]
  },
  {
   "cell_type": "code",
   "execution_count": 35,
   "id": "a5353c62-1964-4673-8bc2-b087bea59508",
   "metadata": {},
   "outputs": [
    {
     "name": "stdout",
     "output_type": "stream",
     "text": [
      "30\n"
     ]
    }
   ],
   "source": [
    "#Lamda Function\n",
    "#A lamda function is a small\n",
    "#anonymous function.\n",
    "#A lamda function can take any number of arguments,\n",
    "#but can only have one expression\n",
    "def add(a):\n",
    "    sum = a + 10\n",
    "    return sum\n",
    "add(20)\n",
    "#Lamda function\n",
    "add = lambda a:a+10\n",
    "print(add(20))"
   ]
  },
  {
   "cell_type": "code",
   "execution_count": 36,
   "id": "a74e25f9-831e-4ce9-bc4a-9e41af3f7302",
   "metadata": {},
   "outputs": [
    {
     "name": "stdout",
     "output_type": "stream",
     "text": [
      "11\n"
     ]
    }
   ],
   "source": [
    "#lambda function can take any number of arguments:\n",
    "add=lambda a,b:a+b\n",
    "print(add(5,6))"
   ]
  },
  {
   "cell_type": "code",
   "execution_count": 40,
   "id": "ac9256c7-df9e-41f9-a517-08c1fdcce8d2",
   "metadata": {},
   "outputs": [
    {
     "name": "stdout",
     "output_type": "stream",
     "text": [
      "[55, 75, 13, 63]\n"
     ]
    }
   ],
   "source": [
    "#Finding out odd numbers by using filter and Lambda\n",
    "#Filter-->it is going to take argument,filter and function\n",
    "#Filters are used for iterators(Dict,list,tuple)\n",
    "lst = [34,12,64,55,75,13,63]\n",
    "odd_lst = list(filter(lambda x:(x %2 != 0),lst))\n",
    "print(odd_lst)"
   ]
  },
  {
   "cell_type": "code",
   "execution_count": 41,
   "id": "3714d768-2c57-4edb-8775-1237b86415b0",
   "metadata": {},
   "outputs": [
    {
     "name": "stdout",
     "output_type": "stream",
     "text": [
      "[34, 12, 64]\n"
     ]
    }
   ],
   "source": [
    "#Lambda and filter function\n",
    "#Finding out even numbers by using filter and Lambda\n",
    "lst = [34,12,64,55,75,13,63]\n",
    "even_lst = list(filter(lambda x:(x %2 == 0),lst))\n",
    "print(even_lst)"
   ]
  },
  {
   "cell_type": "code",
   "execution_count": 47,
   "id": "ac525224-ea88-4b02-a479-e4d469b99d6f",
   "metadata": {},
   "outputs": [
    {
     "name": "stdout",
     "output_type": "stream",
     "text": [
      "[1, 4, 9, 16, 25, 36, 49, 64, 81, 100]\n"
     ]
    }
   ],
   "source": [
    "#Map function\n",
    "#Finding square root of all numbers using map function\n",
    "lst = [1,2,3,4,5,6,7,8,9,10]\n",
    "square_lst = list(map(lambda x:(x**2),lst))\n",
    "print(square_lst)"
   ]
  },
  {
   "cell_type": "code",
   "execution_count": null,
   "id": "19a66574-3c26-49c3-8563-b9bb39748760",
   "metadata": {},
   "outputs": [],
   "source": []
  }
 ],
 "metadata": {
  "kernelspec": {
   "display_name": "Python 3 (ipykernel)",
   "language": "python",
   "name": "python3"
  },
  "language_info": {
   "codemirror_mode": {
    "name": "ipython",
    "version": 3
   },
   "file_extension": ".py",
   "mimetype": "text/x-python",
   "name": "python",
   "nbconvert_exporter": "python",
   "pygments_lexer": "ipython3",
   "version": "3.11.4"
  }
 },
 "nbformat": 4,
 "nbformat_minor": 5
}
