{
 "cells": [
  {
   "cell_type": "markdown",
   "id": "b728a4ad-c231-4543-9e4c-6cb78cfb2168",
   "metadata": {},
   "source": [
    "# OOP - Object Oriented programming"
   ]
  },
  {
   "cell_type": "markdown",
   "id": "05fe0ea6-4511-4c9c-8042-43103d27ed02",
   "metadata": {},
   "source": [
    "### Pillers of OOP"
   ]
  },
  {
   "cell_type": "markdown",
   "id": "3856708f-87a8-4b70-ae12-75b541f86f86",
   "metadata": {},
   "source": [
    "Class-\n",
    "A class is a blueprint(template) for creating object(a kind of template)\n",
    "\n",
    "Object\n",
    "\n",
    "Abstraction\n",
    "\n",
    "Encapsulation-Hiding internal data by making attributrs private and exposing them via method\n",
    "\n",
    "Inheritance\n",
    "\n",
    "Polymorphism"
   ]
  },
  {
   "cell_type": "code",
   "execution_count": 3,
   "id": "82277300-7153-4968-9a1c-1247ad6532ae",
   "metadata": {},
   "outputs": [
    {
     "name": "stdout",
     "output_type": "stream",
     "text": [
      "Radius: 1.0\n",
      "Circumferance: 6.28\n",
      "Area: 3.14\n"
     ]
    }
   ],
   "source": [
    "#Class\n",
    "#A class is a blueprint(template) for creating object(a kind of template)\n",
    "class Circle:\n",
    "    def __init__(self,x,y,r):\n",
    "        self.x = x\n",
    "        self.y = y\n",
    "        self.r = r\n",
    "\n",
    "    def circumference(self):\n",
    "        return 2 *3.14 *self.r\n",
    "\n",
    "    def area(self):\n",
    "        return 3.14 * self.r * self.r\n",
    "\n",
    "#Creating an object of Circle\n",
    "a_circle = Circle(2.0,2.0,1.0)\n",
    "b_circle = Circle(3.0,3.0,2.0)\n",
    "\n",
    "#Accessing data and method\n",
    "print(\"Radius:\",a_circle.r)\n",
    "print(\"Circumferance:\",a_circle.circumference())\n",
    "print(\"Area:\",a_circle.area())\n",
    "\n"
   ]
  },
  {
   "cell_type": "code",
   "execution_count": 4,
   "id": "7e1e3183-cb03-4d4b-8340-c5125b83f51a",
   "metadata": {},
   "outputs": [
    {
     "name": "stdout",
     "output_type": "stream",
     "text": [
      "3\n"
     ]
    }
   ],
   "source": [
    "#Encapsulation-\n",
    "#Hiding internal data by making attributrs private and exposing them via method\n",
    "class Circle:\n",
    "    def __init__(self,x,y,r):\n",
    "        self.__x = x            #Private\n",
    "        self.__y = y\n",
    "        self.__r = r\n",
    "\n",
    "    def get_radius(self):\n",
    "        return self.__r\n",
    "\n",
    "    def set_radius(self,r):\n",
    "        if r>0:\n",
    "            self.__r = r\n",
    "        else:\n",
    "            print(\"Invalid radius\")\n",
    "\n",
    "#Usage\n",
    "c2 = Circle(1,1,3)\n",
    "print(c2.get_radius())\n",
    "c2.set_radius(10)\n",
    "#Data is protected;directed access is avoided\n"
   ]
  },
  {
   "cell_type": "code",
   "execution_count": 9,
   "id": "ac620617-90fb-4dee-b708-60193f9f2dad",
   "metadata": {},
   "outputs": [
    {
     "name": "stdout",
     "output_type": "stream",
     "text": [
      "center: (0, 0), radius: 5\n",
      "area: 78.50\n",
      "circumference: 31.40\n",
      "color: red\n"
     ]
    }
   ],
   "source": [
    "class circle:\n",
    "    def __init__(self, x, y, r):\n",
    "        self.x = x\n",
    "        self.y = y\n",
    "        self.r = r\n",
    "        \n",
    "    def area(self):\n",
    "        return 3.14 * self.r ** 2\n",
    "    \n",
    "    def circumference(self):\n",
    "        return 2 * 3.14 * self.r\n",
    "    \n",
    "    def display_info(self):\n",
    "        print(f\"center: ({self.x}, {self.y}), radius: {self.r}\")\n",
    "        print(f\"area: {self.area():.2f}\")\n",
    "        print(f\"circumference: {self.circumference():.2f}\")\n",
    "\n",
    "class coloredcircle(circle):\n",
    "    def __init__(self, x, y, r, color):\n",
    "        super().__init__(x, y, r)\n",
    "        self.color = color\n",
    "        \n",
    "    def display_info(self):\n",
    "        super().display_info()\n",
    "        print(f\"color: {self.color}\")\n",
    "\n",
    "c1 = coloredcircle(0, 0, 5, \"red\")\n",
    "c1.display_info()\n"
   ]
  },
  {
   "cell_type": "code",
   "execution_count": 2,
   "id": "d576977d-2a4b-439e-9e18-d387f584f24a",
   "metadata": {},
   "outputs": [
    {
     "name": "stdout",
     "output_type": "stream",
     "text": [
      "calculating area of circle\n",
      "calculating area of square\n"
     ]
    }
   ],
   "source": [
    "#polymorphism\n",
    "class circle:\n",
    "    def area(self):\n",
    "        return\"calculating area of circle\"\n",
    "\n",
    "class square:\n",
    "    def area(self):\n",
    "        return\"calculating area of square\"\n",
    "\n",
    "shapes=[circle(),square()]\n",
    "for shape in shapes:\n",
    "    print(shape.area())"
   ]
  },
  {
   "cell_type": "code",
   "execution_count": 3,
   "id": "d2ef9cff-5ce1-4c6f-8489-9887a6a22b09",
   "metadata": {},
   "outputs": [
    {
     "name": "stdout",
     "output_type": "stream",
     "text": [
      "300\n",
      "400\n"
     ]
    }
   ],
   "source": [
    "#encapsulation\n",
    "class bankaccount:\n",
    "    def __init__(self,balance):\n",
    "        self.__balance=balance #private attribute\n",
    "        \n",
    "    def deposit(self,amount):\n",
    "        if amount>0:\n",
    "            self.__balance+=amount\n",
    "            \n",
    "    def get_balance(self):\n",
    "        return self.__balance\n",
    "\n",
    "ba1=bankaccount(300)\n",
    "print(ba1.get_balance())\n",
    "ba1.deposit(100)\n",
    "#data is protected; direct access is avoided\n",
    "print(ba1.get_balance())"
   ]
  },
  {
   "cell_type": "code",
   "execution_count": 4,
   "id": "63456e5c-a57a-4858-8a47-983ef7de9277",
   "metadata": {},
   "outputs": [
    {
     "name": "stdout",
     "output_type": "stream",
     "text": [
      "bark\n"
     ]
    }
   ],
   "source": [
    "#inheritance\n",
    "class animal:\n",
    "    def speak(self):\n",
    "        print ('some sound')\n",
    "        \n",
    "class dog(animal):\n",
    "    def speak(self):\n",
    "        print ('bark')\n",
    "        \n",
    "d=dog()\n",
    "d.speak()\n"
   ]
  },
  {
   "cell_type": "code",
   "execution_count": 5,
   "id": "3a794b9e-73f9-41a9-a244-ff57bde3443d",
   "metadata": {},
   "outputs": [
    {
     "name": "stdout",
     "output_type": "stream",
     "text": [
      "bark\n",
      "meow\n"
     ]
    }
   ],
   "source": [
    "#polymorphism\n",
    "class cat:\n",
    "    def speak(self):\n",
    "        print(\"meow\")\n",
    "\n",
    "animals=[dog(),cat()]\n",
    "for animal in animals:\n",
    "    animal.speak()"
   ]
  },
  {
   "cell_type": "code",
   "execution_count": 6,
   "id": "001d96ec-7868-4e9d-8221-4152b1cae0c4",
   "metadata": {},
   "outputs": [
    {
     "name": "stdout",
     "output_type": "stream",
     "text": [
      "area of cirle: 78.5\n"
     ]
    }
   ],
   "source": [
    "#abstarction\n",
    "from abc import ABC, abstractmethod\n",
    "\n",
    "class shape(ABC):\n",
    "    @abstractmethod\n",
    "    def area(self):\n",
    "        pass\n",
    "\n",
    "class circle(shape):\n",
    "    def __init__(self,radius):\n",
    "        self.radius=radius\n",
    "        \n",
    "    def area(self):\n",
    "        return 3.14*self.radius*self.radius\n",
    "\n",
    "circle1=circle(5)\n",
    "print(\"area of cirle:\",circle1.area())"
   ]
  },
  {
   "cell_type": "code",
   "execution_count": null,
   "id": "2455ef13-50d2-4e18-b176-5a695b81556f",
   "metadata": {},
   "outputs": [],
   "source": []
  }
 ],
 "metadata": {
  "kernelspec": {
   "display_name": "Python 3 (ipykernel)",
   "language": "python",
   "name": "python3"
  },
  "language_info": {
   "codemirror_mode": {
    "name": "ipython",
    "version": 3
   },
   "file_extension": ".py",
   "mimetype": "text/x-python",
   "name": "python",
   "nbconvert_exporter": "python",
   "pygments_lexer": "ipython3",
   "version": "3.12.7"
  }
 },
 "nbformat": 4,
 "nbformat_minor": 5
}
