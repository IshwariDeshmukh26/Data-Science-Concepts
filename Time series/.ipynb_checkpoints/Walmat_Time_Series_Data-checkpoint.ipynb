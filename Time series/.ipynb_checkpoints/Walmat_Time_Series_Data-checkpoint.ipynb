{
 "cells": [
  {
   "cell_type": "code",
   "execution_count": 28,
   "id": "324f2c18-a11d-41d5-9dec-77f03a1a197b",
   "metadata": {},
   "outputs": [],
   "source": [
    "#Import the library\n",
    "import pandas as pd\n"
   ]
  },
  {
   "cell_type": "code",
   "execution_count": 29,
   "id": "38e8327a-e4b9-49e7-9ecd-11d5e3d76884",
   "metadata": {},
   "outputs": [],
   "source": [
    "walmart=pd.read_csv(\"C:/Data Set/Walmart_Footfalls_Raw.csv\")"
   ]
  },
  {
   "cell_type": "code",
   "execution_count": 30,
   "id": "be0e8e8f-ca77-4dcf-a14b-ebe2bd9cd130",
   "metadata": {},
   "outputs": [
    {
     "data": {
      "text/html": [
       "<div>\n",
       "<style scoped>\n",
       "    .dataframe tbody tr th:only-of-type {\n",
       "        vertical-align: middle;\n",
       "    }\n",
       "\n",
       "    .dataframe tbody tr th {\n",
       "        vertical-align: top;\n",
       "    }\n",
       "\n",
       "    .dataframe thead th {\n",
       "        text-align: right;\n",
       "    }\n",
       "</style>\n",
       "<table border=\"1\" class=\"dataframe\">\n",
       "  <thead>\n",
       "    <tr style=\"text-align: right;\">\n",
       "      <th></th>\n",
       "      <th>Month</th>\n",
       "      <th>Footfalls</th>\n",
       "    </tr>\n",
       "  </thead>\n",
       "  <tbody>\n",
       "    <tr>\n",
       "      <th>0</th>\n",
       "      <td>Jan-91</td>\n",
       "      <td>1709</td>\n",
       "    </tr>\n",
       "    <tr>\n",
       "      <th>1</th>\n",
       "      <td>Feb-91</td>\n",
       "      <td>1621</td>\n",
       "    </tr>\n",
       "    <tr>\n",
       "      <th>2</th>\n",
       "      <td>Mar-91</td>\n",
       "      <td>1973</td>\n",
       "    </tr>\n",
       "    <tr>\n",
       "      <th>3</th>\n",
       "      <td>Apr-91</td>\n",
       "      <td>1812</td>\n",
       "    </tr>\n",
       "    <tr>\n",
       "      <th>4</th>\n",
       "      <td>May-91</td>\n",
       "      <td>1975</td>\n",
       "    </tr>\n",
       "    <tr>\n",
       "      <th>...</th>\n",
       "      <td>...</td>\n",
       "      <td>...</td>\n",
       "    </tr>\n",
       "    <tr>\n",
       "      <th>154</th>\n",
       "      <td>Nov-03</td>\n",
       "      <td>2076</td>\n",
       "    </tr>\n",
       "    <tr>\n",
       "      <th>155</th>\n",
       "      <td>Dec-03</td>\n",
       "      <td>2141</td>\n",
       "    </tr>\n",
       "    <tr>\n",
       "      <th>156</th>\n",
       "      <td>Jan-04</td>\n",
       "      <td>1832</td>\n",
       "    </tr>\n",
       "    <tr>\n",
       "      <th>157</th>\n",
       "      <td>Feb-04</td>\n",
       "      <td>1838</td>\n",
       "    </tr>\n",
       "    <tr>\n",
       "      <th>158</th>\n",
       "      <td>Mar-04</td>\n",
       "      <td>2132</td>\n",
       "    </tr>\n",
       "  </tbody>\n",
       "</table>\n",
       "<p>159 rows × 2 columns</p>\n",
       "</div>"
      ],
      "text/plain": [
       "      Month  Footfalls\n",
       "0    Jan-91       1709\n",
       "1    Feb-91       1621\n",
       "2    Mar-91       1973\n",
       "3    Apr-91       1812\n",
       "4    May-91       1975\n",
       "..      ...        ...\n",
       "154  Nov-03       2076\n",
       "155  Dec-03       2141\n",
       "156  Jan-04       1832\n",
       "157  Feb-04       1838\n",
       "158  Mar-04       2132\n",
       "\n",
       "[159 rows x 2 columns]"
      ]
     },
     "execution_count": 30,
     "metadata": {},
     "output_type": "execute_result"
    }
   ],
   "source": [
    "walmart"
   ]
  },
  {
   "cell_type": "code",
   "execution_count": 31,
   "id": "0043cd2c-15e1-4a49-b96e-6370e10f860f",
   "metadata": {},
   "outputs": [],
   "source": [
    "month=['Jan','Feb','Mar','Apr','May','Jun','Jul','Aug','Sep','Oct','Nov','Dec']\n",
    "#in this wal mart data we have Jan-1991 in 0th column,we need only first\n",
    "#example-Jan from each cell"
   ]
  },
  {
   "cell_type": "code",
   "execution_count": 32,
   "id": "abd944fe-83e7-44c6-b457-fb4e6986fcf8",
   "metadata": {},
   "outputs": [
    {
     "data": {
      "text/plain": [
       "'Jan'"
      ]
     },
     "execution_count": 32,
     "metadata": {},
     "output_type": "execute_result"
    }
   ],
   "source": [
    "p=walmart[\"Month\"][0]\n",
    "p[0:3]"
   ]
  },
  {
   "cell_type": "code",
   "execution_count": 33,
   "id": "a0441727-832f-4176-b418-86c81820a1f5",
   "metadata": {},
   "outputs": [],
   "source": [
    "#before we will extract,let us create new column callled months to stop\n",
    "walmart['months']=0\n"
   ]
  },
  {
   "cell_type": "code",
   "execution_count": 34,
   "id": "6c592edd-1992-4756-9d69-7a9bd0459cc6",
   "metadata": {},
   "outputs": [
    {
     "name": "stderr",
     "output_type": "stream",
     "text": [
      "C:\\Users\\ADMIN\\AppData\\Local\\Temp\\ipykernel_5532\\709073741.py:5: SettingWithCopyWarning: \n",
      "A value is trying to be set on a copy of a slice from a DataFrame\n",
      "\n",
      "See the caveats in the documentation: https://pandas.pydata.org/pandas-docs/stable/user_guide/indexing.html#returning-a-view-versus-a-copy\n",
      "  walmart[\"months\"][i]=p[0:3]\n"
     ]
    }
   ],
   "source": [
    "#you can check the dataframe with months name with all values 0\n",
    "#the total records are 159 in walmart\n",
    "for i in range(159):\n",
    "    p=walmart[\"Month\"][i]\n",
    "    walmart[\"months\"][i]=p[0:3]\n"
   ]
  },
  {
   "cell_type": "code",
   "execution_count": 35,
   "id": "55b5f27f-7a5a-48cf-bf5f-deb46ac20485",
   "metadata": {},
   "outputs": [],
   "source": [
    " #for all these months create dummy variable\n",
    "month_dummies=pd.DataFrame(pd.get_dummies(walmart['months']))"
   ]
  },
  {
   "cell_type": "code",
   "execution_count": 36,
   "id": "3c478869-7240-4b01-be01-880acd461096",
   "metadata": {},
   "outputs": [],
   "source": [
    "#now let us concatnet these dummy values to dataframe\n",
    "walmart1=pd.concat([walmart,month_dummies],axis=1)"
   ]
  },
  {
   "cell_type": "code",
   "execution_count": 37,
   "id": "9ea51961-7e61-4a25-b12a-8c6eae7877a4",
   "metadata": {},
   "outputs": [],
   "source": [
    "#similarly we need to create column t\n",
    "import numpy as np"
   ]
  },
  {
   "cell_type": "code",
   "execution_count": 58,
   "id": "7cc34bdd-0446-4618-b328-c5ce9973ac42",
   "metadata": {},
   "outputs": [
    {
     "data": {
      "text/plain": [
       "Index(['Month', 'Footfalls', 'months', 'Apr', 'Aug', 'Dec', 'Feb', 'Jan',\n",
       "       'Jul', 'Jun', 'Mar', 'May', 'Nov', 'Oct', 'Sep', 't', 't_squared',\n",
       "       'log_footfalls'],\n",
       "      dtype='object')"
      ]
     },
     "execution_count": 58,
     "metadata": {},
     "output_type": "execute_result"
    }
   ],
   "source": [
    "walmart1['t']=np.arange(1,160)\n",
    "walmart1['t_squared']=walmart1['t']*walmart1['t']\n",
    "walmart1['log_footfalls']=np.log(walmart1['Footfalls'])\n",
    "walmart1.columns"
   ]
  },
  {
   "cell_type": "code",
   "execution_count": 59,
   "id": "0a2d0a7b-ccbe-453b-87af-a80a29eab568",
   "metadata": {},
   "outputs": [
    {
     "data": {
      "text/plain": [
       "<Axes: >"
      ]
     },
     "execution_count": 59,
     "metadata": {},
     "output_type": "execute_result"
    },
    {
     "data": {
      "image/png": "[encoded data removed]",
      "text/plain": [
       "<Figure size 640x480 with 1 Axes>"
      ]
     },
     "metadata": {},
     "output_type": "display_data"
    }
   ],
   "source": [
    "#Now Let us check the visuals of the footfall\n",
    "walmart1.Footfalls.plot()"
   ]
  },
  {
   "cell_type": "code",
   "execution_count": 60,
   "id": "a09a1b50-fa47-4c32-8462-9e8508c99aa0",
   "metadata": {},
   "outputs": [],
   "source": [
    "#You will get exponentoal trend with first decending and the  increasing\n",
    "#we have to forcast footfalls in next 12 months,hence horizon=12,even\n",
    "#season=12,so validating data will be 12 and tranding will 159-12=147\n",
    "Train=walmart1.head(148)\n",
    "Test=walmart1.tail(12)"
   ]
  },
  {
   "cell_type": "code",
   "execution_count": 61,
   "id": "97b5b0f3-0022-45ca-bcee-e5ea3e7087f6",
   "metadata": {},
   "outputs": [],
   "source": [
    "#Now let us apply linear regression\n",
    "import statsmodels.formula.api as smf"
   ]
  },
  {
   "cell_type": "markdown",
   "id": "a38293a6-6142-4536-af08-76b35713dc9b",
   "metadata": {},
   "source": [
    "# Linear model"
   ]
  },
  {
   "cell_type": "code",
   "execution_count": 64,
   "id": "a9adbc8b-5506-46df-b970-145c421fd0b6",
   "metadata": {},
   "outputs": [
    {
     "data": {
      "text/plain": [
       "205.296308072429"
      ]
     },
     "execution_count": 64,
     "metadata": {},
     "output_type": "execute_result"
    }
   ],
   "source": [
    "linear_model=smf.ols(\"Footfalls~t\",data=Train).fit()\n",
    "pred_linear=pd.Series(linear_model.predict(pd.DataFrame(Test['t'])))\n",
    "rmse_linear=np.sqrt(np.mean((np.array(Test['Footfalls'])-np.array(pred_linear))**2))\n",
    "rmse_linear\n",
    "                            "
   ]
  },
  {
   "cell_type": "markdown",
   "id": "a5310eea-0211-4db0-8901-bad89c913c1d",
   "metadata": {},
   "source": [
    "# Exponential model"
   ]
  },
  {
   "cell_type": "code",
   "execution_count": 66,
   "id": "21b22e66-9833-4bd8-9c97-b980dad9df90",
   "metadata": {},
   "outputs": [
    {
     "data": {
      "text/plain": [
       "212.37728688274146"
      ]
     },
     "execution_count": 66,
     "metadata": {},
     "output_type": "execute_result"
    }
   ],
   "source": [
    "Exp_model = smf.ols(\"log_footfalls~t\", data=Train).fit()\n",
    "pred_Exp = pd.Series(Exp_model.predict(pd.DataFrame(Test['t'])))\n",
    "rmse_Exp = np.sqrt(np.mean((np.array(Test['Footfalls'])-np.exp(pred_Exp))**2))\n",
    "rmse_Exp   "
   ]
  },
  {
   "cell_type": "markdown",
   "id": "850e76d5-9866-49a2-9579-f03884984baa",
   "metadata": {},
   "source": [
    "# Quadratic Model"
   ]
  },
  {
   "cell_type": "code",
   "execution_count": 67,
   "id": "7bda299b-682d-43be-94ae-54110ad7441e",
   "metadata": {},
   "outputs": [
    {
     "data": {
      "text/plain": [
       "137.7821613097925"
      ]
     },
     "execution_count": 67,
     "metadata": {},
     "output_type": "execute_result"
    }
   ],
   "source": [
    "\n",
    "Quad = smf.ols(\"Footfalls~t+t_squared\", data=Train).fit()\n",
    "pred_Quad = pd.Series(Quad.predict(Test[['t','t_squared']]))\n",
    "rmse_Quad = np.sqrt(np.mean((np.array(Test['Footfalls'])-np.array(pred_Quad))**2))\n",
    "rmse_Quad"
   ]
  },
  {
   "cell_type": "markdown",
   "id": "498b99f5-660d-4b28-bee6-2e988afb6d65",
   "metadata": {},
   "source": [
    "# Additive seasonality"
   ]
  },
  {
   "cell_type": "code",
   "execution_count": 69,
   "id": "d37d5826-564b-432d-8de4-785222a97548",
   "metadata": {},
   "outputs": [
    {
     "data": {
      "text/plain": [
       "262.77906696150797"
      ]
     },
     "execution_count": 69,
     "metadata": {},
     "output_type": "execute_result"
    }
   ],
   "source": [
    "add_sea = smf.ols('Footfalls ~ Jan+Feb+Mar+Apr+Jun+Jul+Aug+Sep+Oct+Nov',data=Train).fit()\n",
    "add_sea.summary\n",
    "pred_add_sea = pd.Series(add_sea.predict(Test[['Jan','Feb','Mar','Apr','May','Jun','Jul','Aug','Sep','Oct','Nov']]))\n",
    "rmse_add_sea = np.sqrt(np.mean((np.array(Test['Footfalls']) - np.array(pred_add_sea))**2))\n",
    "rmse_add_sea"
   ]
  },
  {
   "cell_type": "markdown",
   "id": "4c7961c4-5aef-402c-981a-7b4380006b69",
   "metadata": {},
   "source": [
    "# Multiplicative Seasonality Model"
   ]
  },
  {
   "cell_type": "code",
   "execution_count": 75,
   "id": "87834ffa-8ff0-4eb5-b635-86ca33b7d544",
   "metadata": {},
   "outputs": [
    {
     "data": {
      "text/plain": [
       "266.8496296339311"
      ]
     },
     "execution_count": 75,
     "metadata": {},
     "output_type": "execute_result"
    }
   ],
   "source": [
    "mul_sea = smf.ols('log_footfalls ~ Jan+Feb+Mar+Apr+May+Jun+Jul+Aug+Sep+Oct+Nov',data=Train).fit()\n",
    "pred_mul_sea = pd.Series(mul_sea.predict(Test))\n",
    "rmse_mul_sea=np.sqrt(np.mean((np.array(Test['Footfalls'])-np.array(np.exp(pred_mul_sea)))**2))\n",
    "rmse_mul_sea"
   ]
  },
  {
   "cell_type": "markdown",
   "id": "ede6bd90-fe15-477f-adb9-c67f05edc4c7",
   "metadata": {},
   "source": [
    "# Additive Seasonality with quadratic trend"
   ]
  },
  {
   "cell_type": "code",
   "execution_count": 77,
   "id": "09f19da1-5ecd-4f15-a8fc-e7ac1630931f",
   "metadata": {},
   "outputs": [
    {
     "data": {
      "text/plain": [
       "49.92839984049347"
      ]
     },
     "execution_count": 77,
     "metadata": {},
     "output_type": "execute_result"
    }
   ],
   "source": [
    "add_sea_quad = smf.ols('Footfalls~t+t_squared+Jan+Feb+Mar+Apr+May+Jun+Jul+Aug+Sep+Oct+Nov', data=Train).fit()\n",
    "pred_add_sea_quad = pd.Series(add_sea_quad.predict(Test[['Jan','Feb','Mar','Apr','May','Jun','Jul','Aug','Sep','Oct','Nov','t','t_squared']]))\n",
    "rmse_add_sea_quad = np.sqrt(np.mean((np.array(Test['Footfalls']) - np.array(pred_add_sea_quad))**2))\n",
    "rmse_add_sea_quad"
   ]
  },
  {
   "cell_type": "markdown",
   "id": "bf18da08-9c77-4a9f-b835-a9eb3bd2e17e",
   "metadata": {},
   "source": [
    "# Multiplicative Seasonality with Linear Model"
   ]
  },
  {
   "cell_type": "code",
   "execution_count": 78,
   "id": "6dcd2e1a-81bf-4b2e-b6dd-7f7b90881705",
   "metadata": {},
   "outputs": [
    {
     "data": {
      "text/plain": [
       "169.10424680002077"
      ]
     },
     "execution_count": 78,
     "metadata": {},
     "output_type": "execute_result"
    }
   ],
   "source": [
    "mul_add_sea=smf.ols(\"log_footfalls~t+Jan+Feb+Mar+Apr+May+Jun+Jul+Aug+Sep+Oct+Nov\",data=Train).fit()\n",
    "pred_mul_add_sea = pd.Series(mul_add_sea.predict(Test))\n",
    "rmse_mul_add_sea=np.sqrt(np.mean((np.array(Test['Footfalls'])-np.array(np.exp(pred_mul_add_sea)))**2))\n",
    "rmse_mul_add_sea"
   ]
  },
  {
   "cell_type": "code",
   "execution_count": 86,
   "id": "177881fd-7420-4913-8516-3d11275a36fa",
   "metadata": {},
   "outputs": [
    {
     "data": {
      "text/plain": [
       "{'Model': 0          rmse_linear\n",
       " 1             rmse_Exp\n",
       " 2            rmse_Quad\n",
       " 3         rmse_add_sea\n",
       " 4         rmse_mul_sea\n",
       " 5    rmse_add_sea_quad\n",
       " 6     rmse_mul_add_sea\n",
       " dtype: object,\n",
       " 'RMSE_Values': 0    205.296308\n",
       " 1    212.377287\n",
       " 2    137.782161\n",
       " 3    262.779067\n",
       " 4    169.104247\n",
       " dtype: float64}"
      ]
     },
     "execution_count": 86,
     "metadata": {},
     "output_type": "execute_result"
    }
   ],
   "source": [
    "##Let us create a dataframe and add all these rmse_values\n",
    "data={\"Model\":pd.Series(['rmse_linear','rmse_Exp','rmse_Quad','rmse_add_sea','rmse_mul_sea','rmse_add_sea_quad','rmse_mul_add_sea']),\"RMSE_Values\":pd.Series([rmse_linear,rmse_Exp,rmse_Quad,rmse_add_sea,rmse_mul_add_sea])}\n",
    "data"
   ]
  },
  {
   "cell_type": "code",
   "execution_count": 84,
   "id": "b6357038-81d8-48b1-b307-1963be8e2618",
   "metadata": {},
   "outputs": [
    {
     "data": {
      "text/plain": [
       "0     2211.322927\n",
       "1     2251.497389\n",
       "2     2218.013985\n",
       "3     2330.447249\n",
       "4     2383.380512\n",
       "5     2058.147108\n",
       "6     2205.580371\n",
       "7     2203.430301\n",
       "8     2255.363564\n",
       "9     2027.114657\n",
       "10    1997.949454\n",
       "11    2306.861174\n",
       "dtype: float64"
      ]
     },
     "execution_count": 84,
     "metadata": {},
     "output_type": "execute_result"
    }
   ],
   "source": [
    "#Now let us test the model with full data\n",
    "predict_data=pd.read_excel(\"C:/Data Set/Predict_new.xlsx\")\n",
    "model_full = smf.ols('Footfalls~t+t_squared+Jan+Feb+Mar+Apr+May+Jun+Jul+Aug+Sep+Oct+Nov', data=Train).fit()\n",
    "pred_new = pd.Series(model_full.predict(predict_data))\n",
    "pred_new"
   ]
  },
  {
   "cell_type": "code",
   "execution_count": 87,
   "id": "43f702b6-3197-4244-9256-c27616c88970",
   "metadata": {},
   "outputs": [],
   "source": [
    "predict_data[\"forecasted_Footfalls\"]=pd.Series(pred_new)"
   ]
  },
  {
   "cell_type": "code",
   "execution_count": 88,
   "id": "dfd3a33d-bb8f-4159-8db6-f1d284180819",
   "metadata": {},
   "outputs": [
    {
     "data": {
      "text/html": [
       "<div>\n",
       "<style scoped>\n",
       "    .dataframe tbody tr th:only-of-type {\n",
       "        vertical-align: middle;\n",
       "    }\n",
       "\n",
       "    .dataframe tbody tr th {\n",
       "        vertical-align: top;\n",
       "    }\n",
       "\n",
       "    .dataframe thead th {\n",
       "        text-align: right;\n",
       "    }\n",
       "</style>\n",
       "<table border=\"1\" class=\"dataframe\">\n",
       "  <thead>\n",
       "    <tr style=\"text-align: right;\">\n",
       "      <th></th>\n",
       "      <th>Month</th>\n",
       "      <th>t</th>\n",
       "      <th>t_squared</th>\n",
       "      <th>Jan</th>\n",
       "      <th>Feb</th>\n",
       "      <th>Mar</th>\n",
       "      <th>Apr</th>\n",
       "      <th>May</th>\n",
       "      <th>Jun</th>\n",
       "      <th>Jul</th>\n",
       "      <th>Aug</th>\n",
       "      <th>Sep</th>\n",
       "      <th>Oct</th>\n",
       "      <th>Nov</th>\n",
       "      <th>Dec</th>\n",
       "    </tr>\n",
       "  </thead>\n",
       "  <tbody>\n",
       "    <tr>\n",
       "      <th>0</th>\n",
       "      <td>2004-04-01</td>\n",
       "      <td>160</td>\n",
       "      <td>25600</td>\n",
       "      <td>0</td>\n",
       "      <td>0</td>\n",
       "      <td>0</td>\n",
       "      <td>1</td>\n",
       "      <td>0</td>\n",
       "      <td>0</td>\n",
       "      <td>0</td>\n",
       "      <td>0</td>\n",
       "      <td>0</td>\n",
       "      <td>0</td>\n",
       "      <td>0</td>\n",
       "      <td>0</td>\n",
       "    </tr>\n",
       "    <tr>\n",
       "      <th>1</th>\n",
       "      <td>2004-05-01</td>\n",
       "      <td>161</td>\n",
       "      <td>25921</td>\n",
       "      <td>0</td>\n",
       "      <td>0</td>\n",
       "      <td>0</td>\n",
       "      <td>0</td>\n",
       "      <td>1</td>\n",
       "      <td>0</td>\n",
       "      <td>0</td>\n",
       "      <td>0</td>\n",
       "      <td>0</td>\n",
       "      <td>0</td>\n",
       "      <td>0</td>\n",
       "      <td>0</td>\n",
       "    </tr>\n",
       "    <tr>\n",
       "      <th>2</th>\n",
       "      <td>2004-06-01</td>\n",
       "      <td>162</td>\n",
       "      <td>26244</td>\n",
       "      <td>0</td>\n",
       "      <td>0</td>\n",
       "      <td>0</td>\n",
       "      <td>0</td>\n",
       "      <td>0</td>\n",
       "      <td>1</td>\n",
       "      <td>0</td>\n",
       "      <td>0</td>\n",
       "      <td>0</td>\n",
       "      <td>0</td>\n",
       "      <td>0</td>\n",
       "      <td>0</td>\n",
       "    </tr>\n",
       "    <tr>\n",
       "      <th>3</th>\n",
       "      <td>2004-07-01</td>\n",
       "      <td>163</td>\n",
       "      <td>26569</td>\n",
       "      <td>0</td>\n",
       "      <td>0</td>\n",
       "      <td>0</td>\n",
       "      <td>0</td>\n",
       "      <td>0</td>\n",
       "      <td>0</td>\n",
       "      <td>1</td>\n",
       "      <td>0</td>\n",
       "      <td>0</td>\n",
       "      <td>0</td>\n",
       "      <td>0</td>\n",
       "      <td>0</td>\n",
       "    </tr>\n",
       "    <tr>\n",
       "      <th>4</th>\n",
       "      <td>2004-08-01</td>\n",
       "      <td>164</td>\n",
       "      <td>26896</td>\n",
       "      <td>0</td>\n",
       "      <td>0</td>\n",
       "      <td>0</td>\n",
       "      <td>0</td>\n",
       "      <td>0</td>\n",
       "      <td>0</td>\n",
       "      <td>0</td>\n",
       "      <td>1</td>\n",
       "      <td>0</td>\n",
       "      <td>0</td>\n",
       "      <td>0</td>\n",
       "      <td>0</td>\n",
       "    </tr>\n",
       "    <tr>\n",
       "      <th>5</th>\n",
       "      <td>2004-09-01</td>\n",
       "      <td>165</td>\n",
       "      <td>27225</td>\n",
       "      <td>0</td>\n",
       "      <td>0</td>\n",
       "      <td>0</td>\n",
       "      <td>0</td>\n",
       "      <td>0</td>\n",
       "      <td>0</td>\n",
       "      <td>0</td>\n",
       "      <td>0</td>\n",
       "      <td>1</td>\n",
       "      <td>0</td>\n",
       "      <td>0</td>\n",
       "      <td>0</td>\n",
       "    </tr>\n",
       "    <tr>\n",
       "      <th>6</th>\n",
       "      <td>2004-10-01</td>\n",
       "      <td>166</td>\n",
       "      <td>27556</td>\n",
       "      <td>0</td>\n",
       "      <td>0</td>\n",
       "      <td>0</td>\n",
       "      <td>0</td>\n",
       "      <td>0</td>\n",
       "      <td>0</td>\n",
       "      <td>0</td>\n",
       "      <td>0</td>\n",
       "      <td>0</td>\n",
       "      <td>1</td>\n",
       "      <td>0</td>\n",
       "      <td>0</td>\n",
       "    </tr>\n",
       "    <tr>\n",
       "      <th>7</th>\n",
       "      <td>2004-11-01</td>\n",
       "      <td>167</td>\n",
       "      <td>27889</td>\n",
       "      <td>0</td>\n",
       "      <td>0</td>\n",
       "      <td>0</td>\n",
       "      <td>0</td>\n",
       "      <td>0</td>\n",
       "      <td>0</td>\n",
       "      <td>0</td>\n",
       "      <td>0</td>\n",
       "      <td>0</td>\n",
       "      <td>0</td>\n",
       "      <td>1</td>\n",
       "      <td>0</td>\n",
       "    </tr>\n",
       "    <tr>\n",
       "      <th>8</th>\n",
       "      <td>2004-12-01</td>\n",
       "      <td>168</td>\n",
       "      <td>28224</td>\n",
       "      <td>0</td>\n",
       "      <td>0</td>\n",
       "      <td>0</td>\n",
       "      <td>0</td>\n",
       "      <td>0</td>\n",
       "      <td>0</td>\n",
       "      <td>0</td>\n",
       "      <td>0</td>\n",
       "      <td>0</td>\n",
       "      <td>0</td>\n",
       "      <td>0</td>\n",
       "      <td>1</td>\n",
       "    </tr>\n",
       "    <tr>\n",
       "      <th>9</th>\n",
       "      <td>2005-01-01</td>\n",
       "      <td>169</td>\n",
       "      <td>28561</td>\n",
       "      <td>1</td>\n",
       "      <td>0</td>\n",
       "      <td>0</td>\n",
       "      <td>0</td>\n",
       "      <td>0</td>\n",
       "      <td>0</td>\n",
       "      <td>0</td>\n",
       "      <td>0</td>\n",
       "      <td>0</td>\n",
       "      <td>0</td>\n",
       "      <td>0</td>\n",
       "      <td>0</td>\n",
       "    </tr>\n",
       "    <tr>\n",
       "      <th>10</th>\n",
       "      <td>2005-02-01</td>\n",
       "      <td>170</td>\n",
       "      <td>28900</td>\n",
       "      <td>0</td>\n",
       "      <td>1</td>\n",
       "      <td>0</td>\n",
       "      <td>0</td>\n",
       "      <td>0</td>\n",
       "      <td>0</td>\n",
       "      <td>0</td>\n",
       "      <td>0</td>\n",
       "      <td>0</td>\n",
       "      <td>0</td>\n",
       "      <td>0</td>\n",
       "      <td>0</td>\n",
       "    </tr>\n",
       "    <tr>\n",
       "      <th>11</th>\n",
       "      <td>2005-03-01</td>\n",
       "      <td>171</td>\n",
       "      <td>29241</td>\n",
       "      <td>0</td>\n",
       "      <td>0</td>\n",
       "      <td>1</td>\n",
       "      <td>0</td>\n",
       "      <td>0</td>\n",
       "      <td>0</td>\n",
       "      <td>0</td>\n",
       "      <td>0</td>\n",
       "      <td>0</td>\n",
       "      <td>0</td>\n",
       "      <td>0</td>\n",
       "      <td>0</td>\n",
       "    </tr>\n",
       "  </tbody>\n",
       "</table>\n",
       "</div>"
      ],
      "text/plain": [
       "        Month    t  t_squared  Jan  Feb  Mar  Apr  May  Jun  Jul  Aug  Sep  \\\n",
       "0  2004-04-01  160      25600    0    0    0    1    0    0    0    0    0   \n",
       "1  2004-05-01  161      25921    0    0    0    0    1    0    0    0    0   \n",
       "2  2004-06-01  162      26244    0    0    0    0    0    1    0    0    0   \n",
       "3  2004-07-01  163      26569    0    0    0    0    0    0    1    0    0   \n",
       "4  2004-08-01  164      26896    0    0    0    0    0    0    0    1    0   \n",
       "5  2004-09-01  165      27225    0    0    0    0    0    0    0    0    1   \n",
       "6  2004-10-01  166      27556    0    0    0    0    0    0    0    0    0   \n",
       "7  2004-11-01  167      27889    0    0    0    0    0    0    0    0    0   \n",
       "8  2004-12-01  168      28224    0    0    0    0    0    0    0    0    0   \n",
       "9  2005-01-01  169      28561    1    0    0    0    0    0    0    0    0   \n",
       "10 2005-02-01  170      28900    0    1    0    0    0    0    0    0    0   \n",
       "11 2005-03-01  171      29241    0    0    1    0    0    0    0    0    0   \n",
       "\n",
       "    Oct  Nov  Dec  \n",
       "0     0    0    0  \n",
       "1     0    0    0  \n",
       "2     0    0    0  \n",
       "3     0    0    0  \n",
       "4     0    0    0  \n",
       "5     0    0    0  \n",
       "6     1    0    0  \n",
       "7     0    1    0  \n",
       "8     0    0    1  \n",
       "9     0    0    0  \n",
       "10    0    0    0  \n",
       "11    0    0    0  "
      ]
     },
     "execution_count": 88,
     "metadata": {},
     "output_type": "execute_result"
    }
   ],
   "source": [
    "pred_data"
   ]
  },
  {
   "cell_type": "code",
   "execution_count": null,
   "id": "7aa25450-8bc9-4545-9cd0-9d5cef251a02",
   "metadata": {},
   "outputs": [],
   "source": []
  }
 ],
 "metadata": {
  "kernelspec": {
   "display_name": "Python 3 (ipykernel)",
   "language": "python",
   "name": "python3"
  },
  "language_info": {
   "codemirror_mode": {
    "name": "ipython",
    "version": 3
   },
   "file_extension": ".py",
   "mimetype": "text/x-python",
   "name": "python",
   "nbconvert_exporter": "python",
   "pygments_lexer": "ipython3",
   "version": "3.11.4"
  }
 },
 "nbformat": 4,
 "nbformat_minor": 5
}
