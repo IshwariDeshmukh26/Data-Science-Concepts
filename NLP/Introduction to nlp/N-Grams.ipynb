{
 "cells": [
  {
   "cell_type": "markdown",
   "id": "6f06a4aa-8602-4d5f-8886-46f2feace08b",
   "metadata": {},
   "source": [
    "# Extrating n-grams"
   ]
  },
  {
   "cell_type": "markdown",
   "id": "c6034aa9-2c7b-4106-b1d2-fc39e4a4e55a",
   "metadata": {},
   "source": [
    "Extract bi-grams,tri-grams from the text:"
   ]
  },
  {
   "cell_type": "markdown",
   "id": "386fec11-8533-4a1b-8106-30c8d2946d9e",
   "metadata": {},
   "source": [
    "Using\n",
    "\n",
    "1)Custom defined Function\n",
    "\n",
    "2)NLTK\n",
    "\n",
    "3)TextBlob"
   ]
  },
  {
   "cell_type": "code",
   "execution_count": 5,
   "id": "72ae7679-ea32-4ae4-9579-dfdbb0553bf6",
   "metadata": {},
   "outputs": [],
   "source": [
    "sentence = 'Sunil tweeted,\"Witnessing 70th RepublicDay of India from Rajpath, \\\n",
    "New Delhi.Mesmering performance by Indian Army! Awsome airshow! @india_official \\\n",
    "@indian_army #India #70Republic_Day.For more photos ping me sunil@photking.com :)\"'"
   ]
  },
  {
   "cell_type": "code",
   "execution_count": 6,
   "id": "5b80020f-a10b-4515-ada5-e2f97da6e8cd",
   "metadata": {},
   "outputs": [],
   "source": [
    "# Extrating n-grams using customed defined function\n",
    "import re\n",
    "def n_gram_extractor(sentence,n):\n",
    "    tokens = re.sub(r'([^\\s\\w]|_)+',' ',sentence).split()\n",
    "    for i in range(len(tokens)-n+1):\n",
    "        print(tokens[i:i+n])"
   ]
  },
  {
   "cell_type": "code",
   "execution_count": 7,
   "id": "83df3023-ba8e-4519-856c-541e6d09fbf2",
   "metadata": {},
   "outputs": [
    {
     "name": "stdout",
     "output_type": "stream",
     "text": [
      "['The', 'cute']\n",
      "['cute', 'little']\n",
      "['little', 'boy']\n",
      "['boy', 'is']\n",
      "['is', 'playing']\n",
      "['playing', 'with']\n",
      "['with', 'the']\n",
      "['the', 'kitten']\n"
     ]
    }
   ],
   "source": [
    "n_gram_extractor('The cute little boy is playing with the kitten.',2)"
   ]
  },
  {
   "cell_type": "code",
   "execution_count": 8,
   "id": "4c9f13f7-d1cb-4afb-8295-a82b9180abb1",
   "metadata": {},
   "outputs": [
    {
     "name": "stdout",
     "output_type": "stream",
     "text": [
      "['The', 'cute', 'little']\n",
      "['cute', 'little', 'boy']\n",
      "['little', 'boy', 'is']\n",
      "['boy', 'is', 'playing']\n",
      "['is', 'playing', 'with']\n",
      "['playing', 'with', 'the']\n",
      "['with', 'the', 'kitten']\n"
     ]
    }
   ],
   "source": [
    "n_gram_extractor('The cute little boy is playing with the kitten.',3)"
   ]
  },
  {
   "cell_type": "code",
   "execution_count": 11,
   "id": "7804f906-b520-4ae1-89b1-f8bab16d821d",
   "metadata": {},
   "outputs": [
    {
     "data": {
      "text/plain": [
       "[('The', 'cute'),\n",
       " ('cute', 'little'),\n",
       " ('little', 'boy'),\n",
       " ('boy', 'is'),\n",
       " ('is', 'playing'),\n",
       " ('playing', 'with'),\n",
       " ('with', 'the'),\n",
       " ('the', 'kitten.')]"
      ]
     },
     "execution_count": 11,
     "metadata": {},
     "output_type": "execute_result"
    }
   ],
   "source": [
    "#Extracting n-grams with nltk\n",
    "from nltk import ngrams\n",
    "list(ngrams('The cute little boy is playing with the kitten.'.split(),2))"
   ]
  },
  {
   "cell_type": "code",
   "execution_count": 12,
   "id": "8a8e4d01-7f4c-4e82-8676-b39ec963f569",
   "metadata": {},
   "outputs": [
    {
     "data": {
      "text/plain": [
       "[('The', 'cute', 'little'),\n",
       " ('cute', 'little', 'boy'),\n",
       " ('little', 'boy', 'is'),\n",
       " ('boy', 'is', 'playing'),\n",
       " ('is', 'playing', 'with'),\n",
       " ('playing', 'with', 'the'),\n",
       " ('with', 'the', 'kitten.')]"
      ]
     },
     "execution_count": 12,
     "metadata": {},
     "output_type": "execute_result"
    }
   ],
   "source": [
    "list(ngrams('The cute little boy is playing with the kitten.'.split(),3))"
   ]
  },
  {
   "cell_type": "code",
   "execution_count": 15,
   "id": "bc197a28-1d6e-40cf-bb69-7fc3b6f36fe3",
   "metadata": {},
   "outputs": [
    {
     "data": {
      "text/plain": [
       "[WordList(['The', 'cute']),\n",
       " WordList(['cute', 'Little']),\n",
       " WordList(['Little', 'boy']),\n",
       " WordList(['boy', 'is']),\n",
       " WordList(['is', 'playing']),\n",
       " WordList(['playing', 'with']),\n",
       " WordList(['with', 'the']),\n",
       " WordList(['the', 'kitten'])]"
      ]
     },
     "execution_count": 15,
     "metadata": {},
     "output_type": "execute_result"
    }
   ],
   "source": [
    "#Extracting n-grams using TextBlob\n",
    "from textblob import TextBlob\n",
    "blob = TextBlob(\"The cute Little boy is playing with the kitten.\")\n",
    "blob.ngrams(n = 2)"
   ]
  },
  {
   "cell_type": "code",
   "execution_count": 16,
   "id": "dbef2cfd-26b5-4768-850a-8943fb94f015",
   "metadata": {},
   "outputs": [
    {
     "data": {
      "text/plain": [
       "[WordList(['The', 'cute', 'Little']),\n",
       " WordList(['cute', 'Little', 'boy']),\n",
       " WordList(['Little', 'boy', 'is']),\n",
       " WordList(['boy', 'is', 'playing']),\n",
       " WordList(['is', 'playing', 'with']),\n",
       " WordList(['playing', 'with', 'the']),\n",
       " WordList(['with', 'the', 'kitten'])]"
      ]
     },
     "execution_count": 16,
     "metadata": {},
     "output_type": "execute_result"
    }
   ],
   "source": [
    "blob.ngrams(n = 3)"
   ]
  },
  {
   "cell_type": "code",
   "execution_count": null,
   "id": "167d33a3-c212-49c6-9d80-023fff9d4134",
   "metadata": {},
   "outputs": [],
   "source": []
  }
 ],
 "metadata": {
  "kernelspec": {
   "display_name": "Python 3 (ipykernel)",
   "language": "python",
   "name": "python3"
  },
  "language_info": {
   "codemirror_mode": {
    "name": "ipython",
    "version": 3
   },
   "file_extension": ".py",
   "mimetype": "text/x-python",
   "name": "python",
   "nbconvert_exporter": "python",
   "pygments_lexer": "ipython3",
   "version": "3.11.4"
  }
 },
 "nbformat": 4,
 "nbformat_minor": 5
}
