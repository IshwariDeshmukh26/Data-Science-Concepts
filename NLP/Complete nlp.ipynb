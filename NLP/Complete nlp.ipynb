{
 "cells": [
  {
   "cell_type": "code",
   "execution_count": 3,
   "id": "0433e374-c029-4d81-8cf7-ef7aee33a60d",
   "metadata": {},
   "outputs": [],
   "source": [
    "text=\"The agent's phone number is 408-555-1234. Call soon!\""
   ]
  },
  {
   "cell_type": "code",
   "execution_count": 4,
   "id": "9d162c8b-cd65-4482-999e-14c657c9675a",
   "metadata": {},
   "outputs": [
    {
     "data": {
      "text/plain": [
       "True"
      ]
     },
     "execution_count": 4,
     "metadata": {},
     "output_type": "execute_result"
    }
   ],
   "source": [
    "'phone' in text"
   ]
  },
  {
   "cell_type": "code",
   "execution_count": 5,
   "id": "03170292-e6ac-423e-9c92-625189f1252c",
   "metadata": {},
   "outputs": [],
   "source": [
    "import re"
   ]
  },
  {
   "cell_type": "code",
   "execution_count": 6,
   "id": "bd4fcf77-2aaa-43e7-9b86-b813d3c56a99",
   "metadata": {},
   "outputs": [],
   "source": [
    "pattern='phone'"
   ]
  },
  {
   "cell_type": "code",
   "execution_count": 7,
   "id": "5f27430e-676e-43e7-883b-38273bc0cc03",
   "metadata": {},
   "outputs": [
    {
     "data": {
      "text/plain": [
       "<re.Match object; span=(12, 17), match='phone'>"
      ]
     },
     "execution_count": 7,
     "metadata": {},
     "output_type": "execute_result"
    }
   ],
   "source": [
    "re.search(pattern,text)"
   ]
  },
  {
   "cell_type": "code",
   "execution_count": 8,
   "id": "def96054-677d-472f-b4dd-d92f05a41ee9",
   "metadata": {},
   "outputs": [],
   "source": [
    "pattern =\"NOT IN TEXT\""
   ]
  },
  {
   "cell_type": "code",
   "execution_count": 9,
   "id": "0780da1d-1fa1-404f-966f-b6b8c9ca7304",
   "metadata": {},
   "outputs": [],
   "source": [
    "pattern='phone'"
   ]
  },
  {
   "cell_type": "code",
   "execution_count": 10,
   "id": "024b67c6-320f-4d56-aa35-f3148e271934",
   "metadata": {},
   "outputs": [],
   "source": [
    "match=re.search(pattern,text)"
   ]
  },
  {
   "cell_type": "code",
   "execution_count": 11,
   "id": "ccf96fa0-be2d-44c1-b2a2-21f520f80d5e",
   "metadata": {},
   "outputs": [
    {
     "data": {
      "text/plain": [
       "<re.Match object; span=(12, 17), match='phone'>"
      ]
     },
     "execution_count": 11,
     "metadata": {},
     "output_type": "execute_result"
    }
   ],
   "source": [
    "match"
   ]
  },
  {
   "cell_type": "code",
   "execution_count": 12,
   "id": "da68e61c-159f-49db-922b-81dbcd93e50e",
   "metadata": {},
   "outputs": [
    {
     "data": {
      "text/plain": [
       "(12, 17)"
      ]
     },
     "execution_count": 12,
     "metadata": {},
     "output_type": "execute_result"
    }
   ],
   "source": [
    "match.span()"
   ]
  },
  {
   "cell_type": "code",
   "execution_count": 13,
   "id": "e9a913c1-9305-4578-852d-289728b6edca",
   "metadata": {},
   "outputs": [
    {
     "data": {
      "text/plain": [
       "12"
      ]
     },
     "execution_count": 13,
     "metadata": {},
     "output_type": "execute_result"
    }
   ],
   "source": [
    "match.start()"
   ]
  },
  {
   "cell_type": "code",
   "execution_count": 14,
   "id": "5476a02c-d6e1-4452-9b1e-75687f6a9b2b",
   "metadata": {},
   "outputs": [
    {
     "data": {
      "text/plain": [
       "17"
      ]
     },
     "execution_count": 14,
     "metadata": {},
     "output_type": "execute_result"
    }
   ],
   "source": [
    "match.end()"
   ]
  },
  {
   "cell_type": "code",
   "execution_count": 15,
   "id": "f2323481-0b59-417e-8bd9-5ef03b61db5e",
   "metadata": {},
   "outputs": [],
   "source": [
    "text=\"my phone is new phone\""
   ]
  },
  {
   "cell_type": "markdown",
   "id": "45cc85e3-efa5-4436-b186-efc0245252ff",
   "metadata": {},
   "source": [
    "#### But if the pattern occurs more than once?"
   ]
  },
  {
   "cell_type": "code",
   "execution_count": 16,
   "id": "3253e7b0-0913-4752-b8d1-474353c88acb",
   "metadata": {},
   "outputs": [],
   "source": [
    "match=re.search(\"phone\",text)#--->re.search is use to search the specific word."
   ]
  },
  {
   "cell_type": "code",
   "execution_count": 17,
   "id": "fc60a52e-0df0-444c-9b48-3a465bce1ea5",
   "metadata": {},
   "outputs": [
    {
     "data": {
      "text/plain": [
       "(3, 8)"
      ]
     },
     "execution_count": 17,
     "metadata": {},
     "output_type": "execute_result"
    }
   ],
   "source": [
    "match.span()"
   ]
  },
  {
   "cell_type": "markdown",
   "id": "8234ffbf-c36e-4020-9ff6-a3adfc5f8d2f",
   "metadata": {},
   "source": [
    "#### Notice it only matches the first instance,If we e=wanted a list of all matches,we can use.findall()"
   ]
  },
  {
   "cell_type": "code",
   "execution_count": 18,
   "id": "8933bbcf-bb4f-4814-a113-ae5ebcaf861e",
   "metadata": {},
   "outputs": [],
   "source": [
    "matches =re.findall(\"phone\",text)#----re.findall is use to find the specific word."
   ]
  },
  {
   "cell_type": "code",
   "execution_count": 19,
   "id": "ede2f817-7c69-43a1-a3be-21aa321957b1",
   "metadata": {},
   "outputs": [
    {
     "data": {
      "text/plain": [
       "['phone', 'phone']"
      ]
     },
     "execution_count": 19,
     "metadata": {},
     "output_type": "execute_result"
    }
   ],
   "source": [
    "matches"
   ]
  },
  {
   "cell_type": "code",
   "execution_count": 20,
   "id": "b4add867-23fd-48ee-a5bd-0ae0ba349d8f",
   "metadata": {},
   "outputs": [
    {
     "data": {
      "text/plain": [
       "2"
      ]
     },
     "execution_count": 20,
     "metadata": {},
     "output_type": "execute_result"
    }
   ],
   "source": [
    "len(matches)"
   ]
  },
  {
   "cell_type": "markdown",
   "id": "cb83abd9-4378-45ac-97de-4f38b2f08fc9",
   "metadata": {},
   "source": [
    "#### To get actual match objects,use the iterator:\n"
   ]
  },
  {
   "cell_type": "code",
   "execution_count": 24,
   "id": "eda3fdc5-1f37-4c2c-a292-08b447eb2e54",
   "metadata": {},
   "outputs": [
    {
     "name": "stdout",
     "output_type": "stream",
     "text": [
      "(7, 12)\n"
     ]
    }
   ],
   "source": [
    "for match in re.finditer(\"phone\",text):#---->re.finditer() method from the re(regular expression) module to find all occurrences of the word.\n",
    "#match.span() returns a tuple containing the start and end positions (indices) of the match\n",
    "    print(match.span())#print(match.span()) will output the start and end positions of each match."
   ]
  },
  {
   "cell_type": "markdown",
   "id": "1b955758-2afd-4191-801f-1dcfbbf799ae",
   "metadata": {},
   "source": [
    "#### If you want the actual text that matched you can use the group() method"
   ]
  },
  {
   "cell_type": "code",
   "execution_count": 25,
   "id": "8b4c6aff-8132-4ebf-b756-9a1985be61cb",
   "metadata": {},
   "outputs": [
    {
     "data": {
      "text/plain": [
       "'phone'"
      ]
     },
     "execution_count": 25,
     "metadata": {},
     "output_type": "execute_result"
    }
   ],
   "source": [
    "#will return the actual substring that matched the regular expression pattern.\n",
    "match.group()"
   ]
  },
  {
   "cell_type": "code",
   "execution_count": 26,
   "id": "8d5c82ba-1108-4541-9220-93ef69397732",
   "metadata": {},
   "outputs": [],
   "source": [
    "text=\"My telephone number is 408-555-1234\""
   ]
  },
  {
   "cell_type": "code",
   "execution_count": 28,
   "id": "00410796-9a5d-4598-a07a-49d5b78b8932",
   "metadata": {},
   "outputs": [],
   "source": [
    "phone =re.search(r'\\d\\d\\d-\\d\\d\\d-\\d\\d\\d\\d',text)"
   ]
  },
  {
   "cell_type": "code",
   "execution_count": 29,
   "id": "4bb69e30-3d54-43c1-b3bd-1217b6def7c0",
   "metadata": {},
   "outputs": [
    {
     "data": {
      "text/plain": [
       "'408-555-1234'"
      ]
     },
     "execution_count": 29,
     "metadata": {},
     "output_type": "execute_result"
    }
   ],
   "source": [
    "phone.group()"
   ]
  },
  {
   "cell_type": "code",
   "execution_count": 43,
   "id": "b2fe3186-d473-4b71-81fa-0c69c8103f95",
   "metadata": {},
   "outputs": [
    {
     "data": {
      "text/plain": [
       "<re.Match object; span=(23, 35), match='408-555-1234'>"
      ]
     },
     "execution_count": 43,
     "metadata": {},
     "output_type": "execute_result"
    }
   ],
   "source": [
    "re.search(r'\\d{3}-\\d{3}-\\d{4}',text)\n",
    "#\\d{3}: Matches exactly 3 digits.\n",
    "#-: Matches a literal hyphen.\n",
    "#\\d{4}: Matches exactly 4 digits.\n"
   ]
  },
  {
   "cell_type": "code",
   "execution_count": 4,
   "id": "41d8c80f-e336-40bb-9856-76bcf95ec96b",
   "metadata": {},
   "outputs": [
    {
     "ename": "NameError",
     "evalue": "name 're' is not defined",
     "output_type": "error",
     "traceback": [
      "\u001b[1;31m---------------------------------------------------------------------------\u001b[0m",
      "\u001b[1;31mNameError\u001b[0m                                 Traceback (most recent call last)",
      "Cell \u001b[1;32mIn[4], line 1\u001b[0m\n\u001b[1;32m----> 1\u001b[0m phone_pattern\u001b[38;5;241m=\u001b[39mre\u001b[38;5;241m.\u001b[39mcompile(\u001b[38;5;124mr\u001b[39m\u001b[38;5;124m'\u001b[39m\u001b[38;5;124m(\u001b[39m\u001b[38;5;124m\\\u001b[39m\u001b[38;5;124md\u001b[39m\u001b[38;5;132;01m{3}\u001b[39;00m\u001b[38;5;124m)-(\u001b[39m\u001b[38;5;124m\\\u001b[39m\u001b[38;5;124md\u001b[39m\u001b[38;5;132;01m{3}\u001b[39;00m\u001b[38;5;124m)-(\u001b[39m\u001b[38;5;124m\\\u001b[39m\u001b[38;5;124md\u001b[39m\u001b[38;5;132;01m{4}\u001b[39;00m\u001b[38;5;124m)\u001b[39m\u001b[38;5;124m'\u001b[39m)\n",
      "\u001b[1;31mNameError\u001b[0m: name 're' is not defined"
     ]
    }
   ],
   "source": [
    "phone_pattern=re.compile(r'(\\d{3})-(\\d{3})-(\\d{4})')"
   ]
  },
  {
   "cell_type": "code",
   "execution_count": 5,
   "id": "5213da9f-2a9d-45d4-bf8b-be281f4a88e1",
   "metadata": {},
   "outputs": [
    {
     "ename": "NameError",
     "evalue": "name 're' is not defined",
     "output_type": "error",
     "traceback": [
      "\u001b[1;31m---------------------------------------------------------------------------\u001b[0m",
      "\u001b[1;31mNameError\u001b[0m                                 Traceback (most recent call last)",
      "Cell \u001b[1;32mIn[5], line 1\u001b[0m\n\u001b[1;32m----> 1\u001b[0m results\u001b[38;5;241m=\u001b[39mre\u001b[38;5;241m.\u001b[39msearch(phone_pattern,text)\n",
      "\u001b[1;31mNameError\u001b[0m: name 're' is not defined"
     ]
    }
   ],
   "source": [
    "results=re.search(phone_pattern,text)"
   ]
  },
  {
   "cell_type": "code",
   "execution_count": 6,
   "id": "67fac305-c345-47be-9d55-d285aff5edb7",
   "metadata": {},
   "outputs": [
    {
     "ename": "NameError",
     "evalue": "name 'results' is not defined",
     "output_type": "error",
     "traceback": [
      "\u001b[1;31m---------------------------------------------------------------------------\u001b[0m",
      "\u001b[1;31mNameError\u001b[0m                                 Traceback (most recent call last)",
      "Cell \u001b[1;32mIn[6], line 2\u001b[0m\n\u001b[0;32m      1\u001b[0m \u001b[38;5;66;03m#The entire result\u001b[39;00m\n\u001b[1;32m----> 2\u001b[0m results\u001b[38;5;241m.\u001b[39mgroup()\n",
      "\u001b[1;31mNameError\u001b[0m: name 'results' is not defined"
     ]
    }
   ],
   "source": [
    "#The entire result\n",
    "results.group()"
   ]
  },
  {
   "cell_type": "code",
   "execution_count": 7,
   "id": "eafe490d-a294-49f4-9e3a-0a210ad1dbdd",
   "metadata": {},
   "outputs": [
    {
     "ename": "NameError",
     "evalue": "name 'results' is not defined",
     "output_type": "error",
     "traceback": [
      "\u001b[1;31m---------------------------------------------------------------------------\u001b[0m",
      "\u001b[1;31mNameError\u001b[0m                                 Traceback (most recent call last)",
      "Cell \u001b[1;32mIn[7], line 1\u001b[0m\n\u001b[1;32m----> 1\u001b[0m results\u001b[38;5;241m.\u001b[39mgroup(\u001b[38;5;241m1\u001b[39m)\n",
      "\u001b[1;31mNameError\u001b[0m: name 'results' is not defined"
     ]
    }
   ],
   "source": [
    "results.group(1)"
   ]
  },
  {
   "cell_type": "code",
   "execution_count": 8,
   "id": "2500e47b-52d9-48f9-aa3c-148434b63cfc",
   "metadata": {},
   "outputs": [
    {
     "ename": "NameError",
     "evalue": "name 'results' is not defined",
     "output_type": "error",
     "traceback": [
      "\u001b[1;31m---------------------------------------------------------------------------\u001b[0m",
      "\u001b[1;31mNameError\u001b[0m                                 Traceback (most recent call last)",
      "Cell \u001b[1;32mIn[8], line 1\u001b[0m\n\u001b[1;32m----> 1\u001b[0m results\u001b[38;5;241m.\u001b[39mgroup(\u001b[38;5;241m2\u001b[39m)\n",
      "\u001b[1;31mNameError\u001b[0m: name 'results' is not defined"
     ]
    }
   ],
   "source": [
    "results.group(2)"
   ]
  },
  {
   "cell_type": "code",
   "execution_count": 51,
   "id": "d28063ef-cea2-4233-9ff8-e439893b80e3",
   "metadata": {},
   "outputs": [
    {
     "data": {
      "text/plain": [
       "'1234'"
      ]
     },
     "execution_count": 51,
     "metadata": {},
     "output_type": "execute_result"
    }
   ],
   "source": [
    "results.group(3)"
   ]
  },
  {
   "cell_type": "markdown",
   "id": "8f3e8af1-c2be-4f62-afac-10c47ae18911",
   "metadata": {},
   "source": [
    "#### Or operator-Use the pipe operator to have an or statment.For example"
   ]
  },
  {
   "cell_type": "code",
   "execution_count": 53,
   "id": "6e53bfdf-f62f-4007-bb76-e7097efb85f8",
   "metadata": {},
   "outputs": [
    {
     "data": {
      "text/plain": [
       "<re.Match object; span=(5, 8), match='man'>"
      ]
     },
     "execution_count": 53,
     "metadata": {},
     "output_type": "execute_result"
    }
   ],
   "source": [
    "re.search(r\"man|women\",\"This man was here.\")"
   ]
  },
  {
   "cell_type": "code",
   "execution_count": 54,
   "id": "f66adf4e-c283-4967-bee4-b80a37d748bb",
   "metadata": {},
   "outputs": [
    {
     "data": {
      "text/plain": [
       "<re.Match object; span=(7, 10), match='man'>"
      ]
     },
     "execution_count": 54,
     "metadata": {},
     "output_type": "execute_result"
    }
   ],
   "source": [
    "re.search(r\"man|women\",\"This woman was here.\")"
   ]
  },
  {
   "cell_type": "markdown",
   "id": "d432e64d-1b00-4869-9f56-75d5d38a78da",
   "metadata": {},
   "source": [
    "#### The Wildcard Character Use a\"wildcard"
   ]
  },
  {
   "cell_type": "code",
   "execution_count": 61,
   "id": "496d5e30-d248-4a7a-98c5-682300720e22",
   "metadata": {},
   "outputs": [
    {
     "data": {
      "text/plain": [
       "[' cat', ' hat', ' sat']"
      ]
     },
     "execution_count": 61,
     "metadata": {},
     "output_type": "execute_result"
    }
   ],
   "source": [
    "re.findall(r\" .at\",\"The cat in the hat sat here.\")"
   ]
  },
  {
   "cell_type": "code",
   "execution_count": 66,
   "id": "14719e36-9d15-491e-8059-8d5f299f9c6f",
   "metadata": {},
   "outputs": [
    {
     "data": {
      "text/plain": [
       "['bat', 'lat']"
      ]
     },
     "execution_count": 66,
     "metadata": {},
     "output_type": "execute_result"
    }
   ],
   "source": [
    "re.findall(r\".at\",\"The bat went splat\")"
   ]
  },
  {
   "cell_type": "code",
   "execution_count": 63,
   "id": "5331465a-1e72-42b7-ba54-f01a4f5c7c99",
   "metadata": {},
   "outputs": [
    {
     "data": {
      "text/plain": [
       "['e bat', 'splat']"
      ]
     },
     "execution_count": 63,
     "metadata": {},
     "output_type": "execute_result"
    }
   ],
   "source": [
    "re.findall(r\"...at\",\"The bat went splat\")"
   ]
  },
  {
   "cell_type": "code",
   "execution_count": 65,
   "id": "cc6d5f8d-dedc-4e32-92ea-e631d2037b78",
   "metadata": {},
   "outputs": [
    {
     "data": {
      "text/plain": [
       "['bat', 'splat']"
      ]
     },
     "execution_count": 65,
     "metadata": {},
     "output_type": "execute_result"
    }
   ],
   "source": [
    "#One or more non_whitespace that ends with 'at'\n",
    "re.findall(r'\\S+at',\"The bat went splat\")"
   ]
  },
  {
   "cell_type": "markdown",
   "id": "cbbf6bcb-f0aa-4dd6-9af7-3b12cfc04318",
   "metadata": {},
   "source": [
    "#### Starts with and ends withwe can use the ^ to signal starts with,and the $ to signal ends"
   ]
  },
  {
   "cell_type": "code",
   "execution_count": 3,
   "id": "0e294219-4281-4121-874c-65fe7386a16b",
   "metadata": {},
   "outputs": [
    {
     "data": {
      "text/plain": [
       "['2']"
      ]
     },
     "execution_count": 3,
     "metadata": {},
     "output_type": "execute_result"
    }
   ],
   "source": [
    "#Ends with a number\n",
    "re.findall(r'\\d$','This ends with a number 2')"
   ]
  },
  {
   "cell_type": "code",
   "execution_count": 7,
   "id": "50c4fd07-b8b4-4a13-92bb-2dd8971ebd52",
   "metadata": {},
   "outputs": [
    {
     "data": {
      "text/plain": [
       "['1']"
      ]
     },
     "execution_count": 7,
     "metadata": {},
     "output_type": "execute_result"
    }
   ],
   "source": [
    "#Starts with a number\n",
    "re.findall(r'\\d','1 is the loneliest number.')"
   ]
  },
  {
   "cell_type": "markdown",
   "id": "f740bffb-f4e1-4c34-8257-3c0c37377b24",
   "metadata": {},
   "source": [
    "#### Exclusion To exclude characters,we can use the ^ symbol in conjunction with a set of brackets[].Anything inside the brackets is excluded.For Example."
   ]
  },
  {
   "cell_type": "code",
   "execution_count": 8,
   "id": "1a4df26b-f08b-431e-bd9e-10c2252fd233",
   "metadata": {},
   "outputs": [],
   "source": [
    "phrase=\"there are 3 numbers 34 inside 5 this sentence.\""
   ]
  },
  {
   "cell_type": "code",
   "execution_count": 9,
   "id": "bf1a30db-d6a3-43c8-8a51-8a55f4adf0ba",
   "metadata": {},
   "outputs": [],
   "source": [
    "text=re.findall(r'[^\\d]+',phrase)"
   ]
  },
  {
   "cell_type": "code",
   "execution_count": 10,
   "id": "7f26217c-c96c-4be7-aadf-12ec6495caaf",
   "metadata": {},
   "outputs": [
    {
     "data": {
      "text/plain": [
       "['there are ', ' numbers ', ' inside ', ' this sentence.']"
      ]
     },
     "execution_count": 10,
     "metadata": {},
     "output_type": "execute_result"
    }
   ],
   "source": [
    "text"
   ]
  },
  {
   "cell_type": "code",
   "execution_count": 28,
   "id": "447ecb40-ffe9-4904-8451-37e438702434",
   "metadata": {},
   "outputs": [
    {
     "data": {
      "text/plain": [
       "[' ',\n",
       " 'i',\n",
       " 's',\n",
       " ' ',\n",
       " 't',\n",
       " 'h',\n",
       " 'e',\n",
       " ' ',\n",
       " 'l',\n",
       " 'o',\n",
       " 'n',\n",
       " 'e',\n",
       " 'l',\n",
       " 'i',\n",
       " 'e',\n",
       " 's',\n",
       " 't',\n",
       " ' ',\n",
       " 'n',\n",
       " 'u',\n",
       " 'm',\n",
       " 'b',\n",
       " 'e',\n",
       " 'r']"
      ]
     },
     "execution_count": 28,
     "metadata": {},
     "output_type": "execute_result"
    }
   ],
   "source": [
    "#It will give all string without number\n",
    "re.findall(r'[^\\d]','1 is the loneliest number')"
   ]
  },
  {
   "cell_type": "markdown",
   "id": "439da4f7-1a27-4a81-8f0b-abfc395aaf3b",
   "metadata": {},
   "source": [
    "#### To get the words back together ,use a +sign"
   ]
  },
  {
   "cell_type": "code",
   "execution_count": 14,
   "id": "d62291ad-e71f-4a42-a0ce-6dca90ad5e53",
   "metadata": {},
   "outputs": [
    {
     "data": {
      "text/plain": [
       "['This',\n",
       " 'is',\n",
       " 'a',\n",
       " 'string',\n",
       " 'But',\n",
       " 'it',\n",
       " 'has',\n",
       " 'punctuation',\n",
       " 'How',\n",
       " 'can',\n",
       " 'we',\n",
       " 'remove',\n",
       " 'it']"
      ]
     },
     "execution_count": 14,
     "metadata": {},
     "output_type": "execute_result"
    }
   ],
   "source": [
    "#In the sentence there is punctuation in the sentence but how to remove it.\n",
    "test_phrase='This is a string! But it has punctuation.How can we remove it'\n",
    "re.findall('[^!.? ]+',test_phrase)\n"
   ]
  },
  {
   "cell_type": "code",
   "execution_count": 20,
   "id": "cb767b60-a12b-41c0-b60d-80b0652ed414",
   "metadata": {},
   "outputs": [],
   "source": [
    "clean =' '.join(re.findall('[^!.? ]+',test_phrase))"
   ]
  },
  {
   "cell_type": "code",
   "execution_count": 21,
   "id": "4600d98d-8309-4225-9cf8-3c0203af9dd2",
   "metadata": {},
   "outputs": [
    {
     "data": {
      "text/plain": [
       "'This is a string But it has punctuation How can we remove it'"
      ]
     },
     "execution_count": 21,
     "metadata": {},
     "output_type": "execute_result"
    }
   ],
   "source": [
    "clean"
   ]
  },
  {
   "cell_type": "code",
   "execution_count": 24,
   "id": "328d0866-01f1-4bea-8a20-a51447ad4907",
   "metadata": {},
   "outputs": [],
   "source": [
    "#Find words that start with cat and end with one of these option:'fish','\n",
    "text='Hello, would you like some catfish?'\n",
    "texttwo=\"Hello, would you like to kale a catnap?\"\n",
    "textthree=\"Hello, have you seen this caterpiller?\""
   ]
  },
  {
   "cell_type": "code",
   "execution_count": 25,
   "id": "56e8ba47-39e3-486f-9772-10fbd49710b1",
   "metadata": {},
   "outputs": [
    {
     "data": {
      "text/plain": [
       "<re.Match object; span=(27, 34), match='catfish'>"
      ]
     },
     "execution_count": 25,
     "metadata": {},
     "output_type": "execute_result"
    }
   ],
   "source": [
    "re.search(r'cat(fish|nap|claw)',text)"
   ]
  },
  {
   "cell_type": "code",
   "execution_count": 26,
   "id": "b67c2def-3a5b-4467-9a39-f4d24d0fbfcf",
   "metadata": {},
   "outputs": [
    {
     "data": {
      "text/plain": [
       "<re.Match object; span=(32, 38), match='catnap'>"
      ]
     },
     "execution_count": 26,
     "metadata": {},
     "output_type": "execute_result"
    }
   ],
   "source": [
    "re.search(r'cat(fish|nap|claw)',texttwo)"
   ]
  },
  {
   "cell_type": "code",
   "execution_count": 29,
   "id": "7ee3515a-f9df-4d14-81bf-ad27514d4efb",
   "metadata": {},
   "outputs": [],
   "source": [
    "#None returned\n",
    "re.search(r'cat(fish|nap|claw)',textthree)"
   ]
  },
  {
   "cell_type": "markdown",
   "id": "28c1a795-2434-4fed-b05a-79786c60933c",
   "metadata": {},
   "source": [
    "## SpaCy"
   ]
  },
  {
   "cell_type": "code",
   "execution_count": null,
   "id": "b5c0b9cc-6d95-48f5-8c7d-d88902b081b5",
   "metadata": {},
   "outputs": [],
   "source": [
    "#pip install -U spacy\n",
    "#conda installl -c conda-forge spacy\n",
    "#python -m spacy downlaod en_core_web_sm"
   ]
  },
  {
   "cell_type": "markdown",
   "id": "1b3b357a-afb5-410e-b131-e40799d7bc18",
   "metadata": {},
   "source": [
    "### Token Dependencies"
   ]
  },
  {
   "cell_type": "code",
   "execution_count": 9,
   "id": "c8c759d9-c4fc-40ff-be0f-0dc2776f2c81",
   "metadata": {},
   "outputs": [
    {
     "name": "stdout",
     "output_type": "stream",
     "text": [
      "Tesla\n",
      "is\n",
      "looking\n",
      "at\n",
      "buying\n",
      "U.S.\n",
      "startup\n",
      "for\n",
      "$\n",
      "6\n",
      "million\n"
     ]
    }
   ],
   "source": [
    "#Import spaCy and Load the language Library\n",
    "import spacy\n",
    "nlp=spacy\n",
    "nlp=spacy.load('en_core_web_sm')\n",
    "\n",
    "#Create a Doct onject\n",
    "doc=nlp(u'Tesla is looking at buying U.S. startup for $6 million')\n",
    "\n",
    "#Print each token saperately\n",
    "for token in doc:\n",
    "    print(token.text)"
   ]
  },
  {
   "cell_type": "code",
   "execution_count": 10,
   "id": "ee11a72f-9098-47ea-baa7-34f1d5c0f402",
   "metadata": {},
   "outputs": [
    {
     "name": "stdout",
     "output_type": "stream",
     "text": [
      "Tesla PROPN\n",
      "is AUX\n",
      "looking VERB\n",
      "at ADP\n",
      "buying VERB\n",
      "U.S. PROPN\n",
      "startup NOUN\n",
      "for ADP\n",
      "$ SYM\n",
      "6 NUM\n",
      "million NUM\n"
     ]
    }
   ],
   "source": [
    "#Import spaCy  and Load the language Library(POS)\n",
    "import spacy\n",
    "nlp=spacy\n",
    "nlp=spacy.load('en_core_web_sm')\n",
    "\n",
    "#Create a Doct onject\n",
    "doc=nlp(u'Tesla is looking at buying U.S. startup for $6 million')\n",
    "\n",
    "#Print each token saperately\n",
    "for token in doc:\n",
    "    print(token.text,token.pos_)"
   ]
  },
  {
   "cell_type": "code",
   "execution_count": 11,
   "id": "67d89ebf-5a0f-41b8-a2c0-57f59bf8b2c5",
   "metadata": {},
   "outputs": [
    {
     "name": "stdout",
     "output_type": "stream",
     "text": [
      "Tesla PROPN nsubj\n",
      "is AUX aux\n",
      "looking VERB ROOT\n",
      "at ADP prep\n",
      "buying VERB pcomp\n",
      "U.S. PROPN compound\n",
      "startup NOUN dobj\n",
      "for ADP prep\n",
      "$ SYM quantmod\n",
      "6 NUM compound\n",
      "million NUM pobj\n"
     ]
    }
   ],
   "source": [
    "#Import spaCy  and Load the language Library(POS)\n",
    "import spacy\n",
    "nlp=spacy.load('en_core_web_sm')\n",
    "\n",
    "#Create a Doct onject\n",
    "doc=nlp(u'Tesla is looking at buying U.S. startup for $6 million')\n",
    "\n",
    "#Print each token seperately\n",
    "for token in doc:\n",
    "    print(token.text,token.pos_,token.dep_)\n",
    "    #Predict syntatic dependencies.\n",
    "    #predictiong syntatic dependencies involves\n",
    "    #identifing the grammatical structure of a \n",
    "    #sentence by  determining how different words relate to each other."
   ]
  },
  {
   "cell_type": "code",
   "execution_count": 12,
   "id": "9ff503da-8a09-45ca-9301-cf4c113daa47",
   "metadata": {},
   "outputs": [
    {
     "data": {
      "text/plain": [
       "[('tok2vec', <spacy.pipeline.tok2vec.Tok2Vec at 0x1b32aaf4f50>),\n",
       " ('tagger', <spacy.pipeline.tagger.Tagger at 0x1b32aaf4950>),\n",
       " ('parser', <spacy.pipeline.dep_parser.DependencyParser at 0x1b322dd7f40>),\n",
       " ('attribute_ruler',\n",
       "  <spacy.pipeline.attributeruler.AttributeRuler at 0x1b32ac46150>),\n",
       " ('lemmatizer', <spacy.lang.en.lemmatizer.EnglishLemmatizer at 0x1b32ac85250>),\n",
       " ('ner', <spacy.pipeline.ner.EntityRecognizer at 0x1b3220a7060>)]"
      ]
     },
     "execution_count": 12,
     "metadata": {},
     "output_type": "execute_result"
    }
   ],
   "source": [
    "nlp.pipeline"
   ]
  },
  {
   "cell_type": "code",
   "execution_count": 13,
   "id": "90619684-a80c-4589-9474-063cf155a9b9",
   "metadata": {},
   "outputs": [
    {
     "data": {
      "text/plain": [
       "['tok2vec', 'tagger', 'parser', 'attribute_ruler', 'lemmatizer', 'ner']"
      ]
     },
     "execution_count": 13,
     "metadata": {},
     "output_type": "execute_result"
    }
   ],
   "source": [
    "nlp.pipe_names"
   ]
  },
  {
   "cell_type": "markdown",
   "id": "bc45f77d-7a69-45b8-93ee-f20b55699db1",
   "metadata": {},
   "source": [
    "#### Tokenization The first step in processing text is to split up all the component parts(words & punctuation) into \"tokens\""
   ]
  },
  {
   "cell_type": "code",
   "execution_count": 14,
   "id": "61267d88-60a1-45c7-bd21-d406bdedf877",
   "metadata": {},
   "outputs": [
    {
     "name": "stdout",
     "output_type": "stream",
     "text": [
      "Tesla PROPN nsubj\n",
      "is AUX aux\n",
      "n't PART neg\n",
      "  SPACE dep\n",
      "looking VERB ROOT\n",
      "  SPACE dep\n",
      "into ADP prep\n",
      "startups NOUN pobj\n",
      "anymore ADV advmod\n",
      ". PUNCT punct\n"
     ]
    }
   ],
   "source": [
    "doc2=nlp(u\"Tesla isn't  looking  into startups anymore.\")\n",
    "\n",
    "for token in doc2:\n",
    "    print(token.text,token.pos_,token.dep_)"
   ]
  },
  {
   "cell_type": "markdown",
   "id": "c6efb03f-b408-4d34-843b-f3e75c6a493a",
   "metadata": {},
   "source": [
    "##### Notice hoe is not been split into two tokens.spacy recognize both the root verb is and the negation attached to it.Notice also that both the extended whitespace and the period at hte end of the sentence are assign their own tokens."
   ]
  },
  {
   "cell_type": "code",
   "execution_count": 15,
   "id": "6cd7f9f0-4dc5-4adc-b14e-575e08e415ec",
   "metadata": {},
   "outputs": [
    {
     "data": {
      "text/plain": [
       "Tesla isn't  looking  into startups anymore."
      ]
     },
     "execution_count": 15,
     "metadata": {},
     "output_type": "execute_result"
    }
   ],
   "source": [
    "doc2"
   ]
  },
  {
   "cell_type": "code",
   "execution_count": 16,
   "id": "652c236d-73df-4bd9-8126-e7ca9358ff73",
   "metadata": {},
   "outputs": [
    {
     "data": {
      "text/plain": [
       "Tesla"
      ]
     },
     "execution_count": 16,
     "metadata": {},
     "output_type": "execute_result"
    }
   ],
   "source": [
    "doc[0]"
   ]
  },
  {
   "cell_type": "markdown",
   "id": "78cfaa19-b34e-4482-8b72-17935eb615f8",
   "metadata": {},
   "source": [
    "#### Part-of-speech Tagging(POS) The next step"
   ]
  },
  {
   "cell_type": "code",
   "execution_count": 17,
   "id": "8eaca04e-f9f7-41bc-9dfd-4b806475087b",
   "metadata": {},
   "outputs": [
    {
     "data": {
      "text/plain": [
       "'PROPN'"
      ]
     },
     "execution_count": 17,
     "metadata": {},
     "output_type": "execute_result"
    }
   ],
   "source": [
    "doc2[0].pos_"
   ]
  },
  {
   "cell_type": "code",
   "execution_count": 18,
   "id": "42a86553-b6c0-4344-bef6-ebdcdc5cb311",
   "metadata": {},
   "outputs": [
    {
     "data": {
      "text/plain": [
       "'nsubj'"
      ]
     },
     "execution_count": 18,
     "metadata": {},
     "output_type": "execute_result"
    }
   ],
   "source": [
    "doc2[0].dep_"
   ]
  },
  {
   "cell_type": "code",
   "execution_count": 19,
   "id": "e002ff8d-696a-4956-b89d-c5bd12a68b81",
   "metadata": {},
   "outputs": [
    {
     "data": {
      "text/plain": [
       "'nominal subject'"
      ]
     },
     "execution_count": 19,
     "metadata": {},
     "output_type": "execute_result"
    }
   ],
   "source": [
    "spacy.explain('nsubj')"
   ]
  },
  {
   "cell_type": "code",
   "execution_count": 20,
   "id": "6e2bdcfa-b19e-4285-98bd-075659e05b42",
   "metadata": {},
   "outputs": [
    {
     "data": {
      "text/plain": [
       "'proper noun'"
      ]
     },
     "execution_count": 20,
     "metadata": {},
     "output_type": "execute_result"
    }
   ],
   "source": [
    "spacy.explain('PROPN')"
   ]
  },
  {
   "cell_type": "code",
   "execution_count": 21,
   "id": "c7784822-b175-4278-989b-3219f7ba8f22",
   "metadata": {},
   "outputs": [
    {
     "name": "stdout",
     "output_type": "stream",
     "text": [
      "looking\n",
      "look\n"
     ]
    }
   ],
   "source": [
    "#lemmas (the base form of the word):\n",
    "print(doc2[4].text)\n",
    "print(doc2[4].lemma_)"
   ]
  },
  {
   "cell_type": "markdown",
   "id": "6c4f5d5e-23ca-4a5b-b7e5-9aba1e4c9edd",
   "metadata": {},
   "source": [
    "##### Sapn\n",
    "##### Large Doc objects can be hard to work with a times.A span in a slice of Doc object in the form Doc[start:stop]"
   ]
  },
  {
   "cell_type": "code",
   "execution_count": 22,
   "id": "a1455b18-197a-4ea0-a522-b9b729f933ef",
   "metadata": {},
   "outputs": [],
   "source": [
    "doc3=nlp(u'Although commmonly attributed to John Lennon from his song \" 2 the phrase  \"Life is what happens to us while we are making other plans\" was 3 cartoonist Allen Saunders and published in Reader\\'s Digest in 1957, when lennon was 17.')"
   ]
  },
  {
   "cell_type": "code",
   "execution_count": 23,
   "id": "7e587011-31f0-40b4-88c3-d5c5b3c89321",
   "metadata": {},
   "outputs": [
    {
     "name": "stdout",
     "output_type": "stream",
     "text": [
      "is what happens to us while we are making other plans\" was 3\n"
     ]
    }
   ],
   "source": [
    "life_quote=doc3[16:30]\n",
    "print(life_quote)"
   ]
  },
  {
   "cell_type": "code",
   "execution_count": 24,
   "id": "a167f41e-63a8-44ff-a13d-e3b99986edaa",
   "metadata": {},
   "outputs": [
    {
     "name": "stdout",
     "output_type": "stream",
     "text": [
      "We're moving to L.A.!\"\n"
     ]
    }
   ],
   "source": [
    "#Create a string that includes opening and closing quotation marks\n",
    "mystring='We\\'re moving to L.A.!\"'\n",
    "print(mystring)"
   ]
  },
  {
   "cell_type": "code",
   "execution_count": 25,
   "id": "0f88b97c-70f6-46c2-97a2-666c05783e62",
   "metadata": {},
   "outputs": [
    {
     "name": "stdout",
     "output_type": "stream",
     "text": [
      "We | 're | moving | to | L.A. | ! | \" | "
     ]
    }
   ],
   "source": [
    "#Create a Doc object and explore tokens\n",
    "doc=nlp(mystring)\n",
    "\n",
    "for token in doc:\n",
    "    print(token.text,end=' | ')"
   ]
  },
  {
   "cell_type": "code",
   "execution_count": 26,
   "id": "7be161e7-015e-49f9-a81f-fa6011070f2f",
   "metadata": {},
   "outputs": [
    {
     "name": "stdout",
     "output_type": "stream",
     "text": [
      "We | 're | here | to | help | ! | Send | snail | - | mail | , | email | support@oursite.com | or | visit | us | at | http://www.oursite.com | ! | "
     ]
    }
   ],
   "source": [
    "doc2=nlp(u\"We're here to help! Send snail-mail,email support@oursite.com or visit us at http://www.oursite.com!\")\n",
    "\n",
    "for token in doc2:\n",
    "    print(token.text,end=' | ')"
   ]
  },
  {
   "cell_type": "markdown",
   "id": "5e30ab2f-7779-49fa-9426-13272c90f3da",
   "metadata": {},
   "source": [
    "##### scaCy will isolate punctuation that does not form an integral part of a word.Quatation marks,commas, and puncuations at the end of a sentence eill be assign"
   ]
  },
  {
   "cell_type": "code",
   "execution_count": 27,
   "id": "377dd26a-048d-4985-b23f-61d78be59c6d",
   "metadata": {},
   "outputs": [
    {
     "name": "stdout",
     "output_type": "stream",
     "text": [
      "A\n",
      "Skm\n",
      "NYC\n",
      "cab\n",
      "ride\n",
      "costs\n",
      "$\n",
      "10.30\n"
     ]
    }
   ],
   "source": [
    "doc3=nlp(u'A Skm NYC cab ride costs $10.30')\n",
    "\n",
    "for t in doc3:\n",
    "    print(t)"
   ]
  },
  {
   "cell_type": "markdown",
   "id": "81a90eb4-b96c-4bb1-874b-f9a0b6a12b03",
   "metadata": {},
   "source": [
    "##### Here the distance unit and dollar sign are assigned their own tokens,yet the doller amount is prserved."
   ]
  },
  {
   "cell_type": "markdown",
   "id": "e26da631-ab65-478f-af20-05fe5ae2d320",
   "metadata": {},
   "source": [
    "##### Punctuation that exists as part of a known abbrevation will be kept as part of the token"
   ]
  },
  {
   "cell_type": "code",
   "execution_count": 28,
   "id": "c94dd2b9-2422-4d57-b7ff-788423d84922",
   "metadata": {},
   "outputs": [
    {
     "name": "stdout",
     "output_type": "stream",
     "text": [
      "Let\n",
      "'s\n",
      "visit\n",
      "St.\n",
      "Louis\n",
      "in\n",
      "the\n",
      "U.S.\n",
      "next\n",
      "year\n",
      ".\n"
     ]
    }
   ],
   "source": [
    "doc4=nlp(u\"Let's visit St.Louis in the U.S. next year.\")\n",
    "\n",
    "for t in doc4:\n",
    "    print(t)"
   ]
  },
  {
   "cell_type": "markdown",
   "id": "33d47e11-ecb0-4b24-9a23-1f4e66e70b1d",
   "metadata": {},
   "source": [
    "##### Here the abbravations for \"Saint and \"United States\" are both preserved."
   ]
  },
  {
   "cell_type": "code",
   "execution_count": 5,
   "id": "fc2a5760-4f24-4cf8-9d80-38ab38bf13b3",
   "metadata": {},
   "outputs": [
    {
     "name": "stdout",
     "output_type": "stream",
     "text": [
      "Apple| to| build| a| Hong| Kong| factory| for| $| 6| million| \n",
      "-------\n",
      "Apple - ORG - Companies, agencies, institutions, etc.\n",
      "Hong Kong - GPE - Countries, cities, states\n",
      "$6 million - MONEY - Monetary values, including unit\n"
     ]
    }
   ],
   "source": [
    "import spacy\n",
    "nlp = spacy.load('en_core_web_sm')\n",
    "doc8 = nlp(u'Apple to build a Hong Kong factory for $6 million')\n",
    "\n",
    "for token in doc8:\n",
    "    print(token.text, end='| ')\n",
    "\n",
    "print('\\n-------')\n",
    "\n",
    "for ent in doc8.ents:\n",
    "    print(ent.text+' - '+ent.label_+' - '+str(spacy.explain(ent.label_)))"
   ]
  },
  {
   "cell_type": "markdown",
   "id": "2f64ca5a-ce67-4c86-ac18-14aa933c2e6c",
   "metadata": {},
   "source": [
    "#### Noun Chunks Similar to Doc.noun_chunks are another object property.Noun chunks are 'base noun phrases'-flat phrases that have a noun as their head.You can thimk of noun chunks as a noun plus the word describing the noun ."
   ]
  },
  {
   "cell_type": "code",
   "execution_count": 37,
   "id": "3e87f02d-97ac-448e-9375-cb8d7fe13fc4",
   "metadata": {},
   "outputs": [
    {
     "name": "stdout",
     "output_type": "stream",
     "text": [
      "Autononmous cars\n",
      "insurance liability\n",
      "manufactures\n"
     ]
    }
   ],
   "source": [
    "doc9=nlp(u\"Autononmous cars shift insurance liability towards manufactures.\")\n",
    "for chunk in doc9.noun_chunks:\n",
    "    print(chunk.text)"
   ]
  },
  {
   "cell_type": "code",
   "execution_count": 36,
   "id": "7458e688-1271-438c-9682-b0d3f2469b2e",
   "metadata": {},
   "outputs": [
    {
     "name": "stdout",
     "output_type": "stream",
     "text": [
      "Red cars\n",
      "higher insurance rates\n"
     ]
    }
   ],
   "source": [
    "doc10=nlp(u\"Red cars do not carry higher insurance rates.\")\n",
    "\n",
    "for chunk in doc10.noun_chunks:\n",
    "    print(chunk.text)"
   ]
  },
  {
   "cell_type": "markdown",
   "id": "29e0346b-4f46-4539-b6d4-5b06f5d5e331",
   "metadata": {},
   "source": [
    "#### Stemming is a somewhat crude method for catalogical related words:it essentially chops off letters from the end until the steam is reached."
   ]
  },
  {
   "cell_type": "code",
   "execution_count": 38,
   "id": "1d95f6ab-17df-4e70-9d47-9f95926ba292",
   "metadata": {},
   "outputs": [],
   "source": [
    "#Import the toolkit and the full Poster Stemmer Library\n",
    "import nltk\n",
    "\n",
    "from nltk.stem.porter import *\n"
   ]
  },
  {
   "cell_type": "code",
   "execution_count": 39,
   "id": "01e802fa-1514-460a-8a8a-52abf3333428",
   "metadata": {},
   "outputs": [],
   "source": [
    "p_stemmer=PorterStemmer()"
   ]
  },
  {
   "cell_type": "code",
   "execution_count": 42,
   "id": "dc6c9f7f-9d30-42b3-8681-dd0a3521f0d3",
   "metadata": {},
   "outputs": [],
   "source": [
    "words=['run','runner','ran','runs','easily','fairly']"
   ]
  },
  {
   "cell_type": "code",
   "execution_count": 43,
   "id": "97a4f129-ee38-459c-93c0-6379c96b7bf0",
   "metadata": {},
   "outputs": [
    {
     "name": "stdout",
     "output_type": "stream",
     "text": [
      "run-->run\n",
      "runner-->runner\n",
      "ran-->ran\n",
      "runs-->run\n",
      "easily-->easili\n",
      "fairly-->fairli\n"
     ]
    }
   ],
   "source": [
    "for word in words:\n",
    "    print(word+'-->'+p_stemmer.stem(word))"
   ]
  },
  {
   "cell_type": "markdown",
   "id": "3724051b-16a6-4a8b-849d-fc68b38b79a2",
   "metadata": {},
   "source": [
    "#### Note:-How the stemmer recognizes\"runner\" as a noun ,not a verb for participle.Also ,the adverbs'easily' and 'fairly"
   ]
  },
  {
   "cell_type": "markdown",
   "id": "b8cbe0d6-3a90-4afd-a42f-a393abcdc0c0",
   "metadata": {},
   "source": [
    "## Snowball\n",
    "#### Snowball Stemmer it offers a slight improvement over the original Porter stemmer,both in logic and speed.Since nltk uses the name SnowballStemmer"
   ]
  },
  {
   "cell_type": "code",
   "execution_count": 49,
   "id": "1fe751f3-f4ee-43b8-b77d-79b5a441b006",
   "metadata": {},
   "outputs": [],
   "source": [
    "from nltk.stem.snowball import SnowballStemmer\n",
    "\n",
    "#The Snowball Stemmer requires that you pass a language parameter\n",
    "s_stemmer= SnowballStemmer(language=\"english\")"
   ]
  },
  {
   "cell_type": "code",
   "execution_count": 50,
   "id": "c6784655-125d-415d-9b79-711e0e773862",
   "metadata": {},
   "outputs": [],
   "source": [
    "words=['run','runner','ran','runs','easily','fairly']"
   ]
  },
  {
   "cell_type": "code",
   "execution_count": 52,
   "id": "8ae45a0e-97f0-4d0a-8d13-2b4240872516",
   "metadata": {},
   "outputs": [
    {
     "name": "stdout",
     "output_type": "stream",
     "text": [
      "run-->run\n",
      "runner-->runner\n",
      "ran-->ran\n",
      "runs-->run\n",
      "easily-->easili\n",
      "fairly-->fair\n"
     ]
    }
   ],
   "source": [
    "for word in words:\n",
    "    print(word+'-->'+s_stemmer.stem(word))"
   ]
  },
  {
   "cell_type": "code",
   "execution_count": 53,
   "id": "f0faa2e5-3190-49b8-80b0-974482f2cda2",
   "metadata": {},
   "outputs": [
    {
     "name": "stdout",
     "output_type": "stream",
     "text": [
      "I--> i\n",
      "am--> am\n",
      "meeting--> meet\n",
      "him--> him\n",
      "tomorrow--> tomorrow\n",
      "at--> at\n",
      "the--> the\n",
      "meeting--> meet\n"
     ]
    }
   ],
   "source": [
    "phrase='I am meeting him tomorrow at the meeting'\n",
    "for word in phrase.split():\n",
    "    print(word+'--> '+p_stemmer.stem(word))"
   ]
  },
  {
   "cell_type": "markdown",
   "id": "9498f9c0-3e8f-4534-a74c-61898c95d2fd",
   "metadata": {},
   "source": [
    "##### Here the word\"meeting\" appears twice- once as a verb,and once as a noun ,end yet the stemmer treat both equally."
   ]
  },
  {
   "cell_type": "code",
   "execution_count": 7,
   "id": "9ea43338-7eff-40fe-8f02-b8860fdb68ea",
   "metadata": {},
   "outputs": [],
   "source": [
    "#Perform standard imports:\n",
    "import spacy\n",
    "nlp=spacy.load('en_core_web_sm')"
   ]
  },
  {
   "cell_type": "code",
   "execution_count": 8,
   "id": "4134685e-b61c-4863-8f2d-3194c52d2034",
   "metadata": {},
   "outputs": [
    {
     "name": "stdout",
     "output_type": "stream",
     "text": [
      "I \t PRON \t 4690420944186131903 \t I\n",
      "am \t AUX \t 10382539506755952630 \t be\n",
      "running \t VERB \t 12767647472892411841 \t run\n",
      "running \t VERB \t 12767647472892411841 \t run\n",
      "in \t ADP \t 3002984154512732771 \t in\n",
      "a \t DET \t 11901859001352538922 \t a\n",
      "race \t NOUN \t 8048469955494714898 \t race\n",
      "because \t SCONJ \t 16950148841647037698 \t because\n",
      "I \t PRON \t 4690420944186131903 \t I\n",
      "love \t VERB \t 3702023516439754181 \t love\n",
      "to \t ADP \t 3791531372978436496 \t to\n",
      "runn \t PROPN \t 17851767965578721990 \t runn\n",
      "since \t SCONJ \t 10066841407251338481 \t since\n",
      "I \t PRON \t 4690420944186131903 \t I\n",
      "ran \t VERB \t 12767647472892411841 \t run\n",
      "today \t NOUN \t 11042482332948150395 \t today\n"
     ]
    }
   ],
   "source": [
    "doc1=nlp(u\"I am running running in a race because I love to runn since I ran today\")\n",
    "for token in doc1:\n",
    "    print(token.text, '\\t', token.pos_, '\\t', token.lemma,\n",
    "          '\\t', token.lemma_)"
   ]
  },
  {
   "cell_type": "markdown",
   "id": "13089de8-259b-4e9e-8a4e-60137902b343",
   "metadata": {},
   "source": [
    "##### Function to display lemmas Since the display above is staggared and hard to read,Let's write a function that displays the information that we want normally."
   ]
  },
  {
   "cell_type": "code",
   "execution_count": 9,
   "id": "1290b86c-9c15-409f-9328-b8a114c218a3",
   "metadata": {},
   "outputs": [],
   "source": [
    "def show_lemmas(text):\n",
    "    for token in text:\n",
    "        print(f'{token.text:{12}} {token.pos_:{6}} {token.lemma:<{22}}{token.lemma_}')"
   ]
  },
  {
   "cell_type": "code",
   "execution_count": 10,
   "id": "8482bd4c-6422-4a37-87d1-f0b88a893f6f",
   "metadata": {},
   "outputs": [
    {
     "name": "stdout",
     "output_type": "stream",
     "text": [
      "I            PRON   4690420944186131903   I\n",
      "saw          VERB   11925638236994514241  see\n",
      "eighteen     NUM    9609336664675087640   eighteen\n",
      "mice         NOUN   1384165645700560590   mouse\n",
      "today        NOUN   11042482332948150395  today\n",
      "!            PUNCT  17494803046312582752  !\n"
     ]
    }
   ],
   "source": [
    "doc2=nlp(u'I saw eighteen mice today!')\n",
    "show_lemmas(doc2)"
   ]
  },
  {
   "cell_type": "code",
   "execution_count": 62,
   "id": "520c0d60-884d-43a6-bde1-4a1314933208",
   "metadata": {},
   "outputs": [
    {
     "name": "stdout",
     "output_type": "stream",
     "text": [
      "I            PRON   4690420944186131903   I\n",
      "am           AUX    10382539506755952630  be\n",
      "meeting      VERB   6880656908171229526   meet\n",
      "him          PRON   1655312771067108281   he\n",
      "tomorrow     NOUN   3573583789758258062   tomorrow\n",
      "at           ADP    11667289587015813222  at\n",
      "the          DET    7425985699627899538   the\n",
      "meeting      NOUN   14798207169164081740  meeting\n",
      ".            PUNCT  12646065887601541794  .\n"
     ]
    }
   ],
   "source": [
    "doc3=nlp(u\"I am meeting him tomorrow at the meeting.\")\n",
    "show_lemmas(doc3)"
   ]
  },
  {
   "cell_type": "code",
   "execution_count": 11,
   "id": "54877d42-5fa0-4505-b8bd-dcb3c3150d5b",
   "metadata": {},
   "outputs": [
    {
     "name": "stdout",
     "output_type": "stream",
     "text": [
      "That         PRON   4380130941430378203   that\n",
      "'s           AUX    10382539506755952630  be\n",
      "an           DET    15099054000809333061  an\n",
      "enormous     ADJ    17917224542039855524  enormous\n",
      "automobile   NOUN   7211811266693931283   automobile\n"
     ]
    }
   ],
   "source": [
    "doc4=nlp(u\"That's an enormous automobile\")\n",
    "show_lemmas(doc4)"
   ]
  },
  {
   "cell_type": "markdown",
   "id": "cdf9a87b-8c8e-49b1-918d-3b8cbe8407ab",
   "metadata": {},
   "source": [
    "##### Lemmatition does not reduce words to their most basic synonym- that is ,enormous doesn't become big and automobile doesn't become car"
   ]
  },
  {
   "cell_type": "markdown",
   "id": "f61d9de6-51e6-4f96-bd19-2f0bc0bc76aa",
   "metadata": {},
   "source": [
    "## Stopword\n",
    "##### -There are 305 English stopwords\n",
    "##### -Spacy holds 326 stopwords"
   ]
  },
  {
   "cell_type": "code",
   "execution_count": 65,
   "id": "6edcd83a-b04d-4204-a3d3-f6d18d9845fc",
   "metadata": {},
   "outputs": [],
   "source": [
    "#Perform standard import:\n",
    "import spacy\n",
    "nlp=spacy.load('en_core_web_sm')"
   ]
  },
  {
   "cell_type": "markdown",
   "id": "66945025-4ff1-40dc-bdb1-e936a3747518",
   "metadata": {},
   "source": [
    "#print the set of Spacy's default stop words\n",
    "print(nlp.Defaults.stop_words)"
   ]
  },
  {
   "cell_type": "code",
   "execution_count": 67,
   "id": "45ed2b7e-e866-4489-8c02-6ed31ea0539e",
   "metadata": {},
   "outputs": [
    {
     "data": {
      "text/plain": [
       "326"
      ]
     },
     "execution_count": 67,
     "metadata": {},
     "output_type": "execute_result"
    }
   ],
   "source": [
    "len(nlp.Defaults.stop_words)"
   ]
  },
  {
   "cell_type": "markdown",
   "id": "d151367c-8ca1-4d0d-ae06-b8669e0757bb",
   "metadata": {},
   "source": [
    "## To see if a word is a stop word"
   ]
  },
  {
   "cell_type": "code",
   "execution_count": 68,
   "id": "ba1d6754-fed6-4e78-bb4b-d71c5ee49cfe",
   "metadata": {},
   "outputs": [
    {
     "data": {
      "text/plain": [
       "True"
      ]
     },
     "execution_count": 68,
     "metadata": {},
     "output_type": "execute_result"
    }
   ],
   "source": [
    "nlp.vocab['myself'].is_stop"
   ]
  },
  {
   "cell_type": "code",
   "execution_count": 69,
   "id": "50a408e1-dc20-46e1-8a9f-d1dbc184b4a7",
   "metadata": {},
   "outputs": [
    {
     "data": {
      "text/plain": [
       "False"
      ]
     },
     "execution_count": 69,
     "metadata": {},
     "output_type": "execute_result"
    }
   ],
   "source": [
    "nlp.vocab['mystery'].is_stop"
   ]
  },
  {
   "cell_type": "markdown",
   "id": "8392ff16-2515-408b-bfe7-d9d707574aa7",
   "metadata": {},
   "source": [
    "## To Add a stop word\n",
    "##### There may be time when you wish to add a stop word to the default set.Perhaps you decide that 'btw'(common shorthand for \"by the way\") should br considered a stop word"
   ]
  },
  {
   "cell_type": "code",
   "execution_count": 13,
   "id": "05cf2237-1d48-4bf3-b76b-48c44e6a05ed",
   "metadata": {},
   "outputs": [],
   "source": [
    "#Add the word to the set odf stop words.Use lowercase!\n",
    "nlp.Defaults.stop_words.add('btw')\n",
    "nlp.vocab['btw'].is_stop=True"
   ]
  },
  {
   "cell_type": "code",
   "execution_count": 14,
   "id": "e547a29a-981b-4ae9-8b85-70afa0e08c7a",
   "metadata": {},
   "outputs": [
    {
     "data": {
      "text/plain": [
       "327"
      ]
     },
     "execution_count": 14,
     "metadata": {},
     "output_type": "execute_result"
    }
   ],
   "source": [
    "len((nlp.Defaults.stop_words))"
   ]
  },
  {
   "cell_type": "code",
   "execution_count": 18,
   "id": "d472a34a-0709-467f-9293-9ac5042419a6",
   "metadata": {},
   "outputs": [
    {
     "data": {
      "text/plain": [
       "False"
      ]
     },
     "execution_count": 18,
     "metadata": {},
     "output_type": "execute_result"
    }
   ],
   "source": [
    "nlp.vocab['btw'].is_stop"
   ]
  },
  {
   "cell_type": "markdown",
   "id": "5721c3b8-4c01-4793-8d97-eb259b64ec9b",
   "metadata": {},
   "source": [
    "## To remove a Stop word"
   ]
  },
  {
   "cell_type": "markdown",
   "id": "92bd41ed-adb7-46f2-81f0-61af3e736c03",
   "metadata": {},
   "source": [
    "#### Alternatively, you may decide that 'beyond' should not be considered a stop word"
   ]
  },
  {
   "cell_type": "code",
   "execution_count": 19,
   "id": "afe5c085-75ae-4f2e-b739-5eae7a5c9db4",
   "metadata": {
    "scrolled": true
   },
   "outputs": [
    {
     "ename": "KeyError",
     "evalue": "'btw'",
     "output_type": "error",
     "traceback": [
      "\u001b[1;31m---------------------------------------------------------------------------\u001b[0m",
      "\u001b[1;31mKeyError\u001b[0m                                  Traceback (most recent call last)",
      "Cell \u001b[1;32mIn[19], line 2\u001b[0m\n\u001b[0;32m      1\u001b[0m \u001b[38;5;66;03m#Remove the wors to the set of stop words.Use lowercase!\u001b[39;00m\n\u001b[1;32m----> 2\u001b[0m nlp\u001b[38;5;241m.\u001b[39mDefaults\u001b[38;5;241m.\u001b[39mstop_words\u001b[38;5;241m.\u001b[39mremove(\u001b[38;5;124m'\u001b[39m\u001b[38;5;124mbtw\u001b[39m\u001b[38;5;124m'\u001b[39m)\n\u001b[0;32m      4\u001b[0m \u001b[38;5;66;03m#Rwmove  the stop_word tag on the lexeme\u001b[39;00m\n\u001b[0;32m      5\u001b[0m nlp\u001b[38;5;241m.\u001b[39mvocab[\u001b[38;5;124m'\u001b[39m\u001b[38;5;124mbtw\u001b[39m\u001b[38;5;124m'\u001b[39m]\u001b[38;5;241m.\u001b[39mis_stop \u001b[38;5;241m=\u001b[39m \u001b[38;5;28;01mFalse\u001b[39;00m\n",
      "\u001b[1;31mKeyError\u001b[0m: 'btw'"
     ]
    }
   ],
   "source": [
    "#Remove the word to the set of stop words.Use lowercase!\n",
    "nlp.Defaults.stop_words.remove('btw')\n",
    "\n",
    "#Rwmove  the stop_word tag on the lexeme\n",
    "nlp.vocab['btw'].is_stop = False"
   ]
  },
  {
   "cell_type": "code",
   "execution_count": 20,
   "id": "39f0cc19-8e0c-45ee-a708-028266298144",
   "metadata": {},
   "outputs": [
    {
     "data": {
      "text/plain": [
       "326"
      ]
     },
     "execution_count": 20,
     "metadata": {},
     "output_type": "execute_result"
    }
   ],
   "source": [
    "len(nlp.Defaults.stop_words)"
   ]
  },
  {
   "cell_type": "code",
   "execution_count": null,
   "id": "1e461643-daa9-4ce5-879b-67aceb9fd225",
   "metadata": {},
   "outputs": [],
   "source": []
  }
 ],
 "metadata": {
  "kernelspec": {
   "display_name": "Python 3 (ipykernel)",
   "language": "python",
   "name": "python3"
  },
  "language_info": {
   "codemirror_mode": {
    "name": "ipython",
    "version": 3
   },
   "file_extension": ".py",
   "mimetype": "text/x-python",
   "name": "python",
   "nbconvert_exporter": "python",
   "pygments_lexer": "ipython3",
   "version": "3.11.4"
  }
 },
 "nbformat": 4,
 "nbformat_minor": 5
}
